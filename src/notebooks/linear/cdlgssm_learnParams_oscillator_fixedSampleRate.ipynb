{
 "cells": [
  {
   "cell_type": "markdown",
   "metadata": {
    "id": "FwspQ4wDgnp3"
   },
   "source": [
    "# MAP parameter estimation for an LG-SSM using EM and SGD"
   ]
  },
  {
   "cell_type": "markdown",
   "metadata": {},
   "source": [
    "## Setup"
   ]
  },
  {
   "cell_type": "code",
   "execution_count": 1,
   "metadata": {},
   "outputs": [
    {
     "name": "stderr",
     "output_type": "stream",
     "text": [
      "No GPU/TPU found, falling back to CPU. (Set TF_CPP_MIN_LOG_LEVEL=0 and rerun for more info.)\n",
      "/home/iurteaga/miniconda3/envs/hduq_nodynamax/lib/python3.11/site-packages/equinox/_ad.py:733: UserWarning: As of Equinox 0.10.7, `equinox.filter_custom_vjp.defvjp` is deprecated in favour of `.def_fwd` and `.def_bwd`. This new API supports symbolic zeros, which allow for more efficient autodifferentiation rules. In particular:\n",
      "- the fwd and bwd functions take an extra `perturbed` argument, which     indicates which primals actually need a gradient. You can use this     to skip computing the gradient for any unperturbed value. (You can     also safely just ignore this if you wish.)\n",
      "- `None` was previously passed to indicate a symbolic zero gradient for     all objects that weren't inexact arrays, but all inexact arrays     always had an array-valued gradient. Now, `None` may also be passed     to indicate that an inexact array has a symbolic zero gradient.\n",
      "  warnings.warn(\n"
     ]
    }
   ],
   "source": [
    "import sys\n",
    "from jax import numpy as jnp\n",
    "import jax.random as jr\n",
    "from matplotlib import pyplot as plt\n",
    "\n",
    "sys.path.append(\"../../..\")\n",
    "sys.path.append(\"../..\")\n",
    "\n",
    "# Our codebase\n",
    "from continuous_discrete_linear_gaussian_ssm import ContDiscreteLinearGaussianSSM as MySSM\n",
    "\n",
    "# from dynamax.linear_gaussian_ssm import LinearGaussianConjugateSSM as MySSM\n",
    "from dynamax.utils.utils import monotonically_increasing"
   ]
  },
  {
   "cell_type": "markdown",
   "metadata": {},
   "source": [
    "## Data\n",
    "\n"
   ]
  },
  {
   "cell_type": "code",
   "execution_count": null,
   "metadata": {},
   "outputs": [],
   "source": [
    "state_dim=2\n",
    "emission_dim=1\n",
    "num_timesteps=100\n",
    "key = jr.PRNGKey(0)\n",
    "\n",
    "\n",
    "initial_mean = jnp.array([0.0, 0.0])\n",
    "initial_covariance = jnp.eye(state_dim) * 0.1\n",
    "dynamics_weights  = jnp.array([[0.0, 1.0],\n",
    "                               [-0.5, 0.0]])\n",
    "dynamics_diffusion_covariance = jnp.eye(state_dim) * 0.0001\n",
    "emission_weights = jnp.array([[1.0, 0]])\n",
    "emission_covariance = jnp.eye(emission_dim) * 0.00005\n",
    "\n",
    "true_model = MySSM(state_dim, emission_dim)\n",
    "key, key_root = jr.split(key)\n",
    "true_params, param_props = true_model.initialize(key,\n",
    "                                        initial_mean=initial_mean,\n",
    "                                        initial_cov=initial_covariance,\n",
    "                                        dynamics_weights=dynamics_weights,\n",
    "                                        dynamics_diffusion_cov=dynamics_diffusion_covariance,\n",
    "                                        emission_weights=emission_weights,\n",
    "                                        emission_cov=emission_covariance\n",
    "                                    )\n",
    "\n",
    "# data gen\n",
    "# def generate_sorted_gamma_array(N, shape_param, scale_param, rng_key):\n",
    "#     # Generate random values from a gamma distribution.\n",
    "#     gamma_values = jr.gamma(rng_key, shape_param, shape=(N,)) * scale_param\n",
    "#     # Sort the array.\n",
    "#     sorted_values = jnp.sort(gamma_values)\n",
    "#     return sorted_values\n",
    "\n",
    "# shape_param = 2.0  # Shape parameter of the gamma distribution\n",
    "# scale_param = 10.0  # Scale parameter of the gamma distribution\n",
    "# rng_key = jr.PRNGKey(0)  # Initialize a random key\n",
    "# t_emissions = generate_sorted_gamma_array(num_timesteps, shape_param, scale_param, rng_key)\n",
    "# t_emissions = t_emissions[:,None]\n",
    "# print(t_emissions)\n",
    "t_emissions = jnp.arange(num_timesteps)\n",
    "\n",
    "key, key_root = jr.split(key)\n",
    "true_states, emissions = true_model.sample(true_params, key,\n",
    "                                            num_timesteps=num_timesteps,\n",
    "                                            # t_emissions=t_emissions\n",
    "                                          )\n",
    "\n",
    "# Plot the true states and emissions\n",
    "fig, ax = plt.subplots(figsize=(10, 8))\n",
    "ax.plot(t_emissions, true_states)\n",
    "ax.scatter(t_emissions, emissions + 3 * jnp.arange(emission_dim))\n",
    "ax.set_ylabel(\"data\")\n",
    "ax.set_xlabel(\"time\")\n",
    "ax.set_xlim(0, t_emissions[-1])"
   ]
  },
  {
   "cell_type": "markdown",
   "metadata": {},
   "source": [
    "## Plot results"
   ]
  },
  {
   "cell_type": "code",
   "execution_count": null,
   "metadata": {},
   "outputs": [],
   "source": [
    "def plot_learning_curve(marginal_lls, true_model, true_params, test_model, test_params, emissions, filter_hyperparams):\n",
    "    plt.figure()\n",
    "    plt.xlabel(\"iteration\")\n",
    "    nsteps = len(marginal_lls)\n",
    "    plt.plot(marginal_lls, label=\"estimated\")\n",
    "    true_logjoint = (true_model.log_prior(true_params) + true_model.marginal_log_prob(true_params, filter_hyperparams, emissions))\n",
    "    plt.axhline(true_logjoint, color = 'k', linestyle = ':', label=\"true\")\n",
    "    plt.ylabel(\"marginal joint probability\")\n",
    "\n",
    "    # Adjust y-axis limits\n",
    "    y_min = min(min(marginal_lls), true_logjoint) * 1.1  # 10% lower than the smallest value\n",
    "    y_max = max(max(marginal_lls), true_logjoint) * 1.1  # 10% higher than the largest value\n",
    "    plt.ylim([y_min, y_max])\n",
    "\n",
    "    plt.yscale('symlog')\n",
    "\n",
    "    plt.legend()"
   ]
  },
  {
   "cell_type": "code",
   "execution_count": null,
   "metadata": {},
   "outputs": [],
   "source": [
    "def plot_scalar(true_val, test_val, title):\n",
    "    plt.figure()\n",
    "    plt.bar([\"True\", \"Test\"], [true_val, test_val])\n",
    "    plt.title(title)\n",
    "    plt.ylabel(\"Value\")\n",
    "    plt.show()\n",
    "\n",
    "def plot_vector(true_val, test_val, title):\n",
    "    x = jnp.arange(len(true_val))\n",
    "    width = 0.35\n",
    "\n",
    "    plt.figure()\n",
    "    plt.bar(x - width/2, true_val, width, label='True')\n",
    "    plt.bar(x + width/2, test_val, width, label='Test')\n",
    "    plt.title(title)\n",
    "    plt.xlabel(\"Index\")\n",
    "    plt.ylabel(\"Value\")\n",
    "    plt.legend()\n",
    "    plt.show()\n",
    "\n",
    "def plot_matrix(matrix, title):\n",
    "    plt.figure()\n",
    "    plt.imshow(matrix, cmap='viridis', aspect='auto')\n",
    "    plt.colorbar()\n",
    "    plt.title(title)\n",
    "    plt.xlabel(\"Column\")\n",
    "    plt.ylabel(\"Row\")\n",
    "    plt.show()\n",
    "\n",
    "def compare_parameters(true_params, test_params):\n",
    "    for level_key, inner_tuple in true_params._asdict().items():\n",
    "        for param_key, true_value in inner_tuple._asdict().items():\n",
    "            test_value = getattr(getattr(test_params, level_key), param_key)\n",
    "\n",
    "            title = f\"{level_key} - {param_key}\"\n",
    "            if jnp.isscalar(true_value):\n",
    "                plot_scalar(true_value, test_value, title)\n",
    "            elif true_value.ndim == 1:\n",
    "                plot_vector(true_value, test_value, title)\n",
    "            elif true_value.ndim == 2:\n",
    "                plot_matrix(true_value, title + \" (True Matrix)\")\n",
    "                plot_matrix(test_value, title + \" (Test Matrix)\")\n",
    "\n",
    "                # Vectorize matrices and plot\n",
    "                true_vectorized = true_value.flatten()\n",
    "                test_vectorized = test_value.flatten()\n",
    "                plot_vector(true_vectorized, test_vectorized, title + \" (Vectorized)\")    "
   ]
  },
  {
   "cell_type": "code",
   "execution_count": null,
   "metadata": {},
   "outputs": [],
   "source": [
    "def plot_predictions(true_model, true_params, test_model, test_params, emissions, t_emissions):\n",
    "    # run the smoother w/ test_params on emissions data\n",
    "    smoothed_emissions, smoothed_emissions_std = test_model.posterior_predictive(test_params, emissions)\n",
    "\n",
    "    t_emissions = t_emissions.squeeze()\n",
    "    spc = 3\n",
    "    plt.figure(figsize=(10, 4))\n",
    "    for i in range(emission_dim):\n",
    "        plt.plot(t_emissions, emissions[:, i] + spc * i, \"--k\", label=\"observed\" if i == 0 else None)\n",
    "        ln = plt.plot(t_emissions, smoothed_emissions[:, i] + spc * i,\n",
    "                        label=\"smoothed\" if i == 0 else None)[0]\n",
    "        plt.fill_between(\n",
    "            t_emissions,\n",
    "            spc * i + smoothed_emissions[:, i] - 2 * smoothed_emissions_std[i],\n",
    "            spc * i + smoothed_emissions[:, i] + 2 * smoothed_emissions_std[i],\n",
    "            color=ln.get_color(),\n",
    "            alpha=0.25,\n",
    "        )\n",
    "    plt.xlabel(\"time\")\n",
    "    plt.xlim(0, t_emissions[-1])\n",
    "    plt.ylabel(\"true and predicted emissions\")\n",
    "    plt.legend()\n",
    "    plt.show()"
   ]
  },
  {
   "cell_type": "code",
   "execution_count": null,
   "metadata": {},
   "outputs": [],
   "source": [
    "# Plot predictions from a random, untrained model\n",
    "\n",
    "test_model = MySSM(state_dim, emission_dim)\n",
    "key = jr.PRNGKey(42)\n",
    "test_params, param_props = test_model.initialize(key)\n",
    "\n",
    "plot_predictions(true_model, true_params, test_model, test_params, emissions, t_emissions)\n",
    "compare_parameters(true_params, test_params)"
   ]
  },
  {
   "cell_type": "markdown",
   "metadata": {},
   "source": [
    "## Fit with SGD"
   ]
  },
  {
   "cell_type": "code",
   "execution_count": null,
   "metadata": {},
   "outputs": [],
   "source": [
    "test_model = MySSM(state_dim, emission_dim)\n",
    "key = jr.PRNGKey(42)\n",
    "num_epochs = 1000\n",
    "import optax\n",
    "optimizer = optax.adam(1e-2) # default of 1e-3 LR is a bit slow\n",
    "test_params, param_props = test_model.initialize(key)"
   ]
  },
  {
   "cell_type": "code",
   "execution_count": null,
   "metadata": {
    "scrolled": true
   },
   "outputs": [],
   "source": [
    "from continuous_discrete_nonlinear_gaussian_ssm import EKFHyperParams\n",
    "filter_hyperparams = EKFHyperParams()\n",
    "\n",
    "test_params, neg_marginal_lls = test_model.fit_sgd(\n",
    "    test_params,\n",
    "    param_props,\n",
    "    emissions,\n",
    "    filter_hyperparams=filter_hyperparams,\n",
    "    optimizer=optimizer,\n",
    "    num_epochs=num_epochs,\n",
    ")\n",
    "marginal_lls = -neg_marginal_lls * emissions.size"
   ]
  },
  {
   "cell_type": "code",
   "execution_count": null,
   "metadata": {
    "scrolled": true
   },
   "outputs": [],
   "source": [
    "plot_learning_curve(marginal_lls, true_model, true_params, test_model, test_params, emissions, filter_hyperparams)\n",
    "plot_predictions(true_model, true_params, test_model, test_params, emissions, t_emissions)\n",
    "compare_parameters(true_params, test_params)"
   ]
  },
  {
   "cell_type": "code",
   "execution_count": null,
   "metadata": {},
   "outputs": [],
   "source": []
  }
 ],
 "metadata": {
  "colab": {
   "authorship_tag": "ABX9TyN4dvUxy8Wa47jRSgEmjp1p",
   "include_colab_link": true,
   "name": "kf_linreg.ipynb",
   "provenance": []
  },
  "kernelspec": {
   "display_name": "Python 3 (ipykernel)",
   "language": "python",
   "name": "python3"
  },
  "language_info": {
   "codemirror_mode": {
    "name": "ipython",
    "version": 3
   },
   "file_extension": ".py",
   "mimetype": "text/x-python",
   "name": "python",
   "nbconvert_exporter": "python",
   "pygments_lexer": "ipython3",
   "version": "3.11.4"
  },
  "vscode": {
   "interpreter": {
    "hash": "aee8b7b246df8f9039afb4144a1f6fd8d2ca17a180786b69acc140d282b71a49"
   }
  }
 },
 "nbformat": 4,
 "nbformat_minor": 4
}
