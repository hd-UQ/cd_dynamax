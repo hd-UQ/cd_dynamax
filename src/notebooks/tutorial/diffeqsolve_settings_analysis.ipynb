{
 "cells": [
  {
   "cell_type": "markdown",
   "metadata": {
    "id": "4j2SH7ks97hb"
   },
   "source": [
    "In order to use adaptive step size via PIDController, we need to use an SDE solver w/ embedded error estimate. For this, SPaRK is recommended."
   ]
  },
  {
   "cell_type": "markdown",
   "metadata": {},
   "source": [
    "## Preliminaries"
   ]
  },
  {
   "cell_type": "markdown",
   "metadata": {},
   "source": [
    "### Code Setup"
   ]
  },
  {
   "cell_type": "code",
   "execution_count": 1,
   "metadata": {},
   "outputs": [
    {
     "name": "stderr",
     "output_type": "stream",
     "text": [
      "/opt/homebrew/anaconda3/envs/hduq_nodynamax/lib/python3.11/site-packages/equinox/_ad.py:733: UserWarning: As of Equinox 0.10.7, `equinox.filter_custom_vjp.defvjp` is deprecated in favour of `.def_fwd` and `.def_bwd`. This new API supports symbolic zeros, which allow for more efficient autodifferentiation rules. In particular:\n",
      "- the fwd and bwd functions take an extra `perturbed` argument, which     indicates which primals actually need a gradient. You can use this     to skip computing the gradient for any unperturbed value. (You can     also safely just ignore this if you wish.)\n",
      "- `None` was previously passed to indicate a symbolic zero gradient for     all objects that weren't inexact arrays, but all inexact arrays     always had an array-valued gradient. Now, `None` may also be passed     to indicate that an inexact array has a symbolic zero gradient.\n",
      "  warnings.warn(\n"
     ]
    }
   ],
   "source": [
    "# Main imports\n",
    "import sys\n",
    "from itertools import count\n",
    "\n",
    "# Import jax and utils\n",
    "from jax import numpy as jnp\n",
    "import jax.random as jr\n",
    "from typing import Union\n",
    "from jaxtyping import Float, Array\n",
    "\n",
    "# Additional, custom codebase\n",
    "sys.path.append(\"../..\")\n",
    "sys.path.append(\"../../..\")\n",
    "\n",
    "# Import dynamax\n",
    "from dynamax.parameters import ParameterProperties\n",
    "# import discrete-time filters\n",
    "from dynamax.nonlinear_gaussian_ssm import ParamsNLGSSM, UKFHyperParams\n",
    "from dynamax.nonlinear_gaussian_ssm import extended_kalman_smoother, unscented_kalman_smoother\n",
    "\n",
    "# Our own custom src codebase\n",
    "# continuous-discrete nonlinear Gaussian SSM codebase\n",
    "from continuous_discrete_nonlinear_gaussian_ssm import ContDiscreteNonlinearGaussianSSM\n",
    "from continuous_discrete_nonlinear_gaussian_ssm import cdnlgssm_filter, cdnlgssm_forecast\n",
    "# Load models\n",
    "from continuous_discrete_nonlinear_gaussian_ssm.models import *\n",
    "\n",
    "# Useful utility functions\n",
    "from simulation_utils import *\n",
    "\n",
    "# Plotting\n",
    "import matplotlib\n",
    "%matplotlib inline\n",
    "# Our own custom plotting codebase\n",
    "from utils.plotting_utils import *\n",
    "from utils.test_utils import compare_structs\n",
    "from lorenz_plotting import *\n",
    "# Feel free to change the default figure size\n",
    "#matplotlib.rcParams['figure.figsize'] = [16, 9]\n",
    "\n",
    "# For pretty print of ndarrays\n",
    "jnp.set_printoptions(formatter={\"float_kind\": \"{:.2f}\".format})\n",
    "\n",
    "import diffrax as dfx"
   ]
  },
  {
   "cell_type": "markdown",
   "metadata": {},
   "source": [
    "## True model set up"
   ]
  },
  {
   "cell_type": "markdown",
   "metadata": {},
   "source": [
    "We generate data from a Lorenz 63 system, from dynamics with the following stochastic differential equations:\n",
    "\n",
    "\\begin{align*}\n",
    "\\frac{d x}{d t} &= a(y-x) + \\sigma w_x(t) \\\\\n",
    "\\frac{d y}{d t} &= x(b-z) - y + \\sigma w_y(t) \\\\\n",
    "\\frac{d z}{d t} &= xy - cz + \\sigma w_z(t),\n",
    "\\end{align*}\n",
    "\n",
    "With parameters $a=10, b=28, c=8/3$, the system gives rise to chaotic behavior, and we choose $\\sigma=1.0$ for diffusion.\n",
    "\n",
    "To generate data, we numerically approximate random path solutions to this SDE using Heun's method (i.e. improved Euler), as implemented in [Diffrax](https://docs.kidger.site/diffrax/api/solvers/sde_solvers/).\n",
    "\n",
    "\n",
    "We assume the observation model is\n",
    "\\begin{align*}\n",
    "y(t) &= H x(t) + r(t) \\\\\n",
    "r(t) &\\sim N(0,R),\n",
    "\\end{align*}\n",
    "where we choose $R=I$. \n",
    "\n",
    "Namely, we impose partial observability with H=[1, 0, 0], with noisy observations, sampled at irregular time intervals."
   ]
  },
  {
   "cell_type": "markdown",
   "metadata": {},
   "source": [
    "### True, data-generating model definition"
   ]
  },
  {
   "cell_type": "code",
   "execution_count": 2,
   "metadata": {},
   "outputs": [],
   "source": [
    "## Main settings\n",
    "state_dim = 3\n",
    "emission_dim = 1\n",
    "\n",
    "# Define a custom drift model, inherited from LearnableFunction\n",
    "class lorenz63_drift(LearnableFunction):\n",
    "    params: Union[Float[Array, \"state_dim\"], ParameterProperties]\n",
    "\n",
    "    def f(self, x, u=None, t=None):\n",
    "        foo = jnp.array(\n",
    "            [\n",
    "                self.params[0] * (x[1] - x[0]),\n",
    "                self.params[1] * x[0] - x[1] - x[0] * x[2],\n",
    "                -self.params[2] * x[2] + x[0] * x[1],\n",
    "            ]\n",
    "        )\n",
    "        return foo\n",
    "\n",
    "# Define the true parameters of the drift function\n",
    "true_l63_drift_params = jnp.array([10.0, 28.0, 8 / 3])\n",
    "# And the corresponding Lorenz 63 system\n",
    "true_drift = {\n",
    "    \"params\": lorenz63_drift(\n",
    "        params=true_l63_drift_params\n",
    "    ),\n",
    "    \"props\": lorenz63_drift(\n",
    "        params=ParameterProperties()\n",
    "    ),\n",
    "}\n",
    "\n",
    "# Define the true parameters of the diffusion function\n",
    "true_diffusion_cov = {\n",
    "    \"params\": LearnableMatrix(\n",
    "        params=jnp.eye(state_dim)\n",
    "    ),\n",
    "    \"props\": LearnableMatrix(\n",
    "        params=ParameterProperties(\n",
    "            constrainer=RealToPSDBijector()\n",
    "        )\n",
    "    ),\n",
    "}\n",
    "\n",
    "# Define the true parameters of the diffusion function\n",
    "true_diffusion_coefficient_param = 1.0\n",
    "true_diffusion_coefficient = {\n",
    "    \"params\": LearnableMatrix(\n",
    "        params=true_diffusion_coefficient_param * jnp.eye(state_dim)\n",
    "    ),\n",
    "    \"props\": LearnableMatrix(\n",
    "        params=ParameterProperties()\n",
    "    ),\n",
    "}\n",
    "\n",
    "# Define the true parameters of the emission function\n",
    "# Partial observability\n",
    "H=jnp.array(\n",
    "    [[1.0, 0.0, 0.0]]\n",
    ")\n",
    "true_emission = {\n",
    "    \"params\": LearnableLinear(\n",
    "        weights=H,\n",
    "        bias=jnp.zeros(emission_dim)\n",
    "    ),\n",
    "    \"props\": LearnableLinear(\n",
    "        weights=ParameterProperties(),\n",
    "        bias=ParameterProperties()\n",
    "    ),\n",
    "}\n",
    "\n",
    "# Define the true parameters of the emission covariance\n",
    "R=jnp.eye(emission_dim)\n",
    "true_emission_cov = {\n",
    "    \"params\": LearnableMatrix(\n",
    "        params=R\n",
    "    ),\n",
    "    \"props\": LearnableMatrix(\n",
    "        params=ParameterProperties(\n",
    "            constrainer=RealToPSDBijector()\n",
    "        )\n",
    "    ),\n",
    "}\n",
    "\n",
    "# Define the true initial mean and covariance\n",
    "true_initial_mean = {\n",
    "    \"params\": LearnableVector(\n",
    "        params=jnp.zeros(state_dim)\n",
    "    ),\n",
    "    \"props\": LearnableVector(\n",
    "        params=ParameterProperties()\n",
    "    ),\n",
    "}\n",
    "\n",
    "true_initial_cov_param = 5.0\n",
    "true_initial_cov = {\n",
    "    \"params\": LearnableMatrix(\n",
    "        params=true_initial_cov_param*jnp.eye(state_dim)\n",
    "    ),\n",
    "    \"props\": LearnableMatrix(\n",
    "        params=ParameterProperties(\n",
    "            constrainer=RealToPSDBijector()\n",
    "        )\n",
    "    ),\n",
    "}\n",
    "\n",
    "# Concatenate all parameters in dictionary, for later easy use\n",
    "all_true_params = {\n",
    "    'initial_mean': true_initial_mean,\n",
    "    'initial_cov': true_initial_cov,\n",
    "    'dynamics_drift': true_drift,\n",
    "    'dynamics_diffusion_coefficient': true_diffusion_coefficient,\n",
    "    'dynamics_diffusion_cov': true_diffusion_cov,\n",
    "    'dynamics_approx_order': 2., # Check on this later\n",
    "    'emission_function': true_emission,\n",
    "    'emission_cov': true_emission_cov,\n",
    "}"
   ]
  },
  {
   "cell_type": "code",
   "execution_count": 3,
   "metadata": {},
   "outputs": [],
   "source": [
    "# Define hifi diffeqsolve settings\n",
    "hifi_forward_settings = {\n",
    "    \"solver\": dfx.Heun(),\n",
    "    \"dt0\": 1e-5,\n",
    "    \"stepsize_controller\": dfx.ConstantStepSize(),\n",
    "    # dfx.PIDController(atol=1e-9, rtol=1e-7, pcoeff=0.1, icoeff=0.3, dcoeff=0),\n",
    "    \"tol_vbt\": 1e-5,\n",
    "    \"max_steps\": 1e6,\n",
    "}  # empty uses default settings\n",
    "\n",
    "# Define hifi diffeqsolve settings\n",
    "hifi_logprob_settings = {\n",
    "    \"solver\": dfx.Tsit5(),\n",
    "    # \"dt0\": 1e-5,\n",
    "    \"stepsize_controller\": dfx.PIDController(atol=1e-9, rtol=1e-9),\n",
    "    \"tol_vbt\": 1e-5,\n",
    "    \"max_steps\": 1e7,\n",
    "}  # empty uses default settings"
   ]
  },
  {
   "cell_type": "markdown",
   "metadata": {
    "id": "33ISOI7QtWlP"
   },
   "source": [
    "# Simulation 1: Fast sample rate and modest initial state covariance"
   ]
  },
  {
   "cell_type": "markdown",
   "metadata": {},
   "source": [
    "### Simulation set-up"
   ]
  },
  {
   "cell_type": "code",
   "execution_count": 4,
   "metadata": {},
   "outputs": [
    {
     "name": "stdout",
     "output_type": "stream",
     "text": [
      "Sampling from SDE solver path (this may be an unnecessarily poor approximation if you're simulating from a linear SDE). It is an appropriate choice for non-linear SDEs.\n"
     ]
    }
   ],
   "source": [
    "# Set up seed for simulation\n",
    "keys = map(jr.PRNGKey, count())\n",
    "\n",
    "# Simulation parameters\n",
    "T_total = 50\n",
    "T_filter = int(0.8 * T_total)\n",
    "num_timesteps_total = int(T_total / 0.005)\n",
    "\n",
    "# Generate time points for measurements, filtering and forecasting\n",
    "sim1_t, sim1_t_filter, sim1_t_forecast, \\\n",
    "    sim1_num_timesteps, sim1_num_timesteps_filter, sim1_num_timesteps_forecast= \\\n",
    "    generate_irregular_t_emissions(\n",
    "        T_total=T_total,\n",
    "        num_timesteps=num_timesteps_total,\n",
    "        T_filter=T_filter,\n",
    "        key=next(keys)\n",
    "    )\n",
    "\n",
    "\n",
    "# Create CD-NLGSSM model\n",
    "hifi_model = ContDiscreteNonlinearGaussianSSM(state_dim, emission_dim, diffeqsolve_settings=hifi_forward_settings)\n",
    "model_params, _ = hifi_model.initialize(next(keys), **all_true_params)\n",
    "\n",
    "# generate hifi synthetic data\n",
    "hifi_states, hifi_emissions = hifi_model.sample(\n",
    "    model_params, next(keys), sim1_num_timesteps, sim1_t, transition_type=\"path\"  # uses the Euler-Maruyama method\n",
    ")"
   ]
  },
  {
   "cell_type": "code",
   "execution_count": 5,
   "metadata": {},
   "outputs": [
    {
     "name": "stdout",
     "output_type": "stream",
     "text": [
      "Running grad and loss via EKF with hifi diffeqsolve settings...\n",
      "8.74 s ± 0 ns per loop (mean ± std. dev. of 1 run, 1 loop each)\n",
      "Hifi Loss: -14591.8759765625\n"
     ]
    }
   ],
   "source": [
    "print(\"Running grad and loss via EKF with hifi diffeqsolve settings...\")\n",
    "# compute a hifi marginal_log_prob (via EKF)\n",
    "def loss_fn(params):\n",
    "    return hifi_model.marginal_log_prob(\n",
    "        params,\n",
    "        hifi_emissions,\n",
    "        sim1_t,\n",
    "        filter_hyperparams=EKFHyperParams(diffeqsolve_settings=hifi_logprob_settings),\n",
    "    )\n",
    "\n",
    "loss_grad_fn = jax.value_and_grad(loss_fn)\n",
    "\n",
    "# evaluate the loss and the gradient and time them\n",
    "%timeit -n 1 -r 1 loss_grad_fn(model_params)\n",
    "hifi_loss, hifi_grad = loss_grad_fn(model_params)\n",
    "\n",
    "print(f\"Hifi Loss: {hifi_loss}\")"
   ]
  },
  {
   "cell_type": "code",
   "execution_count": 20,
   "metadata": {},
   "outputs": [
    {
     "name": "stdout",
     "output_type": "stream",
     "text": [
      "Running grad and loss via EKF with default diffeqsolve settings...\n",
      "582 ms ± 0 ns per loop (mean ± std. dev. of 1 run, 1 loop each)\n",
      "3.64 s ± 0 ns per loop (mean ± std. dev. of 1 run, 1 loop each)\n",
      "Hifi marginal log prob: -14591.8759765625\n",
      "Default marginal log prob: -14591.8759765625\n",
      "Fields that are close within atol=0.001 and rtol=1e-05: ['dynamics.approx_order']\n",
      "Fields that are different within tol=0.001 and rtol=1e-05: ['dynamics.drift.params', 'dynamics.diffusion_cov.params', 'dynamics.diffusion_coefficient.params', 'initial.mean.params', 'initial.cov.params', 'emissions.emission_cov.params', 'emissions.emission_function.weights', 'emissions.emission_function.bias']\n",
      "WARNING: Comparison failed at atol=1e--3 and rtol=1e--5. Accepting failure.\n",
      "Fields that are close within atol=0.01 and rtol=1e-05: ['dynamics.approx_order']\n",
      "Fields that are different within tol=0.01 and rtol=1e-05: ['dynamics.drift.params', 'dynamics.diffusion_cov.params', 'dynamics.diffusion_coefficient.params', 'initial.mean.params', 'initial.cov.params', 'emissions.emission_cov.params', 'emissions.emission_function.weights', 'emissions.emission_function.bias']\n",
      "WARNING: Comparison failed at atol=1e--2 and rtol=1e--5. Accepting failure.\n",
      "Fields that are close within atol=0.1 and rtol=1e-05: ['dynamics.approx_order', 'initial.mean.params', 'initial.cov.params']\n",
      "Fields that are different within tol=0.1 and rtol=1e-05: ['dynamics.drift.params', 'dynamics.diffusion_cov.params', 'dynamics.diffusion_coefficient.params', 'emissions.emission_cov.params', 'emissions.emission_function.weights', 'emissions.emission_function.bias']\n",
      "WARNING: Comparison failed at atol=1e--1 and rtol=1e--5. Accepting failure.\n",
      "Fields that are close within atol=1 and rtol=1e-05: ['dynamics.diffusion_cov.params', 'dynamics.approx_order', 'initial.mean.params', 'initial.cov.params', 'emissions.emission_cov.params']\n",
      "Fields that are different within tol=1 and rtol=1e-05: ['dynamics.drift.params', 'dynamics.diffusion_coefficient.params', 'emissions.emission_function.weights', 'emissions.emission_function.bias']\n",
      "WARNING: Comparison failed at atol=1e-0 and rtol=1e--5. Accepting failure.\n"
     ]
    }
   ],
   "source": [
    "print(\"Running grad and loss via EKF with default diffeqsolve settings...\")\n",
    "\n",
    "def loss_fn(params):\n",
    "    return hifi_model.marginal_log_prob(\n",
    "        params,\n",
    "        hifi_emissions,\n",
    "        sim1_t,\n",
    "        filter_hyperparams=EKFHyperParams(),\n",
    "    )\n",
    "\n",
    "# first time how long it takes to compute the marginal log prob\n",
    "%timeit -n 1 -r 1 loss_fn(model_params)\n",
    "\n",
    "# Next, time how long it takes to compute the gradient and loss together\n",
    "loss_grad_fn = jax.value_and_grad(loss_fn)\n",
    "\n",
    "# evaluate the loss and the gradient\n",
    "%timeit -n 1 -r 1 loss_grad_fn(model_params)\n",
    "default_loss, default_grad = loss_grad_fn(model_params)\n",
    "\n",
    "print(f\"Hifi marginal log prob: {hifi_loss}\")\n",
    "print(f\"Default marginal log prob: {default_loss}\")\n",
    "\n",
    "compare_structs(hifi_grad, default_grad, max_tol=-3, max_tol_rel=-5, accept_failure=True)\n",
    "compare_structs(hifi_grad, default_grad, max_tol=-2, max_tol_rel=-5, accept_failure=True)\n",
    "compare_structs(hifi_grad, default_grad, max_tol=-1, max_tol_rel=-5, accept_failure=True)\n",
    "compare_structs(hifi_grad, default_grad, max_tol=0, max_tol_rel=-5, accept_failure=True)\n",
    "\n"
   ]
  },
  {
   "cell_type": "code",
   "execution_count": 21,
   "metadata": {},
   "outputs": [
    {
     "name": "stdout",
     "output_type": "stream",
     "text": [
      "Running grad and loss via EKF with NEW diffeqsolve settings...\n",
      "638 ms ± 0 ns per loop (mean ± std. dev. of 1 run, 1 loop each)\n",
      "4.13 s ± 0 ns per loop (mean ± std. dev. of 1 run, 1 loop each)\n",
      "Hifi marginal log prob: -14591.8759765625\n",
      "New marginal log prob: -14591.8740234375 \n",
      "Fields that are close within atol=0.001 and rtol=1e-05: ['dynamics.approx_order']\n",
      "Fields that are different within tol=0.001 and rtol=1e-05: ['dynamics.drift.params', 'dynamics.diffusion_cov.params', 'dynamics.diffusion_coefficient.params', 'initial.mean.params', 'initial.cov.params', 'emissions.emission_cov.params', 'emissions.emission_function.weights', 'emissions.emission_function.bias']\n",
      "WARNING: Comparison failed at atol=1e--3 and rtol=1e--5. Accepting failure.\n",
      "Fields that are close within atol=0.01 and rtol=1e-05: ['dynamics.approx_order']\n",
      "Fields that are different within tol=0.01 and rtol=1e-05: ['dynamics.drift.params', 'dynamics.diffusion_cov.params', 'dynamics.diffusion_coefficient.params', 'initial.mean.params', 'initial.cov.params', 'emissions.emission_cov.params', 'emissions.emission_function.weights', 'emissions.emission_function.bias']\n",
      "WARNING: Comparison failed at atol=1e--2 and rtol=1e--5. Accepting failure.\n",
      "Fields that are close within atol=0.1 and rtol=1e-05: ['dynamics.approx_order', 'initial.mean.params', 'initial.cov.params']\n",
      "Fields that are different within tol=0.1 and rtol=1e-05: ['dynamics.drift.params', 'dynamics.diffusion_cov.params', 'dynamics.diffusion_coefficient.params', 'emissions.emission_cov.params', 'emissions.emission_function.weights', 'emissions.emission_function.bias']\n",
      "WARNING: Comparison failed at atol=1e--1 and rtol=1e--5. Accepting failure.\n",
      "Fields that are close within atol=1 and rtol=1e-05: ['dynamics.diffusion_cov.params', 'dynamics.approx_order', 'initial.mean.params', 'initial.cov.params', 'emissions.emission_cov.params']\n",
      "Fields that are different within tol=1 and rtol=1e-05: ['dynamics.drift.params', 'dynamics.diffusion_coefficient.params', 'emissions.emission_function.weights', 'emissions.emission_function.bias']\n",
      "WARNING: Comparison failed at atol=1e-0 and rtol=1e--5. Accepting failure.\n"
     ]
    }
   ],
   "source": [
    "print(\"Running grad and loss via EKF with NEW diffeqsolve settings...\")\n",
    "new_diffeqsolve_settings = {\n",
    "    \"solver\": dfx.Tsit5(),\n",
    "    \"dt0\": 0.1,\n",
    "    \"stepsize_controller\": dfx.PIDController(rtol=1e-3, atol=1e-6),\n",
    "    \"adjoint\": dfx.RecursiveCheckpointAdjoint(checkpoints=100), #more checkpoints should give faster gradients\n",
    "    # \"tol_vbt\": 1, # This won't matter for ODEs\n",
    "    \"max_steps\": 100,\n",
    "}  # empty uses default settings\n",
    "\n",
    "def loss_fn(params):\n",
    "    return hifi_model.marginal_log_prob(\n",
    "        params,\n",
    "        hifi_emissions,\n",
    "        sim1_t,\n",
    "        filter_hyperparams=EKFHyperParams(diffeqsolve_settings=new_diffeqsolve_settings),\n",
    "    )\n",
    "\n",
    "# first time how long it takes to compute the marginal log prob\n",
    "%timeit -n 1 -r 1 loss_fn(model_params)\n",
    "\n",
    "# Next, time how long it takes to compute the gradient and loss together\n",
    "loss_grad_fn = jax.value_and_grad(loss_fn)\n",
    "\n",
    "# evaluate the loss and the gradient\n",
    "%timeit -n 1 -r 1 loss_grad_fn(model_params)\n",
    "new_loss, new_grad = loss_grad_fn(model_params)\n",
    "\n",
    "print(f\"Hifi marginal log prob: {hifi_loss}\")\n",
    "print(f\"New marginal log prob: {new_loss} \")\n",
    "\n",
    "compare_structs(hifi_grad, new_grad, max_tol=-3, max_tol_rel=-5, accept_failure=True)\n",
    "compare_structs(hifi_grad, new_grad, max_tol=-2, max_tol_rel=-5, accept_failure=True)\n",
    "compare_structs(hifi_grad, new_grad, max_tol=-1, max_tol_rel=-5, accept_failure=True)\n",
    "compare_structs(hifi_grad, new_grad, max_tol=0, max_tol_rel=-5, accept_failure=True)\n",
    "\n"
   ]
  },
  {
   "cell_type": "code",
   "execution_count": 22,
   "metadata": {},
   "outputs": [
    {
     "name": "stdout",
     "output_type": "stream",
     "text": [
      "Running grad and loss via EKF with lowfi diffeqsolve settings...\n",
      "423 ms ± 0 ns per loop (mean ± std. dev. of 1 run, 1 loop each)\n",
      "2.8 s ± 0 ns per loop (mean ± std. dev. of 1 run, 1 loop each)\n",
      "Hifi marginal log prob: -14591.8759765625\n",
      "Lowfi marginal log prob: -14592.40625 \n",
      "Fields that are close within atol=0.001 and rtol=1e-05: ['dynamics.approx_order']\n",
      "Fields that are different within tol=0.001 and rtol=1e-05: ['dynamics.drift.params', 'dynamics.diffusion_cov.params', 'dynamics.diffusion_coefficient.params', 'initial.mean.params', 'initial.cov.params', 'emissions.emission_cov.params', 'emissions.emission_function.weights', 'emissions.emission_function.bias']\n",
      "WARNING: Comparison failed at atol=1e--3 and rtol=1e--5. Accepting failure.\n",
      "Fields that are close within atol=0.01 and rtol=1e-05: ['dynamics.approx_order']\n",
      "Fields that are different within tol=0.01 and rtol=1e-05: ['dynamics.drift.params', 'dynamics.diffusion_cov.params', 'dynamics.diffusion_coefficient.params', 'initial.mean.params', 'initial.cov.params', 'emissions.emission_cov.params', 'emissions.emission_function.weights', 'emissions.emission_function.bias']\n",
      "WARNING: Comparison failed at atol=1e--2 and rtol=1e--5. Accepting failure.\n",
      "Fields that are close within atol=0.1 and rtol=1e-05: ['dynamics.approx_order', 'initial.mean.params', 'initial.cov.params']\n",
      "Fields that are different within tol=0.1 and rtol=1e-05: ['dynamics.drift.params', 'dynamics.diffusion_cov.params', 'dynamics.diffusion_coefficient.params', 'emissions.emission_cov.params', 'emissions.emission_function.weights', 'emissions.emission_function.bias']\n",
      "WARNING: Comparison failed at atol=1e--1 and rtol=1e--5. Accepting failure.\n",
      "Fields that are close within atol=1 and rtol=1e-05: ['dynamics.diffusion_cov.params', 'dynamics.approx_order', 'initial.mean.params', 'initial.cov.params', 'emissions.emission_cov.params']\n",
      "Fields that are different within tol=1 and rtol=1e-05: ['dynamics.drift.params', 'dynamics.diffusion_coefficient.params', 'emissions.emission_function.weights', 'emissions.emission_function.bias']\n",
      "WARNING: Comparison failed at atol=1e-0 and rtol=1e--5. Accepting failure.\n"
     ]
    }
   ],
   "source": [
    "print(\"Running grad and loss via EKF with lowfi diffeqsolve settings...\")\n",
    "lowfi_diffeqsolve_settings = {\n",
    "    \"solver\": dfx.Euler(),\n",
    "    \"dt0\": 1e-4,\n",
    "    # \"stepsize_controller\": dfx.ConstantStepSize(),\n",
    "    \"max_steps\": 1e3,\n",
    "}  # empty uses default settings\n",
    "\n",
    "def loss_fn(params):\n",
    "    return hifi_model.marginal_log_prob(\n",
    "        params,\n",
    "        hifi_emissions,\n",
    "        sim1_t,\n",
    "        filter_hyperparams=EKFHyperParams(diffeqsolve_settings=lowfi_diffeqsolve_settings),\n",
    "    )\n",
    "\n",
    "# first time how long it takes to compute the marginal log prob\n",
    "%timeit -n 1 -r 1 loss_fn(model_params)\n",
    "\n",
    "# Next, time how long it takes to compute the gradient and loss together\n",
    "loss_grad_fn = jax.value_and_grad(loss_fn)\n",
    "\n",
    "# evaluate the loss and the gradient\n",
    "%timeit -n 1 -r 1 loss_grad_fn(model_params)\n",
    "lowfi_loss, lowfi_grad = loss_grad_fn(model_params)\n",
    "\n",
    "print(f\"Hifi marginal log prob: {hifi_loss}\")\n",
    "print(f\"Lowfi marginal log prob: {lowfi_loss} \")\n",
    "\n",
    "compare_structs(hifi_grad, lowfi_grad, max_tol=-3, max_tol_rel=-5, accept_failure=True)\n",
    "compare_structs(hifi_grad, lowfi_grad, max_tol=-2, max_tol_rel=-5, accept_failure=True)\n",
    "compare_structs(hifi_grad, lowfi_grad, max_tol=-1, max_tol_rel=-5, accept_failure=True)\n",
    "compare_structs(hifi_grad, lowfi_grad, max_tol=0, max_tol_rel=-5, accept_failure=True)\n",
    "\n"
   ]
  },
  {
   "cell_type": "code",
   "execution_count": 23,
   "metadata": {},
   "outputs": [
    {
     "name": "stdout",
     "output_type": "stream",
     "text": [
      "Running grad and loss via EKF with lowfi diffeqsolve settings...\n",
      "541 ms ± 0 ns per loop (mean ± std. dev. of 1 run, 1 loop each)\n",
      "3.32 s ± 0 ns per loop (mean ± std. dev. of 1 run, 1 loop each)\n",
      "Hifi marginal log prob: -14591.8759765625\n",
      "Lowfi marginal log prob: -14591.9013671875 \n",
      "Fields that are close within atol=0.001 and rtol=1e-05: ['dynamics.approx_order']\n",
      "Fields that are different within tol=0.001 and rtol=1e-05: ['dynamics.drift.params', 'dynamics.diffusion_cov.params', 'dynamics.diffusion_coefficient.params', 'initial.mean.params', 'initial.cov.params', 'emissions.emission_cov.params', 'emissions.emission_function.weights', 'emissions.emission_function.bias']\n",
      "WARNING: Comparison failed at atol=1e--3 and rtol=1e--5. Accepting failure.\n",
      "Fields that are close within atol=0.01 and rtol=1e-05: ['dynamics.approx_order']\n",
      "Fields that are different within tol=0.01 and rtol=1e-05: ['dynamics.drift.params', 'dynamics.diffusion_cov.params', 'dynamics.diffusion_coefficient.params', 'initial.mean.params', 'initial.cov.params', 'emissions.emission_cov.params', 'emissions.emission_function.weights', 'emissions.emission_function.bias']\n",
      "WARNING: Comparison failed at atol=1e--2 and rtol=1e--5. Accepting failure.\n",
      "Fields that are close within atol=0.1 and rtol=1e-05: ['dynamics.approx_order', 'initial.mean.params', 'initial.cov.params']\n",
      "Fields that are different within tol=0.1 and rtol=1e-05: ['dynamics.drift.params', 'dynamics.diffusion_cov.params', 'dynamics.diffusion_coefficient.params', 'emissions.emission_cov.params', 'emissions.emission_function.weights', 'emissions.emission_function.bias']\n",
      "WARNING: Comparison failed at atol=1e--1 and rtol=1e--5. Accepting failure.\n",
      "Fields that are close within atol=1 and rtol=1e-05: ['dynamics.diffusion_cov.params', 'dynamics.approx_order', 'initial.mean.params', 'initial.cov.params', 'emissions.emission_cov.params']\n",
      "Fields that are different within tol=1 and rtol=1e-05: ['dynamics.drift.params', 'dynamics.diffusion_coefficient.params', 'emissions.emission_function.weights', 'emissions.emission_function.bias']\n",
      "WARNING: Comparison failed at atol=1e-0 and rtol=1e--5. Accepting failure.\n"
     ]
    }
   ],
   "source": [
    "print(\"Running grad and loss via EKF with lowfi diffeqsolve settings...\")\n",
    "lowfi_diffeqsolve_settings = {\n",
    "    \"solver\": dfx.Heun(), # cheap ODE solver recommended for Neural ODE\n",
    "    \"dt0\": 1e-3,\n",
    "    # \"stepsize_controller\": dfx.ConstantStepSize(),\n",
    "    \"max_steps\": 1e4,\n",
    "}  # empty uses default settings\n",
    "\n",
    "def loss_fn(params):\n",
    "    return hifi_model.marginal_log_prob(\n",
    "        params,\n",
    "        hifi_emissions,\n",
    "        sim1_t,\n",
    "        filter_hyperparams=EKFHyperParams(diffeqsolve_settings=lowfi_diffeqsolve_settings),\n",
    "    )\n",
    "\n",
    "# first time how long it takes to compute the marginal log prob\n",
    "%timeit -n 1 -r 1 loss_fn(model_params)\n",
    "\n",
    "# Next, time how long it takes to compute the gradient and loss together\n",
    "loss_grad_fn = jax.value_and_grad(loss_fn)\n",
    "\n",
    "# evaluate the loss and the gradient\n",
    "%timeit -n 1 -r 1 loss_grad_fn(model_params)\n",
    "lowfi_loss, lowfi_grad = loss_grad_fn(model_params)\n",
    "\n",
    "print(f\"Hifi marginal log prob: {hifi_loss}\")\n",
    "print(f\"Lowfi marginal log prob: {lowfi_loss} \")\n",
    "\n",
    "compare_structs(hifi_grad, lowfi_grad, max_tol=-3, max_tol_rel=-5, accept_failure=True)\n",
    "compare_structs(hifi_grad, lowfi_grad, max_tol=-2, max_tol_rel=-5, accept_failure=True)\n",
    "compare_structs(hifi_grad, lowfi_grad, max_tol=-1, max_tol_rel=-5, accept_failure=True)\n",
    "compare_structs(hifi_grad, lowfi_grad, max_tol=0, max_tol_rel=-5, accept_failure=True)\n",
    "\n"
   ]
  },
  {
   "cell_type": "code",
   "execution_count": 29,
   "metadata": {},
   "outputs": [
    {
     "name": "stdout",
     "output_type": "stream",
     "text": [
      "Running grad and loss via EKF with lowfi diffeqsolve settings...\n",
      "579 ms ± 0 ns per loop (mean ± std. dev. of 1 run, 1 loop each)\n",
      "3.2 s ± 0 ns per loop (mean ± std. dev. of 1 run, 1 loop each)\n",
      "Hifi marginal log prob: -14591.8759765625\n",
      "Lowfi marginal log prob: -14591.9013671875 \n",
      "Fields that are close within atol=1 and rtol=0.001: ['dynamics.diffusion_cov.params', 'dynamics.approx_order', 'initial.mean.params', 'initial.cov.params', 'emissions.emission_cov.params']\n",
      "Fields that are different within tol=1 and rtol=0.001: ['dynamics.drift.params', 'dynamics.diffusion_coefficient.params', 'emissions.emission_function.weights', 'emissions.emission_function.bias']\n",
      "WARNING: Comparison failed at atol=1e-0 and rtol=1e--3. Accepting failure.\n"
     ]
    }
   ],
   "source": [
    "print(\"Running grad and loss via EKF with lowfi diffeqsolve settings...\")\n",
    "lowfi_diffeqsolve_settings = {\n",
    "    \"solver\": dfx.Heun(), # cheap ODE solver recommended for Neural ODE\n",
    "    \"dt0\": 1e-3,\n",
    "    # \"stepsize_controller\": dfx.ConstantStepSize(),\n",
    "    \"max_steps\": 1e2,\n",
    "}  # empty uses default settings\n",
    "\n",
    "def loss_fn(params):\n",
    "    return hifi_model.marginal_log_prob(\n",
    "        params,\n",
    "        hifi_emissions,\n",
    "        sim1_t,\n",
    "        filter_hyperparams=EKFHyperParams(diffeqsolve_settings=lowfi_diffeqsolve_settings),\n",
    "    )\n",
    "\n",
    "# first time how long it takes to compute the marginal log prob\n",
    "%timeit -n 1 -r 1 loss_fn(model_params)\n",
    "\n",
    "# Next, time how long it takes to compute the gradient and loss together\n",
    "loss_grad_fn = jax.value_and_grad(loss_fn)\n",
    "\n",
    "# evaluate the loss and the gradient\n",
    "%timeit -n 1 -r 1 loss_grad_fn(model_params)\n",
    "lowfi_loss, lowfi_grad = loss_grad_fn(model_params)\n",
    "\n",
    "print(f\"Hifi marginal log prob: {hifi_loss}\")\n",
    "print(f\"Lowfi marginal log prob: {lowfi_loss} \")\n",
    "\n",
    "compare_structs(hifi_grad, lowfi_grad, max_tol=0, max_tol_rel=-3, accept_failure=True)\n",
    "\n"
   ]
  },
  {
   "cell_type": "code",
   "execution_count": 31,
   "metadata": {},
   "outputs": [
    {
     "data": {
      "text/plain": [
       "(ParamsCDNLGSSM(initial=ParamsLGSSMInitial(mean=LearnableVector(params=Array([0.13, -0.56, 0.51], dtype=float32)), cov=LearnableMatrix(params=Array([[-0.09, -0.31, 0.30],\n",
       "        [0.22, 0.06, -0.14],\n",
       "        [-0.23, -0.14, 0.04]], dtype=float32))), dynamics=ParamsCDNLGSSMDynamics(drift=lorenz63_drift(params=Array([-22.51, -15.90, -72.80], dtype=float32)), diffusion_coefficient=LearnableMatrix(params=Array([[1.90, 1.44, -5.00],\n",
       "        [1.44, 3.88, -1.36],\n",
       "        [-5.00, -1.36, 3.90]], dtype=float32)), diffusion_cov=LearnableMatrix(params=Array([[0.95, 1.11, -2.51],\n",
       "        [0.33, 1.94, -0.67],\n",
       "        [-2.49, -0.69, 1.95]], dtype=float32)), approx_order=Array(0.00, dtype=float32, weak_type=True)), emissions=ParamsCDNLGSSMEmissions(emission_function=LearnableLinear(weights=Array([[335.84, 332.45, 1477.29]], dtype=float32), bias=Array([42.21], dtype=float32)), emission_cov=LearnableMatrix(params=Array([[17.11]], dtype=float32)))),\n",
       " ParamsCDNLGSSM(initial=ParamsLGSSMInitial(mean=LearnableVector(params=Array([0.13, -0.56, 0.46], dtype=float32)), cov=LearnableMatrix(params=Array([[-0.09, -0.31, 0.27],\n",
       "        [0.23, 0.06, -0.13],\n",
       "        [-0.21, -0.13, 0.01]], dtype=float32))), dynamics=ParamsCDNLGSSMDynamics(drift=lorenz63_drift(params=Array([-23.19, -16.53, -78.03], dtype=float32)), diffusion_coefficient=LearnableMatrix(params=Array([[2.94, 1.65, -5.53],\n",
       "        [1.65, 4.44, -0.97],\n",
       "        [-5.53, -0.97, 4.49]], dtype=float32)), diffusion_cov=LearnableMatrix(params=Array([[1.47, 1.30, -2.79],\n",
       "        [0.35, 2.22, -0.47],\n",
       "        [-2.74, -0.49, 2.25]], dtype=float32)), approx_order=Array(0.00, dtype=float32, weak_type=True)), emissions=ParamsCDNLGSSMEmissions(emission_function=LearnableLinear(weights=Array([[360.65, 365.57, 1623.30]], dtype=float32), bias=Array([48.64], dtype=float32)), emission_cov=LearnableMatrix(params=Array([[16.29]], dtype=float32)))))"
      ]
     },
     "execution_count": 31,
     "metadata": {},
     "output_type": "execute_result"
    }
   ],
   "source": [
    "hifi_grad, lowfi_grad"
   ]
  },
  {
   "cell_type": "code",
   "execution_count": 25,
   "metadata": {},
   "outputs": [
    {
     "name": "stdout",
     "output_type": "stream",
     "text": [
      "Hifi marginal grad: ParamsCDNLGSSM(initial=ParamsLGSSMInitial(mean=LearnableVector(params=Array([0.13, -0.56, 0.51], dtype=float32)), cov=LearnableMatrix(params=Array([[-0.09, -0.31, 0.30],\n",
      "       [0.22, 0.06, -0.14],\n",
      "       [-0.23, -0.14, 0.04]], dtype=float32))), dynamics=ParamsCDNLGSSMDynamics(drift=lorenz63_drift(params=Array([-22.51, -15.90, -72.80], dtype=float32)), diffusion_coefficient=LearnableMatrix(params=Array([[1.90, 1.44, -5.00],\n",
      "       [1.44, 3.88, -1.36],\n",
      "       [-5.00, -1.36, 3.90]], dtype=float32)), diffusion_cov=LearnableMatrix(params=Array([[0.95, 1.11, -2.51],\n",
      "       [0.33, 1.94, -0.67],\n",
      "       [-2.49, -0.69, 1.95]], dtype=float32)), approx_order=Array(0.00, dtype=float32, weak_type=True)), emissions=ParamsCDNLGSSMEmissions(emission_function=LearnableLinear(weights=Array([[335.84, 332.45, 1477.29]], dtype=float32), bias=Array([42.21], dtype=float32)), emission_cov=LearnableMatrix(params=Array([[17.11]], dtype=float32)))) \n",
      "Default marginal grad: ParamsCDNLGSSM(initial=ParamsLGSSMInitial(mean=LearnableVector(params=Array([0.13, -0.56, 0.46], dtype=float32)), cov=LearnableMatrix(params=Array([[-0.09, -0.31, 0.27],\n",
      "       [0.23, 0.06, -0.13],\n",
      "       [-0.21, -0.13, 0.01]], dtype=float32))), dynamics=ParamsCDNLGSSMDynamics(drift=lorenz63_drift(params=Array([-23.10, -16.54, -78.15], dtype=float32)), diffusion_coefficient=LearnableMatrix(params=Array([[2.94, 1.64, -5.52],\n",
      "       [1.64, 4.42, -0.97],\n",
      "       [-5.52, -0.97, 4.47]], dtype=float32)), diffusion_cov=LearnableMatrix(params=Array([[1.47, 1.30, -2.79],\n",
      "       [0.35, 2.21, -0.47],\n",
      "       [-2.73, -0.50, 2.24]], dtype=float32)), approx_order=Array(0.00, dtype=float32, weak_type=True)), emissions=ParamsCDNLGSSMEmissions(emission_function=LearnableLinear(weights=Array([[355.48, 360.40, 1625.12]], dtype=float32), bias=Array([48.71], dtype=float32)), emission_cov=LearnableMatrix(params=Array([[16.29]], dtype=float32))))\n",
      "Lowfi marginal grad: ParamsCDNLGSSM(initial=ParamsLGSSMInitial(mean=LearnableVector(params=Array([0.13, -0.56, 0.46], dtype=float32)), cov=LearnableMatrix(params=Array([[-0.09, -0.31, 0.27],\n",
      "       [0.23, 0.06, -0.13],\n",
      "       [-0.21, -0.13, 0.01]], dtype=float32))), dynamics=ParamsCDNLGSSMDynamics(drift=lorenz63_drift(params=Array([-23.19, -16.53, -78.03], dtype=float32)), diffusion_coefficient=LearnableMatrix(params=Array([[2.94, 1.65, -5.53],\n",
      "       [1.65, 4.44, -0.97],\n",
      "       [-5.53, -0.97, 4.49]], dtype=float32)), diffusion_cov=LearnableMatrix(params=Array([[1.47, 1.30, -2.79],\n",
      "       [0.35, 2.22, -0.47],\n",
      "       [-2.74, -0.49, 2.25]], dtype=float32)), approx_order=Array(0.00, dtype=float32, weak_type=True)), emissions=ParamsCDNLGSSMEmissions(emission_function=LearnableLinear(weights=Array([[360.65, 365.57, 1623.30]], dtype=float32), bias=Array([48.64], dtype=float32)), emission_cov=LearnableMatrix(params=Array([[16.29]], dtype=float32))))\n"
     ]
    }
   ],
   "source": [
    "print(f\"Hifi marginal grad: {hifi_grad} \")\n",
    "print(f\"Default marginal grad: {default_grad}\")\n",
    "print(f\"Lowfi marginal grad: {lowfi_grad}\")"
   ]
  },
  {
   "cell_type": "code",
   "execution_count": 26,
   "metadata": {},
   "outputs": [
    {
     "name": "stdout",
     "output_type": "stream",
     "text": [
      "Hifi marginal log prob: -14591.8759765625 \n",
      "Default marginal log prob: -14591.8759765625\n",
      "Lowfi marginal log prob: -14591.9013671875\n"
     ]
    }
   ],
   "source": [
    "print(f\"Hifi marginal log prob: {hifi_loss} \")\n",
    "print(f\"Default marginal log prob: {default_loss}\")\n",
    "print(f\"Lowfi marginal log prob: {lowfi_loss}\")"
   ]
  },
  {
   "cell_type": "code",
   "execution_count": 27,
   "metadata": {},
   "outputs": [
    {
     "name": "stdout",
     "output_type": "stream",
     "text": [
      "Comparing hifi and lowfi gradients...\n",
      "Fields that are close within atol=0.001 and rtol=1e-05: ['dynamics.approx_order']\n",
      "Fields that are different within tol=0.001 and rtol=1e-05: ['dynamics.drift.params', 'dynamics.diffusion_cov.params', 'dynamics.diffusion_coefficient.params', 'initial.mean.params', 'initial.cov.params', 'emissions.emission_cov.params', 'emissions.emission_function.weights', 'emissions.emission_function.bias']\n",
      "WARNING: Comparison failed at atol=1e--3 and rtol=1e--5. Accepting failure.\n",
      "Fields that are close within atol=1 and rtol=1e-05: ['dynamics.diffusion_cov.params', 'dynamics.approx_order', 'initial.mean.params', 'initial.cov.params', 'emissions.emission_cov.params']\n",
      "Fields that are different within tol=1 and rtol=1e-05: ['dynamics.drift.params', 'dynamics.diffusion_coefficient.params', 'emissions.emission_function.weights', 'emissions.emission_function.bias']\n",
      "WARNING: Comparison failed at atol=1e-0 and rtol=1e--5. Accepting failure.\n"
     ]
    }
   ],
   "source": [
    "print(\"Comparing hifi and lowfi gradients...\")\n",
    "\n",
    "compare_structs(hifi_grad, lowfi_grad, max_tol=-3, max_tol_rel=-5, accept_failure=True)\n",
    "# compare_structs(hifi_grad, lowfi_grad, max_tol=-2, max_tol_rel=-5, accept_failure=True)\n",
    "# compare_structs(hifi_grad, lowfi_grad, max_tol=-1, max_tol_rel=-5, accept_failure=True)\n",
    "compare_structs(hifi_grad, lowfi_grad, max_tol=0, max_tol_rel=-5, accept_failure=True)"
   ]
  },
  {
   "cell_type": "code",
   "execution_count": 28,
   "metadata": {},
   "outputs": [
    {
     "name": "stdout",
     "output_type": "stream",
     "text": [
      "Comparing hifi and default gradients...\n",
      "Fields that are close within atol=0.001 and rtol=1e-05: ['dynamics.approx_order']\n",
      "Fields that are different within tol=0.001 and rtol=1e-05: ['dynamics.drift.params', 'dynamics.diffusion_cov.params', 'dynamics.diffusion_coefficient.params', 'initial.mean.params', 'initial.cov.params', 'emissions.emission_cov.params', 'emissions.emission_function.weights', 'emissions.emission_function.bias']\n",
      "WARNING: Comparison failed at atol=1e--3 and rtol=1e--5. Accepting failure.\n",
      "Fields that are close within atol=0.01 and rtol=1e-05: ['dynamics.approx_order']\n",
      "Fields that are different within tol=0.01 and rtol=1e-05: ['dynamics.drift.params', 'dynamics.diffusion_cov.params', 'dynamics.diffusion_coefficient.params', 'initial.mean.params', 'initial.cov.params', 'emissions.emission_cov.params', 'emissions.emission_function.weights', 'emissions.emission_function.bias']\n",
      "WARNING: Comparison failed at atol=1e--2 and rtol=1e--5. Accepting failure.\n",
      "Fields that are close within atol=0.1 and rtol=1e-05: ['dynamics.approx_order', 'initial.mean.params', 'initial.cov.params']\n",
      "Fields that are different within tol=0.1 and rtol=1e-05: ['dynamics.drift.params', 'dynamics.diffusion_cov.params', 'dynamics.diffusion_coefficient.params', 'emissions.emission_cov.params', 'emissions.emission_function.weights', 'emissions.emission_function.bias']\n",
      "WARNING: Comparison failed at atol=1e--1 and rtol=1e--5. Accepting failure.\n",
      "Fields that are close within atol=1 and rtol=1e-05: ['dynamics.diffusion_cov.params', 'dynamics.approx_order', 'initial.mean.params', 'initial.cov.params', 'emissions.emission_cov.params']\n",
      "Fields that are different within tol=1 and rtol=1e-05: ['dynamics.drift.params', 'dynamics.diffusion_coefficient.params', 'emissions.emission_function.weights', 'emissions.emission_function.bias']\n",
      "WARNING: Comparison failed at atol=1e-0 and rtol=1e--5. Accepting failure.\n"
     ]
    }
   ],
   "source": [
    "print(\"Comparing hifi and default gradients...\")\n",
    "compare_structs(hifi_grad, default_grad, max_tol=-3, max_tol_rel=-5, accept_failure=True)\n",
    "compare_structs(hifi_grad, default_grad, max_tol=-2, max_tol_rel=-5, accept_failure=True)\n",
    "compare_structs(hifi_grad, default_grad, max_tol=-1, max_tol_rel=-5, accept_failure=True)\n",
    "compare_structs(hifi_grad, default_grad, max_tol=0, max_tol_rel=-5, accept_failure=True)"
   ]
  },
  {
   "cell_type": "code",
   "execution_count": null,
   "metadata": {},
   "outputs": [],
   "source": []
  }
 ],
 "metadata": {
  "colab": {
   "include_colab_link": true,
   "name": "pendulum.ipynb",
   "provenance": []
  },
  "kernelspec": {
   "display_name": "hduq_nodynamax",
   "language": "python",
   "name": "python3"
  },
  "language_info": {
   "codemirror_mode": {
    "name": "ipython",
    "version": 3
   },
   "file_extension": ".py",
   "mimetype": "text/x-python",
   "name": "python",
   "nbconvert_exporter": "python",
   "pygments_lexer": "ipython3",
   "version": "3.11.4"
  }
 },
 "nbformat": 4,
 "nbformat_minor": 1
}
