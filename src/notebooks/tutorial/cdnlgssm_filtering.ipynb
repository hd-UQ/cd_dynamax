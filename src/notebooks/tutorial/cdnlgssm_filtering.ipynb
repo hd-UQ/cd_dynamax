{
 "cells": [
  {
   "cell_type": "markdown",
   "metadata": {
    "id": "4j2SH7ks97hb"
   },
   "source": [
    "# Latent state estimation (filtering) for an irregularly-sampled, continuous-discrete (non-linear) Gaussian dynamical system\n",
    "\n",
    "We show how to use cd-dynamax to estimate the latent state of a continuous-discrete (non-linear) Gaussian dynamical system\n",
    "\n",
    "Specifically, we will showcase the following filtering alternatives:\n",
    "\n",
    "- The Extended Kalman Filter (EKF)\n",
    "- The Ensemble Kalman Filter (EnKF)\n",
    "- The Unscented Kalman filter"
   ]
  },
  {
   "cell_type": "markdown",
   "metadata": {},
   "source": [
    "## Preliminaries"
   ]
  },
  {
   "cell_type": "markdown",
   "metadata": {},
   "source": [
    "### Code Setup"
   ]
  },
  {
   "cell_type": "code",
   "execution_count": null,
   "metadata": {},
   "outputs": [],
   "source": [
    "# Main imports\n",
    "import sys\n",
    "from itertools import count\n",
    "\n",
    "# Import jax and utils\n",
    "from jax import numpy as jnp\n",
    "import jax.random as jr\n",
    "from jaxtyping import Float, Array\n",
    "from typing import Callable, NamedTuple, Tuple, Optional, Union\n",
    "from jaxtyping import Array, Float\n",
    "\n",
    "# Additional, custom codebase\n",
    "sys.path.append(\"../..\")\n",
    "sys.path.append(\"../../..\")\n",
    "\n",
    "# Import dynamax\n",
    "from dynamax.parameters import ParameterProperties\n",
    "# import discrete-time filters\n",
    "from dynamax.nonlinear_gaussian_ssm import ParamsNLGSSM, UKFHyperParams\n",
    "from dynamax.nonlinear_gaussian_ssm import extended_kalman_smoother, unscented_kalman_smoother\n",
    "\n",
    "# Our own custom src codebase\n",
    "# continuous-discrete nonlinear Gaussian SSM codebase\n",
    "from continuous_discrete_nonlinear_gaussian_ssm import ContDiscreteNonlinearGaussianSSM\n",
    "from continuous_discrete_nonlinear_gaussian_ssm import cdnlgssm_filter, cdnlgssm_forecast\n",
    "# Load models\n",
    "from continuous_discrete_nonlinear_gaussian_ssm.models import *\n",
    "\n",
    "# Plotting\n",
    "import matplotlib\n",
    "%matplotlib inline\n",
    "# Our own custom plotting codebase\n",
    "from utils.plotting_utils import *\n",
    "from lorenz_plotting import *\n",
    "# Feel free to change the default figure size\n",
    "#matplotlib.rcParams['figure.figsize'] = [16, 9]\n",
    "\n",
    "# For pretty print of ndarrays\n",
    "jnp.set_printoptions(formatter={\"float_kind\": \"{:.2f}\".format})"
   ]
  },
  {
   "cell_type": "code",
   "execution_count": 2,
   "metadata": {},
   "outputs": [],
   "source": [
    "# Compute RMSE\n",
    "def compute_rmse(y, y_est):\n",
    "    return jnp.sqrt(jnp.sum((y - y_est) ** 2) / len(y))\n",
    "\n",
    "# Compute RMSE of estimate and print comparison with\n",
    "# standard deviation of measurement noise\n",
    "def compute_and_print_rmse_comparison(y, y_est, R, est_type=\"\"):\n",
    "    rmse_est = compute_rmse(y, y_est)\n",
    "    print(f'{f\"The RMSE of the {est_type} estimate is\":<40}: {rmse_est:.2f}')\n",
    "    print(f'{\"The std of measurement noise is\":<40}: {jnp.sqrt(R):.2f}')"
   ]
  },
  {
   "cell_type": "markdown",
   "metadata": {},
   "source": [
    "## True model set up"
   ]
  },
  {
   "cell_type": "markdown",
   "metadata": {},
   "source": [
    "We generate data from a Lorenz 63 system, from dynamics with the following stochastic differential equations:\n",
    "\n",
    "\\begin{align*}\n",
    "\\frac{d x}{d t} &= a(y-x) + \\sigma w_x(t) \\\\\n",
    "\\frac{d y}{d t} &= x(b-z) - y + \\sigma w_y(t) \\\\\n",
    "\\frac{d z}{d t} &= xy - cz + \\sigma w_z(t),\n",
    "\\end{align*}\n",
    "\n",
    "With parameters $a=10, b=28, c=8/3$, the system gives rise to chaotic behavior, and we choose $\\sigma=0.1$ for light diffusion.\n",
    "\n",
    "To generate data, we numerically approximate random path solutions to this SDE using Heun's method (i.e. improved Euler), as implemented in [Diffrax](https://docs.kidger.site/diffrax/api/solvers/sde_solvers/).\n",
    "\n",
    "\n",
    "We assume the observation model is\n",
    "\\begin{align*}\n",
    "y(t) &= H x(t) + r(t) \\\\\n",
    "r(t) &\\sim N(0,R),\n",
    "\\end{align*}\n",
    "where we choose $R=I$. \n",
    "\n",
    "Namely, we impose partial observability with H=[1, 0, 0], with noisy observations, sampled at irregular time intervals."
   ]
  },
  {
   "cell_type": "markdown",
   "metadata": {},
   "source": [
    "### True, data-generating model definition"
   ]
  },
  {
   "cell_type": "code",
   "execution_count": 3,
   "metadata": {},
   "outputs": [],
   "source": [
    "## Main settings\n",
    "state_dim = 3\n",
    "emission_dim = 1\n",
    "\n",
    "# Define a custom drift model, inherited from LearnableFunction\n",
    "class lorenz63_drift(LearnableFunction):\n",
    "    params: Union[Float[Array, \"state_dim\"], ParameterProperties]\n",
    "\n",
    "    def f(self, x, u=None, t=None):\n",
    "        foo = jnp.array(\n",
    "            [\n",
    "                self.params[0] * (x[1] - x[0]),\n",
    "                self.params[1] * x[0] - x[1] - x[0] * x[2],\n",
    "                -self.params[2] * x[2] + x[0] * x[1],\n",
    "            ]\n",
    "        )\n",
    "        return foo\n",
    "\n",
    "# Define the true parameters of the drift function\n",
    "true_l63_drift_params = jnp.array([10.0, 28.0, 8 / 3])\n",
    "# And the corresponding Lorenz 63 system\n",
    "true_drift = {\n",
    "    \"params\": lorenz63_drift(\n",
    "        params=true_l63_drift_params\n",
    "    ),\n",
    "    \"props\": lorenz63_drift(\n",
    "        params=ParameterProperties()\n",
    "    ),\n",
    "}\n",
    "\n",
    "# Define the true parameters of the diffusion function\n",
    "true_diffusion_cov = {\n",
    "    \"params\": LearnableMatrix(\n",
    "        params=jnp.eye(state_dim)\n",
    "    ),\n",
    "    \"props\": LearnableMatrix(\n",
    "        params=ParameterProperties(\n",
    "            constrainer=RealToPSDBijector()\n",
    "        )\n",
    "    ),\n",
    "}\n",
    "\n",
    "# Define the true parameters of the diffusion function\n",
    "true_diffusion_coefficient_param = 0.1\n",
    "true_diffusion_coefficient = {\n",
    "    \"params\": LearnableMatrix(\n",
    "        params=true_diffusion_coefficient_param * jnp.eye(state_dim)\n",
    "    ),\n",
    "    \"props\": LearnableMatrix(\n",
    "        params=ParameterProperties()\n",
    "    ),\n",
    "}\n",
    "\n",
    "# Define the true parameters of the emission function\n",
    "# Partial observability\n",
    "H=jnp.array(\n",
    "    [[1.0, 0.0, 0.0]]\n",
    ")\n",
    "true_emission = {\n",
    "    \"params\": LearnableLinear(\n",
    "        weights=H,\n",
    "        bias=jnp.zeros(emission_dim)\n",
    "    ),\n",
    "    \"props\": LearnableLinear(\n",
    "        weights=ParameterProperties(),\n",
    "        bias=ParameterProperties()\n",
    "    ),\n",
    "}\n",
    "\n",
    "# Define the true parameters of the emission covariance\n",
    "R=jnp.eye(emission_dim)\n",
    "true_emission_cov = {\n",
    "    \"params\": LearnableMatrix(\n",
    "        params=R\n",
    "    ),\n",
    "    \"props\": LearnableMatrix(\n",
    "        params=ParameterProperties(\n",
    "            constrainer=RealToPSDBijector()\n",
    "        )\n",
    "    ),\n",
    "}\n",
    "\n",
    "# Define the true initial mean and covariance\n",
    "true_initial_mean = {\n",
    "    \"params\": LearnableVector(\n",
    "        params=jnp.zeros(state_dim)\n",
    "    ),\n",
    "    \"props\": LearnableVector(\n",
    "        params=ParameterProperties()\n",
    "    ),\n",
    "}\n",
    "\n",
    "true_initial_cov_param = 10.0\n",
    "true_initial_cov = {\n",
    "    \"params\": LearnableMatrix(\n",
    "        params=true_initial_cov_param*jnp.eye(state_dim)\n",
    "    ),\n",
    "    \"props\": LearnableMatrix(\n",
    "        params=ParameterProperties(\n",
    "            constrainer=RealToPSDBijector()\n",
    "        )\n",
    "    ),\n",
    "}\n",
    "\n",
    "# Concatenate all parameters in dictionary, for later easy use\n",
    "all_true_params = {\n",
    "    'initial_mean': true_initial_mean,\n",
    "    'initial_cov': true_initial_cov,\n",
    "    'dynamics_drift': true_drift,\n",
    "    'dynamics_diffusion_coefficient': true_diffusion_coefficient,\n",
    "    'dynamics_diffusion_cov': true_diffusion_cov,\n",
    "    'dynamics_approx_order': 2., # Check on this later\n",
    "    'emission_function': true_emission,\n",
    "    'emission_cov': true_emission_cov,\n",
    "}"
   ]
  },
  {
   "cell_type": "markdown",
   "metadata": {
    "id": "33ISOI7QtWlP"
   },
   "source": [
    "# Simulation 1: Fast sample rate and modest initial state covariance"
   ]
  },
  {
   "cell_type": "markdown",
   "metadata": {},
   "source": [
    "### Simulation set-up"
   ]
  },
  {
   "cell_type": "code",
   "execution_count": 23,
   "metadata": {},
   "outputs": [],
   "source": [
    "# Simulation parameters\n",
    "T_total = 50\n",
    "num_timesteps_total = 5000\n",
    "\n",
    "# We collect measurements at irregular times sampled uniformly from a time domain $[0,40]$.\n",
    "sim1_t = jnp.array(\n",
    "        sorted(\n",
    "            jr.uniform(\n",
    "                jr.PRNGKey(0),\n",
    "                (num_timesteps_total, 1),\n",
    "                minval=0,\n",
    "                maxval=T_total\n",
    "            )\n",
    "        )\n",
    "    )\n",
    "# drop duplicates\n",
    "sim1_t = jnp.unique(sim1_t)[:, None]\n",
    "\n",
    "# Separate filtering and forecasting time points\n",
    "T_filter = 40\n",
    "sim1_t_filter = sim1_t[sim1_t <= T_filter, None]\n",
    "sim1_t_forecast = sim1_t[sim1_t > T_filter, None]\n",
    "\n",
    "# Count number of time points\n",
    "sim1_num_timesteps = len(sim1_t)\n",
    "sim1_num_timesteps_filter = len(sim1_t_filter)\n",
    "sim1_num_timesteps_forecast = len(sim1_t_forecast)\n",
    "\n",
    "# Set up seed for simulation\n",
    "keys = map(jr.PRNGKey, count())"
   ]
  },
  {
   "cell_type": "markdown",
   "metadata": {},
   "source": [
    "### Model creation: object instantiation, with modest initial state covariance"
   ]
  },
  {
   "cell_type": "code",
   "execution_count": 5,
   "metadata": {},
   "outputs": [],
   "source": [
    "sim1_state_sd = 10.0\n",
    "sim1_initial_cov_param = {\n",
    "    \"params\": LearnableMatrix(\n",
    "        params=sim1_state_sd**2 *jnp.eye(state_dim)\n",
    "    ),\n",
    "    \"props\": LearnableMatrix(\n",
    "        params=ParameterProperties(\n",
    "            constrainer=RealToPSDBijector()\n",
    "        )\n",
    "    ),\n",
    "}\n",
    "\n",
    "# Concatenate all parameters in dictionary, for later easy use\n",
    "all_sim1_params = {\n",
    "    'initial_mean': true_initial_mean,\n",
    "    'initial_cov': sim1_initial_cov_param,\n",
    "    'dynamics_drift': true_drift,\n",
    "    'dynamics_diffusion_coefficient': true_diffusion_coefficient,\n",
    "    'dynamics_diffusion_cov': true_diffusion_cov,\n",
    "    'dynamics_approx_order': 2., # Check on this later\n",
    "    'emission_function': true_emission,\n",
    "    'emission_cov': true_emission_cov,\n",
    "}\n",
    "\n",
    "# Create CD-NLGSSM model\n",
    "sim1_model = ContDiscreteNonlinearGaussianSSM(state_dim, emission_dim)\n",
    "sim1_params, _ = sim1_model.initialize(\n",
    "    next(keys),\n",
    "    **all_sim1_params\n",
    ")"
   ]
  },
  {
   "cell_type": "markdown",
   "metadata": {},
   "source": [
    "### Simulate data: sample from model"
   ]
  },
  {
   "cell_type": "code",
   "execution_count": null,
   "metadata": {},
   "outputs": [],
   "source": [
    "# sample true states and emissions from defined true model.\n",
    "# Using transition_type=\"path\" to solve the dynamics SDE.\n",
    "sim1_states, sim1_emissions = sim1_model.sample(\n",
    "    sim1_params,\n",
    "    next(keys),\n",
    "    sim1_num_timesteps,\n",
    "    sim1_t,\n",
    "    transition_type=\"path\" # uses the Euler-Maruyama method\n",
    ")"
   ]
  },
  {
   "cell_type": "markdown",
   "metadata": {},
   "source": [
    "### Plot generated data"
   ]
  },
  {
   "cell_type": "code",
   "execution_count": null,
   "metadata": {},
   "outputs": [],
   "source": [
    "plot_advanced(\n",
    "    time_grid_all=sim1_t,\n",
    "    time_grid_filter=sim1_t_filter,\n",
    "    time_grid_forecast=sim1_t_forecast,\n",
    "    true_states=sim1_states,\n",
    "    true_emissions_noisy=sim1_emissions,\n",
    "    emission_function=sim1_params.emissions.emission_function\n",
    ")"
   ]
  },
  {
   "cell_type": "markdown",
   "metadata": {},
   "source": [
    "### State estimation with Extended Kalman Filter"
   ]
  },
  {
   "cell_type": "code",
   "execution_count": 8,
   "metadata": {},
   "outputs": [],
   "source": [
    "# Filter: EKF\n",
    "from continuous_discrete_nonlinear_gaussian_ssm import EKFHyperParams"
   ]
  },
  {
   "cell_type": "code",
   "execution_count": 9,
   "metadata": {
    "colab": {
     "base_uri": "https://localhost:8080/",
     "height": 285
    },
    "id": "icfpJJs3ik2i",
    "outputId": "a068fcc5-f67e-494a-ad21-c868bcefd80b"
   },
   "outputs": [],
   "source": [
    "# Execute the EKF filter\n",
    "sim1_ekf_filtered = cdnlgssm_filter(\n",
    "    sim1_params,\n",
    "    sim1_emissions[:sim1_num_timesteps_filter], # Filter based on the first part of the data\n",
    "    sim1_t_filter,\n",
    "    hyperparams=EKFHyperParams()\n",
    ")\n"
   ]
  },
  {
   "cell_type": "code",
   "execution_count": null,
   "metadata": {},
   "outputs": [],
   "source": [
    "# Plot the true states and emissions, and the EKF estimates\n",
    "plot_advanced(\n",
    "        time_grid_all=sim1_t,\n",
    "        time_grid_filter=sim1_t_filter,\n",
    "        time_grid_forecast=sim1_t_forecast,\n",
    "        true_states=sim1_states,\n",
    "        true_emissions_noisy=sim1_emissions,\n",
    "        emission_function=sim1_params.emissions.emission_function,\n",
    "        model_filtered_states=sim1_ekf_filtered.filtered_means,\n",
    "        model_filtered_covariances=sim1_ekf_filtered.filtered_covariances,\n",
    "        t_start=None,\n",
    "        t_end=None,\n",
    "    )"
   ]
  },
  {
   "cell_type": "code",
   "execution_count": null,
   "metadata": {},
   "outputs": [],
   "source": [
    "### Compute and print RMSE between true states and EKF estimates\n",
    "compute_and_print_rmse_comparison(\n",
    "    sim1_states[:sim1_num_timesteps_filter, -1],\n",
    "    sim1_ekf_filtered.filtered_means[:,-1],\n",
    "    1,\n",
    "    \"EKF\"\n",
    ")"
   ]
  },
  {
   "cell_type": "code",
   "execution_count": null,
   "metadata": {},
   "outputs": [],
   "source": [
    "# EKF forecasting: Distributional forecast\n",
    "# Initialize at last filtered state\n",
    "from tensorflow_probability.substrates.jax.distributions import MultivariateNormalFullCovariance as MVN\n",
    "ekf_init_forecast = MVN(\n",
    "    sim1_ekf_filtered.filtered_means[-1,:],\n",
    "    sim1_ekf_filtered.filtered_covariances[-1,:]\n",
    ")\n",
    "\n",
    "# With this mean and covariance\n",
    "print(ekf_init_forecast.mean())\n",
    "print(ekf_init_forecast.covariance())\n"
   ]
  },
  {
   "cell_type": "code",
   "execution_count": 13,
   "metadata": {},
   "outputs": [],
   "source": [
    "# Execute the EKF forecast, using the last filtered state as initial forecast\n",
    "sim1_ekf_forecast = cdnlgssm_forecast(\n",
    "    params = sim1_params,\n",
    "    init_forecast = ekf_init_forecast,\n",
    "    t_emissions=sim1_t_forecast,\n",
    "    hyperparams=EKFHyperParams()\n",
    ")"
   ]
  },
  {
   "cell_type": "code",
   "execution_count": null,
   "metadata": {},
   "outputs": [],
   "source": [
    "sim1_t_forecast"
   ]
  },
  {
   "cell_type": "code",
   "execution_count": null,
   "metadata": {},
   "outputs": [],
   "source": [
    "sim1_t_forecast.shape, sim1_ekf_forecast.forecasted_state_means.shape"
   ]
  },
  {
   "cell_type": "code",
   "execution_count": null,
   "metadata": {},
   "outputs": [],
   "source": [
    "# Plot the true states and emissions, and the EKF estimates\n",
    "for (t_start, t_end) in [(None, None), (T_filter, T_total)]:\n",
    "    plot_advanced(\n",
    "            time_grid_all=sim1_t,\n",
    "            time_grid_filter=sim1_t_filter,\n",
    "            time_grid_forecast=sim1_t_forecast,\n",
    "            true_states=sim1_states,\n",
    "            true_emissions_noisy=sim1_emissions,\n",
    "            emission_function=sim1_params.emissions.emission_function,\n",
    "            model_filtered_states=sim1_ekf_filtered.filtered_means,\n",
    "            model_filtered_covariances=sim1_ekf_filtered.filtered_covariances,\n",
    "            model_forecast_states=sim1_ekf_forecast.forecasted_state_means,\n",
    "            model_forecast_covariances=sim1_ekf_forecast.forecasted_state_covariances,\n",
    "            t_start=t_start,\n",
    "            t_end=t_end,\n",
    "        )"
   ]
  },
  {
   "cell_type": "code",
   "execution_count": 24,
   "metadata": {},
   "outputs": [],
   "source": [
    "# EKF forecasting: Path-based forecast\n",
    "# Initialize at last filtered state mean\n",
    "init_path_forecast = sim1_ekf_filtered.filtered_means[-1,:]"
   ]
  },
  {
   "cell_type": "code",
   "execution_count": 25,
   "metadata": {},
   "outputs": [],
   "source": [
    "# Execute the forecast, using EKF's last filtered mean state as initial forecast\n",
    "sim1_forecast_ekf_path = cdnlgssm_forecast(\n",
    "    params = sim1_params,\n",
    "    init_forecast = init_path_forecast,\n",
    "    t_emissions=sim1_t_forecast,\n",
    "    hyperparams=None,\n",
    "    key = next(keys)\n",
    ")"
   ]
  },
  {
   "cell_type": "code",
   "execution_count": null,
   "metadata": {},
   "outputs": [],
   "source": [
    "# Plot the true states and emissions, and the EKF estimates\n",
    "for (t_start, t_end) in [(None, None), (T_filter, T_total)]:\n",
    "    plot_advanced(\n",
    "            time_grid_all=sim1_t,\n",
    "            time_grid_filter=sim1_t_filter,\n",
    "            time_grid_forecast=sim1_t_forecast,\n",
    "            true_states=sim1_states,\n",
    "            true_emissions_noisy=sim1_emissions,\n",
    "            emission_function=sim1_params.emissions.emission_function,\n",
    "            model_filtered_states=sim1_ekf_filtered.filtered_means,\n",
    "            model_filtered_covariances=sim1_ekf_filtered.filtered_covariances,\n",
    "            model_forecast_states=sim1_forecast_ekf_path.forecasted_state_path,\n",
    "            t_start=t_start,\n",
    "            t_end=t_end,\n",
    "        )"
   ]
  },
  {
   "cell_type": "code",
   "execution_count": null,
   "metadata": {},
   "outputs": [],
   "source": []
  },
  {
   "cell_type": "markdown",
   "metadata": {},
   "source": [
    "### State estimation with Ensemble Kalman Filter"
   ]
  },
  {
   "cell_type": "code",
   "execution_count": 15,
   "metadata": {},
   "outputs": [],
   "source": [
    "# Filter: EnKF\n",
    "from continuous_discrete_nonlinear_gaussian_ssm import EnKFHyperParams"
   ]
  },
  {
   "cell_type": "code",
   "execution_count": 16,
   "metadata": {},
   "outputs": [],
   "source": [
    "# Execute the EnKF filter\n",
    "sim1_enkf_filtered = cdnlgssm_filter(\n",
    "    sim1_params,\n",
    "    sim1_emissions[:sim1_num_timesteps_filter], # Filter based on the first part of the data\n",
    "    sim1_t_filter,\n",
    "    hyperparams=EnKFHyperParams()\n",
    ")\n"
   ]
  },
  {
   "cell_type": "code",
   "execution_count": null,
   "metadata": {},
   "outputs": [],
   "source": [
    "# Plot the true states and emissions, and the EKF estimates\n",
    "plot_advanced(\n",
    "        time_grid_all=sim1_t,\n",
    "        time_grid_filter=sim1_t_filter,\n",
    "        time_grid_forecast=sim1_t_forecast,\n",
    "        true_states=sim1_states,\n",
    "        true_emissions_noisy=sim1_emissions,\n",
    "        emission_function=sim1_params.emissions.emission_function,\n",
    "        model_filtered_states=sim1_ekf_filtered.filtered_means,\n",
    "        model_filtered_covariances=sim1_ekf_filtered.filtered_covariances,\n",
    "        t_start=None,\n",
    "        t_end=None,\n",
    "    )"
   ]
  },
  {
   "cell_type": "code",
   "execution_count": null,
   "metadata": {},
   "outputs": [],
   "source": [
    "compute_and_print_rmse_comparison(\n",
    "    sim1_states[:sim1_num_timesteps_filter, -1],\n",
    "    sim1_ekf_filtered.filtered_means[:,-1],\n",
    "    1,\n",
    "    \"EKF\"\n",
    ")"
   ]
  },
  {
   "cell_type": "code",
   "execution_count": null,
   "metadata": {},
   "outputs": [],
   "source": [
    "# EnKF forecasting\n",
    "# Initialize at last filtered state\n",
    "from tensorflow_probability.substrates.jax.distributions import MultivariateNormalFullCovariance as MVN\n",
    "enkf_init_forecast = MVN(\n",
    "    sim1_enkf_filtered.filtered_means[-1,:],\n",
    "    sim1_enkf_filtered.filtered_covariances[-1,:]\n",
    ")\n",
    "\n",
    "# With this mean and covariance\n",
    "print(enkf_init_forecast.mean())\n",
    "print(enkf_init_forecast.covariance())\n"
   ]
  },
  {
   "cell_type": "code",
   "execution_count": 20,
   "metadata": {},
   "outputs": [],
   "source": [
    "# Execute the EKF forecast, using the last filtered state as initial forecast\n",
    "sim1_enkf_forecast = cdnlgssm_forecast(\n",
    "    params = sim1_params,\n",
    "    init_forecast = enkf_init_forecast,\n",
    "    t_emissions=sim1_t_forecast,\n",
    "    hyperparams=EnKFHyperParams()\n",
    ")"
   ]
  },
  {
   "cell_type": "code",
   "execution_count": null,
   "metadata": {},
   "outputs": [],
   "source": [
    "# Plot the true states and emissions, and the EKF estimates\n",
    "for (t_start, t_end) in [(None, None), (T_filter, T_total)]:\n",
    "    plot_advanced(\n",
    "            time_grid_all=sim1_t,\n",
    "            time_grid_filter=sim1_t_filter,\n",
    "            time_grid_forecast=sim1_t_forecast,\n",
    "            true_states=sim1_states,\n",
    "            true_emissions_noisy=sim1_emissions,\n",
    "            emission_function=sim1_params.emissions.emission_function,\n",
    "            model_filtered_states=sim1_enkf_filtered.filtered_means,\n",
    "            model_filtered_covariances=sim1_enkf_filtered.filtered_covariances,\n",
    "            model_forecast_states=sim1_enkf_forecast.forecasted_state_means,\n",
    "            model_forecast_covariances=sim1_enkf_forecast.forecasted_state_covariances,\n",
    "            t_start=t_start,\n",
    "            t_end=t_end,\n",
    "        )"
   ]
  },
  {
   "cell_type": "markdown",
   "metadata": {},
   "source": [
    "### State estimation with Uscented Kalman Filter"
   ]
  },
  {
   "cell_type": "code",
   "execution_count": 22,
   "metadata": {},
   "outputs": [],
   "source": [
    "# Filter: UKF\n",
    "from continuous_discrete_nonlinear_gaussian_ssm import UKFHyperParams"
   ]
  },
  {
   "cell_type": "code",
   "execution_count": 23,
   "metadata": {},
   "outputs": [],
   "source": [
    "# Execute the UKF filter\n",
    "sim1_ukf_filtered = cdnlgssm_filter(\n",
    "    sim1_params,\n",
    "    sim1_emissions,\n",
    "    sim1_t_filter,\n",
    "    hyperparams=UKFHyperParams()\n",
    ")\n"
   ]
  },
  {
   "cell_type": "code",
   "execution_count": null,
   "metadata": {},
   "outputs": [],
   "source": [
    "# Plot the true states and emissions, and the UKF estimates\n",
    "plot_advanced(\n",
    "        time_grid_all=sim1_t,\n",
    "        time_grid_filter=sim1_t_filter,\n",
    "        time_grid_forecast=sim1_t_forecast,\n",
    "        true_states=sim1_states,\n",
    "        true_emissions_noisy=sim1_emissions,\n",
    "        emission_function=sim1_params.emissions.emission_function,\n",
    "        model_filtered_states=sim1_ukf_filtered.filtered_means,\n",
    "        model_filtered_covariances=sim1_ukf_filtered.filtered_covariances,\n",
    "        t_start=None,\n",
    "        t_end=None,\n",
    "    )"
   ]
  },
  {
   "cell_type": "code",
   "execution_count": null,
   "metadata": {},
   "outputs": [],
   "source": [
    "### Compute and print RMSE between true states and EKF estimates\n",
    "compute_and_print_rmse_comparison(\n",
    "    sim1_states[:sim1_num_timesteps_filter, -1],\n",
    "    sim1_ukf_filtered.filtered_means[:,-1],\n",
    "    1,\n",
    "    \"UKF\"\n",
    ")"
   ]
  },
  {
   "cell_type": "code",
   "execution_count": null,
   "metadata": {},
   "outputs": [],
   "source": [
    "# UKF forecasting\n",
    "# Initialize at last filtered state\n",
    "from tensorflow_probability.substrates.jax.distributions import MultivariateNormalFullCovariance as MVN\n",
    "ukf_init_forecast = MVN(\n",
    "    sim1_ukf_filtered.filtered_means[-1,:],\n",
    "    sim1_ukf_filtered.filtered_covariances[-1,:]\n",
    ")\n",
    "\n",
    "# With this mean and covariance\n",
    "print(ukf_init_forecast.mean())\n",
    "print(ukf_init_forecast.covariance())\n"
   ]
  },
  {
   "cell_type": "code",
   "execution_count": 27,
   "metadata": {},
   "outputs": [],
   "source": [
    "# Execute the EKF forecast, using the last filtered state as initial forecast\n",
    "sim1_ukf_forecast = cdnlgssm_forecast(\n",
    "    params = sim1_params,\n",
    "    init_forecast = ukf_init_forecast,\n",
    "    t_emissions=sim1_t_forecast,\n",
    "    hyperparams=UKFHyperParams()\n",
    ")"
   ]
  },
  {
   "cell_type": "code",
   "execution_count": null,
   "metadata": {},
   "outputs": [],
   "source": [
    "sim1_ukf_forecast.forecasted_emission_means"
   ]
  },
  {
   "cell_type": "code",
   "execution_count": null,
   "metadata": {},
   "outputs": [],
   "source": [
    "# Plot the true states and emissions, and the UKF estimates\n",
    "for (t_start, t_end) in [(None, None), (T_filter, T_total)]:\n",
    "    plot_advanced(\n",
    "            time_grid_all=sim1_t,\n",
    "            time_grid_filter=sim1_t_filter,\n",
    "            time_grid_forecast=sim1_t_forecast,\n",
    "            true_states=sim1_states,\n",
    "            true_emissions_noisy=sim1_emissions,\n",
    "            emission_function=sim1_params.emissions.emission_function,\n",
    "            model_filtered_states=sim1_ukf_filtered.filtered_means,\n",
    "            model_filtered_covariances=sim1_ukf_filtered.filtered_covariances,\n",
    "            model_forecast_states=sim1_ukf_forecast.forecasted_state_means,\n",
    "            model_forecast_covariances=sim1_ukf_forecast.forecasted_state_covariances,\n",
    "            t_start=t_start,\n",
    "            t_end=t_end,\n",
    "        )"
   ]
  },
  {
   "cell_type": "markdown",
   "metadata": {},
   "source": [
    "# Simulation 2: Slow sample rate and larger initial state covariance"
   ]
  },
  {
   "cell_type": "markdown",
   "metadata": {},
   "source": [
    "### Simulation set-up"
   ]
  },
  {
   "cell_type": "code",
   "execution_count": 23,
   "metadata": {},
   "outputs": [],
   "source": [
    "# Simulation parameters\n",
    "T = 40\n",
    "num_timesteps = 400\n",
    "\n",
    "# We collect measurements at irregular times sampled uniformly from a time domain $[0,40]$.\n",
    "sim2_t_emissions = jnp.array(\n",
    "        sorted(\n",
    "            jr.uniform(\n",
    "                jr.PRNGKey(0),\n",
    "                (num_timesteps, 1),\n",
    "                minval=0,\n",
    "                maxval=T\n",
    "            )\n",
    "        )\n",
    "    )\n",
    "# drop duplicates\n",
    "sim2_t_emissions = jnp.unique(sim2_t_emissions)[:, None]\n",
    "sim2_num_timesteps = len(sim2_t_emissions)\n",
    "\n",
    "# Set up seed for simulation\n",
    "keys = map(jr.PRNGKey, count())"
   ]
  },
  {
   "cell_type": "markdown",
   "metadata": {},
   "source": [
    "### Model creation: object instantiation, with modest initial state covariance"
   ]
  },
  {
   "cell_type": "code",
   "execution_count": 24,
   "metadata": {},
   "outputs": [],
   "source": [
    "sim2_state_sd = 20.0\n",
    "sim2_initial_cov_param = {\n",
    "    \"params\": LearnableMatrix(\n",
    "        params=sim2_state_sd**2 *jnp.eye(state_dim)\n",
    "    ),\n",
    "    \"props\": LearnableMatrix(\n",
    "        params=ParameterProperties(\n",
    "            constrainer=RealToPSDBijector()\n",
    "        )\n",
    "    ),\n",
    "}\n",
    "\n",
    "# Concatenate all parameters in dictionary, for later easy use\n",
    "all_sim2_params = {\n",
    "    'initial_mean': true_initial_mean,\n",
    "    'initial_cov': sim2_initial_cov_param,\n",
    "    'dynamics_drift': true_drift,\n",
    "    'dynamics_diffusion_coefficient': true_diffusion_coefficient,\n",
    "    'dynamics_diffusion_cov': true_diffusion_cov,\n",
    "    'dynamics_approx_order': 2., # Check on this later\n",
    "    'emission_function': true_emission,\n",
    "    'emission_cov': true_emission_cov,\n",
    "}\n",
    "\n",
    "# Create CD-NLGSSM model\n",
    "sim2_model = ContDiscreteNonlinearGaussianSSM(state_dim, emission_dim)\n",
    "sim2_params, _ = sim1_model.initialize(\n",
    "    next(keys),\n",
    "    **all_sim1_params\n",
    ")"
   ]
  },
  {
   "cell_type": "markdown",
   "metadata": {},
   "source": [
    "### Simulate data: sample from model"
   ]
  },
  {
   "cell_type": "code",
   "execution_count": null,
   "metadata": {},
   "outputs": [],
   "source": [
    "# sample true states and emissions from defined true model.\n",
    "# Using transition_type=\"path\" to solve the dynamics SDE.\n",
    "sim2_states, sim2_emissions = sim2_model.sample(\n",
    "    sim2_params,\n",
    "    next(keys),\n",
    "    sim2_num_timesteps,\n",
    "    sim2_t_emissions,\n",
    "    transition_type=\"path\" # uses the Euler-Maruyama method\n",
    ")"
   ]
  },
  {
   "cell_type": "markdown",
   "metadata": {},
   "source": [
    "### Plot generated data"
   ]
  },
  {
   "cell_type": "code",
   "execution_count": null,
   "metadata": {},
   "outputs": [],
   "source": [
    "plot_lorenz(\n",
    "    sim2_t_emissions,\n",
    "    sim2_states,\n",
    "    sim2_emissions\n",
    ")"
   ]
  },
  {
   "cell_type": "markdown",
   "metadata": {},
   "source": [
    "### State estimation with Extended Kalman Filter"
   ]
  },
  {
   "cell_type": "code",
   "execution_count": 27,
   "metadata": {},
   "outputs": [],
   "source": [
    "# Filter: EKF\n",
    "from continuous_discrete_nonlinear_gaussian_ssm import EKFHyperParams"
   ]
  },
  {
   "cell_type": "code",
   "execution_count": 28,
   "metadata": {},
   "outputs": [],
   "source": [
    "# Execute the EKF filter\n",
    "sim2_ekf_filtered = cdnlgssm_filter(\n",
    "    sim2_params,\n",
    "    sim2_emissions,\n",
    "    sim2_t_emissions,\n",
    "    hyperparams=EKFHyperParams()\n",
    ")\n"
   ]
  },
  {
   "cell_type": "code",
   "execution_count": null,
   "metadata": {},
   "outputs": [],
   "source": [
    "# Plot the true states and emissions, and the EKF estimates\n",
    "plot_advanced(\n",
    "    sim2_t_emissions,\n",
    "    sim2_states,\n",
    "    sim2_emissions,\n",
    "    x_est=sim2_ekf_filtered.filtered_means,\n",
    "    x_unc=sim2_ekf_filtered.filtered_covariances,\n",
    "    est_type=\"EKF\"\n",
    ")"
   ]
  },
  {
   "cell_type": "code",
   "execution_count": null,
   "metadata": {},
   "outputs": [],
   "source": [
    "### Compute and print RMSE between true states and EKF estimates\n",
    "compute_and_print_rmse_comparison(\n",
    "    sim2_states[:, -1],\n",
    "    sim2_ekf_filtered.filtered_means[:,-1],\n",
    "    1,\n",
    "    \"EKF\"\n",
    ")"
   ]
  },
  {
   "cell_type": "markdown",
   "metadata": {},
   "source": [
    "### State estimation with Ensemble Kalman Filter"
   ]
  },
  {
   "cell_type": "code",
   "execution_count": 31,
   "metadata": {},
   "outputs": [],
   "source": [
    "# Filter: EnKF\n",
    "from continuous_discrete_nonlinear_gaussian_ssm import EnKFHyperParams"
   ]
  },
  {
   "cell_type": "code",
   "execution_count": null,
   "metadata": {},
   "outputs": [],
   "source": [
    "# Execute the EnKF filter\n",
    "sim2_enkf_filtered = cdnlgssm_filter(\n",
    "    sim2_params,\n",
    "    sim2_emissions,\n",
    "    sim2_t_emissions,\n",
    "    hyperparams=EnKFHyperParams()\n",
    ")\n"
   ]
  },
  {
   "cell_type": "code",
   "execution_count": null,
   "metadata": {},
   "outputs": [],
   "source": [
    "# Plot the true states and emissions, and the EKF estimates\n",
    "plot_advanced(\n",
    "    sim2_t_emissions,\n",
    "    sim2_states,\n",
    "    sim2_emissions,\n",
    "    x_est=sim2_enkf_filtered.filtered_means,\n",
    "    x_unc=sim2_enkf_filtered.filtered_covariances,\n",
    "    est_type=\"EnKF\"\n",
    ")"
   ]
  },
  {
   "cell_type": "code",
   "execution_count": null,
   "metadata": {},
   "outputs": [],
   "source": [
    "### Compute and print RMSE between true states and EKF estimates\n",
    "compute_and_print_rmse_comparison(\n",
    "    sim2_states[:, -1],\n",
    "    sim2_enkf_filtered.filtered_means[:,-1],\n",
    "    1,\n",
    "    \"EnKF\"\n",
    ")"
   ]
  },
  {
   "cell_type": "markdown",
   "metadata": {},
   "source": [
    "### State estimation with Uscented Kalman Filter"
   ]
  },
  {
   "cell_type": "code",
   "execution_count": 32,
   "metadata": {},
   "outputs": [],
   "source": [
    "# Filter: UKF\n",
    "from continuous_discrete_nonlinear_gaussian_ssm import UKFHyperParams"
   ]
  },
  {
   "cell_type": "code",
   "execution_count": 33,
   "metadata": {},
   "outputs": [],
   "source": [
    "# Execute the UKF filter\n",
    "sim2_ukf_filtered = cdnlgssm_filter(\n",
    "    sim2_params,\n",
    "    sim2_emissions,\n",
    "    sim2_t_emissions,\n",
    "    hyperparams=UKFHyperParams()\n",
    ")\n"
   ]
  },
  {
   "cell_type": "code",
   "execution_count": null,
   "metadata": {},
   "outputs": [],
   "source": [
    "# Plot the true states and emissions, and the UKF estimates\n",
    "plot_advanced(\n",
    "    sim2_t_emissions,\n",
    "    sim2_states,\n",
    "    sim2_emissions,\n",
    "    x_est=sim2_ukf_filtered.filtered_means,\n",
    "    x_unc=sim2_ukf_filtered.filtered_covariances,\n",
    "    est_type=\"UKF\"\n",
    ")"
   ]
  },
  {
   "cell_type": "code",
   "execution_count": null,
   "metadata": {},
   "outputs": [],
   "source": [
    "### Compute and print RMSE between true states and EKF estimates\n",
    "compute_and_print_rmse_comparison(\n",
    "    sim2_states[:, -1],\n",
    "    sim2_ukf_filtered.filtered_means[:,-1],\n",
    "    1,\n",
    "    \"UKF\"\n",
    ")"
   ]
  }
 ],
 "metadata": {
  "colab": {
   "include_colab_link": true,
   "name": "pendulum.ipynb",
   "provenance": []
  },
  "kernelspec": {
   "display_name": "hduq_nodynamax",
   "language": "python",
   "name": "python3"
  },
  "language_info": {
   "codemirror_mode": {
    "name": "ipython",
    "version": 3
   },
   "file_extension": ".py",
   "mimetype": "text/x-python",
   "name": "python",
   "nbconvert_exporter": "python",
   "pygments_lexer": "ipython3",
   "version": "3.11.4"
  }
 },
 "nbformat": 4,
 "nbformat_minor": 1
}
