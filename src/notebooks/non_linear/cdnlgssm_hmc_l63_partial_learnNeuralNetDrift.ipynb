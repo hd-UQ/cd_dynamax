{
 "cells": [
  {
   "cell_type": "markdown",
   "metadata": {},
   "source": [
    "# Bayesian parameter estimation for an irregularly, noisily, and partially sampled non-linear SDE (Lorenz 63 w/ diffusion) via auto-differentiable non-linear filtering and HMC\n",
    "\n",
    "We show how to use the [blackjax](https://github.com/blackjax-devs/blackjax) libray to compute the parameter posterior $p(\\theta|y(1:T))$\n",
    "for non-linear model. We use the Extended Kalman filter to compute the marginal likelihood, $p(y(1:T) | \\theta) = \\int_{z(1:T)} p(z(1:T), y(1:T)|\\theta)$.\n",
    "\n"
   ]
  },
  {
   "cell_type": "markdown",
   "metadata": {},
   "source": [
    "CURRENT CHALLENGE: understand the source of NaN losses and gradients when running SGD.\n",
    "A resource: https://github.com/patrick-kidger/diffrax/issues/280"
   ]
  },
  {
   "cell_type": "markdown",
   "metadata": {},
   "source": [
    "## Setup"
   ]
  },
  {
   "cell_type": "code",
   "execution_count": 2,
   "metadata": {},
   "outputs": [
    {
     "name": "stderr",
     "output_type": "stream",
     "text": [
      "/opt/homebrew/anaconda3/envs/hduq_nodynamax/lib/python3.11/site-packages/equinox/_ad.py:733: UserWarning: As of Equinox 0.10.7, `equinox.filter_custom_vjp.defvjp` is deprecated in favour of `.def_fwd` and `.def_bwd`. This new API supports symbolic zeros, which allow for more efficient autodifferentiation rules. In particular:\n",
      "- the fwd and bwd functions take an extra `perturbed` argument, which     indicates which primals actually need a gradient. You can use this     to skip computing the gradient for any unperturbed value. (You can     also safely just ignore this if you wish.)\n",
      "- `None` was previously passed to indicate a symbolic zero gradient for     all objects that weren't inexact arrays, but all inexact arrays     always had an array-valued gradient. Now, `None` may also be passed     to indicate that an inexact array has a symbolic zero gradient.\n",
      "  warnings.warn(\n"
     ]
    }
   ],
   "source": [
    "import sys\n",
    "%matplotlib inline\n",
    "sys.path.append(\"../../..\")\n",
    "sys.path.append(\"../..\")\n",
    "\n",
    "import dynamax\n",
    "\n",
    "from jax import numpy as jnp\n",
    "from jax import vmap\n",
    "import jax.random as jr\n",
    "from matplotlib import pyplot as plt\n",
    "\n",
    "\n",
    "# use custom src codebase\n",
    "from utils.plotting_utils import *\n",
    "\n",
    "# from utils.utils import monotonically_increasing\n",
    "from continuous_discrete_nonlinear_gaussian_ssm import ContDiscreteNonlinearGaussianSSM\n",
    "from continuous_discrete_nonlinear_gaussian_ssm.models import *\n",
    "\n",
    "import blackjax\n"
   ]
  },
  {
   "cell_type": "code",
   "execution_count": 3,
   "metadata": {},
   "outputs": [],
   "source": [
    "from jax import random as  jr\n",
    "from jax import numpy as jnp\n",
    "from jax import jit, vmap\n",
    "from itertools import count\n",
    "\n",
    "from dynamax.parameters import log_det_jac_constrain\n",
    "\n",
    "import matplotlib.pyplot as plt\n",
    "import matplotlib\n",
    "matplotlib.rcParams['figure.figsize'] = [16, 9]"
   ]
  },
  {
   "cell_type": "markdown",
   "metadata": {},
   "source": [
    "## Generate synthetic training data"
   ]
  },
  {
   "cell_type": "code",
   "execution_count": 4,
   "metadata": {},
   "outputs": [
    {
     "name": "stdout",
     "output_type": "stream",
     "text": [
      "Sampling from SDE solver path (this may be an unnecessarily poor approximation if you're simulating from a linear SDE). It is an appropriate choice for non-linear SDEs.\n",
      "Log likelihood of true model (approximated by EKF): 153.0345458984375\n"
     ]
    }
   ],
   "source": [
    "# Simulate synthetic data from true model\n",
    "state_dim = 3\n",
    "emission_dim = 1\n",
    "num_sequences = 1000\n",
    "T = 1\n",
    "num_timesteps = int(T / 0.01)\n",
    "t_emissions = jnp.array(sorted(jr.uniform(jr.PRNGKey(0), (num_timesteps, 1), minval=0, maxval=T)))\n",
    "# drop duplicates\n",
    "t_emissions = jnp.unique(t_emissions)[:,None]\n",
    "num_timesteps = len(t_emissions)\n",
    "keys = map(jr.PRNGKey, count())\n",
    "\n",
    "# Create a model with oscillatory dynamics\n",
    "## GOAL is to only learn parameters of the drift function and assume all other parameters are known.\n",
    "\n",
    "\n",
    "dynamics_drift = {\n",
    "    \"params\": LearnableLorenz63(sigma=10.0, rho=28.0, beta=8/3),\n",
    "    \"props\": LearnableLorenz63(sigma=ParameterProperties(),\n",
    "                               rho=ParameterProperties(),\n",
    "                               beta=ParameterProperties()) \n",
    "}\n",
    "\n",
    "dynamics_diffusion_coefficient = {\n",
    "    \"params\": LearnableMatrix(params=jnp.eye(state_dim)),\n",
    "    \"props\": LearnableMatrix(params=ParameterProperties(trainable=False))\n",
    "}\n",
    "\n",
    "dynamics_diffusion_cov = {\n",
    "    \"params\": LearnableMatrix(params=jnp.eye(state_dim)),\n",
    "    \"props\": LearnableMatrix(params=ParameterProperties(constrainer=RealToPSDBijector(), trainable=False))\n",
    "}\n",
    "\n",
    "emission_function = {\n",
    "    \"params\": LearnableLinear(weights=jnp.eye(emission_dim, state_dim), bias=jnp.zeros(emission_dim)),\n",
    "    \"props\": LearnableLinear(weights=ParameterProperties(trainable=False), bias=ParameterProperties(trainable=False))\n",
    "}\n",
    "\n",
    "emission_cov = {\n",
    "    \"params\": LearnableMatrix(params=jnp.eye(emission_dim)),\n",
    "    \"props\": LearnableMatrix(params=ParameterProperties(constrainer=RealToPSDBijector(), trainable=False))\n",
    "}\n",
    "\n",
    "initial_mean = {\"params\": jnp.zeros(state_dim),\n",
    "                \"props\": ParameterProperties(trainable=False)}\n",
    "\n",
    "initial_cov = {\"params\": 100*jnp.eye(state_dim),\n",
    "                \"props\": ParameterProperties(trainable=False, constrainer=RealToPSDBijector())}\n",
    "\n",
    "\n",
    "true_model = ContDiscreteNonlinearGaussianSSM(state_dim, emission_dim)\n",
    "true_params, true_props = true_model.initialize(\n",
    "    next(keys),\n",
    "    initial_mean=initial_mean,\n",
    "    initial_cov=initial_cov,\n",
    "    dynamics_drift=dynamics_drift,\n",
    "    dynamics_diffusion_coefficient=dynamics_diffusion_coefficient,\n",
    "    dynamics_diffusion_cov=dynamics_diffusion_cov,\n",
    "    emission_function=emission_function,\n",
    "    emission_cov=emission_cov,\n",
    ")\n",
    "\n",
    "# sample true states and emissions. Using transition_type=\"path\" to solve SDE.\n",
    "# true_states, emissions = true_model.sample(true_params, next(keys), num_timesteps, t_emissions)\n",
    "# true_states, emissions = true_model.sample(true_params, next(keys), num_timesteps, t_emissions, transition_type=\"path\")\n",
    "true_states, emissions = true_model.sample_batch(\n",
    "    true_params, next(keys), num_sequences, num_timesteps, t_emissions, transition_type=\"path\"\n",
    ")\n",
    "\n",
    "# compute the log likelihood of the true model\n",
    "## WARNING: only computing it for the first sequence\n",
    "# this is to avoid batching for now...\n",
    "first_emissions = emissions[0]\n",
    "ll_true = true_model.marginal_log_prob(\n",
    "    params=true_params, filter_hyperparams=EKFHyperParams(), emissions=first_emissions, t_emissions=t_emissions\n",
    ")\n",
    "print(f\"Log likelihood of true model (approximated by EKF): {-ll_true}\")\n",
    "\n",
    "# normalize the emissions by subtracting the mean and dividing by the standard deviation\n",
    "# emissions_std = emissions.std(axis=(0,1))\n",
    "# emissions_mean = emissions.mean(axis=(0,1))\n",
    "# emissions = (emissions - emissions_mean) / emissions_std\n",
    "\n",
    "# normalize the states by subtracting the mean and dividing by the standard deviation\n",
    "# true_states_std = true_states.std(axis=(0,1))\n",
    "# true_states_mean = true_states.mean(axis=(0,1))\n",
    "# true_states = (true_states - true_states_mean) / true_states_std\n",
    "\n",
    "# compute normalized covariances\n",
    "# emission_cov_normalized = {\n",
    "#     \"params\": LearnableMatrix(params=emission_cov[\"params\"].params / emissions_std**2),\n",
    "#     \"props\": emission_cov[\"props\"],\n",
    "# }\n",
    "\n",
    "# initial_cov_normalized = {\n",
    "#     \"params\": jnp.eye(state_dim),\n",
    "#     \"props\": initial_cov[\"props\"]\n",
    "# }"
   ]
  },
  {
   "cell_type": "code",
   "execution_count": 5,
   "metadata": {},
   "outputs": [],
   "source": [
    "def plot_results(emissions, smoothed_emissions, smoothed_emissions_std):\n",
    "    # all arrays are (T, E) dimensional, T=ntime, E=emission_dim\n",
    "    spc = 3\n",
    "    plt.figure(figsize=(10, 4))\n",
    "    for i in range(emissions.shape[1]):\n",
    "        plt.plot(emissions[:, i] + spc * i, \"--k\", label=\"observed\" if i == 0 else None)\n",
    "        ln = plt.plot(smoothed_emissions[:, i] + spc * i,\n",
    "                    label=\"smoothed\" if i == 0 else None)[0]\n",
    "        plt.fill_between(\n",
    "            jnp.arange(num_timesteps),\n",
    "            spc * i + smoothed_emissions[:, i] - 2 * smoothed_emissions_std[:, i],\n",
    "            spc * i + smoothed_emissions[:, i] + 2 * smoothed_emissions_std[:, i],\n",
    "            color=ln.get_color(),\n",
    "            alpha=0.25,\n",
    "        )\n",
    "    plt.xlabel(\"time\")\n",
    "    plt.xlim(0, num_timesteps - 1)\n",
    "    plt.ylabel(\"true and predicted emissions\")\n",
    "    plt.legend()"
   ]
  },
  {
   "cell_type": "code",
   "execution_count": 6,
   "metadata": {},
   "outputs": [
    {
     "data": {
      "image/png": "[encoded data removed]",
      "text/plain": [
       "<Figure size 1000x400 with 1 Axes>"
      ]
     },
     "metadata": {},
     "output_type": "display_data"
    }
   ],
   "source": [
    "# plot results\n",
    "plot_results(true_states[0], true_states[0], 0.1 * jnp.ones_like(true_states[0]))  # fake posterior variance"
   ]
  },
  {
   "cell_type": "code",
   "execution_count": 7,
   "metadata": {},
   "outputs": [
    {
     "data": {
      "image/png": "[encoded data removed]",
      "text/plain": [
       "<Figure size 1000x400 with 1 Axes>"
      ]
     },
     "metadata": {},
     "output_type": "display_data"
    }
   ],
   "source": [
    "# plot results\n",
    "plot_results(emissions[0], emissions[0], 0.1 * jnp.ones_like(emissions[0]))  # fake posterior variance"
   ]
  },
  {
   "cell_type": "markdown",
   "metadata": {},
   "source": [
    "## Create a class for a learnable neural network, which we will use to parameterize the drift function"
   ]
  },
  {
   "cell_type": "code",
   "execution_count": 8,
   "metadata": {},
   "outputs": [
    {
     "name": "stdout",
     "output_type": "stream",
     "text": [
      "Warning: cheating by using the true states mean and std to normalize the states.\n"
     ]
    }
   ],
   "source": [
    "from typing import NamedTuple, Tuple, Optional, Union\n",
    "from flax import linen as nn\n",
    "from jax import jit\n",
    "\n",
    "# define a normalizer class which stores the mean and standard deviation of the data\n",
    "# it will have a method to normalize the data and another to denormalize it\n",
    "class Normalizer(NamedTuple):\n",
    "    mean: jnp.ndarray\n",
    "    std: jnp.ndarray\n",
    "\n",
    "    def normalize(self, data):\n",
    "        return (data - self.mean) / self.std\n",
    "\n",
    "    def denormalize(self, data):\n",
    "        return data * self.std + self.mean\n",
    "\n",
    "print(\"Warning: cheating by using the true states mean and std to normalize the states.\")\n",
    "my_normalizer = Normalizer(mean=true_states.mean(axis=(0,1)), std=true_states.std(axis=(0,1)))\n",
    "\n",
    "@jit\n",
    "def adjust_rhs(x, rhs, lower_bound=-100, upper_bound=100, espilon=1e-10):\n",
    "    \"\"\"\n",
    "    Adjust the right-hand side of the ODE to ensure that the state \n",
    "    remains within the bounds [-100, 100]\n",
    "    \"\"\"\n",
    "\n",
    "    ## NB: Can use jax.lax.clamp to do this more efficiently\n",
    "    \n",
    "\n",
    "    # Use a small epsilon to ensure numerical stability\n",
    "    # Smoothly adjust the bounds to avoid gradient discontinuities\n",
    "    # safe_lower_bound = jnp.where(x <= lower_bound, lower_bound + epsilon, x)\n",
    "    # safe_upper_bound = jnp.where(x >= upper_bound, upper_bound - epsilon, x)\n",
    "\n",
    "    # Conditionally adjust rhs using the safe bounds\n",
    "    # rhs = jnp.where(safe_lower_bound <= lower_bound, jnp.maximum(rhs, 0), rhs)\n",
    "    # rhs = jnp.where(safe_upper_bound >= upper_bound, jnp.minimum(rhs, 0), rhs)\n",
    "\n",
    "    # adjust_min = x <= lower_bound\n",
    "    # adjust_max = x >= upper_bound\n",
    "    # rhs = jnp.where(adjust_min, jnp.maximum(rhs, 0), rhs)\n",
    "    # rhs = jnp.where(adjust_max, jnp.minimum(rhs, 0), rhs)\n",
    "    return rhs\n",
    "\n",
    "\n",
    "class LearnableNN_TwoLayerGeLU(NamedTuple):\n",
    "    \"\"\"Two-layer neural network with Gaussian Error Linear Units\n",
    "    weights1: weights of the first layer\n",
    "    bias1: bias of the first layer\n",
    "    weights2: weights of the second layer\n",
    "    bias2: bias of the second layer\n",
    "\n",
    "    f(x) = weights2 @ gelu(weights1 @ x + bias1) + bias2\n",
    "    \"\"\"\n",
    "\n",
    "    weights1: Union[Float[Array, \"hidden_dim input_dim\"], ParameterProperties]\n",
    "    bias1: Union[Float[Array, \"hidden_dim\"], ParameterProperties]\n",
    "    weights2: Union[Float[Array, \"output_dim hidden_dim\"], ParameterProperties]\n",
    "    bias2: Union[Float[Array, \"output_dim\"], ParameterProperties]\n",
    "    scale: Union[Float, ParameterProperties]\n",
    "\n",
    "    def f(self, x, u=None, t=None):\n",
    "        '''This rhs operates in original space, so we need to normalize the input x first.'''\n",
    "\n",
    "        # # first, clamp all x components to be within [-100, 100]\n",
    "        # x = jnp.clip(x, -100, 100)\n",
    "        x_normalized = my_normalizer.normalize(x)\n",
    "\n",
    "        # compute derivative given by NN\n",
    "        rhs = self.weights2 @ nn.gelu(self.weights1 @ x_normalized + self.bias1) + self.bias2\n",
    "\n",
    "        # un-normalize the rhs and multiply by 10^scale\n",
    "        rhs = rhs * my_normalizer.std * jnp.power(10, self.scale)\n",
    "\n",
    "        return adjust_rhs(x, rhs)"
   ]
  },
  {
   "cell_type": "markdown",
   "metadata": {},
   "source": [
    "## Build initial weights and biases for Neural Network drift function"
   ]
  },
  {
   "cell_type": "code",
   "execution_count": 9,
   "metadata": {},
   "outputs": [],
   "source": [
    "# Draw weights and biases from a normal distribution with hidden_dim=64, input_dim=state_dim, output_dim=state_dim\n",
    "hidden_dim = 50\n",
    "nn_drift = {\n",
    "    \"params\": LearnableNN_TwoLayerGeLU(\n",
    "        weights1=jnp.sqrt(2.0 / state_dim) * jr.normal(next(keys), (hidden_dim, state_dim)),\n",
    "        bias1=jnp.zeros((hidden_dim,)),\n",
    "        weights2=jnp.sqrt(2.0 / hidden_dim) * jr.normal(next(keys), (state_dim, hidden_dim)),\n",
    "        bias2=jnp.zeros((state_dim,)),\n",
    "        scale=jnp.zeros(())\n",
    "    ),\n",
    "    \"props\": LearnableNN_TwoLayerGeLU(\n",
    "        weights1=ParameterProperties(trainable=True),\n",
    "        bias1=ParameterProperties(trainable=True),\n",
    "        weights2=ParameterProperties(trainable=True),\n",
    "        bias2=ParameterProperties(trainable=True),\n",
    "        scale=ParameterProperties(trainable=True)\n",
    "    ),\n",
    "}"
   ]
  },
  {
   "cell_type": "markdown",
   "metadata": {},
   "source": [
    "## Baseline method: use SGD to compute MLE"
   ]
  },
  {
   "cell_type": "code",
   "execution_count": 10,
   "metadata": {},
   "outputs": [],
   "source": [
    "# Initilize parameters by fitting SGD algorithm\n",
    "from continuous_discrete_nonlinear_gaussian_ssm import cdnlgssm_filter\n",
    "from continuous_discrete_nonlinear_gaussian_ssm import *\n",
    "from continuous_discrete_nonlinear_gaussian_ssm.models import *\n",
    "num_epochs = 20\n",
    "\n",
    "# filter_hyperparams = EnKFHyperParams(N_particles=30)\n",
    "filter_hyperparams = EKFHyperParams(state_order='first')\n",
    "\n",
    "test_model = ContDiscreteNonlinearGaussianSSM(state_dim, emission_dim)\n",
    "\n",
    "initial_params, param_props = test_model.initialize(\n",
    "    next(keys),\n",
    "    initial_mean=initial_mean,\n",
    "    initial_cov=initial_cov,\n",
    "    dynamics_drift=nn_drift, # ONLY DIFFERENCE FROM TRUE MODEL\n",
    "    dynamics_diffusion_coefficient=dynamics_diffusion_coefficient,\n",
    "    dynamics_diffusion_cov=dynamics_diffusion_cov,\n",
    "    emission_function=emission_function,\n",
    "    emission_cov=emission_cov,\n",
    ")\n",
    "\n",
    "import optax\n",
    "\n",
    "# define a learning rate scheduler\n",
    "initial_learning_rate = 1e-1\n",
    "decay_factor = 0.1  # Decay the learning rate by a factor of 10\n",
    "epochs_per_step = 25  # Number of epochs per decay step\n",
    "\n",
    "# Define the boundaries where the decay should happen\n",
    "# In this case, every 20 epochs\n",
    "boundaries = [epochs_per_step * i for i in range(1, num_epochs // epochs_per_step + 1)]\n",
    "\n",
    "# Define the values of the learning rates at each boundary\n",
    "values = [initial_learning_rate * (decay_factor**i) for i in range(len(boundaries) + 1)]\n",
    "\n",
    "# Create a step decay learning rate schedule\n",
    "scheduler = optax.piecewise_constant_schedule(\n",
    "    init_value=initial_learning_rate, boundaries_and_scales={boundary: decay_factor for boundary in boundaries}\n",
    ")\n",
    "\n",
    "# define an optimizer with a learning rate of 1e-1 and gradient clipping\n",
    "optimizer = optax.chain(\n",
    "    optax.clip_by_global_norm(1.0),\n",
    "    optax.scale_by_adam(),\n",
    "    optax.scale_by_schedule(scheduler),  # Use the learning rate from the scheduler.\n",
    "    optax.scale(-1.0),\n",
    ")\n",
    "\n",
    "fitted_params, fitted_params_history, grad_history, marginal_lls = true_model.fit_sgd(\n",
    "    # true_params,\n",
    "    # true_props,\n",
    "    initial_params,\n",
    "    param_props,\n",
    "    emissions,\n",
    "    filter_hyperparams=filter_hyperparams,\n",
    "    t_emissions=t_emissions,\n",
    "    num_epochs=num_epochs,\n",
    "    optimizer=optimizer,\n",
    "    return_param_history=True,\n",
    "    return_grad_history=True,\n",
    "    batch_size=num_sequences,\n",
    ")"
   ]
  },
  {
   "cell_type": "code",
   "execution_count": 11,
   "metadata": {},
   "outputs": [
    {
     "data": {
      "text/plain": [
       "Array([-0.09999924, -0.02862773, -0.0717868 , -0.05433143, -0.01025004,\n",
       "        0.04920347,  0.11300036,         nan,         nan,         nan,\n",
       "               nan,         nan,         nan,         nan,         nan,\n",
       "               nan,         nan,         nan,         nan,         nan],      dtype=float32)"
      ]
     },
     "execution_count": 11,
     "metadata": {},
     "output_type": "execute_result"
    }
   ],
   "source": [
    "fitted_params_history.dynamics.drift.scale"
   ]
  },
  {
   "cell_type": "code",
   "execution_count": 12,
   "metadata": {},
   "outputs": [
    {
     "data": {
      "text/plain": [
       "Array([11.577886 , 10.666086 ,  9.015785 ,  8.516655 ,  7.627711 ,\n",
       "        6.453806 ,  5.4231987,  4.9134307,        nan,        nan,\n",
       "              nan,        nan,        nan,        nan,        nan,\n",
       "              nan,        nan,        nan,        nan,        nan],      dtype=float32)"
      ]
     },
     "execution_count": 12,
     "metadata": {},
     "output_type": "execute_result"
    }
   ],
   "source": [
    "marginal_lls"
   ]
  },
  {
   "cell_type": "code",
   "execution_count": 13,
   "metadata": {},
   "outputs": [
    {
     "data": {
      "text/plain": [
       "<matplotlib.legend.Legend at 0x3280f36d0>"
      ]
     },
     "execution_count": 13,
     "metadata": {},
     "output_type": "execute_result"
    },
    {
     "data": {
      "image/png": "[encoded data removed]",
      "text/plain": [
       "<Figure size 1600x900 with 1 Axes>"
      ]
     },
     "metadata": {},
     "output_type": "display_data"
    }
   ],
   "source": [
    "# plot the marginal lls over iterations for SGD\n",
    "plt.plot(marginal_lls, label=\"approx marginal ll under fitted models\")\n",
    "# plt.axhline(-ll_true, color=\"red\", linestyle=\"--\", label=\"approx marginal ll under true model\")\n",
    "plt.xlabel(\"iteration\")\n",
    "plt.ylabel(\"marginal log likelihood\")\n",
    "# plt.autoscale(enable=True, axis=\"x\", tight=True)\n",
    "plt.title(\"Marginal log likelihood over iterations\")\n",
    "plt.legend()\n"
   ]
  },
  {
   "cell_type": "code",
   "execution_count": 14,
   "metadata": {},
   "outputs": [
    {
     "data": {
      "text/plain": [
       "(100, 1)"
      ]
     },
     "execution_count": 14,
     "metadata": {},
     "output_type": "execute_result"
    }
   ],
   "source": [
    "t_emissions.shape"
   ]
  },
  {
   "cell_type": "code",
   "execution_count": 18,
   "metadata": {},
   "outputs": [
    {
     "name": "stdout",
     "output_type": "stream",
     "text": [
      "[4.9134307]\n",
      "ParamsCDNLGSSM(initial=ParamsLGSSMInitial(mean=Array([0., 0., 0.], dtype=float32), cov=Array([[100.,   0.,   0.],\n",
      "       [  0., 100.,   0.],\n",
      "       [  0.,   0., 100.]], dtype=float32)), dynamics=ParamsCDNLGSSMDynamics(drift=LearnableNN_TwoLayerGeLU(weights1=Array([[nan, nan, nan],\n",
      "       [nan, nan, nan],\n",
      "       [nan, nan, nan],\n",
      "       [nan, nan, nan],\n",
      "       [nan, nan, nan],\n",
      "       [nan, nan, nan],\n",
      "       [nan, nan, nan],\n",
      "       [nan, nan, nan],\n",
      "       [nan, nan, nan],\n",
      "       [nan, nan, nan],\n",
      "       [nan, nan, nan],\n",
      "       [nan, nan, nan],\n",
      "       [nan, nan, nan],\n",
      "       [nan, nan, nan],\n",
      "       [nan, nan, nan],\n",
      "       [nan, nan, nan],\n",
      "       [nan, nan, nan],\n",
      "       [nan, nan, nan],\n",
      "       [nan, nan, nan],\n",
      "       [nan, nan, nan],\n",
      "       [nan, nan, nan],\n",
      "       [nan, nan, nan],\n",
      "       [nan, nan, nan],\n",
      "       [nan, nan, nan],\n",
      "       [nan, nan, nan],\n",
      "       [nan, nan, nan],\n",
      "       [nan, nan, nan],\n",
      "       [nan, nan, nan],\n",
      "       [nan, nan, nan],\n",
      "       [nan, nan, nan],\n",
      "       [nan, nan, nan],\n",
      "       [nan, nan, nan],\n",
      "       [nan, nan, nan],\n",
      "       [nan, nan, nan],\n",
      "       [nan, nan, nan],\n",
      "       [nan, nan, nan],\n",
      "       [nan, nan, nan],\n",
      "       [nan, nan, nan],\n",
      "       [nan, nan, nan],\n",
      "       [nan, nan, nan],\n",
      "       [nan, nan, nan],\n",
      "       [nan, nan, nan],\n",
      "       [nan, nan, nan],\n",
      "       [nan, nan, nan],\n",
      "       [nan, nan, nan],\n",
      "       [nan, nan, nan],\n",
      "       [nan, nan, nan],\n",
      "       [nan, nan, nan],\n",
      "       [nan, nan, nan],\n",
      "       [nan, nan, nan]], dtype=float32), bias1=Array([nan, nan, nan, nan, nan, nan, nan, nan, nan, nan, nan, nan, nan,\n",
      "       nan, nan, nan, nan, nan, nan, nan, nan, nan, nan, nan, nan, nan,\n",
      "       nan, nan, nan, nan, nan, nan, nan, nan, nan, nan, nan, nan, nan,\n",
      "       nan, nan, nan, nan, nan, nan, nan, nan, nan, nan, nan],      dtype=float32), weights2=Array([[nan, nan, nan, nan, nan, nan, nan, nan, nan, nan, nan, nan, nan,\n",
      "        nan, nan, nan, nan, nan, nan, nan, nan, nan, nan, nan, nan, nan,\n",
      "        nan, nan, nan, nan, nan, nan, nan, nan, nan, nan, nan, nan, nan,\n",
      "        nan, nan, nan, nan, nan, nan, nan, nan, nan, nan, nan],\n",
      "       [nan, nan, nan, nan, nan, nan, nan, nan, nan, nan, nan, nan, nan,\n",
      "        nan, nan, nan, nan, nan, nan, nan, nan, nan, nan, nan, nan, nan,\n",
      "        nan, nan, nan, nan, nan, nan, nan, nan, nan, nan, nan, nan, nan,\n",
      "        nan, nan, nan, nan, nan, nan, nan, nan, nan, nan, nan],\n",
      "       [nan, nan, nan, nan, nan, nan, nan, nan, nan, nan, nan, nan, nan,\n",
      "        nan, nan, nan, nan, nan, nan, nan, nan, nan, nan, nan, nan, nan,\n",
      "        nan, nan, nan, nan, nan, nan, nan, nan, nan, nan, nan, nan, nan,\n",
      "        nan, nan, nan, nan, nan, nan, nan, nan, nan, nan, nan]],      dtype=float32), bias2=Array([nan, nan, nan], dtype=float32), scale=Array(nan, dtype=float32)), diffusion_coefficient=LearnableMatrix(params=Array([[1., 0., 0.],\n",
      "       [0., 1., 0.],\n",
      "       [0., 0., 1.]], dtype=float32)), diffusion_cov=LearnableMatrix(params=Array([[1., 0., 0.],\n",
      "       [0., 1., 0.],\n",
      "       [0., 0., 1.]], dtype=float32)), approx_order=Array(2., dtype=float32)), emissions=ParamsCDNLGSSMEmissions(emission_function=LearnableLinear(weights=Array([[1., 0., 0.]], dtype=float32), bias=Array([0.], dtype=float32)), emission_cov=LearnableMatrix(params=Array([[1.]], dtype=float32))))\n"
     ]
    }
   ],
   "source": [
    "# def clip_by_value(clip_value_min, clip_value_max):\n",
    "#     def transformation(updates):\n",
    "#         return tree_map(lambda g: jnp.clip(g, clip_value_min, clip_value_max), updates)\n",
    "#     return transformation\n",
    "\n",
    "def clip_by_value(min_val, max_val):\n",
    "    def init_fn(params):\n",
    "        # This transformation does not need state initialization\n",
    "        return None\n",
    "\n",
    "    def update_fn(updates, state, params=None):\n",
    "        clipped_updates = tree_map(lambda g: jnp.clip(g, min_val, max_val), updates)\n",
    "        return clipped_updates, state\n",
    "\n",
    "    return optax.GradientTransformation(init_fn, update_fn)\n",
    "\n",
    "\n",
    "optimizer = optax.chain(\n",
    "    clip_by_value(0, 0),\n",
    "    optax.scale_by_adam(eps=1e-1),\n",
    "    optax.scale(-0.0),\n",
    ")\n",
    "\n",
    "# Re-run 1 epoch of SGD to see if it still switches to NAN\n",
    "fitted_params2, fitted_params_history2, grad_history2, marginal_lls2 = test_model.fit_sgd(\n",
    "    # true_params,\n",
    "    # true_props,\n",
    "    tree_map(lambda x: x[6], fitted_params_history),\n",
    "    param_props,\n",
    "    emissions,\n",
    "    filter_hyperparams=filter_hyperparams,\n",
    "    t_emissions=t_emissions,\n",
    "    num_epochs=1,\n",
    "    optimizer=optimizer,\n",
    "    return_param_history=True,\n",
    "    return_grad_history=True,\n",
    "    batch_size=num_sequences,\n",
    ")\n",
    "print(marginal_lls2)\n",
    "print(fitted_params2)"
   ]
  },
  {
   "cell_type": "code",
   "execution_count": 20,
   "metadata": {},
   "outputs": [
    {
     "data": {
      "text/plain": [
       "ParamsCDNLGSSM(initial=ParamsLGSSMInitial(mean=Array([[0., 0., 0.]], dtype=float32), cov=Array([[0., 0., 0., 0., 0., 0.]], dtype=float32)), dynamics=ParamsCDNLGSSMDynamics(drift=LearnableNN_TwoLayerGeLU(weights1=Array([[[nan, nan, nan],\n",
       "        [nan, nan, nan],\n",
       "        [nan, nan, nan],\n",
       "        [nan, nan, nan],\n",
       "        [nan, nan, nan],\n",
       "        [nan, nan, nan],\n",
       "        [nan, nan, nan],\n",
       "        [nan, nan, nan],\n",
       "        [nan, nan, nan],\n",
       "        [nan, nan, nan],\n",
       "        [nan, nan, nan],\n",
       "        [nan, nan, nan],\n",
       "        [nan, nan, nan],\n",
       "        [nan, nan, nan],\n",
       "        [nan, nan, nan],\n",
       "        [nan, nan, nan],\n",
       "        [nan, nan, nan],\n",
       "        [nan, nan, nan],\n",
       "        [nan, nan, nan],\n",
       "        [nan, nan, nan],\n",
       "        [nan, nan, nan],\n",
       "        [nan, nan, nan],\n",
       "        [nan, nan, nan],\n",
       "        [nan, nan, nan],\n",
       "        [nan, nan, nan],\n",
       "        [nan, nan, nan],\n",
       "        [nan, nan, nan],\n",
       "        [nan, nan, nan],\n",
       "        [nan, nan, nan],\n",
       "        [nan, nan, nan],\n",
       "        [nan, nan, nan],\n",
       "        [nan, nan, nan],\n",
       "        [nan, nan, nan],\n",
       "        [nan, nan, nan],\n",
       "        [nan, nan, nan],\n",
       "        [nan, nan, nan],\n",
       "        [nan, nan, nan],\n",
       "        [nan, nan, nan],\n",
       "        [nan, nan, nan],\n",
       "        [nan, nan, nan],\n",
       "        [nan, nan, nan],\n",
       "        [nan, nan, nan],\n",
       "        [nan, nan, nan],\n",
       "        [nan, nan, nan],\n",
       "        [nan, nan, nan],\n",
       "        [nan, nan, nan],\n",
       "        [nan, nan, nan],\n",
       "        [nan, nan, nan],\n",
       "        [nan, nan, nan],\n",
       "        [nan, nan, nan]]], dtype=float32), bias1=Array([[nan, nan, nan, nan, nan, nan, nan, nan, nan, nan, nan, nan, nan,\n",
       "        nan, nan, nan, nan, nan, nan, nan, nan, nan, nan, nan, nan, nan,\n",
       "        nan, nan, nan, nan, nan, nan, nan, nan, nan, nan, nan, nan, nan,\n",
       "        nan, nan, nan, nan, nan, nan, nan, nan, nan, nan, nan]],      dtype=float32), weights2=Array([[[nan, nan, nan, nan, nan, nan, nan, nan, nan, nan, nan, nan,\n",
       "         nan, nan, nan, nan, nan, nan, nan, nan, nan, nan, nan, nan,\n",
       "         nan, nan, nan, nan, nan, nan, nan, nan, nan, nan, nan, nan,\n",
       "         nan, nan, nan, nan, nan, nan, nan, nan, nan, nan, nan, nan,\n",
       "         nan, nan],\n",
       "        [nan, nan, nan, nan, nan, nan, nan, nan, nan, nan, nan, nan,\n",
       "         nan, nan, nan, nan, nan, nan, nan, nan, nan, nan, nan, nan,\n",
       "         nan, nan, nan, nan, nan, nan, nan, nan, nan, nan, nan, nan,\n",
       "         nan, nan, nan, nan, nan, nan, nan, nan, nan, nan, nan, nan,\n",
       "         nan, nan],\n",
       "        [nan, nan, nan, nan, nan, nan, nan, nan, nan, nan, nan, nan,\n",
       "         nan, nan, nan, nan, nan, nan, nan, nan, nan, nan, nan, nan,\n",
       "         nan, nan, nan, nan, nan, nan, nan, nan, nan, nan, nan, nan,\n",
       "         nan, nan, nan, nan, nan, nan, nan, nan, nan, nan, nan, nan,\n",
       "         nan, nan]]], dtype=float32), bias2=Array([[nan, nan, nan]], dtype=float32), scale=Array([nan], dtype=float32)), diffusion_coefficient=LearnableMatrix(params=Array([[[0., 0., 0.],\n",
       "        [0., 0., 0.],\n",
       "        [0., 0., 0.]]], dtype=float32)), diffusion_cov=LearnableMatrix(params=Array([[0., 0., 0., 0., 0., 0.]], dtype=float32)), approx_order=Array([0.], dtype=float32)), emissions=ParamsCDNLGSSMEmissions(emission_function=LearnableLinear(weights=Array([[[0., 0., 0.]]], dtype=float32), bias=Array([[0.]], dtype=float32)), emission_cov=LearnableMatrix(params=Array([[0.]], dtype=float32))))"
      ]
     },
     "execution_count": 20,
     "metadata": {},
     "output_type": "execute_result"
    }
   ],
   "source": [
    "grad_history2"
   ]
  },
  {
   "cell_type": "code",
   "execution_count": 16,
   "metadata": {},
   "outputs": [
    {
     "data": {
      "text/plain": [
       "ParamsCDNLGSSM(initial=ParamsLGSSMInitial(mean=Array([nan, nan, nan], dtype=float32), cov=Array([[nan, nan, nan],\n",
       "       [nan, nan, nan],\n",
       "       [nan, nan, nan]], dtype=float32)), dynamics=ParamsCDNLGSSMDynamics(drift=LearnableNN_TwoLayerGeLU(weights1=Array([[nan, nan, nan],\n",
       "       [nan, nan, nan],\n",
       "       [nan, nan, nan],\n",
       "       [nan, nan, nan],\n",
       "       [nan, nan, nan],\n",
       "       [nan, nan, nan],\n",
       "       [nan, nan, nan],\n",
       "       [nan, nan, nan],\n",
       "       [nan, nan, nan],\n",
       "       [nan, nan, nan],\n",
       "       [nan, nan, nan],\n",
       "       [nan, nan, nan],\n",
       "       [nan, nan, nan],\n",
       "       [nan, nan, nan],\n",
       "       [nan, nan, nan],\n",
       "       [nan, nan, nan],\n",
       "       [nan, nan, nan],\n",
       "       [nan, nan, nan],\n",
       "       [nan, nan, nan],\n",
       "       [nan, nan, nan],\n",
       "       [nan, nan, nan],\n",
       "       [nan, nan, nan],\n",
       "       [nan, nan, nan],\n",
       "       [nan, nan, nan],\n",
       "       [nan, nan, nan],\n",
       "       [nan, nan, nan],\n",
       "       [nan, nan, nan],\n",
       "       [nan, nan, nan],\n",
       "       [nan, nan, nan],\n",
       "       [nan, nan, nan],\n",
       "       [nan, nan, nan],\n",
       "       [nan, nan, nan],\n",
       "       [nan, nan, nan],\n",
       "       [nan, nan, nan],\n",
       "       [nan, nan, nan],\n",
       "       [nan, nan, nan],\n",
       "       [nan, nan, nan],\n",
       "       [nan, nan, nan],\n",
       "       [nan, nan, nan],\n",
       "       [nan, nan, nan],\n",
       "       [nan, nan, nan],\n",
       "       [nan, nan, nan],\n",
       "       [nan, nan, nan],\n",
       "       [nan, nan, nan],\n",
       "       [nan, nan, nan],\n",
       "       [nan, nan, nan],\n",
       "       [nan, nan, nan],\n",
       "       [nan, nan, nan],\n",
       "       [nan, nan, nan],\n",
       "       [nan, nan, nan]], dtype=float32), bias1=Array([nan, nan, nan, nan, nan, nan, nan, nan, nan, nan, nan, nan, nan,\n",
       "       nan, nan, nan, nan, nan, nan, nan, nan, nan, nan, nan, nan, nan,\n",
       "       nan, nan, nan, nan, nan, nan, nan, nan, nan, nan, nan, nan, nan,\n",
       "       nan, nan, nan, nan, nan, nan, nan, nan, nan, nan, nan],      dtype=float32), weights2=Array([[nan, nan, nan, nan, nan, nan, nan, nan, nan, nan, nan, nan, nan,\n",
       "        nan, nan, nan, nan, nan, nan, nan, nan, nan, nan, nan, nan, nan,\n",
       "        nan, nan, nan, nan, nan, nan, nan, nan, nan, nan, nan, nan, nan,\n",
       "        nan, nan, nan, nan, nan, nan, nan, nan, nan, nan, nan],\n",
       "       [nan, nan, nan, nan, nan, nan, nan, nan, nan, nan, nan, nan, nan,\n",
       "        nan, nan, nan, nan, nan, nan, nan, nan, nan, nan, nan, nan, nan,\n",
       "        nan, nan, nan, nan, nan, nan, nan, nan, nan, nan, nan, nan, nan,\n",
       "        nan, nan, nan, nan, nan, nan, nan, nan, nan, nan, nan],\n",
       "       [nan, nan, nan, nan, nan, nan, nan, nan, nan, nan, nan, nan, nan,\n",
       "        nan, nan, nan, nan, nan, nan, nan, nan, nan, nan, nan, nan, nan,\n",
       "        nan, nan, nan, nan, nan, nan, nan, nan, nan, nan, nan, nan, nan,\n",
       "        nan, nan, nan, nan, nan, nan, nan, nan, nan, nan, nan]],      dtype=float32), bias2=Array([nan, nan, nan], dtype=float32), scale=Array(nan, dtype=float32)), diffusion_coefficient=LearnableMatrix(params=Array([[nan, nan, nan],\n",
       "       [nan, nan, nan],\n",
       "       [nan, nan, nan]], dtype=float32)), diffusion_cov=LearnableMatrix(params=Array([[nan, nan, nan],\n",
       "       [nan, nan, nan],\n",
       "       [nan, nan, nan]], dtype=float32)), approx_order=Array(nan, dtype=float32)), emissions=ParamsCDNLGSSMEmissions(emission_function=LearnableLinear(weights=Array([[nan, nan, nan]], dtype=float32), bias=Array([nan], dtype=float32)), emission_cov=LearnableMatrix(params=Array([[nan]], dtype=float32))))"
      ]
     },
     "execution_count": 16,
     "metadata": {},
     "output_type": "execute_result"
    }
   ],
   "source": [
    "tree_map(lambda x: x[12], fitted_params_history)"
   ]
  },
  {
   "cell_type": "code",
   "execution_count": 25,
   "metadata": {},
   "outputs": [
    {
     "name": "stdout",
     "output_type": "stream",
     "text": [
      "491.34293\n",
      "nan\n",
      "nan\n",
      "nan\n",
      "nan\n"
     ]
    }
   ],
   "source": [
    "from dynamax.parameters import to_unconstrained, from_unconstrained, log_det_jac_constrain\n",
    "from dynamax.utils.utils import ensure_array_has_batch_dim, pytree_stack\n",
    "from jax import lax, value_and_grad, tree_map\n",
    "\n",
    "params = tree_map(lambda x: x[6], fitted_params_history)\n",
    "\n",
    "batch_inputs = ensure_array_has_batch_dim(None, test_model.inputs_shape)\n",
    "batch_emissions = ensure_array_has_batch_dim(emissions, test_model.emission_shape)\n",
    "# batch_t_emissions = ensure_array_has_batch_dim(t_emissions, (1,))\n",
    "batch_t_emissions = jnp.repeat(t_emissions[jnp.newaxis, :, :], batch_emissions.shape[0], axis=0)\n",
    "\n",
    "# duplicate t_emissions for each sequence\n",
    "# batch_t_emissions = jnp.tile(t_emissions, (num_sequences, 1, 1))\n",
    "def _loss_fn(my_params):\n",
    "    batch_lls = vmap(\n",
    "        partial(test_model.marginal_log_prob, my_params, filter_hyperparams=filter_hyperparams),\n",
    "    )(emissions=batch_emissions, t_emissions=batch_t_emissions, inputs=batch_inputs)\n",
    "    lp = test_model.log_prior(my_params) + batch_lls.sum()\n",
    "    return -lp / len(batch_emissions)\n",
    "\n",
    "loss_grad_fn = value_and_grad(_loss_fn)\n",
    "this_loss, grads = loss_grad_fn(params)\n",
    "print(this_loss)\n",
    "print(jnp.max(jnp.abs(grads.dynamics.drift.bias2)))\n",
    "print(jnp.max(jnp.abs(grads.dynamics.drift.bias1)))\n",
    "print(jnp.max(jnp.abs(grads.dynamics.drift.weights1)))\n",
    "print(jnp.max(jnp.abs(grads.dynamics.drift.weights2)))"
   ]
  },
  {
   "cell_type": "code",
   "execution_count": null,
   "metadata": {},
   "outputs": [],
   "source": [
    "from dynamax.parameters import to_unconstrained, from_unconstrained, log_det_jac_constrain\n",
    "from dynamax.utils.utils import ensure_array_has_batch_dim, pytree_stack\n",
    "from jax import lax, value_and_grad, tree_map\n",
    "\n",
    "params = tree_map(lambda x: x[4], fitted_params_history)\n",
    "\n",
    "batch_inputs = ensure_array_has_batch_dim(None, test_model.inputs_shape)\n",
    "batch_emissions = ensure_array_has_batch_dim(emissions, test_model.emission_shape)\n",
    "# batch_t_emissions = ensure_array_has_batch_dim(t_emissions, (1,))\n",
    "batch_t_emissions = jnp.repeat(t_emissions[jnp.newaxis, :, :], batch_emissions.shape[0], axis=0)\n",
    "\n",
    "\n",
    "# duplicate t_emissions for each sequence\n",
    "# batch_t_emissions = jnp.tile(t_emissions, (num_sequences, 1, 1))\n",
    "T = 100\n",
    "dt = 0.01\n",
    "num_timesteps_long = int(T / dt)\n",
    "t_emissions_long = jnp.array(sorted(jr.uniform(jr.PRNGKey(0), (num_timesteps, 1), minval=0, maxval=T)))\n",
    "\n",
    "def _loss_fn(my_params):\n",
    "    states, emissions = test_model.sample(\n",
    "        my_params,\n",
    "        key=next(keys),\n",
    "        num_timesteps=num_timesteps_long,\n",
    "        t_emissions=t_emissions_long,\n",
    "        transition_type=\"path\",\n",
    "    )\n",
    "    return emissions.mean()\n",
    "\n",
    "loss_grad_fn = value_and_grad(_loss_fn)\n",
    "this_loss, grads = loss_grad_fn(params)\n",
    "print(this_loss)\n",
    "print(jnp.max(jnp.abs(grads.dynamics.drift.bias2)))\n",
    "print(jnp.max(jnp.abs(grads.dynamics.drift.bias1)))\n",
    "print(jnp.max(jnp.abs(grads.dynamics.drift.weights1)))\n",
    "print(jnp.max(jnp.abs(grads.dynamics.drift.weights2)))"
   ]
  },
  {
   "cell_type": "code",
   "execution_count": null,
   "metadata": {},
   "outputs": [],
   "source": [
    "batch_inputs = ensure_array_has_batch_dim(None, test_model.inputs_shape)\n",
    "batch_emissions = ensure_array_has_batch_dim(emissions[30:40], test_model.emission_shape)\n",
    "# batch_t_emissions = ensure_array_has_batch_dim(t_emissions, (1,))\n",
    "batch_t_emissions = jnp.repeat(t_emissions[jnp.newaxis, :, :], batch_emissions.shape[0], axis=0)\n",
    "\n",
    "\n",
    "filtered_posterior = cdnlgssm_filter(\n",
    "    params=params,\n",
    "    emissions=emissions[40],\n",
    "    hyperparams=filter_hyperparams,\n",
    "    t_emissions=t_emissions,\n",
    ")"
   ]
  },
  {
   "cell_type": "code",
   "execution_count": null,
   "metadata": {},
   "outputs": [],
   "source": [
    "jnp.min(jnp.abs(filtered_posterior.filtered_covariances[filtered_posterior.filtered_covariances!=0]))"
   ]
  },
  {
   "cell_type": "code",
   "execution_count": null,
   "metadata": {},
   "outputs": [],
   "source": [
    "foo = emissions[30:40]\n",
    "for i in range(10):\n",
    "    plt.plot(foo[i])\n"
   ]
  },
  {
   "cell_type": "code",
   "execution_count": null,
   "metadata": {},
   "outputs": [],
   "source": [
    "fitted_params_history2.dynamics.drift.scale"
   ]
  },
  {
   "cell_type": "code",
   "execution_count": null,
   "metadata": {},
   "outputs": [],
   "source": [
    "fitted_params_history.dynamics.drift.scale\n"
   ]
  },
  {
   "cell_type": "markdown",
   "metadata": {},
   "source": []
  },
  {
   "cell_type": "code",
   "execution_count": 35,
   "metadata": {},
   "outputs": [
    {
     "data": {
      "text/plain": [
       "(1000, 100, 1)"
      ]
     },
     "execution_count": 35,
     "metadata": {},
     "output_type": "execute_result"
    }
   ],
   "source": [
    "emissions.shape"
   ]
  },
  {
   "cell_type": "code",
   "execution_count": 44,
   "metadata": {},
   "outputs": [],
   "source": [
    "ind = 6  # get the last fitted params\n",
    "# in each tree element get the ind'th element\n",
    "fitted_params_ind = tree_map(lambda x: x[ind], fitted_params_history)\n",
    "# Extract fitted params\n",
    "# fitted_C = fitted_params_ind.emissions.emission_function.weights\n",
    "# fitted_d = fitted_params_ind.emissions.emission_function.bias\n",
    "# fitted_R = fitted_params_ind.emissions.emission_cov.params\n",
    "\n",
    "# Compute predicted emissions with vmap\n",
    "# filtered_posterior = vmap(\n",
    "#     lambda x: cdnlgssm_filter(fitted_params_ind, emissions=x, hyperparams=filter_hyperparams, t_emissions=t_emissions)\n",
    "# )(emissions)\n",
    "\n",
    "\n",
    "def loss_fn(params, em):\n",
    "    foo = cdnlgssm_filter(\n",
    "            params, emissions=em, hyperparams=filter_hyperparams, t_emissions=t_emissions\n",
    "        )\n",
    "    return foo.marginal_loglik\n",
    "\n",
    "\n",
    "# vmap over the emissions\n",
    "\n",
    "lls = vmap(value_and_grad(partial(loss_fn, fitted_params_ind), argnums=0))(emissions)\n",
    "# value_and_grad(loss_fn)(emissions[0])\n",
    "\n",
    "# Compute value_and_grad of each filtered_posterior.marginall_loglik using vmap\n",
    "# filtered_posterior_lls = vmap(\n",
    "#     lambda x: value_and_grad(\n",
    "#         lambda x: cdnlgssm_filter(fitted_params_ind, emissions=x, hyperparams=filter_hyperparams, t_emissions=t_emissions).marginal_loglik\n",
    "#     )\n",
    "# )(emissions)\n",
    "\n",
    "\n",
    "# filtered_posterior = cdnlgssm_filter(\n",
    "#     fitted_params, emissions=emissions, hyperparams=filter_hyperparams, t_emissions=t_emissions\n",
    "# )\n",
    "# filtered_emissions_mean = filtered_posterior.filtered_means @ fitted_C.T + fitted_d\n",
    "\n",
    "# compute cov and std from this\n",
    "# filtered_emissions_cov = filtered_posterior.filtered_covariances @ fitted_C.T + fitted_R  # (10, 3000, 3, 3)\n",
    "\n",
    "# use vmap to compute std for each sequence\n",
    "# filtered_emissions_std = vmap(lambda x: jnp.sqrt(jnp.array([x[:, i, i] for i in range(emission_dim)]).T))(filtered_emissions_cov)\n",
    "# filtered_emissions_std # (10, 3000, 3)\n",
    "# filtered_emissions_std = jnp.sqrt(jnp.array([filtered_emissions_cov[:, i, i] for i in range(emission_dim)]).T)  # (3, 10, 3)\n",
    "# Need to compute std for each sequence\n",
    "\n",
    "\n",
    "# filtered_emissions_cov = fitted_C @ filtered_posterior.filtered_covariances @ fitted_C.T + fitted_R\n",
    "# filtered_emissions_std = jnp.sqrt(jnp.array([filtered_emissions_cov[:, i, i] for i in range(emission_dim)])).T  # (T,E)"
   ]
  },
  {
   "cell_type": "code",
   "execution_count": 46,
   "metadata": {},
   "outputs": [
    {
     "data": {
      "text/plain": [
       "(1000, 100, 1)"
      ]
     },
     "execution_count": 46,
     "metadata": {},
     "output_type": "execute_result"
    }
   ],
   "source": [
    "lls[1].shape\n",
    "# find which index along 1st axis are NaN\n",
    "# nan_idx = jnp.isnan(lls[1], axis=0)"
   ]
  },
  {
   "cell_type": "code",
   "execution_count": 32,
   "metadata": {},
   "outputs": [
    {
     "data": {
      "text/plain": [
       "Array(-2194.952, dtype=float32)"
      ]
     },
     "execution_count": 32,
     "metadata": {},
     "output_type": "execute_result"
    }
   ],
   "source": [
    "jnp.min(filtered_posterior.marginal_loglik)"
   ]
  },
  {
   "cell_type": "code",
   "execution_count": null,
   "metadata": {},
   "outputs": [],
   "source": [
    "print([emissions.shape, filtered_emissions_mean.shape, filtered_emissions_std.shape])\n",
    "plot_results(emissions[0], filtered_emissions_mean[0], filtered_emissions_std[0])"
   ]
  },
  {
   "cell_type": "code",
   "execution_count": null,
   "metadata": {},
   "outputs": [],
   "source": [
    "# now plot the true states and the filtered states, each in its own subplot\n",
    "fig, axs = plt.subplots(state_dim, 1, figsize=(10, 8), sharex=True)\n",
    "for i in range(state_dim):\n",
    "    axs[i].plot(true_states[0, :, i], \"--k\", label=\"true\" if i == 0 else None)\n",
    "    axs[i].plot(filtered_posterior.filtered_means[0, :, i], label=\"filtered\" if i == 0 else None)\n",
    "    axs[i].set_ylabel(f\"state {i}\")\n",
    "    if i == 0:\n",
    "        axs[i].legend()\n",
    "axs[-1].set_xlabel(\"time\")"
   ]
  },
  {
   "cell_type": "markdown",
   "metadata": {},
   "source": [
    "### Plot a long forward sim of the model---unless the model is trained well, this often decays to a fixed point or blows up"
   ]
  },
  {
   "cell_type": "code",
   "execution_count": null,
   "metadata": {},
   "outputs": [],
   "source": [
    "sim_states, sim_emissions = test_model.sample_batch(\n",
    "    fitted_params_ind, next(keys), num_sequences, num_timesteps, t_emissions, transition_type=\"path\"\n",
    ")\n",
    "\n",
    "# now plot the true states and the filtered states, each in its own subplot\n",
    "fig, axs = plt.subplots(state_dim, 1, figsize=(10, 8), sharex=True)\n",
    "for i in range(state_dim):\n",
    "    axs[i].plot(sim_states[0, :, i], \"--k\", label=\"true\" if i == 0 else None)\n",
    "    axs[i].set_ylabel(f\"state {i}\")\n",
    "    if i == 0:\n",
    "        axs[i].legend()\n",
    "axs[-1].set_xlabel(\"time\")"
   ]
  },
  {
   "cell_type": "markdown",
   "metadata": {},
   "source": [
    "## Implement HMC wrapper"
   ]
  },
  {
   "cell_type": "code",
   "execution_count": null,
   "metadata": {},
   "outputs": [],
   "source": [
    "@jit\n",
    "def filter_emission(params):\n",
    "    C = params.emissions.emission_function.weights\n",
    "    d = params.emissions.emission_function.bias\n",
    "    filtered_posterior = cdnlgssm_filter(\n",
    "        params, emissions=emissions[0], hyperparams=filter_hyperparams, t_emissions=t_emissions\n",
    "    )\n",
    "\n",
    "    return filtered_posterior.filtered_means @ C.T + d    "
   ]
  },
  {
   "cell_type": "code",
   "execution_count": null,
   "metadata": {},
   "outputs": [],
   "source": [
    "import matplotlib.pyplot as plt\n",
    "import numpy as np\n",
    "\n",
    "\n",
    "def plot_param_distributions(samples, true, sgd, name='', burn_in_frac=0.5):\n",
    "    \"\"\"\n",
    "    Plots N_params horizontal box plots for the given N_params x N_samples matrix.\n",
    "\n",
    "    Parameters:\n",
    "    - samples: N_params x N_samples matrix of parameter samples.\n",
    "    - true: N_params array of true parameter values.\n",
    "    - sgd: N_params array of SGD estimates.\n",
    "    - name: Name of the parameter set.\n",
    "    - burn_in_frac: Fraction of samples to discard as burn-in.\n",
    "\n",
    "    Returns:\n",
    "    - A matplotlib figure with N_params horizontal box plots.\n",
    "    \"\"\"\n",
    "    N_params = samples.shape[0]\n",
    "    fig, ax = plt.subplots(figsize=(10, N_params * 2))  # Adjust figure size based on number of parameters\n",
    "\n",
    "    # apply burn-in\n",
    "    burn_in = int(burn_in_frac * samples.shape[1])\n",
    "    samples = samples[:, burn_in:]\n",
    "    \n",
    "    # Create box plots\n",
    "    ax.boxplot(samples, vert=False, patch_artist=True)\n",
    "\n",
    "    # Set the y-axis labels to show parameter indices\n",
    "    ax.set_yticks(range(1, N_params + 1))\n",
    "    ax.set_yticklabels([\"Parameter {}\".format(i + 1) for i in range(N_params)])\n",
    "\n",
    "    # Plot ground truth and estimates\n",
    "    ax.scatter(sgd, range(1, N_params + 1), color=\"magenta\", marker=\"o\", s=100, label=\"SGD Estimate\", zorder=3)\n",
    "    ax.scatter(true, range(1, N_params + 1), color=\"red\", marker=\"x\", s=100, label=\"Ground Truth\", zorder=4)\n",
    "\n",
    "    plt.xlabel(\"Value\")\n",
    "    plt.ylabel(\"Parameters\")\n",
    "    plt.title(\"{} Parameter Distributions\".format(name))\n",
    "    plt.grid(True)\n",
    "    plt.legend()\n",
    "    plt.show()\n",
    "\n",
    "def plot_all(param_samples, burn_in_frac=0.5):\n",
    "    \"\"\"\n",
    "    Plots the posterior distributions of all parameters.\n",
    "    Burn-in is removed from the samples.\n",
    "    \"\"\"\n",
    "    plot_param_distributions(\n",
    "        param_samples.initial.mean.T, true_params.initial.mean, fitted_params.initial.mean, name=\"Initial mean\",\n",
    "        burn_in_frac=burn_in_frac\n",
    "    )\n",
    "    plot_param_distributions(\n",
    "        param_samples.initial.cov.reshape(param_samples.initial.cov.shape[0], -1).T,\n",
    "        true_params.initial.cov.flatten(),\n",
    "        fitted_params.initial.cov.flatten(),\n",
    "        name=\"Initial cov\",\n",
    "        burn_in_frac=burn_in_frac,\n",
    "    )\n",
    "    plot_param_distributions(\n",
    "        param_samples.dynamics.drift.sigma.reshape(param_samples.dynamics.drift.sigma.shape[0], -1).T,\n",
    "        true_params.dynamics.drift.sigma,\n",
    "        fitted_params.dynamics.drift.sigma,\n",
    "        name=\"Dynamics drift sigma\",\n",
    "        burn_in_frac=burn_in_frac,\n",
    "    )\n",
    "    plot_param_distributions(\n",
    "        param_samples.dynamics.drift.rho.reshape(param_samples.dynamics.drift.rho.shape[0], -1).T,\n",
    "        true_params.dynamics.drift.rho,\n",
    "        fitted_params.dynamics.drift.rho,\n",
    "        name=\"Dynamics drift rho\",\n",
    "        burn_in_frac=burn_in_frac,\n",
    "    )\n",
    "    plot_param_distributions(\n",
    "        param_samples.dynamics.drift.beta.reshape(param_samples.dynamics.drift.beta.shape[0], -1).T,\n",
    "        true_params.dynamics.drift.beta,\n",
    "        fitted_params.dynamics.drift.beta,\n",
    "        name=\"Dynamics drift beta\",\n",
    "        burn_in_frac=burn_in_frac,\n",
    "    )\n",
    "    plot_param_distributions(\n",
    "        param_samples.dynamics.diffusion_cov.params.reshape(param_samples.dynamics.diffusion_cov.params.shape[0], -1).T,\n",
    "        true_params.dynamics.diffusion_cov.params.flatten(),\n",
    "        fitted_params.dynamics.diffusion_cov.params.flatten(),\n",
    "        name=\"Dynamics diffusion cov\",\n",
    "        burn_in_frac=burn_in_frac,\n",
    "    )\n",
    "    plot_param_distributions(\n",
    "        param_samples.dynamics.diffusion_coefficient.params.reshape(\n",
    "            param_samples.dynamics.diffusion_coefficient.params.shape[0], -1\n",
    "        ).T,\n",
    "        true_params.dynamics.diffusion_coefficient.params.flatten(),\n",
    "        fitted_params.dynamics.diffusion_coefficient.params.flatten(),\n",
    "        name=\"Dynamics diffusion coefficient\",\n",
    "        burn_in_frac=burn_in_frac,\n",
    "    )\n",
    "    plot_param_distributions(\n",
    "        param_samples.emissions.emission_function.weights.reshape(\n",
    "            param_samples.emissions.emission_function.weights.shape[0], -1\n",
    "        ).T,\n",
    "        true_params.emissions.emission_function.weights.flatten(),\n",
    "        fitted_params.emissions.emission_function.weights.flatten(),\n",
    "        name=\"Emissions function weights\",\n",
    "        burn_in_frac=burn_in_frac,\n",
    "    )\n",
    "    plot_param_distributions(\n",
    "        param_samples.emissions.emission_function.bias.reshape(\n",
    "            param_samples.emissions.emission_function.bias.shape[0], -1\n",
    "        ).T,\n",
    "        true_params.emissions.emission_function.bias.flatten(),\n",
    "        fitted_params.emissions.emission_function.bias.flatten(),\n",
    "        name=\"Emissions function bias\",\n",
    "        burn_in_frac=burn_in_frac,\n",
    "    )\n",
    "    plot_param_distributions(\n",
    "        param_samples.emissions.emission_cov.params.reshape(param_samples.emissions.emission_cov.params.shape[0], -1).T,\n",
    "        true_params.emissions.emission_cov.params.flatten(),\n",
    "        fitted_params.emissions.emission_cov.params.flatten(),\n",
    "        name=\"Emissions cov\",\n",
    "        burn_in_frac=burn_in_frac,\n",
    "    )"
   ]
  },
  {
   "cell_type": "markdown",
   "metadata": {},
   "source": [
    "## Call HMC"
   ]
  },
  {
   "cell_type": "code",
   "execution_count": null,
   "metadata": {},
   "outputs": [],
   "source": [
    "# Now, run HMC initialized using the SGD-fitted parameters\n",
    "# param_samples, lps = test_model.fit_hmc(\n",
    "#     fitted_params,\n",
    "#     param_props,\n",
    "#     emissions,\n",
    "#     filter_hyperparams,\n",
    "#     t_emissions,\n",
    "#     inputs=None,\n",
    "#     num_samples=500,\n",
    "#     warmup_steps=10,\n",
    "#     num_integration_steps=3,\n",
    "#     key=next(keys)\n",
    "# )"
   ]
  },
  {
   "cell_type": "code",
   "execution_count": null,
   "metadata": {},
   "outputs": [],
   "source": [
    "plt.plot(lps)\n",
    "plt.xlabel(\"iteration\")\n",
    "plt.xlabel(\"log probability\")"
   ]
  },
  {
   "cell_type": "code",
   "execution_count": null,
   "metadata": {},
   "outputs": [],
   "source": [
    "filtered_emissions = vmap(filter_emission)(param_samples)\n",
    "filtered_emissions_mean = filtered_emissions.mean(axis=0)\n",
    "filtered_emissions_std = jnp.std(filtered_emissions, axis=0)\n",
    "\n",
    "# note that this shows a distribution of filtered means\n",
    "# Unlike earlier plots, it does not show the filtered covariances, \n",
    "# which would add an appearance of greater uncertainty.\n",
    "print([emissions.shape, filtered_emissions.shape, filtered_emissions_mean.shape, filtered_emissions_std.shape])\n",
    "plot_results(emissions, filtered_emissions_mean, filtered_emissions_std)"
   ]
  },
  {
   "cell_type": "code",
   "execution_count": null,
   "metadata": {},
   "outputs": [],
   "source": [
    "plot_all(param_samples)"
   ]
  },
  {
   "cell_type": "code",
   "execution_count": null,
   "metadata": {},
   "outputs": [],
   "source": []
  },
  {
   "cell_type": "code",
   "execution_count": null,
   "metadata": {},
   "outputs": [],
   "source": []
  }
 ],
 "metadata": {
  "kernelspec": {
   "display_name": "Python 3 (ipykernel)",
   "language": "python",
   "name": "python3"
  },
  "language_info": {
   "codemirror_mode": {
    "name": "ipython",
    "version": 3
   },
   "file_extension": ".py",
   "mimetype": "text/x-python",
   "name": "python",
   "nbconvert_exporter": "python",
   "pygments_lexer": "ipython3",
   "version": "3.11.4"
  },
  "vscode": {
   "interpreter": {
    "hash": "40d3a090f54c6569ab1632332b64b2c03c39dcf918b08424e98f38b5ae0af88f"
   }
  }
 },
 "nbformat": 4,
 "nbformat_minor": 2
}
