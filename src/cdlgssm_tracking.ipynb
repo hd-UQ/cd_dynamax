{
 "cells": [
  {
   "cell_type": "markdown",
   "id": "92e34046",
   "metadata": {
    "id": "92e34046"
   },
   "source": [
    "# Tracking an object using the Kalman filter\n",
    "\n",
    "\n"
   ]
  },
  {
   "attachments": {},
   "cell_type": "markdown",
   "id": "17072519",
   "metadata": {},
   "source": [
    "\n",
    "Consider an object moving in $R^2$.\n",
    "We assume that we observe a noisy version of its location at each time step.\n",
    "We want to track the object and possibly forecast its future motion.\n",
    "We now show how to do this using a simple linear Gaussian SSM, combined with \n",
    "the Kalman filter algorithm.\n",
    "\n",
    "Let the hidden state represent\n",
    "the position and velocity of the object,\n",
    "$z_t =\\begin{pmatrix} u_t & \\dot{u}_t & v_t & \\dot{v}_t \\end{pmatrix}$.\n",
    "(We use $u$ and $v$ for the two coordinates,\n",
    "to avoid confusion with the state and observation variables.)\n",
    "The process evolves in continuous time, but if we discretize it with step size $\\Delta$,\n",
    "we can write the dynamics as the following linear system:\n",
    "\n",
    "\\begin{align*}\n",
    "\\underbrace{\\begin{pmatrix} u_t\\\\ \\dot{u}_t \\\\ v_t \\\\ \\dot{v}_t \\end{pmatrix}}_{z_t}\n",
    "  = \n",
    "\\underbrace{\n",
    "\\begin{pmatrix}\n",
    "1 & 0 & \\Delta & 0 \\\\\n",
    "0 & 1 & 0 & \\Delta\\\\\n",
    "0 & 0 & 1 & 0 \\\\\n",
    "0 & 0 & 0 & 1\n",
    "\\end{pmatrix}\n",
    "}_{F}\n",
    "\\underbrace{\\begin{pmatrix} u_{t-1} \\\\ \\dot{u}_{t-1} \\\\ v_{t-1} \\\\ \\dot{v}_{t-1} \\end{pmatrix}}_{z_{t-1}}\n",
    "+ q_t\n",
    "\\end{align*}\n",
    "\n",
    "where $q_t \\in R^4$ is the process noise, which we assume is Gaussian,\n",
    "so  $q_t \\sim N(0,Q)$.\n",
    "\n",
    "Now suppose that at each discrete time point we\n",
    "observe the location (but not the velocity).\n",
    "We assume the observation is corrupted by  Gaussian noise.\n",
    "Thus the observation model becomes\n",
    "\n",
    "\\begin{align*}\n",
    "\\underbrace{\\begin{pmatrix}  y_{1,t} \\\\  y_{2,t} \\end{pmatrix}}_{y_t}\n",
    "  &=\n",
    "    \\underbrace{\n",
    "    \\begin{pmatrix}\n",
    "1 & 0 & 0 & 0 \\\\\n",
    "0 & 0 & 1 & 0\n",
    "    \\end{pmatrix}\n",
    "    }_{H}\n",
    "    \\;\n",
    "\\underbrace{\\begin{pmatrix} u_t\\\\ \\dot{u}_t \\\\ v_t \\\\ \\dot{v}_t \\end{pmatrix}}_{z_t}    \n",
    " + r_t\n",
    "\\end{align*}\n",
    "\n",
    "where $r_t \\sim N(0,R)$ is the observation noise.\n",
    "We see that the observation matrix $H$ simply ``extracts'' the\n",
    "relevant parts  of the state vector.\n"
   ]
  },
  {
   "cell_type": "markdown",
   "id": "ce5fdeca",
   "metadata": {},
   "source": [
    "## Setup"
   ]
  },
  {
   "cell_type": "code",
   "execution_count": 1,
   "id": "6eb6c0e6",
   "metadata": {},
   "outputs": [
    {
     "name": "stderr",
     "output_type": "stream",
     "text": [
      "/usr/local/anaconda3/envs/hduq/lib/python3.11/site-packages/equinox/_ad.py:733: UserWarning: As of Equinox 0.10.7, `equinox.filter_custom_vjp.defvjp` is deprecated in favour of `.def_fwd` and `.def_bwd`. This new API supports symbolic zeros, which allow for more efficient autodifferentiation rules. In particular:\n",
      "- the fwd and bwd functions take an extra `perturbed` argument, which     indicates which primals actually need a gradient. You can use this     to skip computing the gradient for any unperturbed value. (You can     also safely just ignore this if you wish.)\n",
      "- `None` was previously passed to indicate a symbolic zero gradient for     all objects that weren't inexact arrays, but all inexact arrays     always had an array-valued gradient. Now, `None` may also be passed     to indicate that an inexact array has a symbolic zero gradient.\n",
      "  warnings.warn(\n"
     ]
    }
   ],
   "source": [
    "import sys\n",
    "from jax import numpy as jnp\n",
    "from jax import random as jr\n",
    "from jax import vmap\n",
    "from matplotlib import pyplot as plt\n",
    "\n",
    "# Local dynamax \n",
    "sys.path.append('..')\n",
    "from dynamax.utils.plotting import plot_uncertainty_ellipses\n",
    "# from dynamax.linear_gaussian_ssm import LinearGaussianSSM\n",
    "# from dynamax.linear_gaussian_ssm import lgssm_smoother, lgssm_filter\n",
    "\n",
    "# Our codebase\n",
    "from continuous_discrete_linear_gaussian_ssm import ContDiscreteLinearGaussianSSM\n",
    "from continuous_discrete_linear_gaussian_ssm import cdlgssm_smoother, cdlgssm_filter\n"
   ]
  },
  {
   "cell_type": "markdown",
   "id": "118e3213",
   "metadata": {},
   "source": [
    "## Create the model"
   ]
  },
  {
   "cell_type": "code",
   "execution_count": 2,
   "id": "c0fcda3e",
   "metadata": {},
   "outputs": [],
   "source": [
    "state_dim = 4\n",
    "emission_dim = 2\n",
    "delta = 1.0\n",
    "\n",
    "# TODO: properly initialize cdlgssm\n",
    "# Continuous-Discrete model\n",
    "\n",
    "# Randomness\n",
    "key1, key2 = jr.split(jr.PRNGKey(0))\n",
    "\n",
    "# Model def\n",
    "inputs = None # Not interested in inputs for now\n",
    "lgssm = ContDiscreteLinearGaussianSSM(state_dim=state_dim, emission_dim=emission_dim)\n",
    "params, param_props = lgssm.initialize(key1)\n",
    "# using default initializations\n",
    "\n"
   ]
  },
  {
   "cell_type": "markdown",
   "id": "81a28d0d",
   "metadata": {},
   "source": [
    "## Sample some data from the model"
   ]
  },
  {
   "cell_type": "code",
   "execution_count": 3,
   "id": "8f108dd3",
   "metadata": {},
   "outputs": [
    {
     "data": {
      "text/plain": [
       "<matplotlib.legend.Legend at 0x13f311710>"
      ]
     },
     "execution_count": 3,
     "metadata": {},
     "output_type": "execute_result"
    },
    {
     "data": {
      "image/png": "[encoded data removed]",
      "text/plain": [
       "<Figure size 640x480 with 1 Axes>"
      ]
     },
     "metadata": {},
     "output_type": "display_data"
    }
   ],
   "source": [
    "num_timesteps = 15\n",
    "t_emissions = jnp.arange(num_timesteps)[:,None]\n",
    "key = jr.PRNGKey(310)\n",
    "x, y = lgssm.sample(\n",
    "    params,\n",
    "    key2,\n",
    "    num_timesteps=num_timesteps,\n",
    "    t_emissions=t_emissions,\n",
    "    inputs=inputs\n",
    ")\n",
    "\n",
    "# Plot Data\n",
    "observation_marker_kwargs = {\"marker\": \"o\", \"markerfacecolor\": \"none\", \"markeredgewidth\": 2, \"markersize\": 8}\n",
    "fig1, ax1 = plt.subplots()\n",
    "ax1.plot(*x[:, :2].T, marker=\"s\", color=\"C0\", label=\"true state\")\n",
    "ax1.plot(*y.T, ls=\"\", **observation_marker_kwargs, color=\"tab:green\", label=\"emissions\")\n",
    "ax1.legend(loc=\"upper left\")\n",
    "\n"
   ]
  },
  {
   "cell_type": "code",
   "execution_count": 4,
   "id": "c96d915b",
   "metadata": {
    "tags": [
     "hide-input"
    ]
   },
   "outputs": [],
   "source": [
    "\n",
    "def plot_lgssm_posterior(post_means, post_covs, ax=None, ellipse_kwargs={}, legend_kwargs={}, **kwargs):\n",
    "    \"\"\"Plot posterior means and covariances for the first two dimensions of\n",
    "     the latent state of a LGSSM.\n",
    "\n",
    "    Args:\n",
    "        post_means: array(T, D).\n",
    "        post_covs: array(T, D, D).\n",
    "        ax: matplotlib axis.\n",
    "        ellipse_kwargs: keyword arguments passed to matplotlib.patches.Ellipse().\n",
    "        **kwargs: passed to ax.plot().\n",
    "    \"\"\"\n",
    "    if ax is None:\n",
    "        fig, ax = plt.subplots()\n",
    "\n",
    "    # This is to stop some weird behaviour where running the function multiple\n",
    "    # #  times with an empty argument wouldn't reset the dictionary.\n",
    "    # if ellipse_kwargs is None:\n",
    "    #     ellipse_kwargs = dict()\n",
    "\n",
    "    # if 'edgecolor' not in ellipse_kwargs:\n",
    "    #     if 'color' in kwargs:\n",
    "    #         ellipse_kwargs['edgecolor'] = kwargs['color']\n",
    "\n",
    "    # Select the first two dimensions of the latent space.\n",
    "    post_means = post_means[:, :2]\n",
    "    post_covs = post_covs[:, :2, :2]\n",
    "\n",
    "    # Plot the mean trajectory\n",
    "    ax.plot(post_means[:, 0], post_means[:, 1], **kwargs)\n",
    "    # Plot covariance at each time point.\n",
    "    plot_uncertainty_ellipses(post_means, post_covs, ax, **ellipse_kwargs)\n",
    "\n",
    "    ax.axis(\"equal\")\n",
    "\n",
    "    if \"label\" in kwargs:\n",
    "        ax.legend(**legend_kwargs)\n",
    "\n",
    "    return ax"
   ]
  },
  {
   "cell_type": "markdown",
   "id": "53862c48",
   "metadata": {},
   "source": [
    "## Perform online filtering\n",
    "\n"
   ]
  },
  {
   "cell_type": "code",
   "execution_count": 8,
   "id": "fab5d4e3",
   "metadata": {},
   "outputs": [
    {
     "ename": "IndexError",
     "evalue": "Too many indices for array: 1 non-None/Ellipsis indices for dim 0.",
     "output_type": "error",
     "traceback": [
      "\u001b[0;31m---------------------------------------------------------------------------\u001b[0m",
      "\u001b[0;31mIndexError\u001b[0m                                Traceback (most recent call last)",
      "Cell \u001b[0;32mIn[8], line 2\u001b[0m\n\u001b[1;32m      1\u001b[0m \u001b[39m# lgssm_posterior = cdlgssm_filter(params, y, t_emissions, inputs)\u001b[39;00m\n\u001b[0;32m----> 2\u001b[0m lgssm_posterior \u001b[39m=\u001b[39m lgssm\u001b[39m.\u001b[39;49mfilter(params, y, t_emissions, inputs)\n\u001b[1;32m      3\u001b[0m \u001b[39m# lgssm_posterior = lgssm.filter(params, y)\u001b[39;00m\n\u001b[1;32m      4\u001b[0m \u001b[39mprint\u001b[39m(lgssm_posterior\u001b[39m.\u001b[39mfiltered_means\u001b[39m.\u001b[39mshape)\n",
      "File \u001b[0;32m~/code_projects/hybrid_dynamics_uq/src/continuous_discrete_linear_gaussian_ssm/models.py:245\u001b[0m, in \u001b[0;36mContDiscreteLinearGaussianSSM.filter\u001b[0;34m(self, params, emissions, t_emissions, inputs)\u001b[0m\n\u001b[1;32m    238\u001b[0m \u001b[39mdef\u001b[39;00m \u001b[39mfilter\u001b[39m(\n\u001b[1;32m    239\u001b[0m     \u001b[39mself\u001b[39m,\n\u001b[1;32m    240\u001b[0m     params: ParamsCDLGSSM,\n\u001b[0;32m   (...)\u001b[0m\n\u001b[1;32m    243\u001b[0m     inputs: Optional[Float[Array, \u001b[39m\"\u001b[39m\u001b[39mntime input_dim\u001b[39m\u001b[39m\"\u001b[39m]] \u001b[39m=\u001b[39m \u001b[39mNone\u001b[39;00m\n\u001b[1;32m    244\u001b[0m ) \u001b[39m-\u001b[39m\u001b[39m>\u001b[39m PosteriorGSSMFiltered:\n\u001b[0;32m--> 245\u001b[0m     \u001b[39mreturn\u001b[39;00m cdlgssm_filter(params, emissions, t_emissions, inputs)\n",
      "File \u001b[0;32m~/code_projects/hybrid_dynamics_uq/src/continuous_discrete_linear_gaussian_ssm/inference.py:350\u001b[0m, in \u001b[0;36mpreprocess_args.<locals>.wrapper\u001b[0;34m(*args, **kwargs)\u001b[0m\n\u001b[1;32m    347\u001b[0m num_timesteps \u001b[39m=\u001b[39m \u001b[39mlen\u001b[39m(emissions)\n\u001b[1;32m    348\u001b[0m full_params, inputs \u001b[39m=\u001b[39m preprocess_params_and_inputs(params, num_timesteps, inputs)\n\u001b[0;32m--> 350\u001b[0m \u001b[39mreturn\u001b[39;00m f(full_params, emissions, t_emissions, inputs\u001b[39m=\u001b[39;49minputs)\n",
      "File \u001b[0;32m~/code_projects/hybrid_dynamics_uq/src/continuous_discrete_linear_gaussian_ssm/inference.py:509\u001b[0m, in \u001b[0;36mcdlgssm_filter\u001b[0;34m(params, emissions, t_emissions, inputs)\u001b[0m\n\u001b[1;32m    507\u001b[0m \u001b[39m# Run the Kalman filter\u001b[39;00m\n\u001b[1;32m    508\u001b[0m carry \u001b[39m=\u001b[39m (\u001b[39m0.0\u001b[39m, params\u001b[39m.\u001b[39minitial\u001b[39m.\u001b[39mmean, params\u001b[39m.\u001b[39minitial\u001b[39m.\u001b[39mcov)\n\u001b[0;32m--> 509\u001b[0m (ll, _, _), (filtered_means, filtered_covs) \u001b[39m=\u001b[39m lax\u001b[39m.\u001b[39;49mscan(_step, carry, (t0, t1))\n\u001b[1;32m    510\u001b[0m \u001b[39mreturn\u001b[39;00m PosteriorGSSMFiltered(marginal_loglik\u001b[39m=\u001b[39mll, filtered_means\u001b[39m=\u001b[39mfiltered_means, filtered_covariances\u001b[39m=\u001b[39mfiltered_covs)\n",
      "    \u001b[0;31m[... skipping hidden 9 frame]\u001b[0m\n",
      "File \u001b[0;32m~/code_projects/hybrid_dynamics_uq/src/continuous_discrete_linear_gaussian_ssm/inference.py:502\u001b[0m, in \u001b[0;36mcdlgssm_filter.<locals>._step\u001b[0;34m(carry, args)\u001b[0m\n\u001b[1;32m    498\u001b[0m filtered_mean, filtered_cov \u001b[39m=\u001b[39m _condition_on(pred_mean, pred_cov, H, D, d, R, u, y)\n\u001b[1;32m    500\u001b[0m \u001b[39m# Predict the next state\u001b[39;00m\n\u001b[1;32m    501\u001b[0m \u001b[39m# TODO: Currently, t0 and t1 appear as 1d arrays of length 1.\u001b[39;00m\n\u001b[0;32m--> 502\u001b[0m F, Q \u001b[39m=\u001b[39m compute_pushforward(params, t0, t1)\n\u001b[1;32m    503\u001b[0m pred_mean, pred_cov \u001b[39m=\u001b[39m _predict(filtered_mean, filtered_cov, F, B, b, Q, u)\n\u001b[1;32m    505\u001b[0m \u001b[39mreturn\u001b[39;00m (ll, pred_mean, pred_cov), (filtered_mean, filtered_cov)\n",
      "File \u001b[0;32m~/code_projects/hybrid_dynamics_uq/src/continuous_discrete_linear_gaussian_ssm/inference.py:158\u001b[0m, in \u001b[0;36mcompute_pushforward\u001b[0;34m(params, t0, t1)\u001b[0m\n\u001b[1;32m    151\u001b[0m \u001b[39mdef\u001b[39;00m \u001b[39mcompute_pushforward\u001b[39m(\n\u001b[1;32m    152\u001b[0m     params: ParamsCDLGSSM,\n\u001b[1;32m    153\u001b[0m     t0: Float,\n\u001b[0;32m   (...)\u001b[0m\n\u001b[1;32m    156\u001b[0m \n\u001b[1;32m    157\u001b[0m     \u001b[39m# TODO: ensure that t0, t1 are passed as floats.\u001b[39;00m\n\u001b[0;32m--> 158\u001b[0m     t0 \u001b[39m=\u001b[39m t0[\u001b[39m0\u001b[39;49m]\n\u001b[1;32m    159\u001b[0m     t1 \u001b[39m=\u001b[39m t1[\u001b[39m0\u001b[39m]\n\u001b[1;32m    161\u001b[0m     \u001b[39m# TODO: compute A, and Q based on Sarkka's thesis eq (3.135)\u001b[39;00m\n",
      "File \u001b[0;32m/usr/local/anaconda3/envs/hduq/lib/python3.11/site-packages/jax/_src/numpy/array_methods.py:791\u001b[0m, in \u001b[0;36m_forward_operator_to_aval.<locals>.op\u001b[0;34m(self, *args)\u001b[0m\n\u001b[1;32m    790\u001b[0m \u001b[39mdef\u001b[39;00m \u001b[39mop\u001b[39m(\u001b[39mself\u001b[39m, \u001b[39m*\u001b[39margs):\n\u001b[0;32m--> 791\u001b[0m   \u001b[39mreturn\u001b[39;00m \u001b[39mgetattr\u001b[39;49m(\u001b[39mself\u001b[39;49m\u001b[39m.\u001b[39;49maval, \u001b[39mf\u001b[39;49m\u001b[39m\"\u001b[39;49m\u001b[39m_\u001b[39;49m\u001b[39m{\u001b[39;49;00mname\u001b[39m}\u001b[39;49;00m\u001b[39m\"\u001b[39;49m)(\u001b[39mself\u001b[39;49m, \u001b[39m*\u001b[39;49margs)\n",
      "File \u001b[0;32m/usr/local/anaconda3/envs/hduq/lib/python3.11/site-packages/jax/_src/numpy/lax_numpy.py:4143\u001b[0m, in \u001b[0;36m_rewriting_take\u001b[0;34m(arr, idx, indices_are_sorted, unique_indices, mode, fill_value)\u001b[0m\n\u001b[1;32m   4140\u001b[0m       \u001b[39mreturn\u001b[39;00m lax\u001b[39m.\u001b[39mdynamic_index_in_dim(arr, idx, keepdims\u001b[39m=\u001b[39m\u001b[39mFalse\u001b[39;00m)\n\u001b[1;32m   4142\u001b[0m treedef, static_idx, dynamic_idx \u001b[39m=\u001b[39m _split_index_for_jit(idx, arr\u001b[39m.\u001b[39mshape)\n\u001b[0;32m-> 4143\u001b[0m \u001b[39mreturn\u001b[39;00m _gather(arr, treedef, static_idx, dynamic_idx, indices_are_sorted,\n\u001b[1;32m   4144\u001b[0m                unique_indices, mode, fill_value)\n",
      "File \u001b[0;32m/usr/local/anaconda3/envs/hduq/lib/python3.11/site-packages/jax/_src/numpy/lax_numpy.py:4152\u001b[0m, in \u001b[0;36m_gather\u001b[0;34m(arr, treedef, static_idx, dynamic_idx, indices_are_sorted, unique_indices, mode, fill_value)\u001b[0m\n\u001b[1;32m   4149\u001b[0m \u001b[39mdef\u001b[39;00m \u001b[39m_gather\u001b[39m(arr, treedef, static_idx, dynamic_idx, indices_are_sorted,\n\u001b[1;32m   4150\u001b[0m             unique_indices, mode, fill_value):\n\u001b[1;32m   4151\u001b[0m   idx \u001b[39m=\u001b[39m _merge_static_and_dynamic_indices(treedef, static_idx, dynamic_idx)\n\u001b[0;32m-> 4152\u001b[0m   indexer \u001b[39m=\u001b[39m _index_to_gather(shape(arr), idx)  \u001b[39m# shared with _scatter_update\u001b[39;00m\n\u001b[1;32m   4153\u001b[0m   y \u001b[39m=\u001b[39m arr\n\u001b[1;32m   4155\u001b[0m   \u001b[39mif\u001b[39;00m fill_value \u001b[39mis\u001b[39;00m \u001b[39mnot\u001b[39;00m \u001b[39mNone\u001b[39;00m:\n",
      "File \u001b[0;32m/usr/local/anaconda3/envs/hduq/lib/python3.11/site-packages/jax/_src/numpy/lax_numpy.py:4253\u001b[0m, in \u001b[0;36m_index_to_gather\u001b[0;34m(x_shape, idx, normalize_indices)\u001b[0m\n\u001b[1;32m   4250\u001b[0m \u001b[39mdef\u001b[39;00m \u001b[39m_index_to_gather\u001b[39m(x_shape: Sequence[\u001b[39mint\u001b[39m], idx: Sequence[Any],\n\u001b[1;32m   4251\u001b[0m                      normalize_indices: \u001b[39mbool\u001b[39m \u001b[39m=\u001b[39m \u001b[39mTrue\u001b[39;00m) \u001b[39m-\u001b[39m\u001b[39m>\u001b[39m _Indexer:\n\u001b[1;32m   4252\u001b[0m   \u001b[39m# Remove ellipses and add trailing slice(None)s.\u001b[39;00m\n\u001b[0;32m-> 4253\u001b[0m   idx \u001b[39m=\u001b[39m _canonicalize_tuple_index(\u001b[39mlen\u001b[39;49m(x_shape), idx)\n\u001b[1;32m   4255\u001b[0m   \u001b[39m# Check for advanced indexing:\u001b[39;00m\n\u001b[1;32m   4256\u001b[0m   \u001b[39m# https://docs.scipy.org/doc/numpy/reference/arrays.indexing.html#advanced-indexing\u001b[39;00m\n\u001b[1;32m   4257\u001b[0m \n\u001b[1;32m   4258\u001b[0m   \u001b[39m# Do the advanced indexing axes appear contiguously? If not, NumPy semantics\u001b[39;00m\n\u001b[1;32m   4259\u001b[0m   \u001b[39m# move the advanced axes to the front.\u001b[39;00m\n\u001b[1;32m   4260\u001b[0m   advanced_axes_are_contiguous \u001b[39m=\u001b[39m \u001b[39mFalse\u001b[39;00m\n",
      "File \u001b[0;32m/usr/local/anaconda3/envs/hduq/lib/python3.11/site-packages/jax/_src/numpy/lax_numpy.py:4586\u001b[0m, in \u001b[0;36m_canonicalize_tuple_index\u001b[0;34m(arr_ndim, idx, array_name)\u001b[0m\n\u001b[1;32m   4584\u001b[0m len_without_none \u001b[39m=\u001b[39m \u001b[39msum\u001b[39m(\u001b[39m1\u001b[39m \u001b[39mfor\u001b[39;00m e \u001b[39min\u001b[39;00m idx \u001b[39mif\u001b[39;00m e \u001b[39mis\u001b[39;00m \u001b[39mnot\u001b[39;00m \u001b[39mNone\u001b[39;00m \u001b[39mand\u001b[39;00m e \u001b[39mis\u001b[39;00m \u001b[39mnot\u001b[39;00m \u001b[39mEllipsis\u001b[39m)\n\u001b[1;32m   4585\u001b[0m \u001b[39mif\u001b[39;00m len_without_none \u001b[39m>\u001b[39m arr_ndim:\n\u001b[0;32m-> 4586\u001b[0m   \u001b[39mraise\u001b[39;00m \u001b[39mIndexError\u001b[39;00m(\n\u001b[1;32m   4587\u001b[0m       \u001b[39mf\u001b[39m\u001b[39m\"\u001b[39m\u001b[39mToo many indices for \u001b[39m\u001b[39m{\u001b[39;00marray_name\u001b[39m}\u001b[39;00m\u001b[39m: \u001b[39m\u001b[39m{\u001b[39;00mlen_without_none\u001b[39m}\u001b[39;00m\u001b[39m \u001b[39m\u001b[39m\"\u001b[39m\n\u001b[1;32m   4588\u001b[0m       \u001b[39mf\u001b[39m\u001b[39m\"\u001b[39m\u001b[39mnon-None/Ellipsis indices for dim \u001b[39m\u001b[39m{\u001b[39;00marr_ndim\u001b[39m}\u001b[39;00m\u001b[39m.\u001b[39m\u001b[39m\"\u001b[39m)\n\u001b[1;32m   4589\u001b[0m ellipses \u001b[39m=\u001b[39m (i \u001b[39mfor\u001b[39;00m i, elt \u001b[39min\u001b[39;00m \u001b[39menumerate\u001b[39m(idx) \u001b[39mif\u001b[39;00m elt \u001b[39mis\u001b[39;00m \u001b[39mEllipsis\u001b[39m)\n\u001b[1;32m   4590\u001b[0m ellipsis_index \u001b[39m=\u001b[39m \u001b[39mnext\u001b[39m(ellipses, \u001b[39mNone\u001b[39;00m)\n",
      "\u001b[0;31mIndexError\u001b[0m: Too many indices for array: 1 non-None/Ellipsis indices for dim 0."
     ]
    }
   ],
   "source": [
    "# lgssm_posterior = cdlgssm_filter(params, y, t_emissions, inputs)\n",
    "lgssm_posterior = lgssm.filter(params, y, t_emissions, inputs)\n",
    "# lgssm_posterior = lgssm.filter(params, y)\n",
    "print(lgssm_posterior.filtered_means.shape)\n",
    "print(lgssm_posterior.filtered_covariances.shape)\n",
    "print(lgssm_posterior.marginal_loglik)\n",
    "\n"
   ]
  },
  {
   "cell_type": "code",
   "execution_count": null,
   "id": "b0585932",
   "metadata": {},
   "outputs": [],
   "source": [
    "fig2, ax2 = plt.subplots()\n",
    "ax2.plot(*y.T, ls=\"\", **observation_marker_kwargs, color=\"tab:green\", label=\"observed\")\n",
    "ax2.plot(*x[:, :2].T, ls=\"--\", color=\"darkgrey\", label=\"true state\")\n",
    "plot_lgssm_posterior(\n",
    "    lgssm_posterior.filtered_means,\n",
    "    lgssm_posterior.filtered_covariances,\n",
    "    ax2,\n",
    "    color=\"tab:red\",\n",
    "    label=\"filtered means\",\n",
    "    ellipse_kwargs={\"edgecolor\": \"k\", \"linewidth\": 0.5},\n",
    "    legend_kwargs={\"loc\":\"upper left\"}\n",
    ")"
   ]
  },
  {
   "cell_type": "markdown",
   "id": "ebb8a989",
   "metadata": {},
   "source": [
    "## Perform offline smoothing"
   ]
  },
  {
   "cell_type": "code",
   "execution_count": null,
   "id": "8d6eae12",
   "metadata": {},
   "outputs": [],
   "source": [
    "lgssm_posterior = lgssm.smoother(params, y, t_emissions, inputs)"
   ]
  },
  {
   "cell_type": "code",
   "execution_count": null,
   "id": "06c8f6ec",
   "metadata": {},
   "outputs": [],
   "source": [
    "fig3, ax3 = plt.subplots()\n",
    "ax3.plot(*y.T, ls=\"\", **observation_marker_kwargs, color=\"tab:green\", label=\"observed\")\n",
    "ax3.plot(*x[:, :2].T, ls=\"--\", color=\"darkgrey\", label=\"true state\")\n",
    "plot_lgssm_posterior(\n",
    "    lgssm_posterior.smoothed_means,\n",
    "    lgssm_posterior.smoothed_covariances,\n",
    "    ax3,\n",
    "    color=\"tab:red\",\n",
    "    label=\"smoothed means\",\n",
    "    ellipse_kwargs={\"edgecolor\": \"k\", \"linewidth\": 0.5},\n",
    "    legend_kwargs={\"loc\":\"upper left\"}\n",
    ")"
   ]
  },
  {
   "attachments": {},
   "cell_type": "markdown",
   "id": "5da88212",
   "metadata": {},
   "source": [
    "## Low-level interface to the underlying inference algorithms\n",
    "\n",
    "We can also call the inference code directly, without having to make an LG-SSM object.\n",
    "We just pass the model parameters directly to the function."
   ]
  },
  {
   "cell_type": "code",
   "execution_count": null,
   "id": "84299414",
   "metadata": {},
   "outputs": [],
   "source": [
    "\n",
    "\n",
    "filtered_posterior = cdlgssm_filter(params, y, t_emissions, inputs) # Kalman filter\n",
    "smoothed_posterior = cdlgssm_smoother(params, y, t_emissions, inputs) # Kalman filter + smoother\n",
    "assert jnp.allclose(lgssm_posterior.filtered_means, filtered_posterior.filtered_means)\n",
    "assert jnp.allclose(lgssm_posterior.filtered_means, smoothed_posterior.filtered_means)\n",
    "assert jnp.allclose(lgssm_posterior.smoothed_means, smoothed_posterior.smoothed_means)"
   ]
  },
  {
   "cell_type": "markdown",
   "id": "f3437728",
   "metadata": {},
   "source": [
    "## Tracking multiple objects in parallel\n"
   ]
  },
  {
   "cell_type": "code",
   "execution_count": null,
   "id": "a9492dfd",
   "metadata": {},
   "outputs": [],
   "source": [
    "# Generate 4 sample trajectories\n",
    "num_timesteps = 15\n",
    "num_samples = 4\n",
    "key = jr.PRNGKey(310)\n",
    "keys = jr.split(key, num_samples)\n",
    "xs, ys = vmap(lambda key: lgssm.sample(params, key, num_timesteps))(keys)"
   ]
  },
  {
   "cell_type": "code",
   "execution_count": null,
   "id": "4618b650",
   "metadata": {},
   "outputs": [],
   "source": [
    "# vmap the inference\n",
    "lgssm_posteriors = vmap(lambda y: lgssm.smoother(params, y))(ys)"
   ]
  },
  {
   "cell_type": "code",
   "execution_count": null,
   "id": "e9f9885d",
   "metadata": {},
   "outputs": [],
   "source": [
    "def plot_kf_parallel(xs, ys, lgssm_posteriors):\n",
    "    num_samples = len(xs)\n",
    "    dict_figures = {}\n",
    "\n",
    "    # Plot Data\n",
    "    fig, ax = plt.subplots()\n",
    "    for n in range(num_samples):\n",
    "        ax.plot(*xs[n, :, :2].T, ls=\"--\", color=f\"C{n}\")\n",
    "        ax.plot(*ys[n, ...].T, \".\", color=f\"C{n}\", label=f\"Trajectory {n+1}\")\n",
    "    ax.set_title(\"Data\")\n",
    "    ax.legend()\n",
    "    dict_figures[\"missiles_latent\"] = fig\n",
    "\n",
    "    # Plot Filtering\n",
    "    fig, ax = plt.subplots()\n",
    "    for n in range(num_samples):\n",
    "        ax.plot(*ys[n, ...].T, \".\")\n",
    "        filt_means = lgssm_posteriors.filtered_means[n, ...]\n",
    "        filt_covs = lgssm_posteriors.filtered_covariances[n, ...]\n",
    "        plot_lgssm_posterior(\n",
    "            filt_means,\n",
    "            filt_covs,\n",
    "            ax,\n",
    "            color=f\"C{n}\",\n",
    "            ellipse_kwargs={\"edgecolor\": f\"C{n}\", \"linewidth\": 0.5},\n",
    "            label=f\"Trajectory {n+1}\",\n",
    "        )\n",
    "    ax.legend(fontsize=10)\n",
    "    ax.set_title(\"Filtered Posterior\")\n",
    "    dict_figures[\"missiles_filtered\"] = fig\n",
    "\n",
    "    # Plot Smoothing\n",
    "    fig, ax = plt.subplots()\n",
    "    for n in range(num_samples):\n",
    "        ax.plot(*ys[n, ...].T, \".\")\n",
    "        filt_means = lgssm_posteriors.smoothed_means[n, ...]\n",
    "        filt_covs = lgssm_posteriors.smoothed_covariances[n, ...]\n",
    "        plot_lgssm_posterior(\n",
    "            filt_means,\n",
    "            filt_covs,\n",
    "            ax,\n",
    "            color=f\"C{n}\",\n",
    "            ellipse_kwargs={\"edgecolor\": f\"C{n}\", \"linewidth\": 0.5},\n",
    "            label=f\"Trajectory {n+1}\",\n",
    "        )\n",
    "    ax.legend(fontsize=10)\n",
    "    ax.set_title(\"Smoothed Posterior\")\n",
    "    dict_figures[\"missiles_smoothed\"] = fig\n",
    "\n",
    "    return dict_figures"
   ]
  },
  {
   "cell_type": "code",
   "execution_count": null,
   "id": "7307b949",
   "metadata": {},
   "outputs": [],
   "source": [
    "dict_figures = plot_kf_parallel(xs, ys, lgssm_posteriors)"
   ]
  }
 ],
 "metadata": {
  "colab": {
   "name": "kf_tracking.ipynb",
   "provenance": []
  },
  "kernelspec": {
   "display_name": "Python 3.8.10 64-bit",
   "language": "python",
   "name": "python3"
  },
  "language_info": {
   "codemirror_mode": {
    "name": "ipython",
    "version": 3
   },
   "file_extension": ".py",
   "mimetype": "text/x-python",
   "name": "python",
   "nbconvert_exporter": "python",
   "pygments_lexer": "ipython3",
   "version": "3.11.4"
  },
  "vscode": {
   "interpreter": {
    "hash": "31f2aee4e71d21fbe5cf8b01ff0e069b9275f58929596ceb00d14d90e3e16cd6"
   }
  }
 },
 "nbformat": 4,
 "nbformat_minor": 5
}
