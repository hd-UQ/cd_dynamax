{
 "cells": [
  {
   "cell_type": "markdown",
   "id": "2904a870",
   "metadata": {},
   "source": [
    "# Make a dynamic DYNAMAX logo"
   ]
  },
  {
   "cell_type": "code",
   "execution_count": 72,
   "id": "3c651a00",
   "metadata": {},
   "outputs": [],
   "source": [
    "import jax.numpy as jnp\n",
    "import jax.random as jr\n",
    "from jax.nn import one_hot, softmax, sigmoid\n",
    "from jax import vmap\n",
    "from tensorflow_probability.substrates import jax as tfp\n",
    "import matplotlib.pyplot as plt\n",
    "from matplotlib.patches import Rectangle\n",
    "from tqdm.auto import trange \n",
    "\n",
    "tfd = tfp.distributions"
   ]
  },
  {
   "cell_type": "code",
   "execution_count": 2,
   "id": "ae440066",
   "metadata": {},
   "outputs": [],
   "source": [
    "# Make a JAX-y color palette\n",
    "COLORS = [\"#6B90CA\", # blues\n",
    "          \"#4367B1\",\n",
    "          \"#3C5BA9\",\n",
    "          \"#29A69A\", # greens\n",
    "          \"#1B796C\",\n",
    "          \"#186A5C\",\n",
    "          \"#C489BC\", # purples\n",
    "          \"#903F98\",\n",
    "          \"#6A2C91\"]"
   ]
  },
  {
   "cell_type": "code",
   "execution_count": 4,
   "id": "6a89cc4d",
   "metadata": {},
   "outputs": [
    {
     "data": {
      "image/png": "[encoded data removed]",
      "text/plain": [
       "<Figure size 149.76x23.04 with 1 Axes>"
      ]
     },
     "metadata": {
      "needs_background": "light"
     },
     "output_type": "display_data"
    }
   ],
   "source": [
    "FIGSIZE_PX = jnp.array([2080, 320])\n",
    "DPI = 1000\n",
    "\n",
    "# Test that the mask works\n",
    "fig = plt.figure(figsize=FIGSIZE_PX / DPI)\n",
    "mask = plt.imread(\"mask.png\")\n",
    "ax = fig.add_axes((0, 0, 1, 1))\n",
    "ax.patch.set_color('r')\n",
    "ax.imshow(mask, aspect=\"auto\")\n",
    "ax.xaxis.set_visible(False)\n",
    "ax.yaxis.set_visible(False)\n",
    "for sp in ax.spines.values():\n",
    "    sp.set_visible(False)\n",
    "\n",
    "plt.savefig(\"test.png\", dpi=1000)"
   ]
  },
  {
   "cell_type": "markdown",
   "id": "d5dd82f0",
   "metadata": {},
   "source": [
    "# Break the image down into squares of various sizes"
   ]
  },
  {
   "cell_type": "code",
   "execution_count": 110,
   "id": "33dd7121",
   "metadata": {},
   "outputs": [
    {
     "name": "stdout",
     "output_type": "stream",
     "text": [
      "Created  1433 rectangles\n"
     ]
    }
   ],
   "source": [
    "RECT_PX = 80\n",
    "FIGSIZE_RECT = (FIGSIZE_PX / RECT_PX).astype(int)\n",
    "\n",
    "patches = []\n",
    "for i in range(FIGSIZE_RECT[1]):\n",
    "    for j in range(FIGSIZE_RECT[0]):\n",
    "        # make a rectangle patch; we'll color it later.\n",
    "        patches.append(Rectangle((j * RECT_PX, i * RECT_PX), RECT_PX, RECT_PX))\n",
    "        \n",
    "def split_patch(rect):\n",
    "    # Split a rectangle into four quadrants\n",
    "    x, y = rect.xy\n",
    "    sz = rect.get_width() / 2\n",
    "    r1 = Rectangle((x, y), sz, sz)\n",
    "    r2 = Rectangle((x + sz, y), sz, sz)\n",
    "    r3 = Rectangle((x, y + sz), sz, sz)\n",
    "    r4 = Rectangle((x + sz, y + sz), sz, sz)\n",
    "    return [r1, r2, r3, r4]\n",
    "\n",
    "# Split in 3 phases\n",
    "seed = jr.PRNGKey(0)\n",
    "for r in range(3): \n",
    "    # split depending on how far to the right the rectangle is located\n",
    "    # with the threshold increasing each round.\n",
    "#     split_prob = lambda x: sigmoid(( x - (r + 1) * 6) / 2)\n",
    "    split_prob = lambda x: 0.5\n",
    "    \n",
    "    # Go through and split the patches\n",
    "    new_patches = []\n",
    "    for rect in patches:\n",
    "        key, seed = jr.split(seed)\n",
    "        if jr.bernoulli(key, split_prob(rect.xy[0] // RECT_PX)) == 1:\n",
    "            new_patches.extend(split_patch(rect))\n",
    "        else:\n",
    "            new_patches.append(rect)\n",
    "            \n",
    "    patches = new_patches\n",
    "\n",
    "num_patches = len(patches)\n",
    "print(\"Created \", num_patches, \"rectangles\")"
   ]
  },
  {
   "cell_type": "code",
   "execution_count": 111,
   "id": "810da12e-3abd-418a-9be1-1425ef439aa1",
   "metadata": {},
   "outputs": [
    {
     "data": {
      "application/vnd.jupyter.widget-view+json": {
       "model_id": "ddc9f81f9d784c47b15ff92b21a655f5",
       "version_major": 2,
       "version_minor": 0
      },
      "text/plain": [
       "  0%|          | 0/199 [00:00<?, ?it/s]"
      ]
     },
     "metadata": {},
     "output_type": "display_data"
    },
    {
     "data": {
      "application/vnd.jupyter.widget-view+json": {
       "model_id": "d731ccab6cf14b1ab6f56e991928231c",
       "version_major": 2,
       "version_minor": 0
      },
      "text/plain": [
       "  0%|          | 0/199 [00:00<?, ?it/s]"
      ]
     },
     "metadata": {},
     "output_type": "display_data"
    }
   ],
   "source": [
    "num_timesteps = 200\n",
    "\n",
    "# Initialize the colors with a Gaussian process\n",
    "centers = jnp.array([rect.xy for rect in patches])\n",
    "length = 6 * RECT_PX\n",
    "kernel = lambda xy1, xy2: jnp.exp(-0.5 * jnp.sum((xy1 - xy2)**2) / length**2)\n",
    "cov = vmap(lambda xy2: vmap(lambda xy1: kernel(xy1, xy2))(centers))(centers)\n",
    "cov += 1e-4 * jnp.eye(len(centers))\n",
    "\n",
    "# Sample a time series of Gaussian processes, one for each primary color\n",
    "fs = jnp.zeros((num_timesteps, num_patches, 3))\n",
    "\n",
    "# Sample initial condition from mean zero GPs\n",
    "seed = jr.PRNGKey(0)\n",
    "key, seed = jr.split(seed)\n",
    "fs = fs.at[0].set(tfd.MultivariateNormalFullCovariance(jnp.zeros(len(centers)), 3 * cov).sample(seed=key, sample_shape=(3,)).T)\n",
    "fs = fs.at[0].add(-fs[0].mean(axis=0))\n",
    "\n",
    "# Sample subsequent timesteps as random walk\n",
    "for t in trange(1, num_timesteps):\n",
    "    key, seed = jr.split(seed)\n",
    "    fs = fs.at[t].set(tfd.MultivariateNormalFullCovariance(fs[t-1].T, 0.5 * cov).sample(seed=key).T)\n",
    "    fs = fs.at[t].add(-fs[t].mean(axis=0))\n",
    "    \n",
    "# Sample primary and finecolors\n",
    "colors = jnp.zeros((num_timesteps, num_patches), dtype=int)\n",
    "key, seed = jr.split(seed)\n",
    "colors = colors.at[0].set(tfd.Categorical(logits=jnp.repeat(fs[0], 3, axis=1)).sample(seed=key))\n",
    "for t in trange(1, num_timesteps):\n",
    "    key, seed = jr.split(seed)\n",
    "    logits = jnp.repeat(fs[t], 3, axis=1) + 3 * one_hot(colors[t-1], 9)\n",
    "    colors = colors.at[t].set(tfd.Categorical(logits=logits).sample(seed=key))\n",
    "      \n",
    "# Initialize the color of each rectangle\n",
    "for rect, color in zip(patches, colors[0]):\n",
    "    rect.set_facecolor(COLORS[color])\n",
    "    rect.set_edgecolor('w')\n",
    "    rect.set_linewidth(0.025)    "
   ]
  },
  {
   "cell_type": "code",
   "execution_count": 112,
   "id": "e7b3590d-5cde-46a9-8619-e2ed1db8a0b7",
   "metadata": {},
   "outputs": [
    {
     "data": {
      "application/vnd.jupyter.widget-view+json": {
       "model_id": "91a382230da34e94bd5068105001d417",
       "version_major": 2,
       "version_minor": 0
      },
      "text/plain": [
       "  0%|          | 0/199 [00:00<?, ?it/s]"
      ]
     },
     "metadata": {},
     "output_type": "display_data"
    },
    {
     "data": {
      "image/png": "[encoded data removed]",
      "text/plain": [
       "<Figure size 149.76x23.04 with 1 Axes>"
      ]
     },
     "metadata": {
      "needs_background": "light"
     },
     "output_type": "display_data"
    }
   ],
   "source": [
    "# Plot the mask on top of rectanges\n",
    "fig = plt.figure(figsize=FIGSIZE_PX / DPI)\n",
    "ax = fig.add_axes((0, 0, 1, 1))\n",
    "ax.patch.set_color('w')\n",
    "\n",
    "for rect in patches:\n",
    "    ax.add_patch(rect)\n",
    "\n",
    "# overlay the mask\n",
    "mask = plt.imread(\"mask.png\")\n",
    "ax.imshow(mask, aspect=\"auto\", zorder=1000)\n",
    "\n",
    "# remove the axes and spines\n",
    "ax.xaxis.set_visible(False)\n",
    "ax.yaxis.set_visible(False)\n",
    "for sp in ax.spines.values():\n",
    "    sp.set_visible(False)\n",
    "\n",
    "ax.set_xlim(0, FIGSIZE_PX[0])\n",
    "ax.set_ylim(FIGSIZE_PX[1], 0)\n",
    "\n",
    "plt.savefig(\"logo-000.png\", dpi=250)\n",
    "\n",
    "for t in trange(1, num_timesteps):\n",
    "    for rect, color in zip(patches, colors[t]):\n",
    "        rect.set_facecolor(COLORS[color])\n",
    "    plt.savefig(\"logo-{:03d}.png\".format(t), dpi=250)\n",
    "    \n",
    "# Save a high resolution static logo\n",
    "plt.savefig(\"logo.png\".format(t), dpi=1000)"
   ]
  },
  {
   "cell_type": "code",
   "execution_count": 114,
   "id": "96a13b24-b442-4a93-b654-b7ffba13d5ba",
   "metadata": {},
   "outputs": [],
   "source": [
    "!convert -delay 50 -loop 0 `ls -v logo-*.png` logo.gif"
   ]
  },
  {
   "cell_type": "code",
   "execution_count": null,
   "id": "a81f78f9-789e-4662-899e-dbb0217890e8",
   "metadata": {},
   "outputs": [],
   "source": [
    "!rm logo-*.png"
   ]
  }
 ],
 "metadata": {
  "kernelspec": {
   "display_name": "Python 3 (ipykernel)",
   "language": "python",
   "name": "python3"
  },
  "language_info": {
   "codemirror_mode": {
    "name": "ipython",
    "version": 3
   },
   "file_extension": ".py",
   "mimetype": "text/x-python",
   "name": "python",
   "nbconvert_exporter": "python",
   "pygments_lexer": "ipython3",
   "version": "3.9.6"
  }
 },
 "nbformat": 4,
 "nbformat_minor": 5
}
