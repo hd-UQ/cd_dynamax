{
  "cells": [
    {
      "cell_type": "markdown",
      "metadata": {
        "id": "4c2rXBc6oQKt"
      },
      "source": [
        "# Online Multiclass Logistic Regression using CMGF"
      ]
    },
    {
      "cell_type": "markdown",
      "metadata": {
        "id": "D15lpL3fD7f1"
      },
      "source": [
        "##0. Imports"
      ]
    },
    {
      "cell_type": "code",
      "execution_count": null,
      "metadata": {
        "id": "Vo3x6Kglg4IY"
      },
      "outputs": [],
      "source": [
        "# Silence WARNING:root:The use of `check_types` is deprecated and does not have any effect.\n",
        "# https://github.com/tensorflow/probability/issues/1523\n",
        "import logging, sys, warnings, os\n",
        "\n",
        "logger = logging.getLogger()\n",
        "\n",
        "\n",
        "class CheckTypesFilter(logging.Filter):\n",
        "    def filter(self, record):\n",
        "        return \"check_types\" not in record.getMessage()\n",
        "\n",
        "\n",
        "logger.addFilter(CheckTypesFilter())\n",
        "\n",
        "if not sys.warnoptions:\n",
        "    warnings.simplefilter(\"ignore\")\n",
        "    os.environ[\"PYTHONWARNINGS\"] = \"ignore\" # Also affect subprocesses"
      ]
    },
    {
      "cell_type": "code",
      "execution_count": null,
      "metadata": {
        "id": "uEBbL-EJnWxZ"
      },
      "outputs": [],
      "source": [
        "try:\n",
        "    from dynamax.cond_moments_gaussian_filter.cmgf import *\n",
        "    from dynamax.cond_moments_gaussian_filter.containers import *\n",
        "except ModuleNotFoundError:\n",
        "    print('installing dynamax')\n",
        "    %pip install -qq git+https://github.com/probml/dynamax.git\n",
        "    from dynamax.cond_moments_gaussian_filter.cmgf import *\n",
        "    from dynamax.cond_moments_gaussian_filter.containers import *"
      ]
    },
    {
      "cell_type": "code",
      "execution_count": null,
      "metadata": {
        "id": "NDRvXsqQpcDv"
      },
      "outputs": [],
      "source": [
        "from warnings import simplefilter\n",
        "\n",
        "import matplotlib.pyplot as plt\n",
        "\n",
        "import jax\n",
        "import jax.numpy as jnp\n",
        "import jax.random as jr\n",
        "from sklearn.datasets import make_classification\n",
        "from sklearn.model_selection import cross_val_score\n",
        "from sklearn.model_selection import RepeatedStratifiedKFold\n",
        "from sklearn.linear_model import LogisticRegression\n",
        "from sklearn import preprocessing\n",
        "from sklearn.base import BaseEstimator, ClassifierMixin\n",
        "from sklearn.preprocessing import OneHotEncoder\n",
        "from sklearn.exceptions import ConvergenceWarning"
      ]
    },
    {
      "cell_type": "markdown",
      "metadata": {
        "id": "2MIMhuR-EF47"
      },
      "source": [
        "## 1. CMGF Model for Online Multiclass Logistic Regression"
      ]
    },
    {
      "cell_type": "markdown",
      "metadata": {
        "id": "xExedRgYEv6X"
      },
      "source": [
        "Note that the moments of a (one-hot-encoded) categorical distribution with $K$ possible classes are as follows:\n",
        "\n",
        "$$\\mathbb{E}[\\vec{y}|\\vec{x}, \\textbf{W}] =  \\begin{pmatrix} \\sigma_2(\\textbf{W}^T\\vec{x}) \\\\ \\sigma_3(\\textbf{W}^T\\vec{x}) \\\\ \\vdots \\\\ \\sigma_K(\\textbf{W}^T\\vec{x}) \\end{pmatrix}\n",
        "$$\n",
        "$$Cov[\\vec{y}|\\vec{x}, \\textbf{W}] = \\begin{pmatrix} p_2 (1 - p_2) & -p_2 p_3 & \\dots & -p_2 p_K \\\\\n",
        "-p_2 p_3 & p_3 (1 - p_3) & \\dots  & -p_3 p_K \\\\\n",
        "\\vdots & \\vdots & \\ddots & \\vdots \\\\\n",
        "-p_2 p_K & -p_3 p_K & \\dots & p_K (1 - p_K)\n",
        " \\end{pmatrix}$$\n",
        "where $\\vec{\\sigma}(\\cdot)$ is the softmax function.\n",
        "\n",
        "Note that in order to prevent the \"Dummy Variable Trap,\" we drop the first column.\n",
        "\n",
        "Thus, we can build a generic multiclass CMGF classifier that works with the `scikit-learn` cross validation tool as follows.\n",
        "\n"
      ]
    },
    {
      "cell_type": "code",
      "execution_count": null,
      "metadata": {
        "id": "q713feGREIXA"
      },
      "outputs": [],
      "source": [
        "def fill_diagonal(A, elts):\n",
        "    # Taken from https://github.com/google/jax/issues/2680\n",
        "    elts = jnp.ravel(elts)\n",
        "    i, j = jnp.diag_indices(min(A.shape[-2:]))\n",
        "    return A.at[..., i, j].set(elts)"
      ]
    },
    {
      "cell_type": "code",
      "execution_count": null,
      "metadata": {
        "id": "saBspc73FGNf"
      },
      "outputs": [],
      "source": [
        "class CMGFEstimator(BaseEstimator, ClassifierMixin):\n",
        "    def __init__(self, params, mean=None, cov=None):\n",
        "        self.params = params\n",
        "        self.mean = mean\n",
        "        self.cov = cov\n",
        "\n",
        "    def fit(self, X, y):\n",
        "        X_bias = jnp.concatenate([jnp.ones((len(X), 1)), X], axis=1)\n",
        "        # Encode output as one-hot-encoded vectors with first column dropped,\n",
        "        # i.e., [0, ..., 0] correspondes to 1st class\n",
        "        # This is done to prevent the \"Dummy Variable Trap\".\n",
        "        enc = OneHotEncoder(drop='first')\n",
        "        y_oh = jnp.array(enc.fit_transform(y.reshape(-1, 1)).toarray())\n",
        "        input_dim = X_bias.shape[-1]\n",
        "        num_classes = y_oh.shape[-1] + 1\n",
        "        weight_dim = input_dim * num_classes\n",
        "        \n",
        "        initial_mean, initial_covariance = jnp.zeros(weight_dim), jnp.eye(weight_dim)\n",
        "        dynamics_function = lambda w, x: w\n",
        "        dynamics_covariance = jnp.zeros((weight_dim, weight_dim))\n",
        "        emission_mean_function = lambda w, x: jax.nn.softmax(x @ w.reshape(input_dim, -1))[1:]\n",
        "        def emission_var_function(w, x):\n",
        "            ps = jnp.atleast_2d(emission_mean_function(w, x))\n",
        "            return fill_diagonal(ps.T @ -ps, ps * (1-ps))\n",
        "        cmgf_params = self.params(\n",
        "            initial_mean = initial_mean,\n",
        "            initial_covariance = initial_covariance,\n",
        "            dynamics_function = dynamics_function,\n",
        "            dynamics_covariance = dynamics_covariance,\n",
        "            emission_mean_function = emission_mean_function,\n",
        "            emission_var_function = emission_var_function\n",
        "        )\n",
        "        post = conditional_moments_gaussian_filter(cmgf_params, y_oh, inputs = X_bias)\n",
        "        post_means, post_covs = post.filtered_means, post.filtered_covariances\n",
        "        self.mean, self.cov = post_means[-1], post_covs[-1]\n",
        "        return self\n",
        "    \n",
        "    def predict(self, X, y=None):\n",
        "        X_bias = jnp.concatenate([jnp.ones((len(X), 1)), X], axis=1)\n",
        "        return jnp.argmax(jax.nn.softmax(X_bias @ self.mean.reshape(X_bias.shape[-1], -1)), axis=1)"
      ]
    },
    {
      "cell_type": "code",
      "execution_count": null,
      "metadata": {
        "id": "dd5ixTIILah_"
      },
      "outputs": [],
      "source": [
        "# def repeated_kfold_cv(model, X, y, n_splits=10, n_repeats=3, key=1):\n",
        "#     if isinstance(key, int):\n",
        "#         key = jr.PRNGKey(key)\n",
        "#     key, subkey = jr.split(key, 2)\n",
        "#     num_points = len(y)\n",
        "#     accuracy_score = 0\n",
        "#     for _ in range(n_repeats):\n",
        "#         idx = jr.permutation(key, jnp.arange(num_points))\n",
        "#         kfolds = jnp.array_split(idx, n_splits)\n",
        "#         for i in range(n_splits):\n",
        "#             test_idx = kfolds[i]\n",
        "#             train_idx = jnp.concatenate(kfolds[:i] + kfolds[i+1:])\n",
        "#             X_train, y_train = X[train_idx], y[train_idx]\n",
        "#             X_test, y_test = X[test_idx], y[test_idx]\n",
        "#             model = model.fit(X_train, y_train)\n",
        "#             y_predict = model.predict(X_test)\n",
        "#             accuracy_score += 1 - (jnp.abs(y_predict - y_test).sum() / len(test_idx))\n",
        "#     return accuracy_score / (n_splits * n_repeats)"
      ]
    },
    {
      "cell_type": "markdown",
      "metadata": {
        "id": "gL591ok4Hs5s"
      },
      "source": [
        "##2. Accuracy Comparison with SGD"
      ]
    },
    {
      "cell_type": "markdown",
      "metadata": {
        "id": "ziBWqA7HYHx8"
      },
      "source": [
        "We compare classification accuracy of CMGF with those of one-pass SGD and multi-pass SGD using 10-fold cross validation."
      ]
    },
    {
      "cell_type": "code",
      "execution_count": null,
      "metadata": {
        "id": "i7ScoJbZe7rR"
      },
      "outputs": [],
      "source": [
        "# # Helper function to compute accuracy measure\n",
        "# def compute_accuracy(model, input, output, fit=True):\n",
        "#     if fit:\n",
        "#         model = model.fit(input, output)\n",
        "#     return jnp.count_nonzero(model.predict(input) - output == 0) / len(output)\n",
        "\n",
        "# # Print training accuracy\n",
        "# cmgf_model, sgd_model = CMGFEstimator(EKFParams), LogisticRegression(multi_class='multinomial', solver='sag', max_iter=1)\n",
        "# print(f'CMGF training accuracy: {compute_accuracy(cmgf_model, input, output)}')\n",
        "# print(f'SGD training accuracy: {compute_accuracy(sgd_model, input, output)}')"
      ]
    },
    {
      "cell_type": "code",
      "execution_count": null,
      "metadata": {
        "id": "JFvfXOraIJoQ"
      },
      "outputs": [],
      "source": [
        "def compute_cv_accuracies(num_points, num_classes):\n",
        "    input, output = make_classification(n_samples=num_points, n_features=num_classes+1, \n",
        "                                        n_informative=num_classes+1, n_redundant=0, n_classes=num_classes, random_state=2)\n",
        "    scaler = preprocessing.StandardScaler().fit(input)\n",
        "    input, output = jnp.array(scaler.transform(input)), jnp.array(output)\n",
        "\n",
        "    cv = RepeatedStratifiedKFold(n_splits=10, n_repeats=1, random_state=1)\n",
        "\n",
        "    cmgf_est = CMGFEstimator(EKFParams)\n",
        "\n",
        "    cmgf_score = cross_val_score(cmgf_est, input, output, scoring='accuracy', cv=cv, n_jobs=-1, error_score='raise').mean()\n",
        "    sag_op_score = cross_val_score(LogisticRegression(multi_class='multinomial', solver='sag', max_iter=1), input, output, scoring='accuracy', cv=cv, n_jobs=-1, error_score='raise').mean()\n",
        "    sag_mp_score = cross_val_score(LogisticRegression(multi_class='multinomial', solver='sag'), input, output, scoring='accuracy', cv=cv, n_jobs=-1, error_score='raise').mean()\n",
        "\n",
        "    return cmgf_score, sag_op_score, sag_mp_score\n"
      ]
    },
    {
      "cell_type": "code",
      "execution_count": null,
      "metadata": {
        "colab": {
          "base_uri": "https://localhost:8080/"
        },
        "id": "LFIhl10fH8z6",
        "outputId": "3329a7e0-120b-4230-fdae-3c948facc406"
      },
      "outputs": [
        {
          "name": "stdout",
          "output_type": "stream",
          "text": [
            "1000 data points, 2 classes.\n",
            "EKF-CMGF estimate average accuracy = 0.9040000000000001\n",
            "One-pass sag estimate average accuracy = 0.89\n",
            "Multi-pass sag estimate average accuracy = 0.905\n",
            "1000 data points, 3 classes.\n",
            "EKF-CMGF estimate average accuracy = 0.627\n",
            "One-pass sag estimate average accuracy = 0.5710000000000001\n",
            "Multi-pass sag estimate average accuracy = 0.628\n",
            "1000 data points, 4 classes.\n",
            "EKF-CMGF estimate average accuracy = 0.5499999999999999\n",
            "One-pass sag estimate average accuracy = 0.48900000000000005\n",
            "Multi-pass sag estimate average accuracy = 0.5489999999999998\n",
            "1000 data points, 5 classes.\n",
            "EKF-CMGF estimate average accuracy = 0.48999999999999994\n",
            "One-pass sag estimate average accuracy = 0.45199999999999996\n",
            "Multi-pass sag estimate average accuracy = 0.483\n",
            "1000 data points, 6 classes.\n",
            "EKF-CMGF estimate average accuracy = 0.5640000000000001\n",
            "One-pass sag estimate average accuracy = 0.519\n",
            "Multi-pass sag estimate average accuracy = 0.5670000000000001\n",
            "1000 data points, 7 classes.\n",
            "EKF-CMGF estimate average accuracy = 0.45\n",
            "One-pass sag estimate average accuracy = 0.409\n",
            "Multi-pass sag estimate average accuracy = 0.445\n",
            "1000 data points, 8 classes.\n",
            "EKF-CMGF estimate average accuracy = 0.373\n",
            "One-pass sag estimate average accuracy = 0.357\n",
            "Multi-pass sag estimate average accuracy = 0.384\n",
            "1000 data points, 9 classes.\n",
            "EKF-CMGF estimate average accuracy = 0.46499999999999997\n",
            "One-pass sag estimate average accuracy = 0.426\n",
            "Multi-pass sag estimate average accuracy = 0.4629999999999999\n",
            "1000 data points, 10 classes.\n",
            "EKF-CMGF estimate average accuracy = 0.4130000000000001\n",
            "One-pass sag estimate average accuracy = 0.368\n",
            "Multi-pass sag estimate average accuracy = 0.41\n",
            "1000 data points, 11 classes.\n",
            "EKF-CMGF estimate average accuracy = 0.387\n",
            "One-pass sag estimate average accuracy = 0.35\n",
            "Multi-pass sag estimate average accuracy = 0.393\n",
            "1000 data points, 12 classes.\n"
          ]
        },
        {
          "name": "stderr",
          "output_type": "stream",
          "text": [
            "/usr/local/lib/python3.7/dist-packages/joblib/externals/loky/process_executor.py:705: UserWarning: A worker stopped while some jobs were given to the executor. This can be caused by a too short worker timeout or by a memory leak.\n",
            "  \"timeout or by a memory leak.\", UserWarning\n"
          ]
        },
        {
          "name": "stdout",
          "output_type": "stream",
          "text": [
            "EKF-CMGF estimate average accuracy = 0.35900000000000004\n",
            "One-pass sag estimate average accuracy = 0.289\n",
            "Multi-pass sag estimate average accuracy = 0.365\n",
            "1000 data points, 13 classes.\n",
            "EKF-CMGF estimate average accuracy = 0.33199999999999996\n",
            "One-pass sag estimate average accuracy = 0.3\n",
            "Multi-pass sag estimate average accuracy = 0.33999999999999997\n",
            "1000 data points, 14 classes.\n",
            "EKF-CMGF estimate average accuracy = 0.31100000000000005\n",
            "One-pass sag estimate average accuracy = 0.28400000000000003\n",
            "Multi-pass sag estimate average accuracy = 0.31900000000000006\n",
            "1000 data points, 15 classes.\n",
            "EKF-CMGF estimate average accuracy = 0.257\n",
            "One-pass sag estimate average accuracy = 0.24899999999999997\n",
            "Multi-pass sag estimate average accuracy = 0.261\n",
            "1000 data points, 16 classes.\n",
            "EKF-CMGF estimate average accuracy = 0.257\n",
            "One-pass sag estimate average accuracy = 0.24500000000000002\n",
            "Multi-pass sag estimate average accuracy = 0.272\n",
            "1000 data points, 17 classes.\n"
          ]
        },
        {
          "name": "stderr",
          "output_type": "stream",
          "text": [
            "/usr/local/lib/python3.7/dist-packages/joblib/externals/loky/process_executor.py:705: UserWarning: A worker stopped while some jobs were given to the executor. This can be caused by a too short worker timeout or by a memory leak.\n",
            "  \"timeout or by a memory leak.\", UserWarning\n"
          ]
        },
        {
          "name": "stdout",
          "output_type": "stream",
          "text": [
            "EKF-CMGF estimate average accuracy = 0.2840000000000001\n",
            "One-pass sag estimate average accuracy = 0.29\n",
            "Multi-pass sag estimate average accuracy = 0.291\n",
            "1000 data points, 18 classes.\n",
            "EKF-CMGF estimate average accuracy = 0.257\n",
            "One-pass sag estimate average accuracy = 0.225\n",
            "Multi-pass sag estimate average accuracy = 0.25600000000000006\n"
          ]
        }
      ],
      "source": [
        "num_points = 1000\n",
        "class_range = range(2, 19)\n",
        "\n",
        "cmgf_accuracies, sgd_onepass_accuracies, sgd_multipass_accuracies = [], [], []\n",
        "for num_classes in class_range:\n",
        "    print(f'{num_points} data points, {num_classes} classes.')\n",
        "    cmgf_ac, sgd_op_ac, sgd_mp_ac = compute_cv_accuracies(num_points, num_classes)\n",
        "    cmgf_accuracies.append(cmgf_ac)\n",
        "    print(f'EKF-CMGF estimate average accuracy = {cmgf_ac}')\n",
        "    sgd_onepass_accuracies.append(sgd_op_ac)\n",
        "    print(f'One-pass sag estimate average accuracy = {sgd_op_ac}')\n",
        "    sgd_multipass_accuracies.append(sgd_mp_ac)\n",
        "    print(f'Multi-pass sag estimate average accuracy = {sgd_mp_ac}')\n",
        "    "
      ]
    },
    {
      "cell_type": "code",
      "execution_count": null,
      "metadata": {
        "colab": {
          "base_uri": "https://localhost:8080/",
          "height": 295
        },
        "id": "Gzb7T-PFIE3w",
        "outputId": "47299b8f-6ff2-4f43-c0f7-53b6021baaa3"
      },
      "outputs": [
        {
          "data": {
            "image/png": "[encoded data removed]",
            "text/plain": [
              "<Figure size 432x288 with 1 Axes>"
            ]
          },
          "metadata": {
            "needs_background": "light"
          },
          "output_type": "display_data"
        }
      ],
      "source": [
        "# Plot result\n",
        "fig, ax = plt.subplots()\n",
        "ax.plot(class_range, cmgf_accuracies, 'r', label='CMGF-EKF')\n",
        "ax.plot(class_range, sgd_onepass_accuracies, 'y', label='SGD (single pass)')\n",
        "ax.plot(class_range, sgd_multipass_accuracies, 'b--', label='SGD (multi pass)')\n",
        "ax.set_xticks(class_range)\n",
        "ax.set_xlabel('Number of output classes')\n",
        "ax.set_ylabel('10-fold cv average accuracy')\n",
        "ax.set_title('10-fold cv accuracy (CMGF vs SGD )')\n",
        "ax.legend();"
      ]
    },
    {
      "cell_type": "markdown",
      "metadata": {
        "id": "QFI8SWLlZB64"
      },
      "source": [
        "##3. Speed Comparison with SGD"
      ]
    },
    {
      "cell_type": "code",
      "execution_count": null,
      "metadata": {
        "id": "vbUoTxjvZ37D"
      },
      "outputs": [],
      "source": [
        "data_size_grid = list(range(20, 100, 20)) + list(range(100, 1000, 100)) + list(range(1000, 10000, 1000)) \\\n",
        "                 + list(range(10000, 100000, 10000)) + list(range(100000, 1000000, 100000))"
      ]
    },
    {
      "cell_type": "code",
      "execution_count": null,
      "metadata": {
        "colab": {
          "base_uri": "https://localhost:8080/"
        },
        "id": "xiavnsxuZrHy",
        "outputId": "d64b8467-65bb-4d36-eefa-1deee585a092"
      },
      "outputs": [
        {
          "name": "stdout",
          "output_type": "stream",
          "text": [
            "dataset of size 20\n",
            "cmgf took 1.4351356029510498 seconds.\n",
            "one-pass sgd took 0.003902435302734375 seconds.\n",
            "multi-pass sgd took 0.002874612808227539 seconds.\n",
            "dataset of size 40\n",
            "cmgf took 1.1339151859283447 seconds.\n",
            "one-pass sgd took 0.004061222076416016 seconds.\n",
            "multi-pass sgd took 0.002923250198364258 seconds.\n",
            "dataset of size 60\n",
            "cmgf took 1.0704281330108643 seconds.\n",
            "one-pass sgd took 0.0029878616333007812 seconds.\n",
            "multi-pass sgd took 0.002113819122314453 seconds.\n",
            "dataset of size 80\n",
            "cmgf took 0.9837203025817871 seconds.\n",
            "one-pass sgd took 0.002657175064086914 seconds.\n",
            "multi-pass sgd took 0.002251148223876953 seconds.\n",
            "dataset of size 100\n",
            "cmgf took 1.041109561920166 seconds.\n",
            "one-pass sgd took 0.0031430721282958984 seconds.\n",
            "multi-pass sgd took 0.004430055618286133 seconds.\n",
            "dataset of size 200\n",
            "cmgf took 1.1492512226104736 seconds.\n",
            "one-pass sgd took 0.003290414810180664 seconds.\n",
            "multi-pass sgd took 0.008254766464233398 seconds.\n",
            "dataset of size 300\n",
            "cmgf took 1.12516188621521 seconds.\n",
            "one-pass sgd took 0.003319263458251953 seconds.\n",
            "multi-pass sgd took 0.005869865417480469 seconds.\n",
            "dataset of size 400\n",
            "cmgf took 1.4406251907348633 seconds.\n",
            "one-pass sgd took 0.0035254955291748047 seconds.\n",
            "multi-pass sgd took 0.006236076354980469 seconds.\n",
            "dataset of size 500\n",
            "cmgf took 1.0015127658843994 seconds.\n",
            "one-pass sgd took 0.004041910171508789 seconds.\n",
            "multi-pass sgd took 0.006882667541503906 seconds.\n",
            "dataset of size 600\n",
            "cmgf took 1.1648836135864258 seconds.\n",
            "one-pass sgd took 0.0038170814514160156 seconds.\n",
            "multi-pass sgd took 0.00841665267944336 seconds.\n",
            "dataset of size 700\n",
            "cmgf took 1.1848526000976562 seconds.\n",
            "one-pass sgd took 0.0038738250732421875 seconds.\n",
            "multi-pass sgd took 0.008675813674926758 seconds.\n",
            "dataset of size 800\n",
            "cmgf took 1.0770740509033203 seconds.\n",
            "one-pass sgd took 0.003551483154296875 seconds.\n",
            "multi-pass sgd took 0.009138345718383789 seconds.\n",
            "dataset of size 900\n",
            "cmgf took 1.0992867946624756 seconds.\n",
            "one-pass sgd took 0.003419637680053711 seconds.\n",
            "multi-pass sgd took 0.016553878784179688 seconds.\n",
            "dataset of size 1000\n",
            "cmgf took 1.0548906326293945 seconds.\n",
            "one-pass sgd took 0.0035805702209472656 seconds.\n",
            "multi-pass sgd took 0.00906991958618164 seconds.\n",
            "dataset of size 2000\n",
            "cmgf took 1.0792348384857178 seconds.\n",
            "one-pass sgd took 0.004471778869628906 seconds.\n",
            "multi-pass sgd took 0.020868301391601562 seconds.\n",
            "dataset of size 3000\n",
            "cmgf took 1.1681466102600098 seconds.\n",
            "one-pass sgd took 0.0053899288177490234 seconds.\n",
            "multi-pass sgd took 0.03048872947692871 seconds.\n",
            "dataset of size 4000\n",
            "cmgf took 1.279848337173462 seconds.\n",
            "one-pass sgd took 0.004639387130737305 seconds.\n",
            "multi-pass sgd took 0.03211641311645508 seconds.\n",
            "dataset of size 5000\n",
            "cmgf took 1.0902647972106934 seconds.\n",
            "one-pass sgd took 0.0058252811431884766 seconds.\n",
            "multi-pass sgd took 0.050254106521606445 seconds.\n",
            "dataset of size 6000\n",
            "cmgf took 1.2159783840179443 seconds.\n",
            "one-pass sgd took 0.007163524627685547 seconds.\n",
            "multi-pass sgd took 0.06187009811401367 seconds.\n",
            "dataset of size 7000\n",
            "cmgf took 1.2411818504333496 seconds.\n",
            "one-pass sgd took 0.0076427459716796875 seconds.\n",
            "multi-pass sgd took 0.061913251876831055 seconds.\n",
            "dataset of size 8000\n",
            "cmgf took 1.2674741744995117 seconds.\n",
            "one-pass sgd took 0.006710052490234375 seconds.\n",
            "multi-pass sgd took 0.08196854591369629 seconds.\n",
            "dataset of size 9000\n",
            "cmgf took 1.2915184497833252 seconds.\n",
            "one-pass sgd took 0.007716178894042969 seconds.\n",
            "multi-pass sgd took 0.09117507934570312 seconds.\n",
            "dataset of size 10000\n",
            "cmgf took 1.2495758533477783 seconds.\n",
            "one-pass sgd took 0.009627342224121094 seconds.\n",
            "multi-pass sgd took 0.10564756393432617 seconds.\n",
            "dataset of size 20000\n",
            "cmgf took 1.3694109916687012 seconds.\n",
            "one-pass sgd took 0.018322229385375977 seconds.\n",
            "multi-pass sgd took 0.24538874626159668 seconds.\n",
            "dataset of size 30000\n",
            "cmgf took 1.4606256484985352 seconds.\n",
            "one-pass sgd took 0.02458357810974121 seconds.\n",
            "multi-pass sgd took 0.2954592704772949 seconds.\n",
            "dataset of size 40000\n",
            "cmgf took 1.4179437160491943 seconds.\n",
            "one-pass sgd took 0.03982257843017578 seconds.\n",
            "multi-pass sgd took 0.7346532344818115 seconds.\n",
            "dataset of size 50000\n",
            "cmgf took 1.644007921218872 seconds.\n",
            "one-pass sgd took 0.04092288017272949 seconds.\n",
            "multi-pass sgd took 0.5279567241668701 seconds.\n",
            "dataset of size 60000\n",
            "cmgf took 1.7648649215698242 seconds.\n",
            "one-pass sgd took 0.06592655181884766 seconds.\n",
            "multi-pass sgd took 0.9716782569885254 seconds.\n",
            "dataset of size 70000\n",
            "cmgf took 1.7345643043518066 seconds.\n",
            "one-pass sgd took 0.061029672622680664 seconds.\n",
            "multi-pass sgd took 0.8429808616638184 seconds.\n",
            "dataset of size 80000\n",
            "cmgf took 1.8411712646484375 seconds.\n",
            "one-pass sgd took 0.0584561824798584 seconds.\n",
            "multi-pass sgd took 1.132669448852539 seconds.\n",
            "dataset of size 90000\n",
            "cmgf took 1.9966723918914795 seconds.\n",
            "one-pass sgd took 0.10585570335388184 seconds.\n",
            "multi-pass sgd took 2.0751349925994873 seconds.\n",
            "dataset of size 100000\n",
            "cmgf took 2.1501214504241943 seconds.\n",
            "one-pass sgd took 0.11574029922485352 seconds.\n",
            "multi-pass sgd took 2.619509220123291 seconds.\n",
            "dataset of size 200000\n",
            "cmgf took 2.9788355827331543 seconds.\n",
            "one-pass sgd took 0.26125574111938477 seconds.\n",
            "multi-pass sgd took 4.959406852722168 seconds.\n",
            "dataset of size 300000\n",
            "cmgf took 3.9050614833831787 seconds.\n",
            "one-pass sgd took 0.29729294776916504 seconds.\n",
            "multi-pass sgd took 6.432461738586426 seconds.\n",
            "dataset of size 400000\n",
            "cmgf took 4.939682722091675 seconds.\n",
            "one-pass sgd took 0.5290918350219727 seconds.\n",
            "multi-pass sgd took 9.403817892074585 seconds.\n",
            "dataset of size 500000\n",
            "cmgf took 5.8702003955841064 seconds.\n",
            "one-pass sgd took 0.6791386604309082 seconds.\n",
            "multi-pass sgd took 10.346223592758179 seconds.\n",
            "dataset of size 600000\n",
            "cmgf took 6.788238525390625 seconds.\n",
            "one-pass sgd took 0.8247029781341553 seconds.\n",
            "multi-pass sgd took 16.598719596862793 seconds.\n",
            "dataset of size 700000\n",
            "cmgf took 7.695049524307251 seconds.\n",
            "one-pass sgd took 0.9501240253448486 seconds.\n",
            "multi-pass sgd took 16.758854627609253 seconds.\n",
            "dataset of size 800000\n",
            "cmgf took 8.72581148147583 seconds.\n",
            "one-pass sgd took 1.0926594734191895 seconds.\n",
            "multi-pass sgd took 18.42120933532715 seconds.\n",
            "dataset of size 900000\n",
            "cmgf took 9.253260850906372 seconds.\n",
            "one-pass sgd took 0.975881814956665 seconds.\n",
            "multi-pass sgd took 20.693013668060303 seconds.\n"
          ]
        }
      ],
      "source": [
        "cmgf_est = CMGFEstimator(EKFParams)\n",
        "sgd_op_est = LogisticRegression(multi_class='multinomial', solver='sag', max_iter=1)\n",
        "sgd_mp_est = LogisticRegression(multi_class='multinomial', solver='sag')\n",
        "\n",
        "# Plot timed results against different dataset sizes\n",
        "# with fixed class size (K = 3)\n",
        "import numpy as np\n",
        "import time\n",
        "\n",
        "cmgf_times, sgd_op_times, sgd_mp_times = [], [], []\n",
        "\n",
        "it_times, vec_times = [], []\n",
        "for data_size in data_size_grid:\n",
        "    print(f'dataset of size {data_size}')\n",
        "    simplefilter(\"ignore\", category=ConvergenceWarning)\n",
        "    input, output = make_classification(n_samples=data_size, n_features=4, n_informative=4, \n",
        "                                        n_redundant=0, n_classes=3, random_state=2)\n",
        "    start = time.time()\n",
        "    _ = cmgf_est.fit(input, output)\n",
        "    cmgf_time = time.time() - start\n",
        "    cmgf_times.append(cmgf_time)\n",
        "    print(f'cmgf took {cmgf_time} seconds.')\n",
        "\n",
        "    start = time.time()\n",
        "    _ = sgd_op_est.fit(input, output)\n",
        "    sgd_op_time = time.time() - start\n",
        "    sgd_op_times.append(sgd_op_time)\n",
        "    print(f'one-pass sgd took {sgd_op_time} seconds.')\n",
        "\n",
        "    start = time.time()\n",
        "    _ = sgd_mp_est.fit(input, output)\n",
        "    sgd_mp_time = time.time() - start\n",
        "    sgd_mp_times.append(sgd_mp_time)\n",
        "    print(f'multi-pass sgd took {sgd_mp_time} seconds.')"
      ]
    },
    {
      "cell_type": "code",
      "execution_count": null,
      "metadata": {
        "colab": {
          "base_uri": "https://localhost:8080/",
          "height": 295
        },
        "id": "u1DP_RYei8q3",
        "outputId": "1958c8fd-88de-4f44-dd8a-58d7354e55b5"
      },
      "outputs": [
        {
          "data": {
            "image/png": "[encoded data removed]",
            "text/plain": [
              "<Figure size 432x288 with 1 Axes>"
            ]
          },
          "metadata": {
            "needs_background": "light"
          },
          "output_type": "display_data"
        }
      ],
      "source": [
        "# Plot the result\n",
        "fig, ax = plt.subplots()\n",
        "ax.plot(data_size_grid, cmgf_times, label='CMGF-EKF')\n",
        "ax.plot(data_size_grid, sgd_op_times, label='SGD (single pass)')\n",
        "ax.plot(data_size_grid, sgd_mp_times, label='SGD (multi pass)')\n",
        "ax.set_xlabel('Dataset size')\n",
        "ax.set_ylabel('Train time in s')\n",
        "ax.set_title('Train speed vs dataset size (CMGF vs SGD)')\n",
        "ax.legend();\n",
        "plt.show()"
      ]
    },
    {
      "cell_type": "markdown",
      "metadata": {
        "id": "2bmsihchf--d"
      },
      "source": [
        "##4. (K-1) CMGF Binary Regressions"
      ]
    },
    {
      "cell_type": "markdown",
      "metadata": {
        "id": "DIe2QkTSgLvF"
      },
      "source": [
        "Let us try to construct the multinomial logistic regression as a combination of $(K-1)$ binary logistic regressions."
      ]
    },
    {
      "cell_type": "code",
      "execution_count": null,
      "metadata": {
        "id": "8hMGH1CtoByz"
      },
      "outputs": [],
      "source": [
        "sigmoid_fn = lambda w, x: jax.nn.sigmoid(w @ x)\n",
        "\n",
        "class CMGFOneVsAllEstimator(BaseEstimator, ClassifierMixin):\n",
        "    def __init__(self, params, weights=None):\n",
        "        self.params = params\n",
        "        self.weights = weights\n",
        "\n",
        "    def fit(self, X, y):\n",
        "        X_bias = jnp.concatenate([jnp.ones((len(X), 1)), X], axis=1)\n",
        "        input_dim = X_bias.shape[-1]\n",
        "        num_classes = y.max() + 1\n",
        "\n",
        "        # Construct CMGFParams\n",
        "        cmgf_params = self.params(\n",
        "            initial_mean = jnp.zeros(input_dim),\n",
        "            initial_covariance = jnp.eye(input_dim),\n",
        "            dynamics_function = lambda w, x: w,\n",
        "            dynamics_covariance = jnp.zeros((input_dim, input_dim)),\n",
        "            emission_mean_function = sigmoid_fn,\n",
        "            emission_var_function = lambda w, x: sigmoid_fn(w, x) * (1 - sigmoid_fn(w, x))\n",
        "        )\n",
        "\n",
        "        # Construct (K-1) binary classifiers\n",
        "        classifiers = []\n",
        "        for k in range(num_classes):\n",
        "            y_k = jnp.array((y == k).astype(float))\n",
        "            post = conditional_moments_gaussian_filter(cmgf_params, y_k, inputs=X_bias)\n",
        "            classifiers.append(post.filtered_means[-1])\n",
        "\n",
        "        self.weights = jnp.array(classifiers)\n",
        "        return self\n",
        "    \n",
        "    def predict(self, X, y=None):\n",
        "        X_bias = jnp.concatenate([jnp.ones((len(X), 1)), X], axis=1)\n",
        "        return jnp.argmax(sigmoid_fn(X_bias, self.weights.T), axis=1)"
      ]
    },
    {
      "cell_type": "markdown",
      "metadata": {
        "id": "WvNJoCREv3LZ"
      },
      "source": [
        "Let's examine the speed-up."
      ]
    },
    {
      "cell_type": "code",
      "execution_count": null,
      "metadata": {
        "colab": {
          "base_uri": "https://localhost:8080/"
        },
        "id": "baAZZ7M4v7Ha",
        "outputId": "c979c4a0-5e63-41c4-8986-f5dda2feea5b"
      },
      "outputs": [
        {
          "name": "stdout",
          "output_type": "stream",
          "text": [
            "dataset of size 20\n",
            "cmgf took 2.247864246368408 seconds.\n",
            "one-pass sgd took 0.0017330646514892578 seconds.\n",
            "multi-pass sgd took 0.0015726089477539062 seconds.\n",
            "dataset of size 40\n",
            "cmgf took 2.141752004623413 seconds.\n",
            "one-pass sgd took 0.0029501914978027344 seconds.\n",
            "multi-pass sgd took 0.0028657913208007812 seconds.\n",
            "dataset of size 60\n",
            "cmgf took 2.113652229309082 seconds.\n",
            "one-pass sgd took 0.003916263580322266 seconds.\n",
            "multi-pass sgd took 0.0030303001403808594 seconds.\n",
            "dataset of size 80\n",
            "cmgf took 2.144176483154297 seconds.\n",
            "one-pass sgd took 0.0017254352569580078 seconds.\n",
            "multi-pass sgd took 0.0021047592163085938 seconds.\n",
            "dataset of size 100\n",
            "cmgf took 2.5510377883911133 seconds.\n",
            "one-pass sgd took 0.0020895004272460938 seconds.\n",
            "multi-pass sgd took 0.0025649070739746094 seconds.\n",
            "dataset of size 200\n",
            "cmgf took 2.141427516937256 seconds.\n",
            "one-pass sgd took 0.0016314983367919922 seconds.\n",
            "multi-pass sgd took 0.002859354019165039 seconds.\n",
            "dataset of size 300\n",
            "cmgf took 1.8176734447479248 seconds.\n",
            "one-pass sgd took 0.0036988258361816406 seconds.\n",
            "multi-pass sgd took 0.006010532379150391 seconds.\n",
            "dataset of size 400\n",
            "cmgf took 2.131483554840088 seconds.\n",
            "one-pass sgd took 0.0019443035125732422 seconds.\n",
            "multi-pass sgd took 0.0056073665618896484 seconds.\n",
            "dataset of size 500\n",
            "cmgf took 2.2097485065460205 seconds.\n",
            "one-pass sgd took 0.0038950443267822266 seconds.\n",
            "multi-pass sgd took 0.007578372955322266 seconds.\n",
            "dataset of size 600\n",
            "cmgf took 2.133527994155884 seconds.\n",
            "one-pass sgd took 0.0022079944610595703 seconds.\n",
            "multi-pass sgd took 0.007909297943115234 seconds.\n",
            "dataset of size 700\n",
            "cmgf took 2.025797128677368 seconds.\n",
            "one-pass sgd took 0.004023313522338867 seconds.\n",
            "multi-pass sgd took 0.011013269424438477 seconds.\n",
            "dataset of size 800\n",
            "cmgf took 2.6198127269744873 seconds.\n",
            "one-pass sgd took 0.0039000511169433594 seconds.\n",
            "multi-pass sgd took 0.011148452758789062 seconds.\n",
            "dataset of size 900\n",
            "cmgf took 2.1559877395629883 seconds.\n",
            "one-pass sgd took 0.003929615020751953 seconds.\n",
            "multi-pass sgd took 0.012558937072753906 seconds.\n",
            "dataset of size 1000\n",
            "cmgf took 2.049783229827881 seconds.\n",
            "one-pass sgd took 0.0033288002014160156 seconds.\n",
            "multi-pass sgd took 0.01012277603149414 seconds.\n",
            "dataset of size 2000\n",
            "cmgf took 2.0664381980895996 seconds.\n",
            "one-pass sgd took 0.00454258918762207 seconds.\n",
            "multi-pass sgd took 0.022353172302246094 seconds.\n",
            "dataset of size 3000\n",
            "cmgf took 2.1363601684570312 seconds.\n",
            "one-pass sgd took 0.004629373550415039 seconds.\n",
            "multi-pass sgd took 0.031493425369262695 seconds.\n",
            "dataset of size 4000\n",
            "cmgf took 1.895021677017212 seconds.\n",
            "one-pass sgd took 0.004461050033569336 seconds.\n",
            "multi-pass sgd took 0.034441232681274414 seconds.\n",
            "dataset of size 5000\n",
            "cmgf took 1.904376745223999 seconds.\n",
            "one-pass sgd took 0.0064504146575927734 seconds.\n",
            "multi-pass sgd took 0.051361799240112305 seconds.\n",
            "dataset of size 6000\n",
            "cmgf took 2.748452663421631 seconds.\n",
            "one-pass sgd took 0.005502223968505859 seconds.\n",
            "multi-pass sgd took 0.06683635711669922 seconds.\n",
            "dataset of size 7000\n",
            "cmgf took 2.287061929702759 seconds.\n",
            "one-pass sgd took 0.008087158203125 seconds.\n",
            "multi-pass sgd took 0.06329560279846191 seconds.\n",
            "dataset of size 8000\n",
            "cmgf took 2.2241897583007812 seconds.\n",
            "one-pass sgd took 0.007070302963256836 seconds.\n",
            "multi-pass sgd took 0.07593631744384766 seconds.\n",
            "dataset of size 9000\n",
            "cmgf took 2.251366376876831 seconds.\n",
            "one-pass sgd took 0.007658481597900391 seconds.\n",
            "multi-pass sgd took 0.09272050857543945 seconds.\n",
            "dataset of size 10000\n",
            "cmgf took 2.250208616256714 seconds.\n",
            "one-pass sgd took 0.010555744171142578 seconds.\n",
            "multi-pass sgd took 0.10252046585083008 seconds.\n",
            "dataset of size 20000\n",
            "cmgf took 2.3359451293945312 seconds.\n",
            "one-pass sgd took 0.0217134952545166 seconds.\n",
            "multi-pass sgd took 0.2470080852508545 seconds.\n",
            "dataset of size 30000\n",
            "cmgf took 2.475764036178589 seconds.\n",
            "one-pass sgd took 0.022215604782104492 seconds.\n",
            "multi-pass sgd took 0.25092577934265137 seconds.\n",
            "dataset of size 40000\n",
            "cmgf took 2.434718608856201 seconds.\n",
            "one-pass sgd took 0.042949676513671875 seconds.\n",
            "multi-pass sgd took 0.4916534423828125 seconds.\n",
            "dataset of size 50000\n",
            "cmgf took 3.076319694519043 seconds.\n",
            "one-pass sgd took 0.050797224044799805 seconds.\n",
            "multi-pass sgd took 0.9660537242889404 seconds.\n",
            "dataset of size 60000\n",
            "cmgf took 2.6345906257629395 seconds.\n",
            "one-pass sgd took 0.061223745346069336 seconds.\n",
            "multi-pass sgd took 1.0757758617401123 seconds.\n",
            "dataset of size 70000\n",
            "cmgf took 2.7093818187713623 seconds.\n",
            "one-pass sgd took 0.10248351097106934 seconds.\n",
            "multi-pass sgd took 1.5215744972229004 seconds.\n",
            "dataset of size 80000\n",
            "cmgf took 2.842820644378662 seconds.\n",
            "one-pass sgd took 0.07693910598754883 seconds.\n",
            "multi-pass sgd took 1.0894696712493896 seconds.\n",
            "dataset of size 90000\n",
            "cmgf took 3.032198667526245 seconds.\n",
            "one-pass sgd took 0.10219120979309082 seconds.\n",
            "multi-pass sgd took 1.5828421115875244 seconds.\n",
            "dataset of size 100000\n",
            "cmgf took 3.068697214126587 seconds.\n",
            "one-pass sgd took 0.10702323913574219 seconds.\n",
            "multi-pass sgd took 2.761890172958374 seconds.\n",
            "dataset of size 200000\n",
            "cmgf took 4.350834846496582 seconds.\n",
            "one-pass sgd took 0.27786779403686523 seconds.\n",
            "multi-pass sgd took 5.1138787269592285 seconds.\n",
            "dataset of size 300000\n",
            "cmgf took 6.191785573959351 seconds.\n",
            "one-pass sgd took 0.39610838890075684 seconds.\n",
            "multi-pass sgd took 6.630280256271362 seconds.\n",
            "dataset of size 400000\n",
            "cmgf took 6.729936361312866 seconds.\n",
            "one-pass sgd took 0.5301399230957031 seconds.\n",
            "multi-pass sgd took 8.880788803100586 seconds.\n",
            "dataset of size 500000\n",
            "cmgf took 7.156586647033691 seconds.\n",
            "one-pass sgd took 0.5154798030853271 seconds.\n",
            "multi-pass sgd took 9.878097772598267 seconds.\n",
            "dataset of size 600000\n",
            "cmgf took 8.344544649124146 seconds.\n",
            "one-pass sgd took 0.6738855838775635 seconds.\n",
            "multi-pass sgd took 12.782240390777588 seconds.\n",
            "dataset of size 700000\n",
            "cmgf took 9.24948263168335 seconds.\n",
            "one-pass sgd took 0.9374144077301025 seconds.\n",
            "multi-pass sgd took 18.83796525001526 seconds.\n",
            "dataset of size 800000\n",
            "cmgf took 10.545517921447754 seconds.\n",
            "one-pass sgd took 1.1012070178985596 seconds.\n",
            "multi-pass sgd took 18.36552929878235 seconds.\n",
            "dataset of size 900000\n",
            "cmgf took 11.651687860488892 seconds.\n",
            "one-pass sgd took 1.2286105155944824 seconds.\n",
            "multi-pass sgd took 15.630087852478027 seconds.\n"
          ]
        }
      ],
      "source": [
        "cmgf_est = CMGFOneVsAllEstimator(EKFParams)\n",
        "sgd_op_est = LogisticRegression(multi_class='multinomial', solver='sag', max_iter=1)\n",
        "sgd_mp_est = LogisticRegression(multi_class='multinomial', solver='sag')\n",
        "\n",
        "# Plot timed results against different dataset sizes\n",
        "# with fixed class size (K = 3)\n",
        "import numpy as np\n",
        "import time\n",
        "\n",
        "cmgf_times, sgd_op_times, sgd_mp_times = [], [], []\n",
        "\n",
        "it_times, vec_times = [], []\n",
        "for data_size in data_size_grid:\n",
        "    print(f'dataset of size {data_size}')\n",
        "    simplefilter(\"ignore\", category=ConvergenceWarning)\n",
        "    input, output = make_classification(n_samples=data_size, n_features=4, n_informative=4, \n",
        "                                        n_redundant=0, n_classes=3, random_state=2)\n",
        "    start = time.time()\n",
        "    _ = cmgf_est.fit(input, output)\n",
        "    cmgf_time = time.time() - start\n",
        "    cmgf_times.append(cmgf_time)\n",
        "    print(f'cmgf took {cmgf_time} seconds.')\n",
        "\n",
        "    start = time.time()\n",
        "    _ = sgd_op_est.fit(input, output)\n",
        "    sgd_op_time = time.time() - start\n",
        "    sgd_op_times.append(sgd_op_time)\n",
        "    print(f'one-pass sgd took {sgd_op_time} seconds.')\n",
        "\n",
        "    start = time.time()\n",
        "    _ = sgd_mp_est.fit(input, output)\n",
        "    sgd_mp_time = time.time() - start\n",
        "    sgd_mp_times.append(sgd_mp_time)\n",
        "    print(f'multi-pass sgd took {sgd_mp_time} seconds.')"
      ]
    },
    {
      "cell_type": "code",
      "execution_count": null,
      "metadata": {
        "colab": {
          "base_uri": "https://localhost:8080/",
          "height": 295
        },
        "id": "xphGBYR0w9Zw",
        "outputId": "f12db1df-e2a4-477b-c98c-377f621c9e77"
      },
      "outputs": [
        {
          "data": {
            "image/png": "[encoded data removed]",
            "text/plain": [
              "<Figure size 432x288 with 1 Axes>"
            ]
          },
          "metadata": {
            "needs_background": "light"
          },
          "output_type": "display_data"
        }
      ],
      "source": [
        "# Plot the result\n",
        "fig, ax = plt.subplots()\n",
        "ax.plot(data_size_grid, cmgf_times, label='CMGF-EKF')\n",
        "ax.plot(data_size_grid, sgd_op_times, label='SGD (single pass)')\n",
        "ax.plot(data_size_grid, sgd_mp_times, label='SGD (multi pass)')\n",
        "ax.set_xlabel('Dataset size')\n",
        "ax.set_ylabel('Train time in s')\n",
        "ax.set_title('Train speed vs dataset size (CMGF vs SGD)')\n",
        "ax.legend();\n",
        "plt.show()"
      ]
    },
    {
      "cell_type": "code",
      "execution_count": null,
      "metadata": {
        "id": "zE7jM6lsvhnl"
      },
      "outputs": [],
      "source": [
        "def compute_cv_accuracies(num_points, num_classes):\n",
        "    input, output = make_classification(n_samples=num_points, n_features=num_classes+1, \n",
        "                                        n_informative=num_classes+1, n_redundant=0, n_classes=num_classes, random_state=2)\n",
        "    scaler = preprocessing.StandardScaler().fit(input)\n",
        "    input, output = jnp.array(scaler.transform(input)), jnp.array(output)\n",
        "\n",
        "    cv = RepeatedStratifiedKFold(n_splits=10, n_repeats=1, random_state=1)\n",
        "\n",
        "    cmgf_est = CMGFOneVsAllEstimator(EKFParams)\n",
        "\n",
        "    cmgf_score = cross_val_score(cmgf_est, input, output, scoring='accuracy', cv=cv, n_jobs=-1, error_score='raise').mean()\n",
        "    sag_op_score = cross_val_score(LogisticRegression(multi_class='multinomial', solver='sag', max_iter=1), input, output, scoring='accuracy', cv=cv, n_jobs=-1, error_score='raise').mean()\n",
        "    sag_mp_score = cross_val_score(LogisticRegression(multi_class='multinomial', solver='sag'), input, output, scoring='accuracy', cv=cv, n_jobs=-1, error_score='raise').mean()\n",
        "\n",
        "    return cmgf_score, sag_op_score, sag_mp_score"
      ]
    },
    {
      "cell_type": "code",
      "execution_count": null,
      "metadata": {
        "colab": {
          "base_uri": "https://localhost:8080/"
        },
        "id": "Tb6zzkxttk2S",
        "outputId": "f9ffb4a8-97ca-4023-e256-4b18fa06f549"
      },
      "outputs": [
        {
          "name": "stdout",
          "output_type": "stream",
          "text": [
            "1000 data points, 2 classes.\n",
            "EKF-CMGF estimate average accuracy = 0.9010000000000001\n",
            "One-pass sag estimate average accuracy = 0.9\n",
            "Multi-pass sag estimate average accuracy = 0.905\n",
            "1000 data points, 3 classes.\n",
            "EKF-CMGF estimate average accuracy = 0.625\n",
            "One-pass sag estimate average accuracy = 0.585\n",
            "Multi-pass sag estimate average accuracy = 0.628\n",
            "1000 data points, 4 classes.\n",
            "EKF-CMGF estimate average accuracy = 0.5359999999999999\n",
            "One-pass sag estimate average accuracy = 0.46299999999999997\n",
            "Multi-pass sag estimate average accuracy = 0.5489999999999998\n",
            "1000 data points, 5 classes.\n",
            "EKF-CMGF estimate average accuracy = 0.491\n",
            "One-pass sag estimate average accuracy = 0.449\n",
            "Multi-pass sag estimate average accuracy = 0.483\n",
            "1000 data points, 6 classes.\n",
            "EKF-CMGF estimate average accuracy = 0.5680000000000001\n",
            "One-pass sag estimate average accuracy = 0.537\n",
            "Multi-pass sag estimate average accuracy = 0.5670000000000001\n",
            "1000 data points, 7 classes.\n",
            "EKF-CMGF estimate average accuracy = 0.45199999999999996\n",
            "One-pass sag estimate average accuracy = 0.394\n",
            "Multi-pass sag estimate average accuracy = 0.445\n",
            "1000 data points, 8 classes.\n"
          ]
        },
        {
          "name": "stderr",
          "output_type": "stream",
          "text": [
            "/usr/local/lib/python3.7/dist-packages/joblib/externals/loky/process_executor.py:705: UserWarning: A worker stopped while some jobs were given to the executor. This can be caused by a too short worker timeout or by a memory leak.\n",
            "  \"timeout or by a memory leak.\", UserWarning\n"
          ]
        },
        {
          "name": "stdout",
          "output_type": "stream",
          "text": [
            "EKF-CMGF estimate average accuracy = 0.376\n",
            "One-pass sag estimate average accuracy = 0.33599999999999997\n",
            "Multi-pass sag estimate average accuracy = 0.384\n",
            "1000 data points, 9 classes.\n",
            "EKF-CMGF estimate average accuracy = 0.45499999999999996\n",
            "One-pass sag estimate average accuracy = 0.41900000000000004\n",
            "Multi-pass sag estimate average accuracy = 0.4629999999999999\n",
            "1000 data points, 10 classes.\n",
            "EKF-CMGF estimate average accuracy = 0.399\n",
            "One-pass sag estimate average accuracy = 0.36499999999999994\n",
            "Multi-pass sag estimate average accuracy = 0.41\n",
            "1000 data points, 11 classes.\n"
          ]
        },
        {
          "name": "stderr",
          "output_type": "stream",
          "text": [
            "/usr/local/lib/python3.7/dist-packages/joblib/externals/loky/process_executor.py:705: UserWarning: A worker stopped while some jobs were given to the executor. This can be caused by a too short worker timeout or by a memory leak.\n",
            "  \"timeout or by a memory leak.\", UserWarning\n"
          ]
        },
        {
          "name": "stdout",
          "output_type": "stream",
          "text": [
            "EKF-CMGF estimate average accuracy = 0.38699999999999996\n",
            "One-pass sag estimate average accuracy = 0.36900000000000005\n",
            "Multi-pass sag estimate average accuracy = 0.393\n",
            "1000 data points, 12 classes.\n",
            "EKF-CMGF estimate average accuracy = 0.357\n",
            "One-pass sag estimate average accuracy = 0.331\n",
            "Multi-pass sag estimate average accuracy = 0.365\n",
            "1000 data points, 13 classes.\n"
          ]
        },
        {
          "name": "stderr",
          "output_type": "stream",
          "text": [
            "/usr/local/lib/python3.7/dist-packages/joblib/externals/loky/process_executor.py:705: UserWarning: A worker stopped while some jobs were given to the executor. This can be caused by a too short worker timeout or by a memory leak.\n",
            "  \"timeout or by a memory leak.\", UserWarning\n"
          ]
        },
        {
          "name": "stdout",
          "output_type": "stream",
          "text": [
            "EKF-CMGF estimate average accuracy = 0.336\n",
            "One-pass sag estimate average accuracy = 0.30500000000000005\n",
            "Multi-pass sag estimate average accuracy = 0.33999999999999997\n",
            "1000 data points, 14 classes.\n"
          ]
        },
        {
          "name": "stderr",
          "output_type": "stream",
          "text": [
            "/usr/local/lib/python3.7/dist-packages/joblib/externals/loky/process_executor.py:705: UserWarning: A worker stopped while some jobs were given to the executor. This can be caused by a too short worker timeout or by a memory leak.\n",
            "  \"timeout or by a memory leak.\", UserWarning\n"
          ]
        },
        {
          "name": "stdout",
          "output_type": "stream",
          "text": [
            "EKF-CMGF estimate average accuracy = 0.341\n",
            "One-pass sag estimate average accuracy = 0.29799999999999993\n",
            "Multi-pass sag estimate average accuracy = 0.31900000000000006\n",
            "1000 data points, 15 classes.\n",
            "EKF-CMGF estimate average accuracy = 0.258\n",
            "One-pass sag estimate average accuracy = 0.229\n",
            "Multi-pass sag estimate average accuracy = 0.261\n",
            "1000 data points, 16 classes.\n"
          ]
        },
        {
          "name": "stderr",
          "output_type": "stream",
          "text": [
            "/usr/local/lib/python3.7/dist-packages/joblib/externals/loky/process_executor.py:705: UserWarning: A worker stopped while some jobs were given to the executor. This can be caused by a too short worker timeout or by a memory leak.\n",
            "  \"timeout or by a memory leak.\", UserWarning\n"
          ]
        },
        {
          "name": "stdout",
          "output_type": "stream",
          "text": [
            "EKF-CMGF estimate average accuracy = 0.266\n",
            "One-pass sag estimate average accuracy = 0.24699999999999997\n",
            "Multi-pass sag estimate average accuracy = 0.272\n",
            "1000 data points, 17 classes.\n",
            "EKF-CMGF estimate average accuracy = 0.279\n",
            "One-pass sag estimate average accuracy = 0.256\n",
            "Multi-pass sag estimate average accuracy = 0.291\n",
            "1000 data points, 18 classes.\n"
          ]
        },
        {
          "name": "stderr",
          "output_type": "stream",
          "text": [
            "/usr/local/lib/python3.7/dist-packages/joblib/externals/loky/process_executor.py:705: UserWarning: A worker stopped while some jobs were given to the executor. This can be caused by a too short worker timeout or by a memory leak.\n",
            "  \"timeout or by a memory leak.\", UserWarning\n"
          ]
        },
        {
          "name": "stdout",
          "output_type": "stream",
          "text": [
            "EKF-CMGF estimate average accuracy = 0.26799999999999996\n",
            "One-pass sag estimate average accuracy = 0.229\n",
            "Multi-pass sag estimate average accuracy = 0.25600000000000006\n"
          ]
        }
      ],
      "source": [
        "num_points = 1000\n",
        "class_range = range(2, 19)\n",
        "\n",
        "cmgf_accuracies, sgd_onepass_accuracies, sgd_multipass_accuracies = [], [], []\n",
        "for num_classes in class_range:\n",
        "    print(f'{num_points} data points, {num_classes} classes.')\n",
        "    cmgf_ac, sgd_op_ac, sgd_mp_ac = compute_cv_accuracies(num_points, num_classes)\n",
        "    cmgf_accuracies.append(cmgf_ac)\n",
        "    print(f'EKF-CMGF estimate average accuracy = {cmgf_ac}')\n",
        "    sgd_onepass_accuracies.append(sgd_op_ac)\n",
        "    print(f'One-pass sag estimate average accuracy = {sgd_op_ac}')\n",
        "    sgd_multipass_accuracies.append(sgd_mp_ac)\n",
        "    print(f'Multi-pass sag estimate average accuracy = {sgd_mp_ac}')"
      ]
    },
    {
      "cell_type": "code",
      "execution_count": null,
      "metadata": {
        "colab": {
          "base_uri": "https://localhost:8080/",
          "height": 295
        },
        "id": "Q989sIJZxHJJ",
        "outputId": "dd6aa795-97a6-4247-aec3-a70da7121c2e"
      },
      "outputs": [
        {
          "data": {
            "image/png": "[encoded data removed]",
            "text/plain": [
              "<Figure size 432x288 with 1 Axes>"
            ]
          },
          "metadata": {
            "needs_background": "light"
          },
          "output_type": "display_data"
        }
      ],
      "source": [
        "# Plot result\n",
        "fig, ax = plt.subplots()\n",
        "ax.plot(class_range, cmgf_accuracies, 'r', label='CMGF-EKF')\n",
        "ax.plot(class_range, sgd_onepass_accuracies, 'y', label='SGD (single pass)')\n",
        "ax.plot(class_range, sgd_multipass_accuracies, 'b--', label='SGD (multi pass)')\n",
        "ax.set_xticks(class_range)\n",
        "ax.set_xlabel('Number of output classes')\n",
        "ax.set_ylabel('10-fold cv average accuracy')\n",
        "ax.set_title('10-fold cv accuracy (CMGF vs SGD )')\n",
        "ax.legend();"
      ]
    }
  ],
  "metadata": {
    "colab": {
      "provenance": []
    },
    "kernelspec": {
      "display_name": "Python 3.8.9 64-bit",
      "language": "python",
      "name": "python3"
    },
    "language_info": {
      "name": "python",
      "version": "3.8.9"
    },
    "vscode": {
      "interpreter": {
        "hash": "31f2aee4e71d21fbe5cf8b01ff0e069b9275f58929596ceb00d14d90e3e16cd6"
      }
    }
  },
  "nbformat": 4,
  "nbformat_minor": 0
}
