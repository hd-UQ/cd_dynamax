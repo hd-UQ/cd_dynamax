{
 "cells": [
  {
   "cell_type": "markdown",
   "id": "52197cc5-e795-481b-abbe-8739492dfc76",
   "metadata": {},
   "source": [
    "# L-RVGA for rotation MNIST"
   ]
  },
  {
   "cell_type": "markdown",
   "id": "9da73ba4-04b8-4827-b04f-406463c623e4",
   "metadata": {},
   "source": [
    "The Limited-memory Recursive Variational Gaussian Approximation equations are given by\n",
    "\n",
    "$$\n",
    "\\begin{aligned}\n",
    "    q^*_t(\\theta) &= \\arg\\min_{\\mu^*, P^*}\n",
    "        \\text{KL}\\left(  \\mathcal{N}(\\theta \\vert \\mu^*, P^*)  || \\mathcal{N}(\\theta \\vert \\mu_{t-1}, P_{t-1}^{-1}) p(y_t \\vert\\theta) \\right)\\\\\n",
    "    q_t(\\theta) &= \\arg\\min_{\\mu, W, \\Psi}\n",
    "         \\text{KL}\\left( \\mathcal{N}(\\theta \\vert \\left(WW^T + \\Psi\\right)^{-1} || \\mathcal{N}(\\theta \\vert \\mu^*, P^*)   \\right)\n",
    "\\end{aligned}\n",
    "$$"
   ]
  },
  {
   "cell_type": "code",
   "execution_count": 1,
   "id": "c7d10ce2-c6f8-499a-9d86-23db25e96c8c",
   "metadata": {},
   "outputs": [],
   "source": [
    "import jax\n",
    "import chex\n",
    "import numpy as np\n",
    "import jax.numpy as jnp\n",
    "import matplotlib.pyplot as plt\n",
    "from dynamax.utils import datasets\n",
    "from jaxtyping import Array, Float"
   ]
  },
  {
   "cell_type": "code",
   "execution_count": 2,
   "id": "a3ceee98-2c39-4864-bc1b-fd82e709a510",
   "metadata": {},
   "outputs": [],
   "source": [
    "%config InlineBackend.figure_format = \"retina\""
   ]
  },
  {
   "cell_type": "markdown",
   "id": "2030e507-5d35-4003-9d56-6c0a36561c9f",
   "metadata": {},
   "source": [
    "## Load Rotation MNIST"
   ]
  },
  {
   "cell_type": "code",
   "execution_count": 3,
   "id": "2b7c33d4-4de8-4179-b643-9571092a7697",
   "metadata": {},
   "outputs": [],
   "source": [
    "np.random.seed(314)\n",
    "num_train = 100\n",
    "\n",
    "train, test = datasets.load_rotated_mnist(target_digit=2)\n",
    "X_train, y_train = train\n",
    "X_test, y_test = test\n",
    "\n",
    "X_train = jnp.array(X_train)\n",
    "y_train = jnp.array(y_train)\n",
    "\n",
    "X = jnp.array(X_train)[:num_train]\n",
    "y = jnp.array(y_train)[:num_train]\n",
    "\n",
    "# # Gaussianise\n",
    "# X = (X - X.mean()) / X.std()\n",
    "\n",
    "# ix_sort = jnp.argsort(y)\n",
    "# X = X[ix_sort]\n",
    "# y = y[ix_sort]"
   ]
  },
  {
   "cell_type": "markdown",
   "id": "6a83a681-2628-46a7-bbab-5070aec11fe4",
   "metadata": {},
   "source": [
    "## L-RVGA\n",
    "\n",
    "We consider a linear problem. Let $y_t = \\theta^T x_t + \\epsilon_t$, $\\epsilon_t \\sim \\mathcal{N}(0, 1)$. Considering the approximated R-VGA, the update for $\\mu_t\\in\\mathbb{R}^{d}$, $W_t\\in\\mathbb{R}^{d\\times p}$, and $\\Psi_t\\in\\mathbb{R}^{d\\times d}$ becomes\n",
    "\n",
    "$$\n",
    "\\begin{aligned}\n",
    "\\mu_t &= \\mu_{t-1} + \\left(W_t W_t^\\intercal + \\Psi_t\\right)^{-1}x_t\\left(y_t - \\mu_{t-1}^\\intercal x_t\\right)\\\\\n",
    "W_t W_t^\\intercal + \\Psi_t &\\underset{\\text{FA}}{\\approx} \\alpha_t\\left( W_{t-1}W_{t-1}^\\intercal + \\Psi_{t-1} \\right) + \\beta x_tx_t^\\intercal\n",
    "\\end{aligned}\n",
    "$$"
   ]
  },
  {
   "cell_type": "markdown",
   "id": "b03877f5-2454-4bb9-8260-6ed9b6ceefc4",
   "metadata": {},
   "source": [
    "The FA update for the posterior covariance is obtained by iterating `nb_inner_loop` number of times the following set of equations\n",
    "\n",
    "$$\n",
    "\\begin{aligned}\n",
    "M &= {\\bf I}_p + W^\\intercal \\Psi^{-1} W\\\\\n",
    "V &= \\beta_t x_tx_t^\\intercal\\Psi^{-1} W + \\alpha_t\\left[ W_{t-1}W_{t-1}^\\intercal \\Psi^{-1} W + \\Psi_{t-1}\\Psi^{-1} W \\right]\\\\\n",
    "W^{(n)} &= V\\left({\\bf I}_p + M^{-1} W^\\intercal\\Psi^{-1}V\\right)^{-1}\\\\\n",
    "\\Psi^{(n)} &= \\beta_t \\text{diag}\\left(x_tx_t^\\intercal\\right) + \\alpha_t \\text{diag}\\left(W_{t-1}W_{t-1}^\\intercal\\right) + \\alpha_t\\Psi_{t-1} - \\text{diag}\\left(W^{(n)}M^{-1}V^\\intercal\\right)\\\\\n",
    "W &= W^{(n)}, \\Psi = \\Psi^{(n)}\n",
    "\\end{aligned}\n",
    "$$"
   ]
  },
  {
   "cell_type": "code",
   "execution_count": 4,
   "id": "024804b3-9af4-4055-988c-c7d30989efae",
   "metadata": {},
   "outputs": [],
   "source": [
    "@chex.dataclass\n",
    "class LRVGAState:\n",
    "    mu: Float[Array, \"dim_params\"]\n",
    "    W: Float[Array, \"dim_params dim_subspace\"]\n",
    "    Psi: Float[Array, \"dim_params\"]\n",
    "\n",
    "\n",
    "def fa_approx_step(\n",
    "    state: LRVGAState,\n",
    "    state_prev: LRVGAState,\n",
    "    alpha: float,\n",
    "    beta: float\n",
    ") -> LRVGAState:\n",
    "    \"\"\"\n",
    "    Factor Analysis (FA) approximation to the low-rank (W)\n",
    "    and diagonal (Psi) matrices.\n",
    "    \"\"\"\n",
    "    # Load data\n",
    "    W_prev, Psi_prev = state_prev.W, state_prev.Psi\n",
    "    W, Psi = state.W, state.Psi\n",
    "    \n",
    "    # Initialise basic transformations\n",
    "    dim_obs, dim_latent = W.shape\n",
    "    I = jnp.eye(dim_latent)\n",
    "    Psi_inv = 1 / Psi\n",
    "    \n",
    "    # Construct helper matrices\n",
    "    M = I + jnp.einsum(\"ij,i,ik->jk\", W, Psi_inv, W)\n",
    "    M_inv = jnp.linalg.inv(M)\n",
    "    V_beta = jnp.einsum(\"i,j,j,jk->ik\", x, x, Psi_inv, W)\n",
    "    V_alpha = (\n",
    "        jnp.einsum(\"ij,kj,k,kl->il\", W_prev, W_prev, Psi_inv, W) +\n",
    "        jnp.einsum(\"i,i,ij->ij\", Psi_prev, Psi_inv, W)\n",
    "    )\n",
    "    V = beta * V_beta + alpha * V_alpha\n",
    "    \n",
    "    # Value_update\n",
    "    # TODO: double checkm matrix inversion\n",
    "    W_solve = I + jnp.einsum(\"ij,kj,k,kl->il\", M_inv, W, Psi_inv, V)\n",
    "    W = jnp.linalg.solve(W_solve, V.T).T\n",
    "    Psi = (\n",
    "        beta * jnp.einsum(\"i,i\", x, x) +\n",
    "        alpha * jnp.einsum(\"ij,ij->i\", W_prev, W_prev) + \n",
    "        alpha * Psi_prev -\n",
    "        jnp.einsum(\"ij,jk,ik->i\", W, M_inv, V)\n",
    "    )\n",
    "    \n",
    "    new_state = state.replace(\n",
    "        mu=state.mu,\n",
    "        W=W,\n",
    "        Psi=Psi\n",
    "    )\n",
    "    return new_state"
   ]
  },
  {
   "cell_type": "markdown",
   "id": "768e0f4d-d9ca-449b-9916-d7f737bc35a3",
   "metadata": {},
   "source": [
    "### Initialisiation\n",
    "\n",
    "We consider the initialisiation rule of §5.1.2:\n",
    "1. $\\Psi_0 = \\psi_0 {\\bf I}_d$, where $\\psi_0 > 0$,\n",
    "2. $W_0 \\in \\mathbb{R}^{d\\times p}$,  where the columns are random vectors independently drawn from an istropic Gaussian distribution in $\\mathbb{R}^d$ and which have been normalised so that $\\forall k. ||u_k|| = w_0$.\n",
    "We let\n",
    "\n",
    "$$\n",
    "\\begin{aligned}\n",
    "    \\psi_0 &= (1 - \\epsilon) \\frac{1}{\\sigma^2_0},\\\\\n",
    "    w_0 &= \\sqrt{\\frac{\\epsilon d}{p\\sigma^2_0}}\n",
    "\\end{aligned}\n",
    "$$\n",
    "\n",
    "with $0 < \\epsilon \\ll 1$ a small parameter."
   ]
  },
  {
   "cell_type": "code",
   "execution_count": 5,
   "id": "ed9386e7-0e26-4bed-a518-e5e61fffa6f4",
   "metadata": {},
   "outputs": [],
   "source": [
    "x = X_train[0]\n",
    "dim_obs, *_ = x.shape\n",
    "dim_subspace = 100"
   ]
  },
  {
   "cell_type": "code",
   "execution_count": 6,
   "id": "6e4e2c86-6b8b-4fce-9442-d1756a378ad2",
   "metadata": {},
   "outputs": [],
   "source": [
    "eps = 1e-3\n",
    "\n",
    "psi0 = (1 - eps)\n",
    "w0 = jnp.sqrt(eps * dim_obs / dim_subspace)"
   ]
  },
  {
   "cell_type": "code",
   "execution_count": 7,
   "id": "97ec00f7-603e-4c0c-9f37-e864df642718",
   "metadata": {},
   "outputs": [],
   "source": [
    "key = jax.random.PRNGKey(314)\n",
    "key_W, key_mu = jax.random.split(key)"
   ]
  },
  {
   "cell_type": "code",
   "execution_count": 8,
   "id": "87f8709f-1af8-40bb-b088-1b5641b772db",
   "metadata": {},
   "outputs": [],
   "source": [
    "W_init = jax.random.normal(key_W, (dim_obs, dim_subspace))\n",
    "W_init = W_init / jnp.linalg.norm(W_init, axis=0) * w0\n",
    "Psi_init = jnp.ones(dim_obs) * psi0\n",
    "\n",
    "mu_init = jax.random.normal(key_mu, (dim_obs,))"
   ]
  },
  {
   "cell_type": "code",
   "execution_count": 9,
   "id": "0d78a159-652d-4742-a698-0b05a0b97359",
   "metadata": {},
   "outputs": [],
   "source": [
    "state_init = LRVGAState(\n",
    "    mu=mu_init,\n",
    "    W=W_init,\n",
    "    Psi=Psi_init\n",
    ")"
   ]
  },
  {
   "cell_type": "markdown",
   "id": "fa91908c-d319-4a3c-96af-809a89d5167d",
   "metadata": {},
   "source": [
    "> The update in $\\mu_t$ [for a linear regression problem] can be rewritten in a limited fashion involving only operations linear in d:\n",
    "\n",
    "$$\n",
    "    \\mu_t\n",
    "    = \\mu_{t-1} + \\Psi_t^{-1}\\left( x_t - W_t\\left({\\bf I}_p + W_t^\\intercal\\Psi_t^{-1}W_t\\right)^{-1} \\left(W_t^\\intercal\\Psi_t^{-1}x_t\\right)\\right)(y_t - \\mu_{t-1}^Tx_t)\n",
    "$$"
   ]
  },
  {
   "cell_type": "code",
   "execution_count": 10,
   "id": "eef10b0f-5da5-417d-8f42-335b0d218aeb",
   "metadata": {},
   "outputs": [],
   "source": [
    "@jax.jit\n",
    "def mu_update(\n",
    "    state: LRVGAState,\n",
    "    x: Float[Array, \"dim_obs\"],\n",
    "    y: float\n",
    "):\n",
    "    mu = state.mu\n",
    "    W = state.W\n",
    "    Psi_inv = 1 / state.Psi\n",
    "    dim_obs, dim_latent = W.shape\n",
    "    I = jnp.eye(dim_latent)\n",
    "    \n",
    "    err = y - jnp.einsum(\"i,i->\", mu, x)\n",
    "\n",
    "    # TODO: double check\n",
    "    M = I + jnp.einsum(\"ij,i,ik->jk\", W, Psi_inv, W)\n",
    "    b_matrix = jnp.einsum(\"ij,i,i->j\", W, Psi_inv, x)\n",
    "    term_1 = jnp.linalg.solve(M, b_matrix)\n",
    "    term_2 = jnp.einsum(\"ij,j->i\", W, term_1)\n",
    "    \n",
    "    mu = mu + Psi_inv * (x - term_2) * err\n",
    "    return mu"
   ]
  },
  {
   "cell_type": "markdown",
   "id": "9e0dafbe-d631-4232-a7ee-d782249c1460",
   "metadata": {},
   "source": [
    "In the linear regression setting, updates on $\\mu_t$ do no affect the estimation of $W_t$ and $\\Psi_t$. Hence, we iterate multiple times the EM equations and only once for the $\\mu_t$ update."
   ]
  },
  {
   "cell_type": "code",
   "execution_count": 11,
   "id": "7016ef06-2bf1-4d71-82bc-81d5472e93a4",
   "metadata": {},
   "outputs": [],
   "source": [
    "alpha, beta = 1.0, 1.0\n",
    "state_update = state_init"
   ]
  },
  {
   "cell_type": "code",
   "execution_count": 12,
   "id": "4e9dc2a6-f615-4a16-a84f-b961ad2f4631",
   "metadata": {},
   "outputs": [],
   "source": [
    "def fa_partial(_, state):\n",
    "    new_state = fa_approx_step(state, state_init, alpha, beta)\n",
    "    return new_state\n",
    "\n",
    "state_update = jax.lax.fori_loop(0, 5, fa_partial, state_init)"
   ]
  },
  {
   "cell_type": "code",
   "execution_count": 13,
   "id": "a7d9c78e-9a13-4cf9-abbb-42caca949ae6",
   "metadata": {},
   "outputs": [],
   "source": [
    "mu_new = mu_update(state_init, X[0], y[0])"
   ]
  },
  {
   "cell_type": "code",
   "execution_count": 21,
   "id": "3e96210b-065e-400a-b2f1-6ace1430f89c",
   "metadata": {},
   "outputs": [],
   "source": [
    "def lrvga(state, obs):\n",
    "    x, y = obs\n",
    "    \n",
    "    def fa_partial(_, new_state):\n",
    "        new_state = fa_approx_step(new_state, state, alpha, beta)\n",
    "        return new_state\n",
    "\n",
    "    state_update = jax.lax.fori_loop(0, 10, fa_partial, state)\n",
    "    mu_new = mu_update(state_update, x, y)\n",
    "    state_update = state_update.replace(mu=mu_new)\n",
    "    \n",
    "    return state_update, mu_new"
   ]
  },
  {
   "cell_type": "code",
   "execution_count": 22,
   "id": "dc3c202c-5d4a-4b3e-8ad3-f79e20959ed9",
   "metadata": {},
   "outputs": [
    {
     "name": "stdout",
     "output_type": "stream",
     "text": [
      "CPU times: user 2.03 s, sys: 0 ns, total: 2.03 s\n",
      "Wall time: 574 ms\n"
     ]
    }
   ],
   "source": [
    "%%time\n",
    "# Check this result. Doesn't seem to change\n",
    "state_final, mu_hist = jax.lax.scan(lrvga, state_init, (X, y))"
   ]
  },
  {
   "cell_type": "code",
   "execution_count": 23,
   "id": "27805e4d-66e3-4de9-ad2d-c98535448d07",
   "metadata": {},
   "outputs": [],
   "source": [
    "yhat = jnp.einsum(\"nm,m->n\", X_test, state_final.mu)"
   ]
  },
  {
   "cell_type": "code",
   "execution_count": 24,
   "id": "c90971f3-9628-4884-8a38-0720cee1d6bf",
   "metadata": {},
   "outputs": [
    {
     "data": {
      "text/plain": [
       "DeviceArray(35.308277, dtype=float32)"
      ]
     },
     "execution_count": 24,
     "metadata": {},
     "output_type": "execute_result"
    }
   ],
   "source": [
    "jnp.abs(y_test - yhat).mean()"
   ]
  },
  {
   "cell_type": "code",
   "execution_count": 25,
   "id": "ec1fc6b2-1e43-4a04-b0e2-18c07d785eca",
   "metadata": {},
   "outputs": [],
   "source": [
    "yhat_hist_test = jnp.einsum(\"nm,tm->tn\", X_test, mu_hist)\n",
    "yhat_hist_train = jnp.einsum(\"nm,tm->tn\", X_train, mu_hist)"
   ]
  },
  {
   "cell_type": "code",
   "execution_count": 26,
   "id": "e7ffea6c-98f5-4b10-810b-9cac0723da71",
   "metadata": {},
   "outputs": [],
   "source": [
    "err_hist_test = jnp.abs(yhat_hist_test - y_test[None, :]).mean(axis=-1)\n",
    "err_hist_train = jnp.abs(yhat_hist_train - y_train[None, :]).mean(axis=-1)"
   ]
  },
  {
   "cell_type": "code",
   "execution_count": 27,
   "id": "ee58b50f-7a96-4c57-92a8-28a4c12de4f5",
   "metadata": {},
   "outputs": [
    {
     "data": {
      "text/plain": [
       "<matplotlib.legend.Legend at 0x7fbd7bff1420>"
      ]
     },
     "execution_count": 27,
     "metadata": {},
     "output_type": "execute_result"
    },
    {
     "data": {
      "image/png": "[encoded data removed]",
      "text/plain": [
       "<Figure size 640x480 with 1 Axes>"
      ]
     },
     "metadata": {
      "image/png": {
       "height": 413,
       "width": 543
      }
     },
     "output_type": "display_data"
    }
   ],
   "source": [
    "plt.plot(err_hist_train, label=\"train\")\n",
    "plt.plot(err_hist_test, label=\"test\")\n",
    "plt.legend()"
   ]
  }
 ],
 "metadata": {
  "kernelspec": {
   "display_name": "Python 3 (ipykernel)",
   "language": "python",
   "name": "python3"
  },
  "language_info": {
   "codemirror_mode": {
    "name": "ipython",
    "version": 3
   },
   "file_extension": ".py",
   "mimetype": "text/x-python",
   "name": "python",
   "nbconvert_exporter": "python",
   "pygments_lexer": "ipython3",
   "version": "3.10.8"
  }
 },
 "nbformat": 4,
 "nbformat_minor": 5
}
