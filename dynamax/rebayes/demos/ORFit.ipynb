{
  "nbformat": 4,
  "nbformat_minor": 0,
  "metadata": {
    "colab": {
      "provenance": []
    },
    "kernelspec": {
      "name": "python3",
      "display_name": "Python 3"
    },
    "language_info": {
      "name": "python"
    },
    "gpuClass": "standard"
  },
  "cells": [
    {
      "cell_type": "markdown",
      "source": [
        "# ORFit Demo\n"
      ],
      "metadata": {
        "id": "yLyoJhhoxlTn"
      }
    },
    {
      "cell_type": "markdown",
      "source": [
        "# 0. Imports and Helper Functions"
      ],
      "metadata": {
        "id": "bBd3ZoefMdGi"
      }
    },
    {
      "cell_type": "code",
      "execution_count": 3,
      "metadata": {
        "id": "YuVrFKRAVKW5"
      },
      "outputs": [],
      "source": [
        "from typing import Sequence\n",
        "from functools import partial\n",
        "\n",
        "import matplotlib.pyplot as plt\n",
        "import jax.numpy as jnp\n",
        "import jax.random as jr\n",
        "from jax import jacrev\n",
        "from jax import vmap\n",
        "from jax.lax import scan\n",
        "from jax.lax import cond\n",
        "from jax.flatten_util import ravel_pytree\n",
        "import flax.linen as nn"
      ]
    },
    {
      "cell_type": "code",
      "source": [
        "class MLP(nn.Module):\n",
        "    features: Sequence[int]\n",
        "\n",
        "    @nn.compact\n",
        "    def __call__(self, x):\n",
        "        for feat in self.features[:-1]:\n",
        "            x = nn.relu(nn.Dense(feat)(x))\n",
        "        x = nn.Dense(self.features[-1])(x)\n",
        "        return x\n",
        "\n",
        "def get_mlp_flattened_params(model_dims, key=0):\n",
        "    if isinstance(key, int):\n",
        "        key = jr.PRNGKey(key)\n",
        "\n",
        "    # Define MLP model\n",
        "    input_dim, features = model_dims[0], model_dims[1:]\n",
        "    model = MLP(features)\n",
        "    dummy_input = jnp.ones((input_dim,))\n",
        "\n",
        "    # Initialize parameters using dummy input\n",
        "    params = model.init(key, dummy_input)\n",
        "    flat_params, unflatten_fn = ravel_pytree(params)\n",
        "\n",
        "    # Define apply function\n",
        "    def apply(flat_params, x, model, unflatten_fn):\n",
        "        return model.apply(unflatten_fn(flat_params), jnp.atleast_1d(x))\n",
        "\n",
        "    apply_fn = partial(apply, model=model, unflatten_fn=unflatten_fn)\n",
        "\n",
        "    return model, flat_params, unflatten_fn, apply_fn"
      ],
      "metadata": {
        "id": "kDn9BLzNb8Ov"
      },
      "execution_count": 98,
      "outputs": []
    },
    {
      "cell_type": "code",
      "source": [
        "def plot_rmse(params_history, apply_fn, X, y, ax=None, title=''):\n",
        "    if ax == None:\n",
        "        fig, ax = plt.subplots()\n",
        "    if title == None:\n",
        "        title = 'RMSE'\n",
        "    def compute_rmse(params, X, y):\n",
        "        y_pred = vmap(apply_fn, (None, 0))(params, X)\n",
        "        return jnp.sqrt(jnp.mean((y_pred - y)**2))\n",
        "    rmses = vmap(compute_rmse, (0, None, None))(params_history, X, y)\n",
        "    ax.plot(jnp.arange(len(rmses)), rmses)\n",
        "    ax.set_title(title);\n",
        "    return ax"
      ],
      "metadata": {
        "id": "EAYer7ZJei2o"
      },
      "execution_count": 142,
      "outputs": []
    },
    {
      "cell_type": "code",
      "source": [
        "eps = 1e-5\n",
        "_perturb = lambda v: v + eps\n",
        "_normalize = lambda v: _perturb(v) / jnp.linalg.norm(_perturb(v))\n",
        "_project = lambda a, x: a * ((a.T @ x) / jnp.linalg.norm(a))\n",
        "_project_to_columns = lambda A, x: \\\n",
        "    jnp.where(A.any(), vmap(_project, (1, None))(A, x).sum(axis=0), jnp.zeros(shape=x.shape))\n",
        "_hstack = lambda A, x: \\\n",
        "    jnp.where(A.any(), jnp.hstack((A, x.reshape(-1, 1))), 10*jnp.ones((3,)))\n",
        "_svd = lambda a: jnp.linalg.svd(a, full_matrices=False)"
      ],
      "metadata": {
        "id": "0LLk4kXHnVuI"
      },
      "execution_count": 174,
      "outputs": []
    },
    {
      "cell_type": "markdown",
      "source": [
        "# 1. ORFit"
      ],
      "metadata": {
        "id": "rpVfdZV0Mhyl"
      }
    },
    {
      "cell_type": "markdown",
      "source": [
        "Orthogonal Recursive Fitting (ORFit) is a memory-efficient approximation to the following exact update rule:\n",
        "\n",
        "$$\\begin{align}\n",
        "     \\tilde{g}_{i-1} &= \\nabla \\ell_{i}(w_{i-1}) - \\sum_{v \\in S_{i-1}} \\text{proj}_{v}(\\nabla \\ell_i (w_{i-1})) \\\\\n",
        "     S_i &= S_{i-1} \\cup \\{ \\nabla f_i (w_{i-1}) - \\sum_{v \\in S_{i-1}} \\text{proj}_{v}(\\nabla f_i (w_{i-1})) \\} \\\\\n",
        "     w_i &= w_{i-1} - \\eta_{i-1} \\tilde{g}_{i-1} \\\\\n",
        "     \\eta_{i-1} &= \\frac{f_i(w_{i-1}) - y_i}{\\nabla f_i (w_{i-1})^{\\intercal} \\tilde{g}_{i-1}}\n",
        "\\end{align}$$\n",
        "where instead of storing all past updates via $S_i$, it uses a rank-$m$ approximation by taking its top $m$ singular values using SVD."
      ],
      "metadata": {
        "id": "zA8_SH6pMl8y"
      }
    },
    {
      "cell_type": "code",
      "source": [
        "def orthogonal_recursive_fitting(init_params, apply_fn, loss_fn, xs, ys, memory_limit):\n",
        "    U, Sigma = jnp.zeros((len(init_params), 1)), jnp.array([])\n",
        "    params = init_params\n",
        "\n",
        "    params_history = []\n",
        "    for t in range(len(xs)):\n",
        "        x, y = xs[t], ys[t]\n",
        "        current_loss_fn = lambda w: loss_fn(w, x, y)\n",
        "        apply_params_fn = lambda w: apply_fn(w, x)\n",
        "        g = jacrev(current_loss_fn)(params)\n",
        "        f_prime = jacrev(apply_params_fn)(params)\n",
        "        g_tilde = g - _project_to_columns(U, g.ravel())\n",
        "        v_prime = f_prime - _project_to_columns(U, f_prime.ravel())\n",
        "\n",
        "        if t <= memory_limit:\n",
        "            if t == 0:\n",
        "                U = v_prime.reshape(-1, 1)\n",
        "            else:\n",
        "                U = jnp.hstack((U, v_prime.reshape(-1, 1)))\n",
        "            if t == memory_limit:\n",
        "                U, Sigma, _ = _svd(U)\n",
        "        else:\n",
        "            u = _normalize(v_prime)\n",
        "            tmp = jnp.diag(jnp.append(Sigma, u.ravel() @ v_prime.ravel()))\n",
        "            U_tilde, Sigma, _ = _svd(jnp.diag(jnp.append(Sigma, u.ravel() @ v_prime.ravel())))\n",
        "            U = jnp.hstack((U, u.reshape(-1, 1))) @ U_tilde\n",
        "            U, Sigma = U[:, :memory_limit], Sigma[:memory_limit]\n",
        "        eta = (apply_params_fn(params) - y) / _perturb(f_prime.ravel() @ g_tilde.ravel())\n",
        "        params = params - eta * g_tilde.ravel()\n",
        "        params_history.append(params)\n",
        "        \n",
        "    return jnp.array(params_history)"
      ],
      "metadata": {
        "id": "qLykBNCPVPSd"
      },
      "execution_count": 190,
      "outputs": []
    },
    {
      "cell_type": "code",
      "source": [
        "# # WIP: more efficient ORFit using lax.scan\n",
        "# def orthogonal_recursive_fitting(init_params, apply_fn, loss_fn, xs, ys, memory_limit):\n",
        "#     U, Sigma = jnp.zeros((len(init_params), memory_limit)), jnp.array([])\n",
        "\n",
        "#     # Common step\n",
        "#     def _step(carry, t):\n",
        "#         params, U, Sigma = carry\n",
        "#         x, y = xs[t], ys[t]\n",
        "#         current_loss_fn = lambda w: loss_fn(w, x, y)\n",
        "#         apply_params_fn = lambda w: apply_fn(w, x)\n",
        "#         g = jacrev(current_loss_fn)(params)\n",
        "#         v = jacrev(apply_params_fn)(params)\n",
        "#         g_tilde = g - _project_to_columns(U, g.ravel())\n",
        "#         v_prime = v - _project_to_columns(U, v.ravel())\n",
        "    \n",
        "#     # Step before reaching memory limit\n",
        "#     def _step_before_limit(carry, t):\n",
        "#         params, U, Sigma = carry\n",
        "#         _step(carry, t)\n",
        "    \n",
        "#     def _step_after_limit(carry, t):\n",
        "#         params, U, Sigma = carry\n",
        "#         _step(carry, t)\n",
        "        \n",
        "    \n",
        "#     params_history, _ = scan(_step, (init_params, U, Sigma), jnp.arange(len(xs)))\n",
        "\n",
        "#     return params_history"
      ],
      "metadata": {
        "id": "YerfE0k7bc6H"
      },
      "execution_count": 191,
      "outputs": []
    },
    {
      "cell_type": "markdown",
      "source": [
        "# 2. Demo - Linear Regression"
      ],
      "metadata": {
        "id": "tnCklcm6bhxE"
      }
    },
    {
      "cell_type": "code",
      "source": [
        "def generate_linreg_dataset(num_points=200, theta=jnp.array([2.5, 0.5]), var=0.05, key=1, shuffle=True):\n",
        "    if isinstance(key, int):\n",
        "        key = jr.PRNGKey(key)\n",
        "    key, subkey = jr.split(key)\n",
        "    X = jnp.linspace(0.0, 1.0, num_points)\n",
        "    Y_tr = theta[1]*X + theta[0]\n",
        "    noise = var*jr.normal(key, shape=(num_points,))\n",
        "    Y = Y_tr + noise\n",
        "    X_sh, Y_sh = X, Y\n",
        "    # Shuffle data\n",
        "    if shuffle:\n",
        "        shuffle_idx = jr.permutation(subkey, jnp.arange(num_points))\n",
        "        X_sh, Y_sh = X[shuffle_idx], Y[shuffle_idx]\n",
        "\n",
        "    return X, X_sh, Y, Y_sh, Y_tr"
      ],
      "metadata": {
        "id": "ewafRjCJxTdI"
      },
      "execution_count": 192,
      "outputs": []
    },
    {
      "cell_type": "code",
      "source": [
        "X_lr, X_lr_sh, Y_lr, Y_lr_sh, Y_lr_tr = generate_linreg_dataset(100)"
      ],
      "metadata": {
        "id": "vNRzv5MqyYDr"
      },
      "execution_count": 193,
      "outputs": []
    },
    {
      "cell_type": "code",
      "source": [
        "plt.scatter(X_lr, Y_lr)\n",
        "plt.plot(X_lr, Y_lr_tr, c='red');"
      ],
      "metadata": {
        "colab": {
          "base_uri": "https://localhost:8080/",
          "height": 265
        },
        "id": "m_tRkTGXyiLm",
        "outputId": "65551b8c-cc78-46f5-fdfe-c8bef45481d5"
      },
      "execution_count": 194,
      "outputs": [
        {
          "output_type": "display_data",
          "data": {
            "text/plain": [
              "<Figure size 432x288 with 1 Axes>"
            ],
            "image/png": "[encoded data removed]"
          },
          "metadata": {
            "needs_background": "light"
          }
        }
      ]
    },
    {
      "cell_type": "code",
      "source": [
        "# Define Linear Regression as single layer perceptron\n",
        "input_dim_lr, hidden_dims_lr, output_dim_lr = 1, [], 1\n",
        "model_dims_lr = [input_dim_lr, *hidden_dims_lr, output_dim_lr]\n",
        "_, flat_params_lr, _, apply_fn_lr = get_mlp_flattened_params(model_dims_lr)\n",
        "print(flat_params_lr.shape)"
      ],
      "metadata": {
        "colab": {
          "base_uri": "https://localhost:8080/"
        },
        "id": "8Em8Vez0zNxn",
        "outputId": "bcbda214-5ff0-43d7-bd1a-35b13f59b8cd"
      },
      "execution_count": 195,
      "outputs": [
        {
          "output_type": "stream",
          "name": "stdout",
          "text": [
            "(2,)\n"
          ]
        }
      ]
    },
    {
      "cell_type": "code",
      "source": [
        "# L2 loss\n",
        "loss_fn_lr = lambda w, x, y: (apply_fn_lr(w, x) - y)**2\n",
        "\n",
        "# Run ORFit on linreg dataset\n",
        "history_lr = orthogonal_recursive_fitting(flat_params_lr, apply_fn_lr, loss_fn_lr, X_lr, Y_lr, 20)"
      ],
      "metadata": {
        "id": "3FoPcQL3QjNX"
      },
      "execution_count": 196,
      "outputs": []
    },
    {
      "cell_type": "code",
      "source": [
        "fig, ax = plt.subplots()\n",
        "plot_rmse(history_lr, apply_fn_lr, X_lr, Y_lr, ax, 'ORFit RMSE for Linear Regression');"
      ],
      "metadata": {
        "id": "Xa7Qte84eDhx",
        "outputId": "79b8871f-8d9b-483f-abdd-76a786e255ed",
        "colab": {
          "base_uri": "https://localhost:8080/",
          "height": 281
        }
      },
      "execution_count": 198,
      "outputs": [
        {
          "output_type": "display_data",
          "data": {
            "text/plain": [
              "<Figure size 432x288 with 1 Axes>"
            ],
            "image/png": "[encoded data removed]"
          },
          "metadata": {
            "needs_background": "light"
          }
        }
      ]
    },
    {
      "cell_type": "markdown",
      "source": [
        "# 3. Demo - Nonlinear Regression"
      ],
      "metadata": {
        "id": "rMKu-dVKeumR"
      }
    },
    {
      "cell_type": "code",
      "source": [
        "def generate_nonlinreg_dataset(num_points=200, fn=lambda x: jnp.sin(5*x**2 - 1), var=0.1, key=1, shuffle=True):\n",
        "    if isinstance(key, int):\n",
        "        key = jr.PRNGKey(key)\n",
        "    key, subkey = jr.split(key)\n",
        "    X = jnp.linspace(0.0, 1.0, num_points)\n",
        "    Y_tr = vmap(fn)(X)\n",
        "    noise = var*jr.normal(key, shape=(num_points,))\n",
        "    Y = Y_tr + noise\n",
        "    X_sh, Y_sh = X, Y\n",
        "    \n",
        "    # Shuffle data\n",
        "    if shuffle:\n",
        "        shuffle_idx = jr.permutation(subkey, jnp.arange(num_points))\n",
        "        X_sh, Y_sh = X[shuffle_idx], Y[shuffle_idx]\n",
        "    return X, X_sh, Y, Y_sh, Y_tr"
      ],
      "metadata": {
        "id": "3MqYHMtte8IG"
      },
      "execution_count": 225,
      "outputs": []
    },
    {
      "cell_type": "code",
      "source": [
        "X_nr, X_nr_sh, Y_nr, Y_nr_sh, Y_nr_tr = generate_nonlinreg_dataset()"
      ],
      "metadata": {
        "id": "S9SI69HXe8mH"
      },
      "execution_count": 226,
      "outputs": []
    },
    {
      "cell_type": "code",
      "source": [
        "plt.scatter(X_nr, Y_nr)\n",
        "plt.plot(X_nr, Y_nr_tr, c='red');"
      ],
      "metadata": {
        "id": "sNpVndNJe98f",
        "outputId": "a2c564be-a747-4473-e4f2-1417058ca660",
        "colab": {
          "base_uri": "https://localhost:8080/",
          "height": 265
        }
      },
      "execution_count": 227,
      "outputs": [
        {
          "output_type": "display_data",
          "data": {
            "text/plain": [
              "<Figure size 432x288 with 1 Axes>"
            ],
            "image/png": "[encoded data removed]"
          },
          "metadata": {
            "needs_background": "light"
          }
        }
      ]
    },
    {
      "cell_type": "code",
      "source": [
        "# Define Non-Linear Regression as MLP with two hidden layers\n",
        "input_dim_nr, hidden_dims_nr, output_dim_nr = 1, [30, 30,], 1\n",
        "model_dims_nr = [input_dim_nr, *hidden_dims_nr, output_dim_nr]\n",
        "_, flat_params_nr, _, apply_fn_nr = get_mlp_flattened_params(model_dims_nr)\n",
        "print(flat_params_nr.shape)"
      ],
      "metadata": {
        "id": "-fqUk6o1e_Xp",
        "outputId": "462a45a4-672e-4c84-f2ce-1faf49972c4b",
        "colab": {
          "base_uri": "https://localhost:8080/"
        }
      },
      "execution_count": 246,
      "outputs": [
        {
          "output_type": "stream",
          "name": "stdout",
          "text": [
            "(1021,)\n"
          ]
        }
      ]
    },
    {
      "cell_type": "code",
      "source": [
        "# L2 loss\n",
        "loss_fn_nr = lambda w, x, y: (apply_fn_nr(w, x) - y)**2\n",
        "\n",
        "# Run ORFit on linreg dataset\n",
        "history_nr = orthogonal_recursive_fitting(flat_params_nr, apply_fn_nr, loss_fn_nr, X_nr_sh, Y_nr_sh, 20)"
      ],
      "metadata": {
        "id": "rsx3xlc_fK9e"
      },
      "execution_count": 247,
      "outputs": []
    },
    {
      "cell_type": "code",
      "source": [
        "fig, ax = plt.subplots()\n",
        "plot_rmse(history_nr, apply_fn_nr, X_nr_sh, Y_nr_sh, ax, 'ORFit RMSE for Nonlinear Regression');"
      ],
      "metadata": {
        "id": "eMUY47xBlC6m",
        "outputId": "b4717e6a-992a-430e-882c-5b82389bcec1",
        "colab": {
          "base_uri": "https://localhost:8080/",
          "height": 281
        }
      },
      "execution_count": 248,
      "outputs": [
        {
          "output_type": "display_data",
          "data": {
            "text/plain": [
              "<Figure size 432x288 with 1 Axes>"
            ],
            "image/png": "[encoded data removed]"
          },
          "metadata": {
            "needs_background": "light"
          }
        }
      ]
    },
    {
      "cell_type": "code",
      "source": [
        "plt.scatter(X_nr, Y_nr)\n",
        "plt.plot(X_nr, vmap(apply_fn_nr, (None, 0))(history_nr[-1], X_nr), c='red');"
      ],
      "metadata": {
        "id": "o0vrKxuSfWIL",
        "outputId": "a37b95ef-dd81-4b45-9100-6473b467daa9",
        "colab": {
          "base_uri": "https://localhost:8080/",
          "height": 265
        }
      },
      "execution_count": 249,
      "outputs": [
        {
          "output_type": "display_data",
          "data": {
            "text/plain": [
              "<Figure size 432x288 with 1 Axes>"
            ],
            "image/png": "[encoded data removed]"
          },
          "metadata": {
            "needs_background": "light"
          }
        }
      ]
    },
    {
      "cell_type": "markdown",
      "source": [
        "# 4. Demo - Rotating MNIST"
      ],
      "metadata": {
        "id": "YZeSLrS4hMGu"
      }
    }
  ]
}