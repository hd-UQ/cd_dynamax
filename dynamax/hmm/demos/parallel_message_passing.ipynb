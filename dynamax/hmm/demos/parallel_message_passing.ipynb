{
  "cells": [
    {
      "cell_type": "markdown",
      "metadata": {
        "id": "A3e6tWGGX_FP"
      },
      "source": [
        "# Parallel message passing for HMMs\n",
        "\n",
        "[![Open In Colab](https://colab.research.google.com/assets/colab-badge.svg)](https://colab.research.google.com/github/probml/dynamax/blob/main/dynamax/hmm/demos/parallel_message_passing.ipynb)\n",
        "\n",
        "**Note: you should run this notebook on a machine with a GPU in order to see the benefits of parallelization.**\n",
        "\n",
        "The standard message passing algorithm for HMMs is the forward-backward algorithm. On the forward pass, the algorithm computes the filtering distributions, $p(z_t \\mid x_{1:t})$, for $t=1,\\ldots,T$. Then, on the backward pass, it computes the smoothing distributions, $p(z_t \\mid x_{1:T})$, for $t=T,\\ldots,1$. This algorithm is inherently sequential, and it takes $O(T)$ time. \n",
        "\n",
        "Given how standard this algorithm is, it may be surprising to learn that the same filtering and smoothing distributions can be computed in $O(\\log T)$ time using a _parallel_ message passing algorithm, if you can access $O(T)$ parallel processors. The key insight is that the forward-backward algorithm is summing out (eliminating) one latent variable at a time, but you could eliminate multiple variables in parallel, as long as they do not have any direct dependencies. In a chain structured graphical model, like a HMM, that means you can eliminate every odd numbered node in parallel. Recursing this operation yields a logarithmic-time algorithm for inference in HMMs. \n",
        "\n",
        "[Hassan et al (2021)](https://arxiv.org/pdf/2102.05743.pdf) give a thorough description of how this algorithm works. First, write the posterior distribution over latent states of the HMM in its undirected graphical model form,\n",
        "\\begin{align}\n",
        "p(z_{1:T} \\mid x_{1:T}) &= \\frac{1}{p(x_{1:T})} \\prod_{t=0}^{T-1} \\psi_{t,t+1}(z_t, z_{t+1})\n",
        "\\end{align}\n",
        "where\n",
        "\\begin{align}\n",
        "\\psi_{t,t+1}(z_t, z_{t+1}) \n",
        "&= p(z_{t+1}, x_{t+1} \\mid z_t) \n",
        "= p(z_{t+1} \\, \\mid z_t) \\, p(x_{t+1} \\mid z_{t+1})\n",
        "\\end{align}\n",
        "is a _potential_, and, by convention, $p(z_1 \\mid z_0) = p(z_1)$ is the initial distribution.\n",
        "\n",
        "Hassan et al. use a clever trick to simplify the subsequent algorithm. Use the chain rule to swap the order of the terms in the potential,\n",
        "\\begin{align}\n",
        "\\psi_{t,t+1}(z_t, z_{t+1}) \n",
        "&\\equiv \\underbrace{p(x_{t+1} \\mid z_t)}_{b_{t,t+1}} \\, \\underbrace{p(z_{t+1} \\mid z_t, x_{t+1})}_{A_{t,t+1}}\n",
        "\\end{align}\n",
        "where $A_{t,t+1} \\in \\mathbb{R}^{K \\times K}$ is a row normalized matrix and $b_{t,t+1} \\in \\mathbb{R}^K$.\n",
        "(Now $b_{0,1} = p(x_1)$ and $A_{0,1} = p(z_1 \\mid x_1)$.)\n",
        "\n",
        "The binary associative operator takes in two potentials and outputs one potential, summing out the shared variables,\n",
        "\\begin{align}\n",
        "\\psi_{t,t+2}(z_t, z_{t+2}) \n",
        "&= \\sum_{z_{t+1}} \\psi_{t,t+1}(z_t, z_{t+1}) \\, \\psi_{t+1,t+2}(z_{t+1}, z_{t+2}) \\\\\n",
        "&= p(x_{t+1}, x_{t+2}, z_{t+2} \\mid z_t) \\\\\n",
        "&= \\underbrace{p(z_{t+2} \\mid x_{t+1}, x_{t+2}, z_t)}_{A_{t,t+2}} \\, \\underbrace{p(x_{t+1}, x_{t+2} \\mid z_t)}_{b_{t,t+2}}\n",
        "\\end{align}\n",
        "where, again, $A_{t,t+2} \\in \\mathbb{R}^{K \\times K}$ is a row normalized matrix and $b_{t,t+2} \\in \\mathbb{R}^K$. (In practice, we work with $\\log b$ for numerical stability.) The algebra to compute $A_{t,t+2}$ and $b_{t,t+2}$ is straightforward but somewhat tedious, so we omit it here. \n",
        "\n",
        "At the end of the associative scan, we'll end up with $A_{0,t} = p(z_t \\mid x_{1:t})$ and $b_{0,t} = p(x_{1:t})$ for all $t=1,\\ldots,T.$ These are exactly the filtering distributions and marginal likelihoods output by the sequential forward algorithm! \n"
      ]
    },
    {
      "cell_type": "code",
      "execution_count": null,
      "metadata": {
        "id": "EXhoes4g99Cp"
      },
      "outputs": [],
      "source": [
        "try:\n",
        "    import dynamax\n",
        "except:\n",
        "    %pip install -U -q git+https://github.com/probml/dynamax.git"
      ]
    },
    {
      "cell_type": "code",
      "execution_count": null,
      "metadata": {
        "id": "7NqMbb039k2i"
      },
      "outputs": [],
      "source": [
        "import jax.numpy as jnp\n",
        "import jax.random as jr\n",
        "from jax import lax, jit, grad, vmap, value_and_grad\n",
        "import matplotlib.pyplot as plt\n",
        "from dynamax.hmm.inference import HMMPosterior, hmm_filter, hmm_smoother\n",
        "from dynamax.hmm.parallel_inference import hmm_filter as parallel_hmm_filter\n",
        "from dynamax.hmm.parallel_inference import hmm_smoother as parallel_hmm_smoother"
      ]
    },
    {
      "cell_type": "markdown",
      "metadata": {
        "id": "I7lTXD0jYX8D"
      },
      "source": [
        "# Test that the sequential and parallel filter return the same results"
      ]
    },
    {
      "cell_type": "code",
      "execution_count": null,
      "metadata": {
        "id": "4zySUX_e-lC7"
      },
      "outputs": [],
      "source": [
        "def random_hmm_args(key, num_timesteps, num_states, scale=3.0):\n",
        "    k1, k2, k3 = jr.split(key, 3)\n",
        "    initial_probs = jr.uniform(k1, (num_states,))\n",
        "    initial_probs /= initial_probs.sum()\n",
        "    transition_matrix = jr.uniform(k2, (num_states, num_states))\n",
        "    transition_matrix /= transition_matrix.sum(1, keepdims=True)\n",
        "    log_likelihoods = scale * jr.normal(k3, (num_timesteps, num_states))\n",
        "    return initial_probs, transition_matrix, log_likelihoods\n",
        "\n",
        "\n",
        "num_timesteps = 10000\n",
        "num_states = 25\n",
        "initial_probs, transition_matrix, log_likelihoods = \\\n",
        "    random_hmm_args(jr.PRNGKey(0), num_timesteps, num_states)"
      ]
    },
    {
      "cell_type": "code",
      "execution_count": null,
      "metadata": {
        "id": "DJwzx-D9-0Fa"
      },
      "outputs": [],
      "source": [
        "hmm_filter = jit(hmm_filter)\n",
        "posterior = hmm_filter(initial_probs, transition_matrix, log_likelihoods)"
      ]
    },
    {
      "cell_type": "code",
      "execution_count": null,
      "metadata": {
        "id": "V7PJHloWz1lO"
      },
      "outputs": [],
      "source": [
        "parallel_hmm_filter = jit(parallel_hmm_filter)\n",
        "posterior2 = parallel_hmm_filter(initial_probs, transition_matrix, log_likelihoods)"
      ]
    },
    {
      "cell_type": "code",
      "execution_count": null,
      "metadata": {
        "colab": {
          "base_uri": "https://localhost:8080/"
        },
        "id": "0F-RLXIF0sG3",
        "outputId": "9e18449c-6115-46f9-8393-e77f2239876b"
      },
      "outputs": [
        {
          "output_type": "stream",
          "name": "stdout",
          "text": [
            "marginal log likelihoods:\n",
            "sequential 32845.906\n",
            "parallel 32845.938\n"
          ]
        },
        {
          "output_type": "execute_result",
          "data": {
            "text/plain": [
              "DeviceArray(True, dtype=bool)"
            ]
          },
          "metadata": {},
          "execution_count": 6
        }
      ],
      "source": [
        "print(\"marginal log likelihoods:\")\n",
        "print(\"sequential\", posterior.marginal_loglik)\n",
        "print(\"parallel\", posterior2.marginal_loglik)\n",
        "jnp.allclose(posterior.marginal_loglik / num_timesteps, posterior2.marginal_loglik / num_timesteps, atol=1e-3)"
      ]
    },
    {
      "cell_type": "code",
      "execution_count": null,
      "metadata": {
        "colab": {
          "base_uri": "https://localhost:8080/"
        },
        "id": "XfdwPxrby8-m",
        "outputId": "2dc930a8-038d-4a1c-b6fd-d774982bfbee"
      },
      "outputs": [
        {
          "output_type": "stream",
          "name": "stdout",
          "text": [
            "max absolute error in filtered probabilities\n",
            "8.940697e-07\n"
          ]
        },
        {
          "output_type": "execute_result",
          "data": {
            "text/plain": [
              "DeviceArray(True, dtype=bool)"
            ]
          },
          "metadata": {},
          "execution_count": 7
        }
      ],
      "source": [
        "print(\"max absolute error in filtered probabilities\")\n",
        "print(jnp.max(abs(posterior.filtered_probs - posterior2.filtered_probs)))\n",
        "jnp.allclose(posterior.filtered_probs, posterior2.filtered_probs, atol=1e-1)"
      ]
    },
    {
      "cell_type": "code",
      "execution_count": null,
      "metadata": {
        "colab": {
          "base_uri": "https://localhost:8080/"
        },
        "id": "dV62UVcFziKi",
        "outputId": "1435663f-a1ff-44a8-a7a8-a2d381614309"
      },
      "outputs": [
        {
          "output_type": "stream",
          "name": "stdout",
          "text": [
            "max absolute error in predicted probabilities\n",
            "7.4505806e-08\n"
          ]
        },
        {
          "output_type": "execute_result",
          "data": {
            "text/plain": [
              "DeviceArray(True, dtype=bool)"
            ]
          },
          "metadata": {},
          "execution_count": 8
        }
      ],
      "source": [
        "print(\"max absolute error in predicted probabilities\")\n",
        "print(jnp.max(abs(posterior.predicted_probs - posterior2.predicted_probs)))\n",
        "jnp.allclose(posterior.predicted_probs, posterior2.predicted_probs, atol=1e-1)"
      ]
    },
    {
      "cell_type": "code",
      "execution_count": null,
      "metadata": {
        "colab": {
          "base_uri": "https://localhost:8080/",
          "height": 307
        },
        "id": "9iu4txDk2aHE",
        "outputId": "ae74b43c-3e66-4c4c-8a70-615dc2fcc3e5"
      },
      "outputs": [
        {
          "output_type": "execute_result",
          "data": {
            "text/plain": [
              "Text(0, 0.5, 'rmse of predicted probs')"
            ]
          },
          "metadata": {},
          "execution_count": 9
        },
        {
          "output_type": "display_data",
          "data": {
            "text/plain": [
              "<Figure size 432x288 with 1 Axes>"
            ],
            "image/png": "[encoded data removed]"
          },
          "metadata": {
            "needs_background": "light"
          }
        }
      ],
      "source": [
        "# Plot the RMSE in predicted probabilities over time\n",
        "rmse = lambda x, y: jnp.sqrt(jnp.mean((x - y)**2, axis=1))\n",
        "plt.plot(rmse(posterior.predicted_probs, posterior2.predicted_probs))\n",
        "plt.xlabel(\"time step\")\n",
        "plt.ylabel(\"rmse of predicted probs\")"
      ]
    },
    {
      "cell_type": "markdown",
      "metadata": {
        "id": "y9MobTf1-LjE"
      },
      "source": [
        "## Timing comparison"
      ]
    },
    {
      "cell_type": "code",
      "execution_count": null,
      "metadata": {
        "colab": {
          "base_uri": "https://localhost:8080/"
        },
        "id": "rQm8bp-f89fo",
        "outputId": "a7e787f1-c611-4b4c-e9b6-9ece125652b3"
      },
      "outputs": [
        {
          "output_type": "stream",
          "name": "stdout",
          "text": [
            "214 ms ± 6.69 ms per loop (mean ± std. dev. of 7 runs, 1 loop each)\n"
          ]
        }
      ],
      "source": [
        "%%timeit \n",
        "posterior = hmm_filter(initial_probs, transition_matrix, log_likelihoods)\n",
        "posterior.marginal_loglik.block_until_ready()"
      ]
    },
    {
      "cell_type": "code",
      "execution_count": null,
      "metadata": {
        "colab": {
          "base_uri": "https://localhost:8080/"
        },
        "id": "Q0Y4mZ5h86tJ",
        "outputId": "90729fae-a4be-4728-b3d0-330c82c7afa5"
      },
      "outputs": [
        {
          "output_type": "stream",
          "name": "stdout",
          "text": [
            "3.99 ms ± 24 µs per loop (mean ± std. dev. of 7 runs, 100 loops each)\n"
          ]
        }
      ],
      "source": [
        "%%timeit \n",
        "posterior = parallel_hmm_filter(initial_probs, transition_matrix, log_likelihoods)\n",
        "posterior.marginal_loglik.block_until_ready()"
      ]
    },
    {
      "cell_type": "markdown",
      "metadata": {
        "id": "diZhQ_7J5a1-"
      },
      "source": [
        "# Now compare the smoother "
      ]
    },
    {
      "cell_type": "code",
      "execution_count": null,
      "metadata": {
        "id": "wDeFUdih6i0r"
      },
      "outputs": [],
      "source": [
        "hmm_smoother = jit(hmm_smoother)\n",
        "posterior = hmm_smoother(initial_probs, transition_matrix, log_likelihoods)"
      ]
    },
    {
      "cell_type": "code",
      "execution_count": null,
      "metadata": {
        "id": "jM6BjNFE6qAc"
      },
      "outputs": [],
      "source": [
        "parallel_hmm_smoother = jit(parallel_hmm_smoother)\n",
        "posterior2 = parallel_hmm_smoother(initial_probs, transition_matrix, log_likelihoods)"
      ]
    },
    {
      "cell_type": "code",
      "execution_count": null,
      "metadata": {
        "colab": {
          "base_uri": "https://localhost:8080/"
        },
        "id": "xFEe7UNt6tMD",
        "outputId": "ec31b11e-a866-46c3-c9b4-0efce206a869"
      },
      "outputs": [
        {
          "output_type": "stream",
          "name": "stdout",
          "text": [
            "marginal log likelihoods:\n",
            "sequential 32845.906\n",
            "parallel 32845.938\n"
          ]
        },
        {
          "output_type": "execute_result",
          "data": {
            "text/plain": [
              "DeviceArray(True, dtype=bool)"
            ]
          },
          "metadata": {},
          "execution_count": 14
        }
      ],
      "source": [
        "print(\"marginal log likelihoods:\")\n",
        "print(\"sequential\", posterior.marginal_loglik)\n",
        "print(\"parallel\", posterior2.marginal_loglik)\n",
        "jnp.allclose(posterior.marginal_loglik / num_timesteps, posterior2.marginal_loglik / num_timesteps, atol=1e-3)"
      ]
    },
    {
      "cell_type": "code",
      "execution_count": null,
      "metadata": {
        "colab": {
          "base_uri": "https://localhost:8080/"
        },
        "id": "uleWC8_o7ByI",
        "outputId": "8a03b9c0-6c22-4b18-8800-9dfd553d95ad"
      },
      "outputs": [
        {
          "output_type": "stream",
          "name": "stdout",
          "text": [
            "max absolute error in smoothed probabilities\n",
            "0.00015495718\n"
          ]
        },
        {
          "output_type": "execute_result",
          "data": {
            "text/plain": [
              "DeviceArray(True, dtype=bool)"
            ]
          },
          "metadata": {},
          "execution_count": 15
        }
      ],
      "source": [
        "print(\"max absolute error in smoothed probabilities\")\n",
        "print(jnp.max(abs(posterior.smoothed_probs - posterior2.smoothed_probs)))\n",
        "jnp.allclose(posterior.smoothed_probs, posterior2.smoothed_probs, atol=1e-1)"
      ]
    },
    {
      "cell_type": "code",
      "execution_count": null,
      "metadata": {
        "colab": {
          "base_uri": "https://localhost:8080/",
          "height": 307
        },
        "id": "noy11TXG7GML",
        "outputId": "0078a4d9-7612-459c-9fe5-2d960d2e5b8c"
      },
      "outputs": [
        {
          "output_type": "execute_result",
          "data": {
            "text/plain": [
              "Text(0, 0.5, 'rmse of smoothed probs')"
            ]
          },
          "metadata": {},
          "execution_count": 16
        },
        {
          "output_type": "display_data",
          "data": {
            "text/plain": [
              "<Figure size 432x288 with 1 Axes>"
            ],
            "image/png": "[encoded data removed]"
          },
          "metadata": {
            "needs_background": "light"
          }
        }
      ],
      "source": [
        "rmse = lambda x, y: jnp.sqrt(jnp.mean((x - y)**2, axis=1))\n",
        "plt.plot(rmse(posterior.smoothed_probs, posterior2.smoothed_probs))\n",
        "plt.xlabel(\"time step\")\n",
        "plt.ylabel(\"rmse of smoothed probs\")"
      ]
    },
    {
      "cell_type": "code",
      "execution_count": null,
      "metadata": {
        "colab": {
          "base_uri": "https://localhost:8080/"
        },
        "id": "TVwGRfYP9CbK",
        "outputId": "d331ee30-1800-454c-dec0-651d1ed3ebcd"
      },
      "outputs": [
        {
          "output_type": "stream",
          "name": "stdout",
          "text": [
            "355 ms ± 5.66 ms per loop (mean ± std. dev. of 7 runs, 1 loop each)\n"
          ]
        }
      ],
      "source": [
        "%%timeit \n",
        "posterior = hmm_smoother(initial_probs, transition_matrix, log_likelihoods)\n",
        "posterior.marginal_loglik.block_until_ready()"
      ]
    },
    {
      "cell_type": "code",
      "execution_count": null,
      "metadata": {
        "colab": {
          "base_uri": "https://localhost:8080/"
        },
        "id": "4_RK4v2d9CbK",
        "outputId": "cd1df5f7-4fea-4d9c-bbc6-fbcbca621e30"
      },
      "outputs": [
        {
          "output_type": "stream",
          "name": "stdout",
          "text": [
            "14.7 ms ± 23.6 µs per loop (mean ± std. dev. of 7 runs, 100 loops each)\n"
          ]
        }
      ],
      "source": [
        "%%timeit \n",
        "posterior = parallel_hmm_smoother(initial_probs, transition_matrix, log_likelihoods)\n",
        "posterior.marginal_loglik.block_until_ready()"
      ]
    },
    {
      "cell_type": "markdown",
      "metadata": {
        "id": "aPOU54K1-0v5"
      },
      "source": [
        "# Make a figure"
      ]
    },
    {
      "cell_type": "code",
      "execution_count": null,
      "metadata": {
        "colab": {
          "base_uri": "https://localhost:8080/"
        },
        "id": "rffSrrqw-2kw",
        "outputId": "dcae52ea-1890-45de-8e5d-e4ac9500a826"
      },
      "outputs": [
        {
          "output_type": "stream",
          "name": "stdout",
          "text": [
            "T 100\n",
            "serial\n",
            "parallel\n",
            "T 1000\n",
            "serial\n",
            "parallel\n",
            "T 10000\n",
            "serial\n",
            "parallel\n",
            "T 100000\n",
            "serial\n",
            "parallel\n",
            "T 1000000\n",
            "serial\n",
            "parallel\n"
          ]
        }
      ],
      "source": [
        "import time\n",
        "\n",
        "K = 20\n",
        "Ts = [100, 1000, 10000, 100000, 1000000]\n",
        "n_repeats = 3\n",
        "compiled = False\n",
        "serial_durations = []\n",
        "parallel_durations = []\n",
        "f_s = hmm_filter\n",
        "f_p = parallel_hmm_filter\n",
        "for T in Ts:\n",
        "    print(\"T\", T)\n",
        "    initial_probs, transition_matrix, log_likelihoods = \\\n",
        "        random_hmm_args(jr.PRNGKey(0), T, K)\n",
        "\n",
        "    print(\"serial\")\n",
        "    if not compiled:\n",
        "        posterior = f_s(initial_probs, transition_matrix, log_likelihoods)    \n",
        "        posterior.marginal_loglik.block_until_ready()\n",
        "    \n",
        "    start = time.time()\n",
        "    for _ in range(n_repeats):\n",
        "        posterior = f_s(initial_probs, transition_matrix, log_likelihoods)    \n",
        "        posterior.marginal_loglik.block_until_ready()\n",
        "    end = time.time()\n",
        "    serial_durations.append((end - start) / n_repeats)\n",
        "\n",
        "    print(\"parallel\")\n",
        "    if not compiled:\n",
        "        posterior = f_p(initial_probs, transition_matrix, log_likelihoods)    \n",
        "        posterior.marginal_loglik.block_until_ready()\n",
        "    \n",
        "    start = time.time()\n",
        "    for _ in range(n_repeats):\n",
        "        posterior = f_p(initial_probs, transition_matrix, log_likelihoods)    \n",
        "        posterior.marginal_loglik.block_until_ready()\n",
        "    end = time.time()\n",
        "    parallel_durations.append((end - start) / n_repeats)"
      ]
    },
    {
      "cell_type": "code",
      "execution_count": null,
      "metadata": {
        "colab": {
          "base_uri": "https://localhost:8080/",
          "height": 190
        },
        "id": "B4VF8udE_owq",
        "outputId": "1604ccb1-5cd3-4862-d7e9-9243732c0590"
      },
      "outputs": [
        {
          "output_type": "display_data",
          "data": {
            "text/plain": [
              "<Figure size 180x180 with 1 Axes>"
            ],
            "image/png": "[encoded data removed]"
          },
          "metadata": {
            "needs_background": "light"
          }
        }
      ],
      "source": [
        "plt.figure(figsize=(2.5, 2.5))\n",
        "plt.loglog(Ts, serial_durations, '-o', label='serial')\n",
        "plt.loglog(Ts, parallel_durations, '-o', label='parallel')\n",
        "plt.xticks(Ts)\n",
        "plt.xlabel(\"seq. length\")\n",
        "plt.ylabel(\"time per forward pass (s)\")\n",
        "plt.grid(True)\n",
        "plt.legend()\n",
        "plt.tight_layout()\n",
        "# plt.savefig(\"parallel_scan_profiling_filter.pdf\")\n",
        "# plt.savefig(\"parallel_scan_profiling_filter.png\")"
      ]
    }
  ],
  "metadata": {
    "accelerator": "GPU",
    "colab": {
      "collapsed_sections": [],
      "provenance": []
    },
    "gpuClass": "standard",
    "kernelspec": {
      "display_name": "Python 3 (ipykernel)",
      "language": "python",
      "name": "python3"
    },
    "language_info": {
      "codemirror_mode": {
        "name": "ipython",
        "version": 3
      },
      "file_extension": ".py",
      "mimetype": "text/x-python",
      "name": "python",
      "nbconvert_exporter": "python",
      "pygments_lexer": "ipython3",
      "version": "3.9.6"
    }
  },
  "nbformat": 4,
  "nbformat_minor": 0
}