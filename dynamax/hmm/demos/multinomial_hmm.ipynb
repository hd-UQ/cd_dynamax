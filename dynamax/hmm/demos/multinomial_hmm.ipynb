{
 "cells": [
  {
   "cell_type": "markdown",
   "metadata": {},
   "source": [
    "# Multinomial HMM\n",
    "Based on an example here: https://github.com/hmmlearn/hmmlearn/issues/70 which was implementing a Categorical HMM\n",
    "\n",
    "The `MultinomialHMM` is a generalization of `CategoricalHMM`, with the key differences being:\n",
    "  - a Categorical (aka generalized Bernoulli/multinoulli) distribution models\n",
    "  an outcome of a die with `n_features` possible values, i.e. it is a\n",
    "  generaliztion of the Bernoulli distribution where there are `n_features`\n",
    "  categories instead of the binary success/failure outcome;\n",
    "  a Categorical HMM has the emission probabilities for each component\n",
    "  parametrized by Categorical distributions\n",
    "  - a Multinomial distribution models the outcome of `n_trials` independent\n",
    "  rolls of die, each with `n_features` possible values; i.e.\n",
    "    - when n_trials = 1 and n_features = 1, Multinomial is the\n",
    "      Bernoulli distribution\n",
    "    - when n_trials > 1 and n_features = 2, Multinomial is the\n",
    "      Binomial distribution\n",
    "    - when n_trials = 1 and n_features > 2, Multinomial is the\n",
    "      Categorical distribution\n",
    "\n",
    "A `MultinomialHMM` has the emission probabilities for each component parameterized\n",
    "by the multinomial distribution.\n",
    "    - More details: https://en.wikipedia.org/wiki/Multinomial_distribution\n",
    "\n",
    "Based on https://github.com/hmmlearn/hmmlearn/blob/main/examples/multinomial_hmm_example.py\n"
   ]
  },
  {
   "cell_type": "code",
   "execution_count": 1,
   "metadata": {},
   "outputs": [],
   "source": [
    "try:\n",
    "    import dynamax\n",
    "except ModuleNotFoundError:\n",
    "    %pip install -qq git+https://github.com/probml/dynamax.git\n",
    "    import dynamax"
   ]
  },
  {
   "cell_type": "code",
   "execution_count": 2,
   "metadata": {},
   "outputs": [],
   "source": [
    "import jax.numpy as jnp\n",
    "import jax.random as jr\n",
    "from jax import vmap\n",
    "import matplotlib.pyplot as plt\n",
    "\n",
    "from dynamax.hmm.models.multinomial_hmm import MultinomialHMM"
   ]
  },
  {
   "cell_type": "code",
   "execution_count": 3,
   "metadata": {},
   "outputs": [],
   "source": [
    "def sentence2counts(sentence, vocab_to_ids):\n",
    "    ans = [0] * len(vocab_to_ids)\n",
    "    for word, idx in vocab_to_ids.items():\n",
    "        count = sentence.count(word)\n",
    "        ans[idx] = count\n",
    "    return ans"
   ]
  },
  {
   "cell_type": "code",
   "execution_count": 4,
   "metadata": {},
   "outputs": [],
   "source": [
    "key = jr.PRNGKey(0)\n",
    "# For this example, we will model the stages of a conversation,\n",
    "# where each sentence is \"generated\" with an underlying topic, \"cat\" or \"dog\"\n",
    "states = [\"cat\", \"dog\"]\n",
    "id2topic = dict(zip(range(len(states)), states))\n",
    "\n",
    "# For each topic, the probability of saying certain words can be modeled by\n",
    "# a distribution over vocabulary associated with the categories\n",
    "vocabulary = [\"tail\", \"fetch\", \"mouse\", \"food\"]\n",
    "\n",
    "# Pretend that every sentence we speak only has a total of 5 words,\n",
    "# i.e. we independently utter a word from the vocabulary 5 times per sentence\n",
    "# we observe the following bag of words (BoW) for 8 sentences:\n",
    "observations = [[\"tail\", \"mouse\", \"mouse\", \"food\", \"mouse\"], \n",
    "                [\"food\", \"mouse\", \"mouse\", \"food\", \"mouse\"],\n",
    "                [\"tail\", \"mouse\", \"mouse\", \"tail\", \"mouse\"], \n",
    "                [\"food\", \"mouse\", \"food\", \"food\", \"tail\"],\n",
    "                [\"tail\", \"fetch\", \"mouse\", \"food\", \"tail\"],\n",
    "                [\"tail\", \"fetch\", \"fetch\", \"food\", \"fetch\"],\n",
    "                [\"fetch\", \"fetch\", \"fetch\", \"food\", \"tail\"], \n",
    "                [\"food\", \"mouse\", \"food\", \"food\", \"tail\"],\n",
    "                [\"tail\", \"mouse\", \"mouse\", \"tail\", \"mouse\"], \n",
    "                [\"fetch\", \"fetch\", \"fetch\", \"fetch\", \"fetch\"]]\n",
    "\n",
    "# Convert \"sentences\" to numbers:\n",
    "vocab_to_ids = dict(zip(vocabulary, range(len(vocabulary))))\n",
    "\n",
    "emissions = []\n",
    "for sentence in observations:\n",
    "    row = sentence2counts(sentence, vocab_to_ids)\n",
    "    emissions.append(row)\n",
    "\n",
    "emissions = jnp.array(emissions, dtype=int)\n",
    "\n",
    "# pretend this is repeated, so we have more data to learn from:\n",
    "emissions = jnp.tile(emissions, (5, 1))\n",
    "\n",
    "# Add a dummy dimension since per MultinomialHMM convention\n",
    "emissions = emissions[:, None, :]"
   ]
  },
  {
   "cell_type": "code",
   "execution_count": 5,
   "metadata": {},
   "outputs": [],
   "source": [
    "# Set up model:\n",
    "num_states = 2      # 2 discrete states\n",
    "emission_dim = 1    # single multinomial observation per time step\n",
    "num_classes = 4     # each multinomial observation has 4 numbers (size of vocab)\n",
    "num_trials = 5      # each multinomial observation sums to 5 (length of sentence)\n",
    "model = MultinomialHMM(num_states, emission_dim, num_classes, num_trials)\n",
    "\n",
    "# Start with randomly initialized parameters\n",
    "params, param_props = model.random_initialization(jr.PRNGKey(0))"
   ]
  },
  {
   "cell_type": "code",
   "execution_count": 6,
   "metadata": {},
   "outputs": [
    {
     "name": "stderr",
     "output_type": "stream",
     "text": [
      "100%|██████████| 50/50 [00:00<00:00, 80.59it/s]\n"
     ]
    },
    {
     "data": {
      "text/plain": [
       "Text(0, 0.5, 'log probability')"
      ]
     },
     "execution_count": 6,
     "metadata": {},
     "output_type": "execute_result"
    },
    {
     "data": {
      "image/png": "[encoded data removed]",
      "text/plain": [
       "<Figure size 432x288 with 1 Axes>"
      ]
     },
     "metadata": {
      "needs_background": "light"
     },
     "output_type": "display_data"
    }
   ],
   "source": [
    "# Fit the model\n",
    "params, lps = model.fit_em(params, param_props, emissions)\n",
    "\n",
    "plt.plot(lps)\n",
    "plt.xlabel(\"iteration\")\n",
    "plt.ylabel(\"log probability\")"
   ]
  },
  {
   "cell_type": "code",
   "execution_count": 7,
   "metadata": {},
   "outputs": [
    {
     "name": "stdout",
     "output_type": "stream",
     "text": [
      "Topics discussed:\n",
      "['dog', 'dog', 'dog', 'dog', 'dog', 'cat', 'cat', 'dog', 'dog', 'cat', 'dog', 'dog', 'dog', 'dog', 'dog', 'cat', 'cat', 'dog', 'dog', 'cat', 'dog', 'dog', 'dog', 'dog', 'dog', 'cat', 'cat', 'dog', 'dog', 'cat', 'dog', 'dog', 'dog', 'dog', 'dog', 'cat', 'cat', 'dog', 'dog', 'cat', 'dog', 'dog', 'dog', 'dog', 'dog', 'cat', 'cat', 'dog', 'dog', 'cat']\n"
     ]
    }
   ],
   "source": [
    "# Infer most likely subjects\n",
    "print(\"Topics discussed:\")\n",
    "states = model.most_likely_states(params, emissions)\n",
    "print([id2topic[x] for x in states.tolist()])"
   ]
  },
  {
   "cell_type": "code",
   "execution_count": 8,
   "metadata": {},
   "outputs": [
    {
     "name": "stdout",
     "output_type": "stream",
     "text": [
      "Learned emission probs:\n",
      "[[[0.13453096 0.7295756  0.00178499 0.1341085 ]]\n",
      "\n",
      " [[0.25698185 0.02899423 0.4283295  0.28569448]]]\n",
      "Learned transition matrix:\n",
      "[[0.3604682  0.6395318 ]\n",
      " [0.2871868  0.71281326]]\n"
     ]
    }
   ],
   "source": [
    "# Print estimated parameters\n",
    "print(\"Learned emission probs:\")\n",
    "print(params[\"emissions\"][\"probs\"])\n",
    "\n",
    "print(\"Learned transition matrix:\")\n",
    "print(params[\"transitions\"][\"transition_matrix\"])\n"
   ]
  }
 ],
 "metadata": {
  "kernelspec": {
   "display_name": "Python 3.9.6 ('dynamax')",
   "language": "python",
   "name": "python3"
  },
  "language_info": {
   "codemirror_mode": {
    "name": "ipython",
    "version": 3
   },
   "file_extension": ".py",
   "mimetype": "text/x-python",
   "name": "python",
   "nbconvert_exporter": "python",
   "pygments_lexer": "ipython3",
   "version": "3.9.6"
  },
  "orig_nbformat": 4,
  "vscode": {
   "interpreter": {
    "hash": "92401d49bd83f70620e540b668b7091047c2ca041ed5ff6cc3954130de9aa1fc"
   }
  }
 },
 "nbformat": 4,
 "nbformat_minor": 2
}
