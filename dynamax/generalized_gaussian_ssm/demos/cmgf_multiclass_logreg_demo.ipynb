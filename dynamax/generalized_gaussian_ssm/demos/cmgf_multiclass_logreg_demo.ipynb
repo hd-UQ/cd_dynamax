{
 "cells": [
  {
   "cell_type": "markdown",
   "metadata": {
    "id": "4c2rXBc6oQKt"
   },
   "source": [
    "# Online Multiclass Logistic Regression using CMGF"
   ]
  },
  {
   "cell_type": "markdown",
   "metadata": {
    "id": "D15lpL3fD7f1"
   },
   "source": [
    "##0. Imports"
   ]
  },
  {
   "cell_type": "code",
   "execution_count": 1,
   "metadata": {
    "id": "Vo3x6Kglg4IY"
   },
   "outputs": [],
   "source": [
    "# Silence WARNING:root:The use of `check_types` is deprecated and does not have any effect.\n",
    "# https://github.com/tensorflow/probability/issues/1523\n",
    "import logging, sys, warnings, os\n",
    "\n",
    "logger = logging.getLogger()\n",
    "\n",
    "\n",
    "class CheckTypesFilter(logging.Filter):\n",
    "    def filter(self, record):\n",
    "        return \"check_types\" not in record.getMessage()\n",
    "\n",
    "\n",
    "logger.addFilter(CheckTypesFilter())\n",
    "\n",
    "# if not sys.warnoptions:\n",
    "#     warnings.simplefilter(\"ignore\")\n",
    "#     os.environ[\"PYTHONWARNINGS\"] = \"ignore\" # Also affect subprocesses"
   ]
  },
  {
   "cell_type": "code",
   "execution_count": 2,
   "metadata": {
    "colab": {
     "base_uri": "https://localhost:8080/"
    },
    "id": "uEBbL-EJnWxZ",
    "outputId": "0e0900a6-ae3a-441f-87f1-5f00bb9e6a93"
   },
   "outputs": [],
   "source": [
    "try:\n",
    "    from dynamax.generalized_gaussian_ssm.inference import *\n",
    "except ModuleNotFoundError:\n",
    "    print('installing dynamax')\n",
    "    %pip install -qq dynamax\n",
    "    from dynamax.generalized_gaussian_ssm.inference import *"
   ]
  },
  {
   "cell_type": "code",
   "execution_count": 3,
   "metadata": {
    "id": "NDRvXsqQpcDv"
   },
   "outputs": [],
   "source": [
    "from warnings import simplefilter\n",
    "\n",
    "import matplotlib.pyplot as plt\n",
    "\n",
    "import jax\n",
    "import jax.numpy as jnp\n",
    "import jax.random as jr\n",
    "from sklearn.datasets import make_classification\n",
    "from sklearn.model_selection import cross_val_score, KFold, train_test_split\n",
    "from sklearn.linear_model import SGDClassifier\n",
    "from sklearn import preprocessing\n",
    "from sklearn.exceptions import ConvergenceWarning\n",
    "from sklearn.metrics import log_loss\n",
    "from sklearn.pipeline import Pipeline\n",
    "from sklearn.utils._testing import ignore_warnings\n",
    "from sklearn.exceptions import ConvergenceWarning"
   ]
  },
  {
   "cell_type": "markdown",
   "metadata": {
    "id": "2MIMhuR-EF47"
   },
   "source": [
    "## 1. CMGF Model for Online Multiclass Logistic Regression"
   ]
  },
  {
   "cell_type": "markdown",
   "metadata": {
    "id": "xExedRgYEv6X"
   },
   "source": [
    "Note that the moments of a (one-hot-encoded) categorical distribution with $K$ possible classes are as follows:\n",
    "\n",
    "$$\\mathbb{E}[\\vec{y}|\\vec{x}, \\textbf{W}] =  \\begin{pmatrix} \\sigma_2(\\textbf{W}^T\\vec{x}) \\\\ \\sigma_3(\\textbf{W}^T\\vec{x}) \\\\ \\vdots \\\\ \\sigma_K(\\textbf{W}^T\\vec{x}) \\end{pmatrix}\n",
    "$$\n",
    "$$Cov[\\vec{y}|\\vec{x}, \\textbf{W}] = \\begin{pmatrix} p_2 (1 - p_2) & -p_2 p_3 & \\dots & -p_2 p_K \\\\\n",
    "-p_2 p_3 & p_3 (1 - p_3) & \\dots  & -p_3 p_K \\\\\n",
    "\\vdots & \\vdots & \\ddots & \\vdots \\\\\n",
    "-p_2 p_K & -p_3 p_K & \\dots & p_K (1 - p_K)\n",
    " \\end{pmatrix}$$\n",
    "where $\\vec{\\sigma}(\\cdot)$ is the softmax function.\n",
    "\n",
    "Note that in order to prevent the \"Dummy Variable Trap,\" we drop the first column.\n",
    "\n",
    "Thus, we can build a generic multiclass CMGF classifier that works with the `scikit-learn` cross validation tool as follows.\n",
    "\n"
   ]
  },
  {
   "cell_type": "code",
   "execution_count": 4,
   "metadata": {},
   "outputs": [],
   "source": [
    "from dynamax.generalized_gaussian_ssm.demos.cmgf_logreg_estimator import CMGFEstimator"
   ]
  },
  {
   "cell_type": "code",
   "execution_count": 5,
   "metadata": {},
   "outputs": [
    {
     "data": {
      "text/plain": [
       "\u001b[0;31mInit signature:\u001b[0m \u001b[0mCMGFEstimator\u001b[0m\u001b[0;34m(\u001b[0m\u001b[0mmean\u001b[0m\u001b[0;34m=\u001b[0m\u001b[0;32mNone\u001b[0m\u001b[0;34m,\u001b[0m \u001b[0mcov\u001b[0m\u001b[0;34m=\u001b[0m\u001b[0;32mNone\u001b[0m\u001b[0;34m)\u001b[0m\u001b[0;34m\u001b[0m\u001b[0;34m\u001b[0m\u001b[0m\n",
       "\u001b[0;31mDocstring:\u001b[0m     \n",
       "Base class for all estimators in scikit-learn.\n",
       "\n",
       "Notes\n",
       "-----\n",
       "All estimators should specify all the parameters that can be set\n",
       "at the class level in their ``__init__`` as explicit keyword\n",
       "arguments (no ``*args`` or ``**kwargs``).\n",
       "\u001b[0;31mSource:\u001b[0m        \n",
       "\u001b[0;32mclass\u001b[0m \u001b[0mCMGFEstimator\u001b[0m\u001b[0;34m(\u001b[0m\u001b[0mBaseEstimator\u001b[0m\u001b[0;34m,\u001b[0m \u001b[0mClassifierMixin\u001b[0m\u001b[0;34m)\u001b[0m\u001b[0;34m:\u001b[0m\u001b[0;34m\u001b[0m\n",
       "\u001b[0;34m\u001b[0m    \u001b[0;32mdef\u001b[0m \u001b[0m__init__\u001b[0m\u001b[0;34m(\u001b[0m\u001b[0mself\u001b[0m\u001b[0;34m,\u001b[0m  \u001b[0mmean\u001b[0m\u001b[0;34m=\u001b[0m\u001b[0;32mNone\u001b[0m\u001b[0;34m,\u001b[0m \u001b[0mcov\u001b[0m\u001b[0;34m=\u001b[0m\u001b[0;32mNone\u001b[0m\u001b[0;34m)\u001b[0m\u001b[0;34m:\u001b[0m\u001b[0;34m\u001b[0m\n",
       "\u001b[0;34m\u001b[0m        \u001b[0mself\u001b[0m\u001b[0;34m.\u001b[0m\u001b[0mmean\u001b[0m \u001b[0;34m=\u001b[0m \u001b[0mmean\u001b[0m\u001b[0;34m\u001b[0m\n",
       "\u001b[0;34m\u001b[0m        \u001b[0mself\u001b[0m\u001b[0;34m.\u001b[0m\u001b[0mcov\u001b[0m \u001b[0;34m=\u001b[0m \u001b[0mcov\u001b[0m\u001b[0;34m\u001b[0m\n",
       "\u001b[0;34m\u001b[0m\u001b[0;34m\u001b[0m\n",
       "\u001b[0;34m\u001b[0m    \u001b[0;32mdef\u001b[0m \u001b[0mfit\u001b[0m\u001b[0;34m(\u001b[0m\u001b[0mself\u001b[0m\u001b[0;34m,\u001b[0m \u001b[0mX\u001b[0m\u001b[0;34m,\u001b[0m \u001b[0my\u001b[0m\u001b[0;34m)\u001b[0m\u001b[0;34m:\u001b[0m\u001b[0;34m\u001b[0m\n",
       "\u001b[0;34m\u001b[0m        \u001b[0mX_bias\u001b[0m \u001b[0;34m=\u001b[0m \u001b[0mjnp\u001b[0m\u001b[0;34m.\u001b[0m\u001b[0mconcatenate\u001b[0m\u001b[0;34m(\u001b[0m\u001b[0;34m[\u001b[0m\u001b[0mjnp\u001b[0m\u001b[0;34m.\u001b[0m\u001b[0mones\u001b[0m\u001b[0;34m(\u001b[0m\u001b[0;34m(\u001b[0m\u001b[0mlen\u001b[0m\u001b[0;34m(\u001b[0m\u001b[0mX\u001b[0m\u001b[0;34m)\u001b[0m\u001b[0;34m,\u001b[0m \u001b[0;36m1\u001b[0m\u001b[0;34m)\u001b[0m\u001b[0;34m)\u001b[0m\u001b[0;34m,\u001b[0m \u001b[0mX\u001b[0m\u001b[0;34m]\u001b[0m\u001b[0;34m,\u001b[0m \u001b[0maxis\u001b[0m\u001b[0;34m=\u001b[0m\u001b[0;36m1\u001b[0m\u001b[0;34m)\u001b[0m\u001b[0;34m\u001b[0m\n",
       "\u001b[0;34m\u001b[0m        \u001b[0;31m# Encode output as one-hot-encoded vectors with first column dropped,\u001b[0m\u001b[0;34m\u001b[0m\n",
       "\u001b[0;34m\u001b[0m        \u001b[0;31m# i.e., [0, ..., 0] correspondes to 1st class\u001b[0m\u001b[0;34m\u001b[0m\n",
       "\u001b[0;34m\u001b[0m        \u001b[0;31m# This is done to prevent the \"Dummy Variable Trap\".\u001b[0m\u001b[0;34m\u001b[0m\n",
       "\u001b[0;34m\u001b[0m        \u001b[0menc\u001b[0m \u001b[0;34m=\u001b[0m \u001b[0mOneHotEncoder\u001b[0m\u001b[0;34m(\u001b[0m\u001b[0mdrop\u001b[0m\u001b[0;34m=\u001b[0m\u001b[0;34m'first'\u001b[0m\u001b[0;34m)\u001b[0m\u001b[0;34m\u001b[0m\n",
       "\u001b[0;34m\u001b[0m        \u001b[0my_oh\u001b[0m \u001b[0;34m=\u001b[0m \u001b[0mjnp\u001b[0m\u001b[0;34m.\u001b[0m\u001b[0marray\u001b[0m\u001b[0;34m(\u001b[0m\u001b[0menc\u001b[0m\u001b[0;34m.\u001b[0m\u001b[0mfit_transform\u001b[0m\u001b[0;34m(\u001b[0m\u001b[0my\u001b[0m\u001b[0;34m.\u001b[0m\u001b[0mreshape\u001b[0m\u001b[0;34m(\u001b[0m\u001b[0;34m-\u001b[0m\u001b[0;36m1\u001b[0m\u001b[0;34m,\u001b[0m \u001b[0;36m1\u001b[0m\u001b[0;34m)\u001b[0m\u001b[0;34m)\u001b[0m\u001b[0;34m.\u001b[0m\u001b[0mtoarray\u001b[0m\u001b[0;34m(\u001b[0m\u001b[0;34m)\u001b[0m\u001b[0;34m)\u001b[0m\u001b[0;34m\u001b[0m\n",
       "\u001b[0;34m\u001b[0m        \u001b[0minput_dim\u001b[0m \u001b[0;34m=\u001b[0m \u001b[0mX_bias\u001b[0m\u001b[0;34m.\u001b[0m\u001b[0mshape\u001b[0m\u001b[0;34m[\u001b[0m\u001b[0;34m-\u001b[0m\u001b[0;36m1\u001b[0m\u001b[0;34m]\u001b[0m\u001b[0;34m\u001b[0m\n",
       "\u001b[0;34m\u001b[0m        \u001b[0mnum_classes\u001b[0m \u001b[0;34m=\u001b[0m \u001b[0my_oh\u001b[0m\u001b[0;34m.\u001b[0m\u001b[0mshape\u001b[0m\u001b[0;34m[\u001b[0m\u001b[0;34m-\u001b[0m\u001b[0;36m1\u001b[0m\u001b[0;34m]\u001b[0m \u001b[0;34m+\u001b[0m \u001b[0;36m1\u001b[0m\u001b[0;34m\u001b[0m\n",
       "\u001b[0;34m\u001b[0m        \u001b[0mself\u001b[0m\u001b[0;34m.\u001b[0m\u001b[0mclasses_\u001b[0m \u001b[0;34m=\u001b[0m \u001b[0mjnp\u001b[0m\u001b[0;34m.\u001b[0m\u001b[0marange\u001b[0m\u001b[0;34m(\u001b[0m\u001b[0mnum_classes\u001b[0m\u001b[0;34m)\u001b[0m\u001b[0;34m\u001b[0m\n",
       "\u001b[0;34m\u001b[0m        \u001b[0mweight_dim\u001b[0m \u001b[0;34m=\u001b[0m \u001b[0minput_dim\u001b[0m \u001b[0;34m*\u001b[0m \u001b[0mnum_classes\u001b[0m\u001b[0;34m\u001b[0m\n",
       "\u001b[0;34m\u001b[0m        \u001b[0;34m\u001b[0m\n",
       "\u001b[0;34m\u001b[0m        \u001b[0minitial_mean\u001b[0m\u001b[0;34m,\u001b[0m \u001b[0minitial_covariance\u001b[0m \u001b[0;34m=\u001b[0m \u001b[0mjnp\u001b[0m\u001b[0;34m.\u001b[0m\u001b[0mzeros\u001b[0m\u001b[0;34m(\u001b[0m\u001b[0mweight_dim\u001b[0m\u001b[0;34m)\u001b[0m\u001b[0;34m,\u001b[0m \u001b[0mjnp\u001b[0m\u001b[0;34m.\u001b[0m\u001b[0meye\u001b[0m\u001b[0;34m(\u001b[0m\u001b[0mweight_dim\u001b[0m\u001b[0;34m)\u001b[0m\u001b[0;34m\u001b[0m\n",
       "\u001b[0;34m\u001b[0m        \u001b[0mdynamics_function\u001b[0m \u001b[0;34m=\u001b[0m \u001b[0;32mlambda\u001b[0m \u001b[0mw\u001b[0m\u001b[0;34m,\u001b[0m \u001b[0mx\u001b[0m\u001b[0;34m:\u001b[0m \u001b[0mw\u001b[0m\u001b[0;34m\u001b[0m\n",
       "\u001b[0;34m\u001b[0m        \u001b[0mdynamics_covariance\u001b[0m \u001b[0;34m=\u001b[0m \u001b[0mjnp\u001b[0m\u001b[0;34m.\u001b[0m\u001b[0mzeros\u001b[0m\u001b[0;34m(\u001b[0m\u001b[0;34m(\u001b[0m\u001b[0mweight_dim\u001b[0m\u001b[0;34m,\u001b[0m \u001b[0mweight_dim\u001b[0m\u001b[0;34m)\u001b[0m\u001b[0;34m)\u001b[0m\u001b[0;34m\u001b[0m\n",
       "\u001b[0;34m\u001b[0m        \u001b[0memission_mean_function\u001b[0m \u001b[0;34m=\u001b[0m \u001b[0;32mlambda\u001b[0m \u001b[0mw\u001b[0m\u001b[0;34m,\u001b[0m \u001b[0mx\u001b[0m\u001b[0;34m:\u001b[0m \u001b[0mjax\u001b[0m\u001b[0;34m.\u001b[0m\u001b[0mnn\u001b[0m\u001b[0;34m.\u001b[0m\u001b[0msoftmax\u001b[0m\u001b[0;34m(\u001b[0m\u001b[0mx\u001b[0m \u001b[0;34m@\u001b[0m \u001b[0mw\u001b[0m\u001b[0;34m.\u001b[0m\u001b[0mreshape\u001b[0m\u001b[0;34m(\u001b[0m\u001b[0minput_dim\u001b[0m\u001b[0;34m,\u001b[0m \u001b[0;34m-\u001b[0m\u001b[0;36m1\u001b[0m\u001b[0;34m)\u001b[0m\u001b[0;34m)\u001b[0m\u001b[0;34m[\u001b[0m\u001b[0;36m1\u001b[0m\u001b[0;34m:\u001b[0m\u001b[0;34m]\u001b[0m\u001b[0;34m\u001b[0m\n",
       "\u001b[0;34m\u001b[0m        \u001b[0;32mdef\u001b[0m \u001b[0memission_var_function\u001b[0m\u001b[0;34m(\u001b[0m\u001b[0mw\u001b[0m\u001b[0;34m,\u001b[0m \u001b[0mx\u001b[0m\u001b[0;34m)\u001b[0m\u001b[0;34m:\u001b[0m\u001b[0;34m\u001b[0m\n",
       "\u001b[0;34m\u001b[0m            \u001b[0mps\u001b[0m \u001b[0;34m=\u001b[0m \u001b[0mjnp\u001b[0m\u001b[0;34m.\u001b[0m\u001b[0matleast_2d\u001b[0m\u001b[0;34m(\u001b[0m\u001b[0memission_mean_function\u001b[0m\u001b[0;34m(\u001b[0m\u001b[0mw\u001b[0m\u001b[0;34m,\u001b[0m \u001b[0mx\u001b[0m\u001b[0;34m)\u001b[0m\u001b[0;34m)\u001b[0m\u001b[0;34m\u001b[0m\n",
       "\u001b[0;34m\u001b[0m            \u001b[0;32mreturn\u001b[0m \u001b[0mfill_diagonal\u001b[0m\u001b[0;34m(\u001b[0m\u001b[0mps\u001b[0m\u001b[0;34m.\u001b[0m\u001b[0mT\u001b[0m \u001b[0;34m@\u001b[0m \u001b[0;34m-\u001b[0m\u001b[0mps\u001b[0m\u001b[0;34m,\u001b[0m \u001b[0mps\u001b[0m \u001b[0;34m*\u001b[0m \u001b[0;34m(\u001b[0m\u001b[0;36m1\u001b[0m\u001b[0;34m-\u001b[0m\u001b[0mps\u001b[0m\u001b[0;34m)\u001b[0m\u001b[0;34m)\u001b[0m\u001b[0;34m\u001b[0m\n",
       "\u001b[0;34m\u001b[0m        \u001b[0mcmgf_params\u001b[0m \u001b[0;34m=\u001b[0m \u001b[0mParamsGGSSM\u001b[0m\u001b[0;34m(\u001b[0m\u001b[0;34m\u001b[0m\n",
       "\u001b[0;34m\u001b[0m            \u001b[0minitial_mean\u001b[0m \u001b[0;34m=\u001b[0m \u001b[0minitial_mean\u001b[0m\u001b[0;34m,\u001b[0m\u001b[0;34m\u001b[0m\n",
       "\u001b[0;34m\u001b[0m            \u001b[0minitial_covariance\u001b[0m \u001b[0;34m=\u001b[0m \u001b[0minitial_covariance\u001b[0m\u001b[0;34m,\u001b[0m\u001b[0;34m\u001b[0m\n",
       "\u001b[0;34m\u001b[0m            \u001b[0mdynamics_function\u001b[0m \u001b[0;34m=\u001b[0m \u001b[0mdynamics_function\u001b[0m\u001b[0;34m,\u001b[0m\u001b[0;34m\u001b[0m\n",
       "\u001b[0;34m\u001b[0m            \u001b[0mdynamics_covariance\u001b[0m \u001b[0;34m=\u001b[0m \u001b[0mdynamics_covariance\u001b[0m\u001b[0;34m,\u001b[0m\u001b[0;34m\u001b[0m\n",
       "\u001b[0;34m\u001b[0m            \u001b[0memission_mean_function\u001b[0m \u001b[0;34m=\u001b[0m \u001b[0memission_mean_function\u001b[0m\u001b[0;34m,\u001b[0m\u001b[0;34m\u001b[0m\n",
       "\u001b[0;34m\u001b[0m            \u001b[0memission_cov_function\u001b[0m \u001b[0;34m=\u001b[0m \u001b[0memission_var_function\u001b[0m\u001b[0;34m\u001b[0m\n",
       "\u001b[0;34m\u001b[0m        \u001b[0;34m)\u001b[0m\u001b[0;34m\u001b[0m\n",
       "\u001b[0;34m\u001b[0m        \u001b[0mpost\u001b[0m \u001b[0;34m=\u001b[0m \u001b[0mconditional_moments_gaussian_filter\u001b[0m\u001b[0;34m(\u001b[0m\u001b[0mcmgf_params\u001b[0m\u001b[0;34m,\u001b[0m \u001b[0mEKFIntegrals\u001b[0m\u001b[0;34m(\u001b[0m\u001b[0;34m)\u001b[0m\u001b[0;34m,\u001b[0m \u001b[0my_oh\u001b[0m\u001b[0;34m,\u001b[0m \u001b[0minputs\u001b[0m \u001b[0;34m=\u001b[0m \u001b[0mX_bias\u001b[0m\u001b[0;34m)\u001b[0m\u001b[0;34m\u001b[0m\n",
       "\u001b[0;34m\u001b[0m        \u001b[0mpost_means\u001b[0m\u001b[0;34m,\u001b[0m \u001b[0mpost_covs\u001b[0m \u001b[0;34m=\u001b[0m \u001b[0mpost\u001b[0m\u001b[0;34m.\u001b[0m\u001b[0mfiltered_means\u001b[0m\u001b[0;34m,\u001b[0m \u001b[0mpost\u001b[0m\u001b[0;34m.\u001b[0m\u001b[0mfiltered_covariances\u001b[0m\u001b[0;34m\u001b[0m\n",
       "\u001b[0;34m\u001b[0m        \u001b[0mself\u001b[0m\u001b[0;34m.\u001b[0m\u001b[0mmean\u001b[0m\u001b[0;34m,\u001b[0m \u001b[0mself\u001b[0m\u001b[0;34m.\u001b[0m\u001b[0mcov\u001b[0m \u001b[0;34m=\u001b[0m \u001b[0mpost_means\u001b[0m\u001b[0;34m[\u001b[0m\u001b[0;34m-\u001b[0m\u001b[0;36m1\u001b[0m\u001b[0;34m]\u001b[0m\u001b[0;34m,\u001b[0m \u001b[0mpost_covs\u001b[0m\u001b[0;34m[\u001b[0m\u001b[0;34m-\u001b[0m\u001b[0;36m1\u001b[0m\u001b[0;34m]\u001b[0m\u001b[0;34m\u001b[0m\n",
       "\u001b[0;34m\u001b[0m        \u001b[0;32mreturn\u001b[0m \u001b[0mself\u001b[0m\u001b[0;34m\u001b[0m\n",
       "\u001b[0;34m\u001b[0m    \u001b[0;34m\u001b[0m\n",
       "\u001b[0;34m\u001b[0m    \u001b[0;32mdef\u001b[0m \u001b[0mpredict\u001b[0m\u001b[0;34m(\u001b[0m\u001b[0mself\u001b[0m\u001b[0;34m,\u001b[0m \u001b[0mX\u001b[0m\u001b[0;34m)\u001b[0m\u001b[0;34m:\u001b[0m\u001b[0;34m\u001b[0m\n",
       "\u001b[0;34m\u001b[0m        \u001b[0;32mreturn\u001b[0m \u001b[0mjnp\u001b[0m\u001b[0;34m.\u001b[0m\u001b[0margmax\u001b[0m\u001b[0;34m(\u001b[0m\u001b[0mself\u001b[0m\u001b[0;34m.\u001b[0m\u001b[0mpredict_proba\u001b[0m\u001b[0;34m(\u001b[0m\u001b[0mX\u001b[0m\u001b[0;34m)\u001b[0m\u001b[0;34m,\u001b[0m \u001b[0maxis\u001b[0m\u001b[0;34m=\u001b[0m\u001b[0;36m1\u001b[0m\u001b[0;34m)\u001b[0m\u001b[0;34m\u001b[0m\n",
       "\u001b[0;34m\u001b[0m\u001b[0;34m\u001b[0m\n",
       "\u001b[0;34m\u001b[0m    \u001b[0;32mdef\u001b[0m \u001b[0mpredict_proba\u001b[0m\u001b[0;34m(\u001b[0m\u001b[0mself\u001b[0m\u001b[0;34m,\u001b[0m \u001b[0mX\u001b[0m\u001b[0;34m)\u001b[0m\u001b[0;34m:\u001b[0m\u001b[0;34m\u001b[0m\n",
       "\u001b[0;34m\u001b[0m        \u001b[0mX\u001b[0m \u001b[0;34m=\u001b[0m \u001b[0mjnp\u001b[0m\u001b[0;34m.\u001b[0m\u001b[0marray\u001b[0m\u001b[0;34m(\u001b[0m\u001b[0mX\u001b[0m\u001b[0;34m)\u001b[0m\u001b[0;34m\u001b[0m\n",
       "\u001b[0;34m\u001b[0m        \u001b[0mX_bias\u001b[0m \u001b[0;34m=\u001b[0m \u001b[0mjnp\u001b[0m\u001b[0;34m.\u001b[0m\u001b[0mconcatenate\u001b[0m\u001b[0;34m(\u001b[0m\u001b[0;34m[\u001b[0m\u001b[0mjnp\u001b[0m\u001b[0;34m.\u001b[0m\u001b[0mones\u001b[0m\u001b[0;34m(\u001b[0m\u001b[0;34m(\u001b[0m\u001b[0mlen\u001b[0m\u001b[0;34m(\u001b[0m\u001b[0mX\u001b[0m\u001b[0;34m)\u001b[0m\u001b[0;34m,\u001b[0m \u001b[0;36m1\u001b[0m\u001b[0;34m)\u001b[0m\u001b[0;34m)\u001b[0m\u001b[0;34m,\u001b[0m \u001b[0mX\u001b[0m\u001b[0;34m]\u001b[0m\u001b[0;34m,\u001b[0m \u001b[0maxis\u001b[0m\u001b[0;34m=\u001b[0m\u001b[0;36m1\u001b[0m\u001b[0;34m)\u001b[0m\u001b[0;34m\u001b[0m\n",
       "\u001b[0;34m\u001b[0m        \u001b[0;32mreturn\u001b[0m \u001b[0mjax\u001b[0m\u001b[0;34m.\u001b[0m\u001b[0mnn\u001b[0m\u001b[0;34m.\u001b[0m\u001b[0msoftmax\u001b[0m\u001b[0;34m(\u001b[0m\u001b[0mX_bias\u001b[0m \u001b[0;34m@\u001b[0m \u001b[0mself\u001b[0m\u001b[0;34m.\u001b[0m\u001b[0mmean\u001b[0m\u001b[0;34m.\u001b[0m\u001b[0mreshape\u001b[0m\u001b[0;34m(\u001b[0m\u001b[0mX_bias\u001b[0m\u001b[0;34m.\u001b[0m\u001b[0mshape\u001b[0m\u001b[0;34m[\u001b[0m\u001b[0;34m-\u001b[0m\u001b[0;36m1\u001b[0m\u001b[0;34m]\u001b[0m\u001b[0;34m,\u001b[0m \u001b[0;34m-\u001b[0m\u001b[0;36m1\u001b[0m\u001b[0;34m)\u001b[0m\u001b[0;34m)\u001b[0m\u001b[0;34m\u001b[0m\u001b[0;34m\u001b[0m\u001b[0m\n",
       "\u001b[0;31mFile:\u001b[0m           .../dynamax/generalized_gaussian_ssm/demos/cmgf_logreg_estimator.py\n",
       "\u001b[0;31mType:\u001b[0m           type\n",
       "\u001b[0;31mSubclasses:\u001b[0m     \n"
      ]
     },
     "metadata": {},
     "output_type": "display_data"
    }
   ],
   "source": [
    "CMGFEstimator??"
   ]
  },
  {
   "cell_type": "markdown",
   "metadata": {
    "id": "gL591ok4Hs5s"
   },
   "source": [
    "##2. Accuracy Comparison with SGD"
   ]
  },
  {
   "cell_type": "markdown",
   "metadata": {
    "id": "ziBWqA7HYHx8"
   },
   "source": [
    "We compare classification accuracy of CMGF with those of one-pass SGD and multi-pass SGD using 10-fold cross validation."
   ]
  },
  {
   "cell_type": "code",
   "execution_count": 6,
   "metadata": {
    "id": "JFvfXOraIJoQ"
   },
   "outputs": [],
   "source": [
    "def compute_cv_avg_score(estimator, num_points, num_classes, n_splits=10, scoring='accuracy'):\n",
    "    # Generate dataset\n",
    "    X, y = make_classification(n_samples=num_points, n_features=num_classes+1, \n",
    "                               n_informative=num_classes+1, n_redundant=0, n_classes=num_classes, random_state=0)\n",
    "    \n",
    "    # Set up pipeline to avoid fitting scaler to test dataset\n",
    "    scaler = preprocessing.StandardScaler()\n",
    "    pipeline = Pipeline([('transformer', scaler), ('estimator', estimator)])\n",
    "\n",
    "    # K-fold cross validationaccuracy\n",
    "    cv = KFold(n_splits=n_splits)\n",
    "    scores = cross_val_score(pipeline, X, y, cv=cv, scoring=scoring)\n",
    "\n",
    "    return scores.mean()"
   ]
  },
  {
   "cell_type": "code",
   "execution_count": 7,
   "metadata": {
    "colab": {
     "base_uri": "https://localhost:8080/"
    },
    "id": "LFIhl10fH8z6",
    "outputId": "78751395-c1bd-452f-a9c3-142df178dcd8"
   },
   "outputs": [
    {
     "name": "stdout",
     "output_type": "stream",
     "text": [
      "1000 data points, 2 classes.\n",
      "EKF-CMGF estimate average accuracy = 0.7219999999999999\n",
      "One-pass sgd estimate average accuracy = 0.6729999999999999\n",
      "Multi-pass sgd estimate average accuracy = 0.72\n",
      "1000 data points, 3 classes.\n",
      "EKF-CMGF estimate average accuracy = 0.69\n",
      "One-pass sgd estimate average accuracy = 0.5860000000000001\n",
      "Multi-pass sgd estimate average accuracy = 0.659\n",
      "1000 data points, 4 classes.\n",
      "EKF-CMGF estimate average accuracy = 0.566\n",
      "One-pass sgd estimate average accuracy = 0.466\n",
      "Multi-pass sgd estimate average accuracy = 0.555\n",
      "1000 data points, 5 classes.\n",
      "EKF-CMGF estimate average accuracy = 0.607\n",
      "One-pass sgd estimate average accuracy = 0.45899999999999996\n",
      "Multi-pass sgd estimate average accuracy = 0.5269999999999999\n",
      "1000 data points, 6 classes.\n",
      "EKF-CMGF estimate average accuracy = 0.45899999999999996\n",
      "One-pass sgd estimate average accuracy = 0.32599999999999996\n",
      "Multi-pass sgd estimate average accuracy = 0.376\n",
      "1000 data points, 7 classes.\n",
      "EKF-CMGF estimate average accuracy = 0.43600000000000005\n",
      "One-pass sgd estimate average accuracy = 0.2879999999999999\n",
      "Multi-pass sgd estimate average accuracy = 0.356\n",
      "1000 data points, 8 classes.\n",
      "EKF-CMGF estimate average accuracy = 0.37099999999999994\n",
      "One-pass sgd estimate average accuracy = 0.25799999999999995\n",
      "Multi-pass sgd estimate average accuracy = 0.30100000000000005\n",
      "1000 data points, 9 classes.\n",
      "EKF-CMGF estimate average accuracy = 0.422\n",
      "One-pass sgd estimate average accuracy = 0.274\n",
      "Multi-pass sgd estimate average accuracy = 0.33399999999999996\n",
      "1000 data points, 10 classes.\n",
      "EKF-CMGF estimate average accuracy = 0.382\n",
      "One-pass sgd estimate average accuracy = 0.231\n",
      "Multi-pass sgd estimate average accuracy = 0.279\n",
      "1000 data points, 11 classes.\n",
      "EKF-CMGF estimate average accuracy = 0.11400000000000002\n",
      "One-pass sgd estimate average accuracy = 0.21100000000000002\n",
      "Multi-pass sgd estimate average accuracy = 0.252\n",
      "1000 data points, 12 classes.\n",
      "EKF-CMGF estimate average accuracy = 0.28700000000000003\n",
      "One-pass sgd estimate average accuracy = 0.175\n",
      "Multi-pass sgd estimate average accuracy = 0.21600000000000003\n",
      "1000 data points, 13 classes.\n",
      "EKF-CMGF estimate average accuracy = 0.251\n",
      "One-pass sgd estimate average accuracy = 0.178\n",
      "Multi-pass sgd estimate average accuracy = 0.20500000000000002\n",
      "1000 data points, 14 classes.\n",
      "EKF-CMGF estimate average accuracy = 0.092\n",
      "One-pass sgd estimate average accuracy = 0.18\n",
      "Multi-pass sgd estimate average accuracy = 0.22400000000000003\n",
      "1000 data points, 15 classes.\n",
      "EKF-CMGF estimate average accuracy = 0.08700000000000001\n",
      "One-pass sgd estimate average accuracy = 0.184\n",
      "Multi-pass sgd estimate average accuracy = 0.194\n",
      "1000 data points, 16 classes.\n",
      "EKF-CMGF estimate average accuracy = 0.08000000000000002\n",
      "One-pass sgd estimate average accuracy = 0.144\n",
      "Multi-pass sgd estimate average accuracy = 0.184\n",
      "1000 data points, 17 classes.\n",
      "EKF-CMGF estimate average accuracy = 0.05800000000000001\n",
      "One-pass sgd estimate average accuracy = 0.13999999999999999\n",
      "Multi-pass sgd estimate average accuracy = 0.185\n",
      "1000 data points, 18 classes.\n",
      "EKF-CMGF estimate average accuracy = 0.05600000000000001\n",
      "One-pass sgd estimate average accuracy = 0.177\n",
      "Multi-pass sgd estimate average accuracy = 0.186\n"
     ]
    }
   ],
   "source": [
    "num_points = 1000\n",
    "class_range = range(2, 19)\n",
    "n_splits = 10\n",
    "\n",
    "cmgf_accuracies, sgd_onepass_accuracies, sgd_multipass_accuracies = [], [], []\n",
    "simplefilter(\"ignore\", category=ConvergenceWarning)\n",
    "for num_classes in class_range:\n",
    "    print(f'{num_points} data points, {num_classes} classes.')\n",
    "    \n",
    "    # Initialize estimators\n",
    "    cmgf_est = CMGFEstimator()\n",
    "    sgd_op_est = SGDClassifier(loss='log_loss', max_iter=1)\n",
    "    sgd_mp_est = SGDClassifier(loss='log_loss')\n",
    "    \n",
    "    # Compute cv average scores\n",
    "    cmgf_ac = compute_cv_avg_score(cmgf_est, num_points, num_classes, n_splits=n_splits)\n",
    "    cmgf_accuracies.append(cmgf_ac)\n",
    "    print(f'EKF-CMGF estimate average accuracy = {cmgf_ac}')\n",
    "    sgd_op_ac = compute_cv_avg_score(sgd_op_est, num_points, num_classes, n_splits=n_splits)\n",
    "    sgd_onepass_accuracies.append(sgd_op_ac)\n",
    "    print(f'One-pass sgd estimate average accuracy = {sgd_op_ac}')\n",
    "    sgd_mp_ac = compute_cv_avg_score(sgd_mp_est, num_points, num_classes, n_splits=n_splits)\n",
    "    sgd_multipass_accuracies.append(sgd_mp_ac)\n",
    "    print(f'Multi-pass sgd estimate average accuracy = {sgd_mp_ac}')\n",
    "    "
   ]
  },
  {
   "cell_type": "code",
   "execution_count": 8,
   "metadata": {
    "colab": {
     "base_uri": "https://localhost:8080/",
     "height": 295
    },
    "id": "Gzb7T-PFIE3w",
    "outputId": "4a17d687-af1a-4857-fc0b-49c6419ef014"
   },
   "outputs": [
    {
     "data": {
      "image/png": "[encoded data removed]",
      "text/plain": [
       "<Figure size 432x288 with 1 Axes>"
      ]
     },
     "metadata": {
      "needs_background": "light"
     },
     "output_type": "display_data"
    }
   ],
   "source": [
    "# Plot result\n",
    "fig, ax = plt.subplots()\n",
    "ax.plot(class_range, cmgf_accuracies, 'r', label='CMGF-EKF')\n",
    "ax.plot(class_range, sgd_onepass_accuracies, 'y', label='SGD (single-pass)')\n",
    "ax.plot(class_range, sgd_multipass_accuracies, 'b--', label='SGD (multi-pass)')\n",
    "ax.set_xticks(class_range)\n",
    "ax.set_xlabel('Number of output classes')\n",
    "ax.set_ylabel(f'{n_splits}-fold cv average accuracy')\n",
    "ax.set_title(f'{n_splits}-fold cv accuracy (CMGF vs SGD )')\n",
    "ax.legend();"
   ]
  },
  {
   "cell_type": "markdown",
   "metadata": {
    "id": "QFI8SWLlZB64"
   },
   "source": [
    "##3. Speed Comparison with SGD"
   ]
  },
  {
   "cell_type": "code",
   "execution_count": 9,
   "metadata": {
    "id": "vbUoTxjvZ37D"
   },
   "outputs": [],
   "source": [
    "data_size_grid = list(range(20, 100, 20)) + list(range(100, 1000, 100)) + list(range(1000, 10000, 1000)) \\\n",
    "                 + list(range(10000, 100000, 10000)) + list(range(100000, 1000000, 100000))"
   ]
  },
  {
   "cell_type": "code",
   "execution_count": 10,
   "metadata": {
    "colab": {
     "base_uri": "https://localhost:8080/"
    },
    "id": "xiavnsxuZrHy",
    "outputId": "bd9bf998-29fd-481c-cc3f-c2962ec88bd9"
   },
   "outputs": [
    {
     "name": "stdout",
     "output_type": "stream",
     "text": [
      "dataset of size 20\n",
      "cmgf took 0.7196810245513916 seconds.\n",
      "one-pass sgd took 0.0025360584259033203 seconds.\n",
      "multi-pass sgd took 0.0020117759704589844 seconds.\n",
      "dataset of size 40\n",
      "cmgf took 0.6449520587921143 seconds.\n",
      "one-pass sgd took 0.0025148391723632812 seconds.\n",
      "multi-pass sgd took 0.001699209213256836 seconds.\n",
      "dataset of size 60\n",
      "cmgf took 0.6478290557861328 seconds.\n",
      "one-pass sgd took 0.002682924270629883 seconds.\n",
      "multi-pass sgd took 0.0017039775848388672 seconds.\n",
      "dataset of size 80\n",
      "cmgf took 0.6472859382629395 seconds.\n",
      "one-pass sgd took 0.00228118896484375 seconds.\n",
      "multi-pass sgd took 0.0018758773803710938 seconds.\n",
      "dataset of size 100\n",
      "cmgf took 0.6280310153961182 seconds.\n",
      "one-pass sgd took 0.002900838851928711 seconds.\n",
      "multi-pass sgd took 0.0030431747436523438 seconds.\n",
      "dataset of size 200\n",
      "cmgf took 0.7257649898529053 seconds.\n",
      "one-pass sgd took 0.002061128616333008 seconds.\n",
      "multi-pass sgd took 0.007977962493896484 seconds.\n",
      "dataset of size 300\n",
      "cmgf took 1.1326961517333984 seconds.\n",
      "one-pass sgd took 0.0023109912872314453 seconds.\n",
      "multi-pass sgd took 0.004116058349609375 seconds.\n",
      "dataset of size 400\n",
      "cmgf took 0.7772090435028076 seconds.\n",
      "one-pass sgd took 0.002959728240966797 seconds.\n",
      "multi-pass sgd took 0.005048036575317383 seconds.\n",
      "dataset of size 500\n",
      "cmgf took 0.8555912971496582 seconds.\n",
      "one-pass sgd took 0.002588987350463867 seconds.\n",
      "multi-pass sgd took 0.005747795104980469 seconds.\n",
      "dataset of size 600\n",
      "cmgf took 1.2462489604949951 seconds.\n",
      "one-pass sgd took 0.002432107925415039 seconds.\n",
      "multi-pass sgd took 0.008189916610717773 seconds.\n",
      "dataset of size 700\n",
      "cmgf took 0.7234978675842285 seconds.\n",
      "one-pass sgd took 0.002418041229248047 seconds.\n",
      "multi-pass sgd took 0.010229825973510742 seconds.\n",
      "dataset of size 800\n",
      "cmgf took 0.9763391017913818 seconds.\n",
      "one-pass sgd took 0.002458810806274414 seconds.\n",
      "multi-pass sgd took 0.010042905807495117 seconds.\n",
      "dataset of size 900\n",
      "cmgf took 0.5997018814086914 seconds.\n",
      "one-pass sgd took 0.0032651424407958984 seconds.\n",
      "multi-pass sgd took 0.013085126876831055 seconds.\n",
      "dataset of size 1000\n",
      "cmgf took 0.6524841785430908 seconds.\n",
      "one-pass sgd took 0.002511262893676758 seconds.\n",
      "multi-pass sgd took 0.011931896209716797 seconds.\n",
      "dataset of size 2000\n",
      "cmgf took 0.6671328544616699 seconds.\n",
      "one-pass sgd took 0.0030679702758789062 seconds.\n",
      "multi-pass sgd took 0.026704072952270508 seconds.\n",
      "dataset of size 3000\n",
      "cmgf took 0.6813912391662598 seconds.\n",
      "one-pass sgd took 0.005374908447265625 seconds.\n",
      "multi-pass sgd took 0.04025077819824219 seconds.\n",
      "dataset of size 4000\n",
      "cmgf took 0.724229097366333 seconds.\n",
      "one-pass sgd took 0.003509044647216797 seconds.\n",
      "multi-pass sgd took 0.03852963447570801 seconds.\n",
      "dataset of size 5000\n",
      "cmgf took 0.6839230060577393 seconds.\n",
      "one-pass sgd took 0.0036652088165283203 seconds.\n",
      "multi-pass sgd took 0.04447603225708008 seconds.\n",
      "dataset of size 6000\n",
      "cmgf took 0.8542730808258057 seconds.\n",
      "one-pass sgd took 0.004134178161621094 seconds.\n",
      "multi-pass sgd took 0.053299903869628906 seconds.\n",
      "dataset of size 7000\n",
      "cmgf took 0.7218379974365234 seconds.\n",
      "one-pass sgd took 0.00481414794921875 seconds.\n",
      "multi-pass sgd took 0.06149578094482422 seconds.\n",
      "dataset of size 8000\n",
      "cmgf took 0.7072811126708984 seconds.\n",
      "one-pass sgd took 0.004762887954711914 seconds.\n",
      "multi-pass sgd took 0.06638407707214355 seconds.\n",
      "dataset of size 9000\n",
      "cmgf took 0.7211604118347168 seconds.\n",
      "one-pass sgd took 0.004915952682495117 seconds.\n",
      "multi-pass sgd took 0.07861900329589844 seconds.\n",
      "dataset of size 10000\n",
      "cmgf took 0.736396074295044 seconds.\n",
      "one-pass sgd took 0.005885124206542969 seconds.\n",
      "multi-pass sgd took 0.07543706893920898 seconds.\n",
      "dataset of size 20000\n",
      "cmgf took 0.8414881229400635 seconds.\n",
      "one-pass sgd took 0.009423017501831055 seconds.\n",
      "multi-pass sgd took 0.13535308837890625 seconds.\n",
      "dataset of size 30000\n",
      "cmgf took 1.0833210945129395 seconds.\n",
      "one-pass sgd took 0.01306295394897461 seconds.\n",
      "multi-pass sgd took 0.14242100715637207 seconds.\n",
      "dataset of size 40000\n",
      "cmgf took 0.9885401725769043 seconds.\n",
      "one-pass sgd took 0.02839803695678711 seconds.\n",
      "multi-pass sgd took 0.18649792671203613 seconds.\n",
      "dataset of size 50000\n",
      "cmgf took 1.083817958831787 seconds.\n",
      "one-pass sgd took 0.0208740234375 seconds.\n",
      "multi-pass sgd took 0.28433728218078613 seconds.\n",
      "dataset of size 60000\n",
      "cmgf took 1.2828869819641113 seconds.\n",
      "one-pass sgd took 0.07511711120605469 seconds.\n",
      "multi-pass sgd took 0.5605168342590332 seconds.\n",
      "dataset of size 70000\n",
      "cmgf took 1.8109691143035889 seconds.\n",
      "one-pass sgd took 0.037992000579833984 seconds.\n",
      "multi-pass sgd took 0.3271169662475586 seconds.\n",
      "dataset of size 80000\n",
      "cmgf took 1.355760097503662 seconds.\n",
      "one-pass sgd took 0.03936195373535156 seconds.\n",
      "multi-pass sgd took 0.35056114196777344 seconds.\n",
      "dataset of size 90000\n",
      "cmgf took 1.7145752906799316 seconds.\n",
      "one-pass sgd took 0.04295682907104492 seconds.\n",
      "multi-pass sgd took 0.41994690895080566 seconds.\n",
      "dataset of size 100000\n",
      "cmgf took 1.5232372283935547 seconds.\n",
      "one-pass sgd took 0.04867291450500488 seconds.\n",
      "multi-pass sgd took 0.5140872001647949 seconds.\n",
      "dataset of size 200000\n",
      "cmgf took 2.9077250957489014 seconds.\n",
      "one-pass sgd took 0.11936306953430176 seconds.\n",
      "multi-pass sgd took 1.0539710521697998 seconds.\n",
      "dataset of size 300000\n",
      "cmgf took 3.7387290000915527 seconds.\n",
      "one-pass sgd took 0.22782206535339355 seconds.\n",
      "multi-pass sgd took 1.4892218112945557 seconds.\n",
      "dataset of size 400000\n",
      "cmgf took 4.846796989440918 seconds.\n",
      "one-pass sgd took 0.3187730312347412 seconds.\n",
      "multi-pass sgd took 1.9578778743743896 seconds.\n",
      "dataset of size 500000\n",
      "cmgf took 6.252576112747192 seconds.\n",
      "one-pass sgd took 0.3510429859161377 seconds.\n",
      "multi-pass sgd took 2.5331220626831055 seconds.\n",
      "dataset of size 600000\n",
      "cmgf took 7.335364103317261 seconds.\n",
      "one-pass sgd took 0.4569590091705322 seconds.\n",
      "multi-pass sgd took 2.337966203689575 seconds.\n",
      "dataset of size 700000\n",
      "cmgf took 9.219889879226685 seconds.\n",
      "one-pass sgd took 0.6478776931762695 seconds.\n",
      "multi-pass sgd took 3.3856019973754883 seconds.\n",
      "dataset of size 800000\n",
      "cmgf took 10.626354932785034 seconds.\n",
      "one-pass sgd took 0.597074031829834 seconds.\n",
      "multi-pass sgd took 2.9340410232543945 seconds.\n",
      "dataset of size 900000\n",
      "cmgf took 10.373250722885132 seconds.\n",
      "one-pass sgd took 0.6523177623748779 seconds.\n",
      "multi-pass sgd took 3.5727040767669678 seconds.\n"
     ]
    }
   ],
   "source": [
    "cmgf_est = CMGFEstimator()\n",
    "sgd_op_est = SGDClassifier(loss='log_loss', max_iter=1)\n",
    "sgd_mp_est = SGDClassifier(loss='log_loss')\n",
    "\n",
    "# Plot timed results against different dataset sizes\n",
    "# with fixed class size (K = 3)\n",
    "import numpy as np\n",
    "import time\n",
    "\n",
    "cmgf_times, sgd_op_times, sgd_mp_times = [], [], []\n",
    "\n",
    "it_times, vec_times = [], []\n",
    "for data_size in data_size_grid:\n",
    "    print(f'dataset of size {data_size}')\n",
    "    simplefilter(\"ignore\", category=ConvergenceWarning)\n",
    "    input, output = make_classification(n_samples=data_size, n_features=4, n_informative=4, \n",
    "                                        n_redundant=0, n_classes=3, random_state=2)\n",
    "    start = time.time()\n",
    "    _ = cmgf_est.fit(input, output)\n",
    "    cmgf_time = time.time() - start\n",
    "    cmgf_times.append(cmgf_time)\n",
    "    print(f'cmgf took {cmgf_time} seconds.')\n",
    "\n",
    "    start = time.time()\n",
    "    _ = sgd_op_est.fit(input, output)\n",
    "    sgd_op_time = time.time() - start\n",
    "    sgd_op_times.append(sgd_op_time)\n",
    "    print(f'one-pass sgd took {sgd_op_time} seconds.')\n",
    "\n",
    "    start = time.time()\n",
    "    _ = sgd_mp_est.fit(input, output)\n",
    "    sgd_mp_time = time.time() - start\n",
    "    sgd_mp_times.append(sgd_mp_time)\n",
    "    print(f'multi-pass sgd took {sgd_mp_time} seconds.')"
   ]
  },
  {
   "cell_type": "code",
   "execution_count": 11,
   "metadata": {
    "colab": {
     "base_uri": "https://localhost:8080/",
     "height": 295
    },
    "id": "u1DP_RYei8q3",
    "outputId": "1cb6d902-3b93-461f-9ee3-c8578e4b2232"
   },
   "outputs": [
    {
     "data": {
      "image/png": "[encoded data removed]",
      "text/plain": [
       "<Figure size 432x288 with 1 Axes>"
      ]
     },
     "metadata": {
      "needs_background": "light"
     },
     "output_type": "display_data"
    }
   ],
   "source": [
    "# Plot the result\n",
    "fig, ax = plt.subplots()\n",
    "ax.plot(data_size_grid, cmgf_times, label='CMGF-EKF')\n",
    "ax.plot(data_size_grid, sgd_op_times, label='SGD (single pass)')\n",
    "ax.plot(data_size_grid, sgd_mp_times, label='SGD (multi pass)')\n",
    "ax.set_xlabel('Dataset size')\n",
    "ax.set_ylabel('Train time in s')\n",
    "ax.set_title('Train speed vs dataset size (CMGF vs SGD)')\n",
    "ax.legend();\n",
    "plt.show()"
   ]
  },
  {
   "cell_type": "markdown",
   "metadata": {
    "id": "2bmsihchf--d"
   },
   "source": [
    "##4. (K-1) CMGF Binary Regressions"
   ]
  },
  {
   "cell_type": "markdown",
   "metadata": {
    "id": "DIe2QkTSgLvF"
   },
   "source": [
    "Let us try to construct the multinomial logistic regression as a combination of $(K-1)$ binary logistic regressions."
   ]
  },
  {
   "cell_type": "code",
   "execution_count": 13,
   "metadata": {},
   "outputs": [],
   "source": [
    "from sklearn.base import BaseEstimator, ClassifierMixin"
   ]
  },
  {
   "cell_type": "code",
   "execution_count": 14,
   "metadata": {
    "id": "8hMGH1CtoByz"
   },
   "outputs": [],
   "source": [
    "sigmoid_fn = lambda w, x: jax.nn.sigmoid(w @ x)\n",
    "\n",
    "class CMGFOneVsAllEstimator(BaseEstimator, ClassifierMixin):\n",
    "    def __init__(self,  weights=None):\n",
    "        self.weights = weights\n",
    "\n",
    "    def fit(self, X, y):\n",
    "        X_bias = jnp.concatenate([jnp.ones((len(X), 1)), X], axis=1)\n",
    "        input_dim = X_bias.shape[-1]\n",
    "        num_classes = y.max() + 1\n",
    "        self.classes_ = jnp.arange(num_classes)\n",
    "\n",
    "        # Construct CMGFParams\n",
    "        cmgf_params = ParamsGGSSM(\n",
    "            initial_mean = jnp.zeros(input_dim),\n",
    "            initial_covariance = jnp.eye(input_dim),\n",
    "            dynamics_function = lambda w, x: w,\n",
    "            dynamics_covariance = jnp.zeros((input_dim, input_dim)),\n",
    "            emission_mean_function = sigmoid_fn,\n",
    "            emission_cov_function = lambda w, x: sigmoid_fn(w, x) * (1 - sigmoid_fn(w, x))\n",
    "        )\n",
    "\n",
    "        # Construct (K-1) binary classifiers\n",
    "        classifiers = []\n",
    "        for k in range(num_classes):\n",
    "            y_k = jnp.array((y == k).astype(float))\n",
    "            post = conditional_moments_gaussian_filter(cmgf_params, EKFIntegrals(), y_k, inputs=X_bias)\n",
    "            classifiers.append(post.filtered_means[-1])\n",
    "\n",
    "        self.weights = jnp.array(classifiers)\n",
    "        return self\n",
    "    \n",
    "    def predict(self, X, y=None):\n",
    "        X_bias = jnp.concatenate([jnp.ones((len(X), 1)), X], axis=1)\n",
    "        return jnp.argmax(sigmoid_fn(X_bias, self.weights.T), axis=1)"
   ]
  },
  {
   "cell_type": "markdown",
   "metadata": {
    "id": "WvNJoCREv3LZ"
   },
   "source": [
    "Let's examine the speed-up."
   ]
  },
  {
   "cell_type": "code",
   "execution_count": 15,
   "metadata": {
    "colab": {
     "base_uri": "https://localhost:8080/"
    },
    "id": "baAZZ7M4v7Ha",
    "outputId": "55168f73-6397-4363-b905-2403881ed39d"
   },
   "outputs": [
    {
     "name": "stdout",
     "output_type": "stream",
     "text": [
      "dataset of size 20\n",
      "cmgf took 1.7440190315246582 seconds.\n",
      "one-pass sgd took 0.00261688232421875 seconds.\n",
      "multi-pass sgd took 0.0020270347595214844 seconds.\n",
      "dataset of size 40\n",
      "cmgf took 1.4410030841827393 seconds.\n",
      "one-pass sgd took 0.0034291744232177734 seconds.\n",
      "multi-pass sgd took 0.0019121170043945312 seconds.\n",
      "dataset of size 60\n",
      "cmgf took 1.3065917491912842 seconds.\n",
      "one-pass sgd took 0.0030541419982910156 seconds.\n",
      "multi-pass sgd took 0.0019769668579101562 seconds.\n",
      "dataset of size 80\n",
      "cmgf took 1.5565009117126465 seconds.\n",
      "one-pass sgd took 0.0027031898498535156 seconds.\n",
      "multi-pass sgd took 0.0018279552459716797 seconds.\n",
      "dataset of size 100\n",
      "cmgf took 1.227200984954834 seconds.\n",
      "one-pass sgd took 0.002674102783203125 seconds.\n",
      "multi-pass sgd took 0.002028942108154297 seconds.\n",
      "dataset of size 200\n",
      "cmgf took 1.1343879699707031 seconds.\n",
      "one-pass sgd took 0.002565145492553711 seconds.\n",
      "multi-pass sgd took 0.002866029739379883 seconds.\n",
      "dataset of size 300\n",
      "cmgf took 1.233407974243164 seconds.\n",
      "one-pass sgd took 0.0027930736541748047 seconds.\n",
      "multi-pass sgd took 0.005868196487426758 seconds.\n",
      "dataset of size 400\n",
      "cmgf took 1.5994501113891602 seconds.\n",
      "one-pass sgd took 0.0026788711547851562 seconds.\n",
      "multi-pass sgd took 0.006735086441040039 seconds.\n",
      "dataset of size 500\n",
      "cmgf took 1.2951719760894775 seconds.\n",
      "one-pass sgd took 0.0025992393493652344 seconds.\n",
      "multi-pass sgd took 0.006052970886230469 seconds.\n",
      "dataset of size 600\n",
      "cmgf took 1.3379929065704346 seconds.\n",
      "one-pass sgd took 0.0026171207427978516 seconds.\n",
      "multi-pass sgd took 0.007218837738037109 seconds.\n",
      "dataset of size 700\n",
      "cmgf took 1.3050932884216309 seconds.\n",
      "one-pass sgd took 0.002694845199584961 seconds.\n",
      "multi-pass sgd took 0.009439945220947266 seconds.\n",
      "dataset of size 800\n",
      "cmgf took 1.3500001430511475 seconds.\n",
      "one-pass sgd took 0.0033516883850097656 seconds.\n",
      "multi-pass sgd took 0.01075291633605957 seconds.\n",
      "dataset of size 900\n",
      "cmgf took 1.160243034362793 seconds.\n",
      "one-pass sgd took 0.0024566650390625 seconds.\n",
      "multi-pass sgd took 0.011487007141113281 seconds.\n",
      "dataset of size 1000\n",
      "cmgf took 2.3259921073913574 seconds.\n",
      "one-pass sgd took 0.002518892288208008 seconds.\n",
      "multi-pass sgd took 0.01461482048034668 seconds.\n",
      "dataset of size 2000\n",
      "cmgf took 1.5374460220336914 seconds.\n",
      "one-pass sgd took 0.0033609867095947266 seconds.\n",
      "multi-pass sgd took 0.02576899528503418 seconds.\n",
      "dataset of size 3000\n",
      "cmgf took 1.3101680278778076 seconds.\n",
      "one-pass sgd took 0.0033960342407226562 seconds.\n",
      "multi-pass sgd took 0.03260302543640137 seconds.\n",
      "dataset of size 4000\n",
      "cmgf took 1.4866359233856201 seconds.\n",
      "one-pass sgd took 0.0036878585815429688 seconds.\n",
      "multi-pass sgd took 0.054447174072265625 seconds.\n",
      "dataset of size 5000\n",
      "cmgf took 1.8042638301849365 seconds.\n",
      "one-pass sgd took 0.0048370361328125 seconds.\n",
      "multi-pass sgd took 0.0575869083404541 seconds.\n",
      "dataset of size 6000\n",
      "cmgf took 1.2220087051391602 seconds.\n",
      "one-pass sgd took 0.005109071731567383 seconds.\n",
      "multi-pass sgd took 0.06602597236633301 seconds.\n",
      "dataset of size 7000\n",
      "cmgf took 1.2447798252105713 seconds.\n",
      "one-pass sgd took 0.004374980926513672 seconds.\n",
      "multi-pass sgd took 0.061987876892089844 seconds.\n",
      "dataset of size 8000\n",
      "cmgf took 1.2883250713348389 seconds.\n",
      "one-pass sgd took 0.010088205337524414 seconds.\n",
      "multi-pass sgd took 0.12420988082885742 seconds.\n",
      "dataset of size 9000\n",
      "cmgf took 1.3032870292663574 seconds.\n",
      "one-pass sgd took 0.007551908493041992 seconds.\n",
      "multi-pass sgd took 0.08122801780700684 seconds.\n",
      "dataset of size 10000\n",
      "cmgf took 1.2750999927520752 seconds.\n",
      "one-pass sgd took 0.005992889404296875 seconds.\n",
      "multi-pass sgd took 0.07451796531677246 seconds.\n",
      "dataset of size 20000\n",
      "cmgf took 1.4007370471954346 seconds.\n",
      "one-pass sgd took 0.012090206146240234 seconds.\n",
      "multi-pass sgd took 0.1414501667022705 seconds.\n",
      "dataset of size 30000\n",
      "cmgf took 1.7174360752105713 seconds.\n",
      "one-pass sgd took 0.012530803680419922 seconds.\n",
      "multi-pass sgd took 0.12924695014953613 seconds.\n",
      "dataset of size 40000\n",
      "cmgf took 1.6605539321899414 seconds.\n",
      "one-pass sgd took 0.017877817153930664 seconds.\n",
      "multi-pass sgd took 0.16739892959594727 seconds.\n",
      "dataset of size 50000\n",
      "cmgf took 1.8985011577606201 seconds.\n",
      "one-pass sgd took 0.07111191749572754 seconds.\n",
      "multi-pass sgd took 0.2980940341949463 seconds.\n",
      "dataset of size 60000\n",
      "cmgf took 2.5746078491210938 seconds.\n",
      "one-pass sgd took 0.029295921325683594 seconds.\n",
      "multi-pass sgd took 0.3503451347351074 seconds.\n",
      "dataset of size 70000\n",
      "cmgf took 2.4100582599639893 seconds.\n",
      "one-pass sgd took 0.029204368591308594 seconds.\n",
      "multi-pass sgd took 0.3130810260772705 seconds.\n",
      "dataset of size 80000\n",
      "cmgf took 2.2231829166412354 seconds.\n",
      "one-pass sgd took 0.04385089874267578 seconds.\n",
      "multi-pass sgd took 0.3693380355834961 seconds.\n",
      "dataset of size 90000\n",
      "cmgf took 2.5059096813201904 seconds.\n",
      "one-pass sgd took 0.04303121566772461 seconds.\n",
      "multi-pass sgd took 0.46581077575683594 seconds.\n",
      "dataset of size 100000\n",
      "cmgf took 3.1140999794006348 seconds.\n",
      "one-pass sgd took 0.12910890579223633 seconds.\n",
      "multi-pass sgd took 0.45847511291503906 seconds.\n",
      "dataset of size 200000\n",
      "cmgf took 3.790081739425659 seconds.\n",
      "one-pass sgd took 0.14892220497131348 seconds.\n",
      "multi-pass sgd took 1.0075280666351318 seconds.\n",
      "dataset of size 300000\n",
      "cmgf took 5.1188859939575195 seconds.\n",
      "one-pass sgd took 0.19464707374572754 seconds.\n",
      "multi-pass sgd took 1.4889371395111084 seconds.\n",
      "dataset of size 400000\n",
      "cmgf took 6.175552129745483 seconds.\n",
      "one-pass sgd took 0.2741210460662842 seconds.\n",
      "multi-pass sgd took 1.8457379341125488 seconds.\n",
      "dataset of size 500000\n",
      "cmgf took 7.12018895149231 seconds.\n",
      "one-pass sgd took 0.39183521270751953 seconds.\n",
      "multi-pass sgd took 2.4943008422851562 seconds.\n",
      "dataset of size 600000\n",
      "cmgf took 8.50835919380188 seconds.\n",
      "one-pass sgd took 0.5478980541229248 seconds.\n",
      "multi-pass sgd took 2.118812084197998 seconds.\n",
      "dataset of size 700000\n",
      "cmgf took 10.149991035461426 seconds.\n",
      "one-pass sgd took 0.5412309169769287 seconds.\n",
      "multi-pass sgd took 3.1369900703430176 seconds.\n",
      "dataset of size 800000\n",
      "cmgf took 11.378183841705322 seconds.\n",
      "one-pass sgd took 0.6144819259643555 seconds.\n",
      "multi-pass sgd took 3.4283077716827393 seconds.\n",
      "dataset of size 900000\n",
      "cmgf took 14.008312940597534 seconds.\n",
      "one-pass sgd took 0.6521580219268799 seconds.\n",
      "multi-pass sgd took 4.121629953384399 seconds.\n"
     ]
    }
   ],
   "source": [
    "cmgf_est = CMGFOneVsAllEstimator()\n",
    "sgd_op_est = SGDClassifier(loss='log_loss', max_iter=1)\n",
    "sgd_mp_est = SGDClassifier(loss='log_loss')\n",
    "\n",
    "# Plot timed results against different dataset sizes\n",
    "# with fixed class size (K = 3)\n",
    "import numpy as np\n",
    "import time\n",
    "\n",
    "cmgf_times, sgd_op_times, sgd_mp_times = [], [], []\n",
    "\n",
    "it_times, vec_times = [], []\n",
    "for data_size in data_size_grid:\n",
    "    print(f'dataset of size {data_size}')\n",
    "    simplefilter(\"ignore\", category=ConvergenceWarning)\n",
    "    input, output = make_classification(n_samples=data_size, n_features=4, n_informative=4, \n",
    "                                        n_redundant=0, n_classes=3, random_state=2)\n",
    "    start = time.time()\n",
    "    _ = cmgf_est.fit(input, output)\n",
    "    cmgf_time = time.time() - start\n",
    "    cmgf_times.append(cmgf_time)\n",
    "    print(f'cmgf took {cmgf_time} seconds.')\n",
    "\n",
    "    start = time.time()\n",
    "    _ = sgd_op_est.fit(input, output)\n",
    "    sgd_op_time = time.time() - start\n",
    "    sgd_op_times.append(sgd_op_time)\n",
    "    print(f'one-pass sgd took {sgd_op_time} seconds.')\n",
    "\n",
    "    start = time.time()\n",
    "    _ = sgd_mp_est.fit(input, output)\n",
    "    sgd_mp_time = time.time() - start\n",
    "    sgd_mp_times.append(sgd_mp_time)\n",
    "    print(f'multi-pass sgd took {sgd_mp_time} seconds.')"
   ]
  },
  {
   "cell_type": "code",
   "execution_count": 16,
   "metadata": {
    "colab": {
     "base_uri": "https://localhost:8080/",
     "height": 295
    },
    "id": "xphGBYR0w9Zw",
    "outputId": "bc37b747-336a-4401-9d09-99d17907918b"
   },
   "outputs": [
    {
     "data": {
      "image/png": "[encoded data removed]",
      "text/plain": [
       "<Figure size 432x288 with 1 Axes>"
      ]
     },
     "metadata": {
      "needs_background": "light"
     },
     "output_type": "display_data"
    }
   ],
   "source": [
    "# Plot the result\n",
    "fig, ax = plt.subplots()\n",
    "ax.plot(data_size_grid, cmgf_times, label='CMGF-EKF')\n",
    "ax.plot(data_size_grid, sgd_op_times, label='SGD (single pass)')\n",
    "ax.plot(data_size_grid, sgd_mp_times, label='SGD (multi pass)')\n",
    "ax.set_xlabel('Dataset size')\n",
    "ax.set_ylabel('Train time in s')\n",
    "ax.set_title('Train speed vs dataset size (CMGF vs SGD)')\n",
    "ax.legend();\n",
    "plt.show()"
   ]
  },
  {
   "cell_type": "code",
   "execution_count": 17,
   "metadata": {
    "colab": {
     "base_uri": "https://localhost:8080/"
    },
    "id": "SDbnP3TvfbPJ",
    "outputId": "d1848bf2-13e9-4f54-a518-45aad7a83aa7"
   },
   "outputs": [
    {
     "name": "stdout",
     "output_type": "stream",
     "text": [
      "1000 data points, 2 classes.\n",
      "EKF-CMGF estimate average accuracy = 0.7190000000000001\n",
      "One-pass sgd estimate average accuracy = 0.675\n",
      "Multi-pass sgd estimate average accuracy = 0.712\n",
      "1000 data points, 3 classes.\n",
      "EKF-CMGF estimate average accuracy = 0.69\n",
      "One-pass sgd estimate average accuracy = 0.56\n",
      "Multi-pass sgd estimate average accuracy = 0.6529999999999999\n",
      "1000 data points, 4 classes.\n",
      "EKF-CMGF estimate average accuracy = 0.557\n",
      "One-pass sgd estimate average accuracy = 0.429\n",
      "Multi-pass sgd estimate average accuracy = 0.514\n",
      "1000 data points, 5 classes.\n",
      "EKF-CMGF estimate average accuracy = 0.601\n",
      "One-pass sgd estimate average accuracy = 0.44000000000000006\n",
      "Multi-pass sgd estimate average accuracy = 0.551\n",
      "1000 data points, 6 classes.\n",
      "EKF-CMGF estimate average accuracy = 0.4640000000000001\n",
      "One-pass sgd estimate average accuracy = 0.35\n",
      "Multi-pass sgd estimate average accuracy = 0.38\n",
      "1000 data points, 7 classes.\n",
      "EKF-CMGF estimate average accuracy = 0.43299999999999994\n",
      "One-pass sgd estimate average accuracy = 0.29600000000000004\n",
      "Multi-pass sgd estimate average accuracy = 0.353\n",
      "1000 data points, 8 classes.\n",
      "EKF-CMGF estimate average accuracy = 0.362\n",
      "One-pass sgd estimate average accuracy = 0.194\n",
      "Multi-pass sgd estimate average accuracy = 0.271\n",
      "1000 data points, 9 classes.\n",
      "EKF-CMGF estimate average accuracy = 0.42300000000000004\n",
      "One-pass sgd estimate average accuracy = 0.294\n",
      "Multi-pass sgd estimate average accuracy = 0.335\n",
      "1000 data points, 10 classes.\n",
      "EKF-CMGF estimate average accuracy = 0.36599999999999994\n",
      "One-pass sgd estimate average accuracy = 0.24299999999999997\n",
      "Multi-pass sgd estimate average accuracy = 0.309\n",
      "1000 data points, 11 classes.\n",
      "EKF-CMGF estimate average accuracy = 0.346\n",
      "One-pass sgd estimate average accuracy = 0.23399999999999999\n",
      "Multi-pass sgd estimate average accuracy = 0.278\n",
      "1000 data points, 12 classes.\n",
      "EKF-CMGF estimate average accuracy = 0.286\n",
      "One-pass sgd estimate average accuracy = 0.17800000000000002\n",
      "Multi-pass sgd estimate average accuracy = 0.219\n",
      "1000 data points, 13 classes.\n",
      "EKF-CMGF estimate average accuracy = 0.268\n",
      "One-pass sgd estimate average accuracy = 0.189\n",
      "Multi-pass sgd estimate average accuracy = 0.213\n",
      "1000 data points, 14 classes.\n",
      "EKF-CMGF estimate average accuracy = 0.276\n",
      "One-pass sgd estimate average accuracy = 0.205\n",
      "Multi-pass sgd estimate average accuracy = 0.21600000000000003\n",
      "1000 data points, 15 classes.\n",
      "EKF-CMGF estimate average accuracy = 0.26499999999999996\n",
      "One-pass sgd estimate average accuracy = 0.163\n",
      "Multi-pass sgd estimate average accuracy = 0.21000000000000002\n",
      "1000 data points, 16 classes.\n",
      "EKF-CMGF estimate average accuracy = 0.24500000000000002\n",
      "One-pass sgd estimate average accuracy = 0.15499999999999997\n",
      "Multi-pass sgd estimate average accuracy = 0.16\n",
      "1000 data points, 17 classes.\n",
      "EKF-CMGF estimate average accuracy = 0.233\n",
      "One-pass sgd estimate average accuracy = 0.13399999999999998\n",
      "Multi-pass sgd estimate average accuracy = 0.16400000000000003\n",
      "1000 data points, 18 classes.\n",
      "EKF-CMGF estimate average accuracy = 0.266\n",
      "One-pass sgd estimate average accuracy = 0.15500000000000003\n",
      "Multi-pass sgd estimate average accuracy = 0.193\n"
     ]
    }
   ],
   "source": [
    "num_points = 1000\n",
    "class_range = range(2, 19)\n",
    "n_splits = 5\n",
    "\n",
    "cmgf_accuracies, sgd_onepass_accuracies, sgd_multipass_accuracies = [], [], []\n",
    "for num_classes in class_range:\n",
    "    print(f'{num_points} data points, {num_classes} classes.')\n",
    "    \n",
    "    # Initialize estimators\n",
    "    cmgf_est = CMGFOneVsAllEstimator()\n",
    "    sgd_op_est = SGDClassifier(loss='log_loss', max_iter=1)\n",
    "    sgd_mp_est = SGDClassifier(loss='log_loss')\n",
    "    \n",
    "    # Compute cv average scores\n",
    "    cmgf_ac = compute_cv_avg_score(cmgf_est, num_points, num_classes, n_splits=n_splits)\n",
    "    cmgf_accuracies.append(cmgf_ac)\n",
    "    print(f'EKF-CMGF estimate average accuracy = {cmgf_ac}')\n",
    "    sgd_op_ac = compute_cv_avg_score(sgd_op_est, num_points, num_classes, n_splits=n_splits)\n",
    "    sgd_onepass_accuracies.append(sgd_op_ac)\n",
    "    print(f'One-pass sgd estimate average accuracy = {sgd_op_ac}')\n",
    "    sgd_mp_ac = compute_cv_avg_score(sgd_mp_est, num_points, num_classes, n_splits=n_splits)\n",
    "    sgd_multipass_accuracies.append(sgd_mp_ac)\n",
    "    print(f'Multi-pass sgd estimate average accuracy = {sgd_mp_ac}')"
   ]
  },
  {
   "cell_type": "code",
   "execution_count": 18,
   "metadata": {
    "colab": {
     "base_uri": "https://localhost:8080/",
     "height": 295
    },
    "id": "yzVx2UTCsdGj",
    "outputId": "82215c2d-f2ac-47e4-fd69-2bf1d2bdb0c7"
   },
   "outputs": [
    {
     "data": {
      "image/png": "[encoded data removed]",
      "text/plain": [
       "<Figure size 432x288 with 1 Axes>"
      ]
     },
     "metadata": {
      "needs_background": "light"
     },
     "output_type": "display_data"
    }
   ],
   "source": [
    "# Plot result\n",
    "fig, ax = plt.subplots()\n",
    "ax.plot(class_range, cmgf_accuracies, 'r', label='CMGF-EKF (one-vs-all)')\n",
    "ax.plot(class_range, sgd_onepass_accuracies, 'y', label='SGD (single-pass)')\n",
    "ax.plot(class_range, sgd_multipass_accuracies, 'b--', label='SGD (multi-pass)')\n",
    "ax.set_xticks(class_range)\n",
    "ax.set_xlabel('Number of output classes')\n",
    "ax.set_ylabel(f'{n_splits}-fold cv average accuracy')\n",
    "ax.set_title(f'{n_splits}-fold cv accuracy (CMGF (one-vs-all) vs SGD )')\n",
    "ax.legend();"
   ]
  },
  {
   "cell_type": "markdown",
   "metadata": {
    "id": "-RH7cM29Qbra"
   },
   "source": [
    "#5. Statistical and Computational Efficiency Comparison with SGD"
   ]
  },
  {
   "cell_type": "markdown",
   "metadata": {
    "id": "mXyY7b0ORAuj"
   },
   "source": [
    "We compare the [statistical and computational efficiencies](https://mc-stan.org/docs/2_22/stan-users-guide/statistical-vs-computational-efficiency.html) of CMGF with those of one-pass and multi-pass SGD.\n",
    "\n",
    "We use 5-fold CV with `scoring='neg_log_loss'` to compute average log-likelihood score."
   ]
  },
  {
   "cell_type": "code",
   "execution_count": 19,
   "metadata": {
    "id": "e1gHaYP5pVta"
   },
   "outputs": [],
   "source": [
    "data_size_grid = list(range(20, 100, 20)) + list(range(100, 1000, 100)) + list(range(1000, 10000, 1000))"
   ]
  },
  {
   "cell_type": "markdown",
   "metadata": {
    "id": "C41_K4kFpufs"
   },
   "source": [
    "First, we try `num_classes=2`."
   ]
  },
  {
   "cell_type": "code",
   "execution_count": 20,
   "metadata": {
    "colab": {
     "base_uri": "https://localhost:8080/"
    },
    "id": "_4fpVBKKpa2Y",
    "outputId": "5394e17b-c44a-49e7-ca9c-bc2a71874334"
   },
   "outputs": [
    {
     "name": "stdout",
     "output_type": "stream",
     "text": [
      "20 data points, 2 classes.\n",
      "EKF-CMGF estimate average per-sample log-likelihood = -0.7113923319434529\n",
      "cmgf took 2.701817035675049 seconds.\n",
      "One-pass sgd estimate average per-sample log-likelihood = -9.713762037331042\n",
      "one-pass sgd took 0.02339482307434082 seconds.\n",
      "Multi-pass sgd estimate average per-sample log-likelihood = -7.607823027835491\n",
      "multi-pass sgd took 0.013565301895141602 seconds.\n",
      "40 data points, 2 classes.\n",
      "EKF-CMGF estimate average per-sample log-likelihood = -0.7182775438816396\n",
      "cmgf took 2.558962106704712 seconds.\n",
      "One-pass sgd estimate average per-sample log-likelihood = -10.326573788116002\n",
      "one-pass sgd took 0.04997515678405762 seconds.\n",
      "Multi-pass sgd estimate average per-sample log-likelihood = -4.8723470535631055\n",
      "multi-pass sgd took 0.035867929458618164 seconds.\n",
      "60 data points, 2 classes.\n",
      "EKF-CMGF estimate average per-sample log-likelihood = -0.6552413701643471\n",
      "cmgf took 2.700808048248291 seconds.\n",
      "One-pass sgd estimate average per-sample log-likelihood = -5.515793678955641\n",
      "one-pass sgd took 0.013304948806762695 seconds.\n",
      "Multi-pass sgd estimate average per-sample log-likelihood = -3.687072394215991\n",
      "multi-pass sgd took 0.011837959289550781 seconds.\n",
      "80 data points, 2 classes.\n",
      "EKF-CMGF estimate average per-sample log-likelihood = -0.5843466535973187\n",
      "cmgf took 2.673332929611206 seconds.\n",
      "One-pass sgd estimate average per-sample log-likelihood = -5.277262853643767\n",
      "one-pass sgd took 0.013812065124511719 seconds.\n",
      "Multi-pass sgd estimate average per-sample log-likelihood = -3.471078765704533\n",
      "multi-pass sgd took 0.012570858001708984 seconds.\n",
      "100 data points, 2 classes.\n",
      "EKF-CMGF estimate average per-sample log-likelihood = -0.6764951556257055\n",
      "cmgf took 2.4805490970611572 seconds.\n",
      "One-pass sgd estimate average per-sample log-likelihood = -5.756087652333766\n",
      "one-pass sgd took 0.013087034225463867 seconds.\n",
      "Multi-pass sgd estimate average per-sample log-likelihood = -3.1713147196948577\n",
      "multi-pass sgd took 0.013366222381591797 seconds.\n",
      "200 data points, 2 classes.\n",
      "EKF-CMGF estimate average per-sample log-likelihood = -0.6316469304630438\n",
      "cmgf took 2.597882032394409 seconds.\n",
      "One-pass sgd estimate average per-sample log-likelihood = -5.0133016258939005\n",
      "one-pass sgd took 0.018072843551635742 seconds.\n",
      "Multi-pass sgd estimate average per-sample log-likelihood = -1.2932348196910346\n",
      "multi-pass sgd took 0.014069080352783203 seconds.\n",
      "300 data points, 2 classes.\n",
      "EKF-CMGF estimate average per-sample log-likelihood = -0.5921777731640139\n",
      "cmgf took 2.494903087615967 seconds.\n",
      "One-pass sgd estimate average per-sample log-likelihood = -7.007511907831015\n",
      "one-pass sgd took 0.01840519905090332 seconds.\n",
      "Multi-pass sgd estimate average per-sample log-likelihood = -0.9316037225236791\n",
      "multi-pass sgd took 0.016012907028198242 seconds.\n",
      "400 data points, 2 classes.\n",
      "EKF-CMGF estimate average per-sample log-likelihood = -0.6583250134315364\n",
      "cmgf took 5.590000867843628 seconds.\n",
      "One-pass sgd estimate average per-sample log-likelihood = -7.150233634888709\n",
      "one-pass sgd took 0.018157958984375 seconds.\n",
      "Multi-pass sgd estimate average per-sample log-likelihood = -0.9320199054418842\n",
      "multi-pass sgd took 0.024363994598388672 seconds.\n",
      "500 data points, 2 classes.\n",
      "EKF-CMGF estimate average per-sample log-likelihood = -0.4606208367359802\n",
      "cmgf took 3.9907760620117188 seconds.\n",
      "One-pass sgd estimate average per-sample log-likelihood = -4.0793807553623465\n",
      "one-pass sgd took 0.014980077743530273 seconds.\n",
      "Multi-pass sgd estimate average per-sample log-likelihood = -0.5416699827556679\n",
      "multi-pass sgd took 0.018790245056152344 seconds.\n",
      "600 data points, 2 classes.\n",
      "EKF-CMGF estimate average per-sample log-likelihood = -0.6397727776242438\n",
      "cmgf took 2.7622692584991455 seconds.\n",
      "One-pass sgd estimate average per-sample log-likelihood = -5.640621405635049\n",
      "one-pass sgd took 0.014911890029907227 seconds.\n",
      "Multi-pass sgd estimate average per-sample log-likelihood = -0.726958278626706\n",
      "multi-pass sgd took 0.024569034576416016 seconds.\n",
      "700 data points, 2 classes.\n",
      "EKF-CMGF estimate average per-sample log-likelihood = -0.5463128938564037\n",
      "cmgf took 2.7793941497802734 seconds.\n",
      "One-pass sgd estimate average per-sample log-likelihood = -3.4349233367278273\n",
      "one-pass sgd took 0.01382589340209961 seconds.\n",
      "Multi-pass sgd estimate average per-sample log-likelihood = -0.6152541348765397\n",
      "multi-pass sgd took 0.021459102630615234 seconds.\n",
      "800 data points, 2 classes.\n",
      "EKF-CMGF estimate average per-sample log-likelihood = -0.6309608153288835\n",
      "cmgf took 2.6269590854644775 seconds.\n",
      "One-pass sgd estimate average per-sample log-likelihood = -5.381184062981584\n",
      "one-pass sgd took 0.014405965805053711 seconds.\n",
      "Multi-pass sgd estimate average per-sample log-likelihood = -0.7096104369637171\n",
      "multi-pass sgd took 0.02121710777282715 seconds.\n",
      "900 data points, 2 classes.\n",
      "EKF-CMGF estimate average per-sample log-likelihood = -0.6371454022730269\n",
      "cmgf took 2.4975898265838623 seconds.\n",
      "One-pass sgd estimate average per-sample log-likelihood = -4.962604998704656\n",
      "one-pass sgd took 0.014022350311279297 seconds.\n",
      "Multi-pass sgd estimate average per-sample log-likelihood = -0.6832832540587684\n",
      "multi-pass sgd took 0.02403092384338379 seconds.\n",
      "1000 data points, 2 classes.\n",
      "EKF-CMGF estimate average per-sample log-likelihood = -0.5439234603050588\n",
      "cmgf took 2.544796943664551 seconds.\n",
      "One-pass sgd estimate average per-sample log-likelihood = -3.334806748630099\n",
      "one-pass sgd took 0.014175891876220703 seconds.\n",
      "Multi-pass sgd estimate average per-sample log-likelihood = -0.5902054460458858\n",
      "multi-pass sgd took 0.02516007423400879 seconds.\n",
      "2000 data points, 2 classes.\n",
      "EKF-CMGF estimate average per-sample log-likelihood = -0.6088900608550634\n",
      "cmgf took 2.4708950519561768 seconds.\n",
      "One-pass sgd estimate average per-sample log-likelihood = -2.65630438281525\n",
      "one-pass sgd took 0.015511035919189453 seconds.\n",
      "Multi-pass sgd estimate average per-sample log-likelihood = -0.6283061728092958\n",
      "multi-pass sgd took 0.038848876953125 seconds.\n",
      "3000 data points, 2 classes.\n",
      "EKF-CMGF estimate average per-sample log-likelihood = -0.618778325365178\n",
      "cmgf took 2.649711847305298 seconds.\n",
      "One-pass sgd estimate average per-sample log-likelihood = -2.8294477309060135\n",
      "one-pass sgd took 0.01698923110961914 seconds.\n",
      "Multi-pass sgd estimate average per-sample log-likelihood = -0.6490591784640436\n",
      "multi-pass sgd took 0.053830862045288086 seconds.\n",
      "4000 data points, 2 classes.\n",
      "EKF-CMGF estimate average per-sample log-likelihood = -0.5940361070133358\n",
      "cmgf took 2.512434959411621 seconds.\n",
      "One-pass sgd estimate average per-sample log-likelihood = -2.0072746464338573\n",
      "one-pass sgd took 0.01879596710205078 seconds.\n",
      "Multi-pass sgd estimate average per-sample log-likelihood = -0.603028202762081\n",
      "multi-pass sgd took 0.05566906929016113 seconds.\n",
      "5000 data points, 2 classes.\n",
      "EKF-CMGF estimate average per-sample log-likelihood = -0.5721654164671695\n",
      "cmgf took 2.694761037826538 seconds.\n",
      "One-pass sgd estimate average per-sample log-likelihood = -1.2023847099281642\n",
      "one-pass sgd took 0.019633054733276367 seconds.\n",
      "Multi-pass sgd estimate average per-sample log-likelihood = -0.5943523244973494\n",
      "multi-pass sgd took 0.06324100494384766 seconds.\n",
      "6000 data points, 2 classes.\n",
      "EKF-CMGF estimate average per-sample log-likelihood = -0.6284958755023468\n",
      "cmgf took 2.8436899185180664 seconds.\n",
      "One-pass sgd estimate average per-sample log-likelihood = -1.4781600916558206\n",
      "one-pass sgd took 0.02135610580444336 seconds.\n",
      "Multi-pass sgd estimate average per-sample log-likelihood = -0.6459220288978348\n",
      "multi-pass sgd took 0.07338500022888184 seconds.\n",
      "7000 data points, 2 classes.\n",
      "EKF-CMGF estimate average per-sample log-likelihood = -0.4236915026962418\n",
      "cmgf took 2.7742950916290283 seconds.\n",
      "One-pass sgd estimate average per-sample log-likelihood = -0.9030572309894049\n",
      "one-pass sgd took 0.02339005470275879 seconds.\n",
      "Multi-pass sgd estimate average per-sample log-likelihood = -0.42795086659016823\n",
      "multi-pass sgd took 0.07138609886169434 seconds.\n",
      "8000 data points, 2 classes.\n",
      "EKF-CMGF estimate average per-sample log-likelihood = -0.5999222135630369\n",
      "cmgf took 2.777003049850464 seconds.\n",
      "One-pass sgd estimate average per-sample log-likelihood = -1.0099889941210265\n",
      "one-pass sgd took 0.024582862854003906 seconds.\n",
      "Multi-pass sgd estimate average per-sample log-likelihood = -0.612242032542035\n",
      "multi-pass sgd took 0.09465718269348145 seconds.\n",
      "9000 data points, 2 classes.\n",
      "EKF-CMGF estimate average per-sample log-likelihood = -0.5516187358095582\n",
      "cmgf took 2.6585488319396973 seconds.\n",
      "One-pass sgd estimate average per-sample log-likelihood = -1.0056719814144641\n",
      "one-pass sgd took 0.025788307189941406 seconds.\n",
      "Multi-pass sgd estimate average per-sample log-likelihood = -0.555690902915557\n",
      "multi-pass sgd took 0.10554814338684082 seconds.\n"
     ]
    }
   ],
   "source": [
    "num_classes = 2\n",
    "n_splits = 5\n",
    "\n",
    "cmgf_logliks, sgd_onepass_logliks, sgd_multipass_logliks = [], [], []\n",
    "cmgf_times, sgd_op_times, sgd_mp_times = [], [], []\n",
    "simplefilter(\"ignore\", category=ConvergenceWarning)\n",
    "\n",
    "for num_points in data_size_grid:\n",
    "    print(f'{num_points} data points, {num_classes} classes.')\n",
    "    \n",
    "    # Initialize estimators\n",
    "    cmgf_est = CMGFEstimator()\n",
    "    sgd_op_est = SGDClassifier(loss='log_loss', max_iter=1)\n",
    "    sgd_mp_est = SGDClassifier(loss='log_loss')\n",
    "    \n",
    "    # Compute cv average scores\n",
    "    start = time.time()\n",
    "    cmgf_ll = compute_cv_avg_score(cmgf_est, num_points, num_classes, n_splits=n_splits, scoring='neg_log_loss')\n",
    "    cmgf_time = time.time() - start\n",
    "    cmgf_logliks.append(cmgf_ll)\n",
    "    cmgf_times.append(cmgf_time)\n",
    "    print(f'EKF-CMGF estimate average per-sample log-likelihood = {cmgf_ll}')\n",
    "    print(f'cmgf took {cmgf_time} seconds.')\n",
    "\n",
    "    start = time.time()\n",
    "    sgd_op_ll = compute_cv_avg_score(sgd_op_est, num_points, num_classes, n_splits=n_splits, scoring='neg_log_loss')\n",
    "    sgd_op_time = time.time() - start\n",
    "    sgd_onepass_logliks.append(sgd_op_ll)\n",
    "    sgd_op_times.append(sgd_op_time)\n",
    "    print(f'One-pass sgd estimate average per-sample log-likelihood = {sgd_op_ll}')\n",
    "    print(f'one-pass sgd took {sgd_op_time} seconds.')\n",
    "\n",
    "    start = time.time()\n",
    "    sgd_mp_ll = compute_cv_avg_score(sgd_mp_est, num_points, num_classes, n_splits=n_splits, scoring='neg_log_loss')\n",
    "    sgd_mp_time = time.time() - start\n",
    "    sgd_multipass_logliks.append(sgd_mp_ll)\n",
    "    sgd_mp_times.append(sgd_mp_time)\n",
    "    print(f'Multi-pass sgd estimate average per-sample log-likelihood = {sgd_mp_ll}')\n",
    "    print(f'multi-pass sgd took {sgd_mp_time} seconds.')"
   ]
  },
  {
   "cell_type": "code",
   "execution_count": 21,
   "metadata": {
    "colab": {
     "base_uri": "https://localhost:8080/",
     "height": 295
    },
    "id": "F69eMp7DXp1Q",
    "outputId": "f8442b89-2166-457a-ee9b-557fe0d366ca"
   },
   "outputs": [
    {
     "data": {
      "image/png": "[encoded data removed]",
      "text/plain": [
       "<Figure size 432x288 with 1 Axes>"
      ]
     },
     "metadata": {
      "needs_background": "light"
     },
     "output_type": "display_data"
    }
   ],
   "source": [
    "# Plot result\n",
    "fig, ax = plt.subplots()\n",
    "ax.plot(data_size_grid, cmgf_logliks, 'r', label='CMGF-EKF')\n",
    "ax.plot(data_size_grid, sgd_onepass_logliks, 'y', label='SGD (single-pass)')\n",
    "ax.plot(data_size_grid, sgd_multipass_logliks, 'b--', label='SGD (multi-pass)')\n",
    "ax.set_xlabel('size of dataset')\n",
    "ax.set_ylabel(f'{n_splits}-fold cv average accuracy')\n",
    "ax.set_title(f'{n_splits}-fold cv accuracy ({num_classes} classes)')\n",
    "ax.legend();"
   ]
  },
  {
   "cell_type": "code",
   "execution_count": 22,
   "metadata": {
    "colab": {
     "base_uri": "https://localhost:8080/",
     "height": 295
    },
    "id": "XSO2c1rk7cO5",
    "outputId": "43a02192-8688-41cb-b204-fb65938d75c3"
   },
   "outputs": [
    {
     "data": {
      "image/png": "[encoded data removed]",
      "text/plain": [
       "<Figure size 432x288 with 1 Axes>"
      ]
     },
     "metadata": {
      "needs_background": "light"
     },
     "output_type": "display_data"
    }
   ],
   "source": [
    "# Plot the result\n",
    "fig, ax = plt.subplots()\n",
    "ax.plot(cmgf_times, cmgf_logliks, label='CMGF-EKF')\n",
    "ax.plot(sgd_op_times, sgd_onepass_logliks, label='SGD (single pass)')\n",
    "ax.plot(sgd_mp_times, sgd_multipass_logliks, label='SGD (multi pass)')\n",
    "ax.set_xlabel('Train time in s')\n",
    "ax.set_ylabel(f'{n_splits}-fold cv average log-likelihood')\n",
    "ax.set_title('Train speed vs log-likelihood (CMGF vs SGD)')\n",
    "ax.legend();\n",
    "plt.show()"
   ]
  },
  {
   "cell_type": "markdown",
   "metadata": {
    "id": "VM0dqAZ_2Z5L"
   },
   "source": [
    "Next, we try 4 classes"
   ]
  },
  {
   "cell_type": "code",
   "execution_count": 23,
   "metadata": {
    "id": "__JxBPoI2e57"
   },
   "outputs": [],
   "source": [
    "data_size_grid = list(range(60, 100, 20)) + list(range(100, 1000, 100)) + list(range(1000, 10000, 1000))"
   ]
  },
  {
   "cell_type": "code",
   "execution_count": 24,
   "metadata": {
    "colab": {
     "base_uri": "https://localhost:8080/"
    },
    "id": "FZdrGH9K2Oin",
    "outputId": "0492946d-3dc0-4518-8b81-5f130c30f139"
   },
   "outputs": [
    {
     "name": "stdout",
     "output_type": "stream",
     "text": [
      "60 data points, 4 classes.\n",
      "EKF-CMGF estimate average per-sample log-likelihood = -1.3660175909293018\n",
      "One-pass sgd estimate average per-sample log-likelihood = -10.778582284064314\n",
      "Multi-pass sgd estimate average per-sample log-likelihood = -13.788886333174542\n",
      "80 data points, 4 classes.\n",
      "EKF-CMGF estimate average per-sample log-likelihood = -1.1990102869450185\n",
      "One-pass sgd estimate average per-sample log-likelihood = -11.338344276608229\n",
      "Multi-pass sgd estimate average per-sample log-likelihood = -9.21657726017058\n",
      "100 data points, 4 classes.\n",
      "EKF-CMGF estimate average per-sample log-likelihood = -1.1242199630520209\n",
      "One-pass sgd estimate average per-sample log-likelihood = -14.632278422648\n",
      "Multi-pass sgd estimate average per-sample log-likelihood = -5.894469698659815\n",
      "200 data points, 4 classes.\n",
      "EKF-CMGF estimate average per-sample log-likelihood = -1.076108481663493\n",
      "One-pass sgd estimate average per-sample log-likelihood = -10.542790490494625\n",
      "Multi-pass sgd estimate average per-sample log-likelihood = -2.5178882354161956\n",
      "300 data points, 4 classes.\n",
      "EKF-CMGF estimate average per-sample log-likelihood = -1.0250299709053001\n",
      "One-pass sgd estimate average per-sample log-likelihood = -10.053184798489633\n",
      "Multi-pass sgd estimate average per-sample log-likelihood = -2.236023370219411\n",
      "400 data points, 4 classes.\n",
      "EKF-CMGF estimate average per-sample log-likelihood = -0.9780344636702909\n",
      "One-pass sgd estimate average per-sample log-likelihood = -8.62714732376023\n",
      "Multi-pass sgd estimate average per-sample log-likelihood = -1.285862355386484\n",
      "500 data points, 4 classes.\n",
      "EKF-CMGF estimate average per-sample log-likelihood = -1.1711821669960232\n",
      "One-pass sgd estimate average per-sample log-likelihood = -10.334436851064458\n",
      "Multi-pass sgd estimate average per-sample log-likelihood = -1.5339040808514515\n",
      "600 data points, 4 classes.\n",
      "EKF-CMGF estimate average per-sample log-likelihood = -1.0294574080007055\n",
      "One-pass sgd estimate average per-sample log-likelihood = -10.05640560819474\n",
      "Multi-pass sgd estimate average per-sample log-likelihood = -1.2695993591847519\n",
      "700 data points, 4 classes.\n",
      "EKF-CMGF estimate average per-sample log-likelihood = -1.0580157764049316\n",
      "One-pass sgd estimate average per-sample log-likelihood = -8.539381926549744\n",
      "Multi-pass sgd estimate average per-sample log-likelihood = -1.2600662208456135\n",
      "800 data points, 4 classes.\n",
      "EKF-CMGF estimate average per-sample log-likelihood = -1.142211234152134\n",
      "One-pass sgd estimate average per-sample log-likelihood = -10.254508173600366\n",
      "Multi-pass sgd estimate average per-sample log-likelihood = -1.3673499020407913\n",
      "900 data points, 4 classes.\n",
      "EKF-CMGF estimate average per-sample log-likelihood = -1.0876130536421702\n",
      "One-pass sgd estimate average per-sample log-likelihood = -8.634404694700336\n",
      "Multi-pass sgd estimate average per-sample log-likelihood = -1.2233438659879325\n",
      "1000 data points, 4 classes.\n",
      "EKF-CMGF estimate average per-sample log-likelihood = -1.036482696728322\n",
      "One-pass sgd estimate average per-sample log-likelihood = -8.593686250280747\n",
      "Multi-pass sgd estimate average per-sample log-likelihood = -1.147756489644136\n",
      "2000 data points, 4 classes.\n",
      "EKF-CMGF estimate average per-sample log-likelihood = -1.061664603532827\n",
      "One-pass sgd estimate average per-sample log-likelihood = -5.946702738861892\n",
      "Multi-pass sgd estimate average per-sample log-likelihood = -1.1060369043378828\n",
      "3000 data points, 4 classes.\n",
      "EKF-CMGF estimate average per-sample log-likelihood = -1.0807815611462437\n",
      "One-pass sgd estimate average per-sample log-likelihood = -4.94946907426718\n",
      "Multi-pass sgd estimate average per-sample log-likelihood = -1.1098352333095405\n",
      "4000 data points, 4 classes.\n",
      "EKF-CMGF estimate average per-sample log-likelihood = -1.031896926576708\n",
      "One-pass sgd estimate average per-sample log-likelihood = -3.538422979033635\n",
      "Multi-pass sgd estimate average per-sample log-likelihood = -1.047554226475547\n",
      "5000 data points, 4 classes.\n",
      "EKF-CMGF estimate average per-sample log-likelihood = -1.0424374757888297\n",
      "One-pass sgd estimate average per-sample log-likelihood = -3.2289307509795804\n",
      "Multi-pass sgd estimate average per-sample log-likelihood = -1.0658118749019259\n",
      "6000 data points, 4 classes.\n",
      "EKF-CMGF estimate average per-sample log-likelihood = -1.0868025846907279\n",
      "One-pass sgd estimate average per-sample log-likelihood = -2.6559905856799024\n",
      "Multi-pass sgd estimate average per-sample log-likelihood = -1.1198010376529361\n",
      "7000 data points, 4 classes.\n",
      "EKF-CMGF estimate average per-sample log-likelihood = -1.0951545880603064\n",
      "One-pass sgd estimate average per-sample log-likelihood = -2.7679111686322857\n",
      "Multi-pass sgd estimate average per-sample log-likelihood = -1.1206374103270342\n",
      "8000 data points, 4 classes.\n",
      "EKF-CMGF estimate average per-sample log-likelihood = -1.0297357419283013\n",
      "One-pass sgd estimate average per-sample log-likelihood = -2.2483353664767565\n",
      "Multi-pass sgd estimate average per-sample log-likelihood = -1.0764367859975195\n",
      "9000 data points, 4 classes.\n",
      "EKF-CMGF estimate average per-sample log-likelihood = -1.0773426194628697\n",
      "One-pass sgd estimate average per-sample log-likelihood = -2.106572749628916\n",
      "Multi-pass sgd estimate average per-sample log-likelihood = -1.0993555829252561\n"
     ]
    }
   ],
   "source": [
    "num_classes = 4\n",
    "n_splits = 5\n",
    "\n",
    "cmgf_logliks, sgd_onepass_logliks, sgd_multipass_logliks = [], [], []\n",
    "simplefilter(\"ignore\", category=ConvergenceWarning)\n",
    "for num_points in data_size_grid:\n",
    "    print(f'{num_points} data points, {num_classes} classes.')\n",
    "    \n",
    "    # Initialize estimators\n",
    "    cmgf_est = CMGFEstimator()\n",
    "    sgd_op_est = SGDClassifier(loss='log_loss', max_iter=1)\n",
    "    sgd_mp_est = SGDClassifier(loss='log_loss')\n",
    "    \n",
    "    # Compute cv average scores\n",
    "    cmgf_ll = compute_cv_avg_score(cmgf_est, num_points, num_classes, n_splits=n_splits, scoring='neg_log_loss')\n",
    "    cmgf_logliks.append(cmgf_ll)\n",
    "    print(f'EKF-CMGF estimate average per-sample log-likelihood = {cmgf_ll}')\n",
    "    sgd_op_ll = compute_cv_avg_score(sgd_op_est, num_points, num_classes, n_splits=n_splits, scoring='neg_log_loss')\n",
    "    sgd_onepass_logliks.append(sgd_op_ll)\n",
    "    print(f'One-pass sgd estimate average per-sample log-likelihood = {sgd_op_ll}')\n",
    "    sgd_mp_ll = compute_cv_avg_score(sgd_mp_est, num_points, num_classes, n_splits=n_splits, scoring='neg_log_loss')\n",
    "    sgd_multipass_logliks.append(sgd_mp_ll)\n",
    "    print(f'Multi-pass sgd estimate average per-sample log-likelihood = {sgd_mp_ll}')"
   ]
  },
  {
   "cell_type": "code",
   "execution_count": 25,
   "metadata": {
    "colab": {
     "base_uri": "https://localhost:8080/",
     "height": 295
    },
    "id": "xxpWXcdH2gGP",
    "outputId": "3d771fcf-faa3-4893-c488-5b7af7c7c116"
   },
   "outputs": [
    {
     "data": {
      "image/png": "[encoded data removed]",
      "text/plain": [
       "<Figure size 432x288 with 1 Axes>"
      ]
     },
     "metadata": {
      "needs_background": "light"
     },
     "output_type": "display_data"
    }
   ],
   "source": [
    "# Plot result\n",
    "fig, ax = plt.subplots()\n",
    "ax.plot(data_size_grid, cmgf_logliks, 'r', label='CMGF-EKF')\n",
    "ax.plot(data_size_grid, sgd_onepass_logliks, 'y', label='SGD (single-pass)')\n",
    "ax.plot(data_size_grid, sgd_multipass_logliks, 'b--', label='SGD (multi-pass)')\n",
    "ax.set_xlabel('size of dataset')\n",
    "ax.set_ylabel(f'{n_splits}-fold cv average accuracy')\n",
    "ax.set_title(f'{n_splits}-fold cv accuracy ({num_classes} classes)')\n",
    "ax.legend();"
   ]
  },
  {
   "cell_type": "markdown",
   "metadata": {
    "id": "h6yFGmiE3WoQ"
   },
   "source": [
    "Finally, we try 10 classes."
   ]
  },
  {
   "cell_type": "code",
   "execution_count": 26,
   "metadata": {
    "id": "BXvft6fm3aDu"
   },
   "outputs": [],
   "source": [
    "data_size_grid = list(range(150, 1000, 100)) + list(range(1000, 10000, 1000))"
   ]
  },
  {
   "cell_type": "code",
   "execution_count": 28,
   "metadata": {
    "colab": {
     "base_uri": "https://localhost:8080/"
    },
    "id": "4ZTw7EtK3QEe",
    "outputId": "692a9d77-adbc-4463-b6d5-51cb2ea547c7"
   },
   "outputs": [
    {
     "name": "stdout",
     "output_type": "stream",
     "text": [
      "150 data points, 10 classes.\n",
      "EKF-CMGF estimate average per-sample log-likelihood = -2.2024027226329665\n",
      "One-pass sgd estimate average per-sample log-likelihood = -22.800085233124605\n",
      "Multi-pass sgd estimate average per-sample log-likelihood = -12.865444661569914\n",
      "250 data points, 10 classes.\n",
      "EKF-CMGF estimate average per-sample log-likelihood = -2.4169931322986367\n",
      "One-pass sgd estimate average per-sample log-likelihood = -22.05200472794619\n",
      "Multi-pass sgd estimate average per-sample log-likelihood = -9.673732318635512\n",
      "350 data points, 10 classes.\n",
      "EKF-CMGF estimate average per-sample log-likelihood = -2.042712910334882\n",
      "One-pass sgd estimate average per-sample log-likelihood = -21.33431155944107\n",
      "Multi-pass sgd estimate average per-sample log-likelihood = -5.141729941222382\n",
      "450 data points, 10 classes.\n",
      "EKF-CMGF estimate average per-sample log-likelihood = -1.8853725642488697\n",
      "One-pass sgd estimate average per-sample log-likelihood = -20.17853671920991\n",
      "Multi-pass sgd estimate average per-sample log-likelihood = -3.6946792760868066\n",
      "550 data points, 10 classes.\n",
      "EKF-CMGF estimate average per-sample log-likelihood = -1.9167498740771602\n",
      "One-pass sgd estimate average per-sample log-likelihood = -20.674249458911206\n",
      "Multi-pass sgd estimate average per-sample log-likelihood = -3.137551081233244\n",
      "650 data points, 10 classes.\n",
      "EKF-CMGF estimate average per-sample log-likelihood = -1.9300652749671765\n",
      "One-pass sgd estimate average per-sample log-likelihood = -22.054148171297836\n",
      "Multi-pass sgd estimate average per-sample log-likelihood = -2.7808821472818943\n",
      "750 data points, 10 classes.\n",
      "EKF-CMGF estimate average per-sample log-likelihood = -1.7733674299089117\n",
      "One-pass sgd estimate average per-sample log-likelihood = -19.776131189870753\n",
      "Multi-pass sgd estimate average per-sample log-likelihood = -2.504975543809476\n",
      "850 data points, 10 classes.\n",
      "EKF-CMGF estimate average per-sample log-likelihood = -1.7912563412819726\n",
      "One-pass sgd estimate average per-sample log-likelihood = -19.525916515645907\n",
      "Multi-pass sgd estimate average per-sample log-likelihood = -2.2316051426027492\n",
      "950 data points, 10 classes.\n",
      "EKF-CMGF estimate average per-sample log-likelihood = -1.8162596263670665\n",
      "One-pass sgd estimate average per-sample log-likelihood = -20.834206612223504\n",
      "Multi-pass sgd estimate average per-sample log-likelihood = -2.247914273175256\n",
      "1000 data points, 10 classes.\n",
      "EKF-CMGF estimate average per-sample log-likelihood = -1.7981041059405236\n",
      "One-pass sgd estimate average per-sample log-likelihood = -19.54778052419434\n",
      "Multi-pass sgd estimate average per-sample log-likelihood = -2.158706040399132\n",
      "2000 data points, 10 classes.\n"
     ]
    },
    {
     "name": "stderr",
     "output_type": "stream",
     "text": [
      "/Users/ghd/miniconda3/envs/pyprobml/lib/python3.10/site-packages/sklearn/model_selection/_validation.py:776: UserWarning: Scoring failed. The score on this train-test partition for these parameters will be set to nan. Details: \n",
      "Traceback (most recent call last):\n",
      "  File \"/Users/ghd/miniconda3/envs/pyprobml/lib/python3.10/site-packages/sklearn/model_selection/_validation.py\", line 767, in _score\n",
      "    scores = scorer(estimator, X_test, y_test)\n",
      "  File \"/Users/ghd/miniconda3/envs/pyprobml/lib/python3.10/site-packages/sklearn/metrics/_scorer.py\", line 107, in __call__\n",
      "    score = scorer._score(cached_call, estimator, *args, **kwargs)\n",
      "  File \"/Users/ghd/miniconda3/envs/pyprobml/lib/python3.10/site-packages/sklearn/metrics/_scorer.py\", line 313, in _score\n",
      "    return self._sign * self._score_func(y, y_pred, **self._kwargs)\n",
      "  File \"/Users/ghd/miniconda3/envs/pyprobml/lib/python3.10/site-packages/sklearn/metrics/_classification.py\", line 2587, in log_loss\n",
      "    y_pred = check_array(\n",
      "  File \"/Users/ghd/miniconda3/envs/pyprobml/lib/python3.10/site-packages/sklearn/utils/validation.py\", line 919, in check_array\n",
      "    _assert_all_finite(\n",
      "  File \"/Users/ghd/miniconda3/envs/pyprobml/lib/python3.10/site-packages/sklearn/utils/validation.py\", line 161, in _assert_all_finite\n",
      "    raise ValueError(msg_err)\n",
      "ValueError: Input contains NaN.\n",
      "\n",
      "  warnings.warn(\n"
     ]
    },
    {
     "name": "stdout",
     "output_type": "stream",
     "text": [
      "EKF-CMGF estimate average per-sample log-likelihood = nan\n",
      "One-pass sgd estimate average per-sample log-likelihood = -17.940825917272207\n",
      "Multi-pass sgd estimate average per-sample log-likelihood = -2.035231772886369\n",
      "3000 data points, 10 classes.\n",
      "EKF-CMGF estimate average per-sample log-likelihood = -1.7888673913163289\n",
      "One-pass sgd estimate average per-sample log-likelihood = -14.86164494405929\n",
      "Multi-pass sgd estimate average per-sample log-likelihood = -1.955591383515685\n",
      "4000 data points, 10 classes.\n",
      "EKF-CMGF estimate average per-sample log-likelihood = -1.7710430093930547\n",
      "One-pass sgd estimate average per-sample log-likelihood = -13.704490221626111\n",
      "Multi-pass sgd estimate average per-sample log-likelihood = -1.8925902576807385\n",
      "5000 data points, 10 classes.\n",
      "EKF-CMGF estimate average per-sample log-likelihood = -1.7388310203656765\n",
      "One-pass sgd estimate average per-sample log-likelihood = -10.97956073541048\n",
      "Multi-pass sgd estimate average per-sample log-likelihood = -1.8247676601035188\n",
      "6000 data points, 10 classes.\n",
      "EKF-CMGF estimate average per-sample log-likelihood = -1.7878297909931535\n",
      "One-pass sgd estimate average per-sample log-likelihood = -9.860466483599236\n",
      "Multi-pass sgd estimate average per-sample log-likelihood = -1.8767483747450633\n",
      "7000 data points, 10 classes.\n",
      "EKF-CMGF estimate average per-sample log-likelihood = -1.753520895984557\n",
      "One-pass sgd estimate average per-sample log-likelihood = -8.22994547760327\n",
      "Multi-pass sgd estimate average per-sample log-likelihood = -1.843446715985752\n",
      "8000 data points, 10 classes.\n",
      "EKF-CMGF estimate average per-sample log-likelihood = -1.7556630487697915\n",
      "One-pass sgd estimate average per-sample log-likelihood = -7.1595445124811\n",
      "Multi-pass sgd estimate average per-sample log-likelihood = -1.8249605760826486\n",
      "9000 data points, 10 classes.\n",
      "EKF-CMGF estimate average per-sample log-likelihood = -1.7429399242014085\n",
      "One-pass sgd estimate average per-sample log-likelihood = -6.460097440945889\n",
      "Multi-pass sgd estimate average per-sample log-likelihood = -1.8150278387199914\n"
     ]
    }
   ],
   "source": [
    "num_classes = 10\n",
    "n_splits = 5\n",
    "\n",
    "cmgf_logliks, sgd_onepass_logliks, sgd_multipass_logliks = [], [], []\n",
    "simplefilter(\"ignore\", category=ConvergenceWarning)\n",
    "for num_points in data_size_grid:\n",
    "    print(f'{num_points} data points, {num_classes} classes.')\n",
    "    \n",
    "    # Initialize estimators\n",
    "    cmgf_est = CMGFEstimator()\n",
    "    sgd_op_est = SGDClassifier(loss='log_loss', max_iter=1)\n",
    "    sgd_mp_est = SGDClassifier(loss='log_loss')\n",
    "    \n",
    "    # Compute cv average scores\n",
    "    cmgf_ll = compute_cv_avg_score(cmgf_est, num_points, num_classes, n_splits=n_splits, scoring='neg_log_loss')\n",
    "    cmgf_logliks.append(cmgf_ll)\n",
    "    print(f'EKF-CMGF estimate average per-sample log-likelihood = {cmgf_ll}')\n",
    "    sgd_op_ll = compute_cv_avg_score(sgd_op_est, num_points, num_classes, n_splits=n_splits, scoring='neg_log_loss')\n",
    "    sgd_onepass_logliks.append(sgd_op_ll)\n",
    "    print(f'One-pass sgd estimate average per-sample log-likelihood = {sgd_op_ll}')\n",
    "    sgd_mp_ll = compute_cv_avg_score(sgd_mp_est, num_points, num_classes, n_splits=n_splits, scoring='neg_log_loss')\n",
    "    sgd_multipass_logliks.append(sgd_mp_ll)\n",
    "    print(f'Multi-pass sgd estimate average per-sample log-likelihood = {sgd_mp_ll}')"
   ]
  },
  {
   "cell_type": "code",
   "execution_count": 29,
   "metadata": {
    "colab": {
     "base_uri": "https://localhost:8080/",
     "height": 295
    },
    "id": "4xTvYp-h4TWO",
    "outputId": "3c98916f-dbe7-4d0c-a695-96a140b7a447"
   },
   "outputs": [
    {
     "data": {
      "image/png": "[encoded data removed]",
      "text/plain": [
       "<Figure size 432x288 with 1 Axes>"
      ]
     },
     "metadata": {
      "needs_background": "light"
     },
     "output_type": "display_data"
    }
   ],
   "source": [
    "# Plot result\n",
    "fig, ax = plt.subplots()\n",
    "ax.plot(data_size_grid, cmgf_logliks, 'r', label='CMGF-EKF')\n",
    "ax.plot(data_size_grid, sgd_onepass_logliks, 'y', label='SGD (single-pass)')\n",
    "ax.plot(data_size_grid, sgd_multipass_logliks, 'b--', label='SGD (multi-pass)')\n",
    "ax.set_xlabel('size of dataset')\n",
    "ax.set_ylabel(f'{n_splits}-fold cv average accuracy')\n",
    "ax.set_title(f'{n_splits}-fold cv accuracy ({num_classes} classes)')\n",
    "ax.legend();"
   ]
  }
 ],
 "metadata": {
  "colab": {
   "provenance": []
  },
  "kernelspec": {
   "display_name": "Python 3 (ipykernel)",
   "language": "python",
   "name": "python3"
  },
  "language_info": {
   "codemirror_mode": {
    "name": "ipython",
    "version": 3
   },
   "file_extension": ".py",
   "mimetype": "text/x-python",
   "name": "python",
   "nbconvert_exporter": "python",
   "pygments_lexer": "ipython3",
   "version": "3.10.4"
  },
  "vscode": {
   "interpreter": {
    "hash": "7ed0d27deef7c4d991ca568b8b50b02600d85d6d927099eb2c4c679d24417740"
   }
  }
 },
 "nbformat": 4,
 "nbformat_minor": 4
}
