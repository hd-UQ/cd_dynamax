{
 "cells": [
  {
   "cell_type": "code",
   "execution_count": 1,
   "metadata": {},
   "outputs": [],
   "source": [
    "import dynamax\n",
    "import jax.numpy as jnp\n",
    "import jax.random as jr\n",
    "import inference\n",
    "from functools import partial\n",
    "\n",
    "from jax import vmap, tree_map, jit\n",
    "from dynamax.linear_gaussian_ssm.inference import ParamsLGSSM, make_lgssm_params\n",
    "# import MVN from tfd\n",
    "from tensorflow_probability.substrates.jax.distributions import MultivariateNormalFullCovariance as MVN\n",
    "\n",
    "import seaborn as sns\n",
    "import matplotlib.pyplot as plt\n",
    "import mixture_kalman_filter as kflib\n",
    "from functools import partial\n",
    "from sklearn.preprocessing import OneHotEncoder\n",
    "from jax.scipy.special import logit\n",
    "from plot_utils import kdeg, style3d\n",
    "import jax"
   ]
  },
  {
   "cell_type": "markdown",
   "metadata": {},
   "source": [
    "# Simulate Data"
   ]
  },
  {
   "cell_type": "code",
   "execution_count": 2,
   "metadata": {},
   "outputs": [],
   "source": [
    "TT = 0.1\n",
    "A = jnp.array([[1, TT, 0, 0],\n",
    "            [0, 1, 0, 0],\n",
    "            [0, 0, 1, TT],\n",
    "            [0, 0, 0, 1]])\n",
    "\n",
    "\n",
    "B1 = jnp.array([0, 0, 0, 0])\n",
    "B2 = jnp.array([-1.225, -0.35, 1.225, 0.35])\n",
    "B3 = jnp.array([1.225, 0.35,  -1.225,  -0.35])\n",
    "B = jnp.stack([B1, B2, B3], axis=0)\n",
    "\n",
    "Q = 0.2 * jnp.eye(4)\n",
    "R = 10 * jnp.diag(jnp.array([2, 1, 2, 1]))\n",
    "C = jnp.eye(4)\n",
    "\n",
    "\n",
    "transition_matrix = jnp.array([\n",
    "    [0.8, 0.1, 0.1],\n",
    "    [0.1, 0.8, 0.1],\n",
    "    [0.1, 0.1, 0.8]\n",
    "])\n",
    "\n",
    "params = kflib.RBPFParamsDiscrete(A, B, C, Q, R, transition_matrix)\n",
    "\n",
    "nparticles = 1000\n",
    "nsteps = 100\n",
    "key = jr.PRNGKey(1)\n",
    "keys = jr.split(key, nsteps)\n",
    "\n",
    "x0 = (1, jr.multivariate_normal(key, jnp.zeros(4), jnp.eye(4)))\n",
    "draw_state_fixed = partial(kflib.draw_state, params=params)\n",
    "\n",
    "# Create target dataset\n",
    "_, (latent_hist, state_hist, obs_hist) = jax.lax.scan(draw_state_fixed, x0, keys)"
   ]
  },
  {
   "attachments": {},
   "cell_type": "markdown",
   "metadata": {},
   "source": [
    "## Baseline implementation"
   ]
  },
  {
   "cell_type": "code",
   "execution_count": 3,
   "metadata": {},
   "outputs": [],
   "source": [
    "# Perform filtering\n",
    "key_base = jr.PRNGKey(31)\n",
    "key_mean_init, key_sample, key_state, key_next = jr.split(key_base, 4)\n",
    "p_init = jnp.array([0.0, 1.0, 0.0])\n",
    "\n",
    "# Initial filter configuration\n",
    "mu_0 = 0.01 * jr.normal(key_mean_init, (nparticles, 4))\n",
    "Sigma_0 = jnp.zeros((nparticles, 4,4))\n",
    "s0 = jr.categorical(key_state, logit(p_init), shape=(nparticles,))\n",
    "weights_0 = jnp.ones(nparticles) / nparticles\n",
    "init_config = (key_next, mu_0, Sigma_0, weights_0, s0)\n",
    "\n",
    "rbpf_optimal_part = partial(kflib.rbpf_optimal, params=params, nparticles=nparticles)\n",
    "_, (mu_hist, Sigma_hist, weights_hist, s_hist, Ptk) = jax.lax.scan(rbpf_optimal_part, init_config, obs_hist)\n",
    "mu_hist_post_mean = jnp.einsum(\"ts,tsm->tm\", weights_hist, mu_hist)"
   ]
  },
  {
   "cell_type": "code",
   "execution_count": 4,
   "metadata": {},
   "outputs": [
    {
     "data": {
      "image/png": "[encoded data removed]",
      "text/plain": [
       "<Figure size 640x480 with 1 Axes>"
      ]
     },
     "metadata": {},
     "output_type": "display_data"
    }
   ],
   "source": [
    "rbpf_mse = ((mu_hist_post_mean - state_hist)[:, [0, 2]] ** 2).mean(axis=0).sum()\n",
    "latent_hist_est = Ptk.mean(axis=1).argmax(axis=1)\n",
    "plt.scatter(*mu_hist_post_mean[:, [0, 2]].T, s=10)\n",
    "plt.show()"
   ]
  },
  {
   "attachments": {},
   "cell_type": "markdown",
   "metadata": {},
   "source": [
    "## My implementation"
   ]
  },
  {
   "cell_type": "code",
   "execution_count": 5,
   "metadata": {},
   "outputs": [
    {
     "ename": "AttributeError",
     "evalue": "'list' object has no attribute 'dynamics'",
     "output_type": "error",
     "traceback": [
      "\u001b[0;31m---------------------------------------------------------------------------\u001b[0m",
      "\u001b[0;31mAttributeError\u001b[0m                            Traceback (most recent call last)",
      "Cell \u001b[0;32mIn[5], line 49\u001b[0m\n\u001b[1;32m     43\u001b[0m key \u001b[39m=\u001b[39m jr\u001b[39m.\u001b[39mPRNGKey(\u001b[39m7\u001b[39m)\n\u001b[1;32m     45\u001b[0m params \u001b[39m=\u001b[39m inference\u001b[39m.\u001b[39mParamsSLDS(\n\u001b[1;32m     46\u001b[0m     discrete\u001b[39m=\u001b[39mdiscr_params,\n\u001b[1;32m     47\u001b[0m     linear_gaussian\u001b[39m=\u001b[39m[params_lds1, params_lds2, params_lds3]\n\u001b[1;32m     48\u001b[0m )\n\u001b[0;32m---> 49\u001b[0m out \u001b[39m=\u001b[39m inference\u001b[39m.\u001b[39;49mrbpfilter(num_particles, params, obs_hist)\n",
      "File \u001b[0;32m~/Desktop/code/Python/projects/dynamax/dynamax/slds/inference.py:275\u001b[0m, in \u001b[0;36mrbpfilter\u001b[0;34m(num_particles, params, emissions, inputs, key)\u001b[0m\n\u001b[1;32m    267\u001b[0m     carry \u001b[39m=\u001b[39m (\n\u001b[1;32m    268\u001b[0m         initial_weights,\n\u001b[1;32m    269\u001b[0m         initial_states, \n\u001b[1;32m    270\u001b[0m         initial_means,\n\u001b[1;32m    271\u001b[0m         initial_covs, \n\u001b[1;32m    272\u001b[0m         next_key)\n\u001b[1;32m    274\u001b[0m \u001b[39m#    _, out = lax.scan(_step, carry, jnp.arange(num_timesteps))\u001b[39;00m\n\u001b[0;32m--> 275\u001b[0m     out \u001b[39m=\u001b[39m _step(carry, \u001b[39m0\u001b[39;49m)[\u001b[39m1\u001b[39m]\n\u001b[1;32m    277\u001b[0m     \u001b[39mreturn\u001b[39;00m out\n",
      "File \u001b[0;32m~/Desktop/code/Python/projects/dynamax/dynamax/slds/inference.py:215\u001b[0m, in \u001b[0;36mrbpfilter.<locals>._step\u001b[0;34m(carry, t)\u001b[0m\n\u001b[1;32m    187\u001b[0m y \u001b[39m=\u001b[39m emissions[t]\n\u001b[1;32m    189\u001b[0m \u001b[39m# # Sample discrete states from the proposal\u001b[39;00m\n\u001b[1;32m    190\u001b[0m \u001b[39m# keys = jr.split(key, num_particles+1)\u001b[39;00m\n\u001b[1;32m    191\u001b[0m \u001b[39m# next_key = keys[0]\u001b[39;00m\n\u001b[0;32m   (...)\u001b[0m\n\u001b[1;32m    211\u001b[0m \u001b[39m#                                                       u, \u001b[39;00m\n\u001b[1;32m    212\u001b[0m \u001b[39m#                                                       y)\u001b[39;00m\n\u001b[0;32m--> 215\u001b[0m lls, filtered_means, filtered_covs \u001b[39m=\u001b[39m _vec_kalman_step(filtered_means, filtered_covs, params\u001b[39m.\u001b[39;49mlinear_gaussian, u, y)\n\u001b[1;32m    219\u001b[0m \u001b[39m# # Compute weights\u001b[39;00m\n\u001b[1;32m    220\u001b[0m \u001b[39m# lls -= jnp.max(lls)\u001b[39;00m\n\u001b[1;32m    221\u001b[0m \u001b[39m# loglik_weights = jnp.exp(lls)\u001b[39;00m\n\u001b[0;32m   (...)\u001b[0m\n\u001b[1;32m    247\u001b[0m                                                                          \n\u001b[1;32m    248\u001b[0m \u001b[39m# Build carry and output states\u001b[39;00m\n\u001b[1;32m    249\u001b[0m carry \u001b[39m=\u001b[39m (weights, prev_states, filtered_means, filtered_covs, next_key)\n",
      "    \u001b[0;31m[... skipping hidden 6 frame]\u001b[0m\n",
      "File \u001b[0;32m~/Desktop/code/Python/projects/dynamax/dynamax/slds/inference.py:133\u001b[0m, in \u001b[0;36m_kalman_step\u001b[0;34m(mu, Sigma, params, u, y)\u001b[0m\n\u001b[1;32m    129\u001b[0m \u001b[39mdef\u001b[39;00m \u001b[39m_kalman_step\u001b[39m(mu, Sigma, params, u, y):\n\u001b[1;32m    130\u001b[0m \u001b[39m    \u001b[39m\u001b[39m\"\"\"\u001b[39;00m\n\u001b[1;32m    131\u001b[0m \u001b[39m    Perform a Kalman step, given a prior and a linear Gaussian observation model.\u001b[39;00m\n\u001b[1;32m    132\u001b[0m \u001b[39m    \"\"\"\u001b[39;00m\n\u001b[0;32m--> 133\u001b[0m     F \u001b[39m=\u001b[39m params\u001b[39m.\u001b[39;49mdynamics\u001b[39m.\u001b[39mweights\n\u001b[1;32m    134\u001b[0m     b \u001b[39m=\u001b[39m params\u001b[39m.\u001b[39mdynamics\u001b[39m.\u001b[39mbias\n\u001b[1;32m    135\u001b[0m     B \u001b[39m=\u001b[39m params\u001b[39m.\u001b[39mdynamics\u001b[39m.\u001b[39minput_weights\n",
      "\u001b[0;31mAttributeError\u001b[0m: 'list' object has no attribute 'dynamics'"
     ]
    }
   ],
   "source": [
    "num_states = 3\n",
    "num_particles = 1000\n",
    "state_dim = 4\n",
    "emission_dim = 4\n",
    "\n",
    "discr_params = inference.DiscreteParamsSLDS(\n",
    "    initial = jnp.ones(num_states)/num_states,\n",
    "    transition_matrix=transition_matrix,\n",
    "    proposal_transition_matrix=transition_matrix\n",
    ")\n",
    "\n",
    "params_lds1 = make_lgssm_params(initial_mean = jnp.ones(state_dim),\n",
    "                      initial_cov = jnp.eye(state_dim),\n",
    "                      dynamics_weights = A,\n",
    "                      dynamics_cov = Q,\n",
    "                      emissions_weights = C,\n",
    "                      emissions_cov = R,\n",
    "                      dynamics_bias=B1,\n",
    "                      dynamics_input_weights=None,\n",
    "                      emissions_bias=None,\n",
    "                      emissions_input_weights=None)\n",
    "params_lds2 = make_lgssm_params(initial_mean = jnp.ones(state_dim),\n",
    "                        initial_cov = jnp.eye(state_dim),\n",
    "                        dynamics_weights = A,\n",
    "                        dynamics_cov = Q,\n",
    "                        emissions_weights = C,\n",
    "                        emissions_cov = R,\n",
    "                        dynamics_bias=B2,\n",
    "                        dynamics_input_weights=None,\n",
    "                        emissions_bias=None,\n",
    "                        emissions_input_weights=None)\n",
    "params_lds3 = make_lgssm_params(initial_mean = jnp.ones(state_dim),\n",
    "                        initial_cov = jnp.eye(state_dim),\n",
    "                        dynamics_weights = A,\n",
    "                        dynamics_cov = Q,\n",
    "                        emissions_weights = C,\n",
    "                        emissions_cov = R,\n",
    "                        dynamics_bias=B3,\n",
    "                        dynamics_input_weights=None,\n",
    "                        emissions_bias=None,\n",
    "                        emissions_input_weights=None)\n",
    "\n",
    "key = jr.PRNGKey(7)\n",
    "\n",
    "params = inference.ParamsSLDS(\n",
    "    discrete=discr_params,\n",
    "    linear_gaussian=[params_lds1, params_lds2, params_lds3]\n",
    ")\n",
    "out = inference.rbpfilter(num_particles, params, obs_hist)"
   ]
  },
  {
   "cell_type": "code",
   "execution_count": null,
   "metadata": {},
   "outputs": [],
   "source": [
    "means = out['means']\n",
    "weights = out['weights']\n",
    "my_post_mean = jnp.einsum(\"ts,tsm->tm\", weights, means)"
   ]
  },
  {
   "cell_type": "code",
   "execution_count": null,
   "metadata": {},
   "outputs": [],
   "source": [
    "myrbpf_mse = ((my_post_mean - state_hist)[:, [0, 2]] ** 2).mean(axis=0).sum()\n",
    "latent_hist_est = Ptk.mean(axis=1).argmax(axis=1)\n",
    "plt.scatter(*my_post_mean[:, [0, 2]].T, s=10)\n",
    "plt.show()"
   ]
  },
  {
   "cell_type": "code",
   "execution_count": null,
   "metadata": {},
   "outputs": [],
   "source": [
    "def my_func(x, y, p1, p2):\n",
    "    return p1 * x + p2 * y\n",
    "\n",
    "p1_array = jnp.array([1, 2, 3])\n",
    "p2_array = jnp.array([4, 5, 6])\n",
    "x_array = jnp.linspace(0, 1, 100)\n",
    "y_array = jnp.linspace(0, 1, 100)\n",
    "\n",
    "my_func_vmap = jax.vmap(my_func, in_axes=(0, 0, None, None))\n",
    "my_func2 = vmap(lambda p1, p2: my_func_vmap(x_array, y_array, p1, p2), in_axes=(0, 0))\n",
    "out = my_func2(p1_array, p2_array)\n",
    "out"
   ]
  },
  {
   "cell_type": "code",
   "execution_count": null,
   "metadata": {},
   "outputs": [],
   "source": [
    "def my_other_func(x,y):\n",
    "    return x, x+y\n",
    "\n",
    "my_other_func_vmap = jax.vmap(my_other_func, in_axes=(0, 0))\n",
    "my_other_mapped_func = vmap(my_other_func, in_axes=(0, 0), out_axes=(0, 0))"
   ]
  }
 ],
 "metadata": {
  "kernelspec": {
   "display_name": "Python 3",
   "language": "python",
   "name": "python3"
  },
  "language_info": {
   "codemirror_mode": {
    "name": "ipython",
    "version": 3
   },
   "file_extension": ".py",
   "mimetype": "text/x-python",
   "name": "python",
   "nbconvert_exporter": "python",
   "pygments_lexer": "ipython3",
   "version": "3.9.6"
  },
  "orig_nbformat": 4
 },
 "nbformat": 4,
 "nbformat_minor": 2
}
