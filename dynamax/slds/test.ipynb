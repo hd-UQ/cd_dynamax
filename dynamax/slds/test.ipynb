{
 "cells": [
  {
   "cell_type": "code",
   "execution_count": 1,
   "metadata": {},
   "outputs": [],
   "source": [
    "import dynamax\n",
    "import jax.numpy as jnp\n",
    "import jax.random as jr\n",
    "import inference\n",
    "from functools import partial\n",
    "\n",
    "from jax import vmap, tree_map, jit\n",
    "from dynamax.linear_gaussian_ssm.inference import ParamsLGSSM, make_lgssm_params\n",
    "# import MVN from tfd\n",
    "from tensorflow_probability.substrates.jax.distributions import MultivariateNormalFullCovariance as MVN\n",
    "\n",
    "import seaborn as sns\n",
    "import matplotlib.pyplot as plt\n",
    "import mixture_kalman_filter as kflib\n",
    "from functools import partial\n",
    "from sklearn.preprocessing import OneHotEncoder\n",
    "from jax.scipy.special import logit\n",
    "from plot_utils import kdeg, style3d\n",
    "import jax"
   ]
  },
  {
   "cell_type": "markdown",
   "metadata": {},
   "source": [
    "# Simulate Data"
   ]
  },
  {
   "cell_type": "code",
   "execution_count": 2,
   "metadata": {},
   "outputs": [],
   "source": [
    "TT = 0.1\n",
    "A = jnp.array([[1, TT, 0, 0],\n",
    "            [0, 1, 0, 0],\n",
    "            [0, 0, 1, TT],\n",
    "            [0, 0, 0, 1]])\n",
    "\n",
    "\n",
    "B1 = jnp.array([0, 0, 0, 0])\n",
    "B2 = jnp.array([-1.225, -0.35, 1.225, 0.35])\n",
    "B3 = jnp.array([1.225, 0.35,  -1.225,  -0.35])\n",
    "B = jnp.stack([B1, B2, B3], axis=0)\n",
    "\n",
    "Q = 0.2 * jnp.eye(4)\n",
    "R = 10 * jnp.diag(jnp.array([2, 1, 2, 1]))\n",
    "C = jnp.eye(4)\n",
    "\n",
    "\n",
    "transition_matrix = jnp.array([\n",
    "    [0.8, 0.1, 0.1],\n",
    "    [0.1, 0.8, 0.1],\n",
    "    [0.1, 0.1, 0.8]\n",
    "])\n",
    "\n",
    "params = kflib.RBPFParamsDiscrete(A, B, C, Q, R, transition_matrix)\n",
    "\n",
    "nparticles = 1000\n",
    "nsteps = 100\n",
    "key = jr.PRNGKey(1)\n",
    "keys = jr.split(key, nsteps)\n",
    "\n",
    "x0 = (1, jr.multivariate_normal(key, jnp.zeros(4), jnp.eye(4)))\n",
    "draw_state_fixed = partial(kflib.draw_state, params=params)\n",
    "\n",
    "# Create target dataset\n",
    "_, (latent_hist, state_hist, obs_hist) = jax.lax.scan(draw_state_fixed, x0, keys)"
   ]
  },
  {
   "attachments": {},
   "cell_type": "markdown",
   "metadata": {},
   "source": [
    "## Baseline implementation"
   ]
  },
  {
   "cell_type": "code",
   "execution_count": 3,
   "metadata": {},
   "outputs": [],
   "source": [
    "# Perform filtering\n",
    "key_base = jr.PRNGKey(31)\n",
    "key_mean_init, key_sample, key_state, key_next = jr.split(key_base, 4)\n",
    "p_init = jnp.array([0.0, 1.0, 0.0])\n",
    "\n",
    "# Initial filter configuration\n",
    "mu_0 = 0.01 * jr.normal(key_mean_init, (nparticles, 4))\n",
    "Sigma_0 = jnp.zeros((nparticles, 4,4))\n",
    "s0 = jr.categorical(key_state, logit(p_init), shape=(nparticles,))\n",
    "weights_0 = jnp.ones(nparticles) / nparticles\n",
    "init_config = (key_next, mu_0, Sigma_0, weights_0, s0)\n",
    "\n",
    "rbpf_optimal_part = partial(kflib.rbpf_optimal, params=params, nparticles=nparticles)\n",
    "_, (mu_hist, Sigma_hist, weights_hist, s_hist, Ptk) = jax.lax.scan(rbpf_optimal_part, init_config, obs_hist)\n",
    "mu_hist_post_mean = jnp.einsum(\"ts,tsm->tm\", weights_hist, mu_hist)"
   ]
  },
  {
   "cell_type": "code",
   "execution_count": 4,
   "metadata": {},
   "outputs": [
    {
     "data": {
      "image/png": "[encoded data removed]",
      "text/plain": [
       "<Figure size 640x480 with 1 Axes>"
      ]
     },
     "metadata": {},
     "output_type": "display_data"
    }
   ],
   "source": [
    "rbpf_mse = ((mu_hist_post_mean - state_hist)[:, [0, 2]] ** 2).mean(axis=0).sum()\n",
    "latent_hist_est = Ptk.mean(axis=1).argmax(axis=1)\n",
    "plt.scatter(*mu_hist_post_mean[:, [0, 2]].T, s=10)\n",
    "plt.show()"
   ]
  },
  {
   "attachments": {},
   "cell_type": "markdown",
   "metadata": {},
   "source": [
    "## My implementation"
   ]
  },
  {
   "cell_type": "code",
   "execution_count": 5,
   "metadata": {},
   "outputs": [],
   "source": [
    "num_states = 3\n",
    "num_particles = 1000\n",
    "state_dim = 4\n",
    "emission_dim = 4\n",
    "\n",
    "discr_params = inference.DiscreteParamsSLDS(\n",
    "    initial = jnp.ones(num_states)/num_states,\n",
    "    transition_matrix=transition_matrix,\n",
    "    proposal_transition_matrix=transition_matrix\n",
    ")\n",
    "\n",
    "params_lds1 = make_lgssm_params(initial_mean = jnp.ones(state_dim),\n",
    "                      initial_cov = jnp.eye(state_dim),\n",
    "                      dynamics_weights = A,\n",
    "                      dynamics_cov = Q,\n",
    "                      emissions_weights = C,\n",
    "                      emissions_cov = R,\n",
    "                      dynamics_bias=B1,\n",
    "                      dynamics_input_weights=None,\n",
    "                      emissions_bias=None,\n",
    "                      emissions_input_weights=None)\n",
    "params_lds2 = make_lgssm_params(initial_mean = jnp.ones(state_dim),\n",
    "                        initial_cov = jnp.eye(state_dim),\n",
    "                        dynamics_weights = A,\n",
    "                        dynamics_cov = Q,\n",
    "                        emissions_weights = C,\n",
    "                        emissions_cov = R,\n",
    "                        dynamics_bias=B2,\n",
    "                        dynamics_input_weights=None,\n",
    "                        emissions_bias=None,\n",
    "                        emissions_input_weights=None)\n",
    "params_lds3 = make_lgssm_params(initial_mean = jnp.ones(state_dim),\n",
    "                        initial_cov = jnp.eye(state_dim),\n",
    "                        dynamics_weights = A,\n",
    "                        dynamics_cov = Q,\n",
    "                        emissions_weights = C,\n",
    "                        emissions_cov = R,\n",
    "                        dynamics_bias=B3,\n",
    "                        dynamics_input_weights=None,\n",
    "                        emissions_bias=None,\n",
    "                        emissions_input_weights=None)\n",
    "\n",
    "key = jr.PRNGKey(7)\n",
    "\n",
    "params = inference.ParamsSLDS(\n",
    "    discrete=discr_params,\n",
    "    linear_gaussian=[params_lds1, params_lds2, params_lds3]\n",
    ")\n",
    "out = inference.rbpfilter(num_particles, params, obs_hist)"
   ]
  },
  {
   "cell_type": "code",
   "execution_count": 6,
   "metadata": {},
   "outputs": [],
   "source": [
    "means = out['means']\n",
    "weights = out['weights']\n",
    "my_post_mean = jnp.einsum(\"ts,tsm->tm\", weights, means)"
   ]
  },
  {
   "cell_type": "code",
   "execution_count": 7,
   "metadata": {},
   "outputs": [
    {
     "data": {
      "image/png": "[encoded data removed]",
      "text/plain": [
       "<Figure size 640x480 with 1 Axes>"
      ]
     },
     "metadata": {},
     "output_type": "display_data"
    }
   ],
   "source": [
    "myrbpf_mse = ((my_post_mean - state_hist)[:, [0, 2]] ** 2).mean(axis=0).sum()\n",
    "latent_hist_est = Ptk.mean(axis=1).argmax(axis=1)\n",
    "plt.scatter(*my_post_mean[:, [0, 2]].T, s=10)\n",
    "plt.show()"
   ]
  }
 ],
 "metadata": {
  "kernelspec": {
   "display_name": "Python 3",
   "language": "python",
   "name": "python3"
  },
  "language_info": {
   "codemirror_mode": {
    "name": "ipython",
    "version": 3
   },
   "file_extension": ".py",
   "mimetype": "text/x-python",
   "name": "python",
   "nbconvert_exporter": "python",
   "pygments_lexer": "ipython3",
   "version": "3.9.6"
  },
  "orig_nbformat": 4
 },
 "nbformat": 4,
 "nbformat_minor": 2
}
