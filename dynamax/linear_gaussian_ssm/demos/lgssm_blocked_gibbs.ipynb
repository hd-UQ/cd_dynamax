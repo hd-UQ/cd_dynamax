{
 "cells": [
  {
   "cell_type": "code",
   "execution_count": 1,
   "metadata": {},
   "outputs": [
    {
     "ename": "Exception",
     "evalue": "This demo is currently broken!",
     "output_type": "error",
     "traceback": [
      "\u001b[0;31m---------------------------------------------------------------------------\u001b[0m",
      "\u001b[0;31mException\u001b[0m                                 Traceback (most recent call last)",
      "\u001b[0;32m/var/folders/03/7y894xkj7k7266681pht1hw40000gn/T/ipykernel_67885/3279903910.py\u001b[0m in \u001b[0;36m<module>\u001b[0;34m\u001b[0m\n\u001b[0;32m----> 1\u001b[0;31m \u001b[0;32mraise\u001b[0m \u001b[0mException\u001b[0m\u001b[0;34m(\u001b[0m\u001b[0;34m\"This demo is currently broken!\"\u001b[0m\u001b[0;34m)\u001b[0m\u001b[0;34m\u001b[0m\u001b[0;34m\u001b[0m\u001b[0m\n\u001b[0m",
      "\u001b[0;31mException\u001b[0m: This demo is currently broken!"
     ]
    }
   ],
   "source": [
    "raise Exception(\"This demo is currently broken!\")"
   ]
  },
  {
   "cell_type": "code",
   "execution_count": null,
   "metadata": {},
   "outputs": [],
   "source": [
    "from jax import random as  jr\n",
    "from jax import numpy as jnp\n",
    "from jax import jit\n",
    "from itertools import count\n",
    "\n",
    "from dynamax.linear_gaussian_ssm.inference import lgssm_smoother\n",
    "from dynamax.linear_gaussian_ssm.models.linear_gaussian_ssm_conjugate import LinearGaussianConjugateSSM\n",
    "\n",
    "import matplotlib.pyplot as plt\n",
    "import matplotlib\n",
    "matplotlib.rcParams['figure.figsize'] = [16, 9]"
   ]
  },
  {
   "cell_type": "markdown",
   "metadata": {},
   "source": [
    "### Generate synthetic data and initialize parameters by running MAP"
   ]
  },
  {
   "cell_type": "code",
   "execution_count": null,
   "metadata": {},
   "outputs": [],
   "source": [
    "from itertools import count\n",
    "state_dim = 2\n",
    "emission_dim = 10\n",
    "num_timesteps = 100\n",
    "\n",
    "keys = map(jr.PRNGKey, count())\n",
    "\n",
    "true_model = LinearGaussianConjugateSSM(state_dim, emission_dim)\n",
    "true_params, _ = true_model.random_initialization(next(keys))\n",
    "\n",
    "true_states, emissions = true_model.sample(true_params, next(keys), num_timesteps)\n",
    "\n",
    "num_iters = 100\n",
    "test_model = LinearGaussianConjugateSSM(state_dim, emission_dim)\n",
    "test_params, test_param_props = test_model.random_initialization(next(keys))\n",
    "test_params, marginal_lls = test_model.fit_em(test_params, test_param_props, emissions, num_iters=num_iters)\n",
    "\n",
    "# Compute predicted emissions\n",
    "emission_weights = test_params[\"emissions\"][\"weights\"]\n",
    "emission_bias = test_params[\"emissions\"][\"bias\"]\n",
    "emission_cov = test_params[\"emissions\"][\"cov\"]\n",
    "posterior = test_model.smoother(test_params, emissions)\n",
    "smoothed_emissions = posterior.smoothed_means @ emission_weights.T + emission_bias\n",
    "smoothed_emissions_cov = emission_weights @ posterior.smoothed_covariances @ emission_weights.T + emission_cov\n",
    "smoothed_emissions_std = jnp.sqrt(jnp.array([smoothed_emissions_cov[:, i, i] for i in range(emission_dim)]))\n"
   ]
  },
  {
   "cell_type": "code",
   "execution_count": null,
   "metadata": {},
   "outputs": [],
   "source": [
    "\n",
    "spc = 3\n",
    "plt.figure(figsize=(10, 4))\n",
    "for i in range(emission_dim):\n",
    "    plt.plot(emissions[:, i] + spc * i, \"--k\", label=\"observed\" if i == 0 else None)\n",
    "    ln = plt.plot(smoothed_emissions[:, i] + spc * i,\n",
    "                  label=\"smoothed\" if i == 0 else None)[0]\n",
    "    plt.fill_between(\n",
    "        jnp.arange(num_timesteps),\n",
    "        spc * i + smoothed_emissions[:, i] - 2 * jnp.sqrt(smoothed_emissions_std[i]),\n",
    "        spc * i + smoothed_emissions[:, i] + 2 * jnp.sqrt(smoothed_emissions_std[i]),\n",
    "        color=ln.get_color(),\n",
    "        alpha=0.25,\n",
    "    )\n",
    "plt.xlabel(\"time\")\n",
    "plt.xlim(0, num_timesteps - 1)\n",
    "plt.ylabel(\"true and predicted emissions\")\n",
    "plt.legend()"
   ]
  },
  {
   "cell_type": "markdown",
   "metadata": {},
   "source": [
    "### Blocked Gibbs for LiearGaussianConjugateSSM"
   ]
  },
  {
   "cell_type": "code",
   "execution_count": null,
   "metadata": {},
   "outputs": [],
   "source": [
    "lls, param_samples = test_model.fit_blocked_gibbs(next(keys), sample_size=500, emissions=emissions)\n",
    "\n",
    "plt.plot(lls)"
   ]
  },
  {
   "cell_type": "code",
   "execution_count": null,
   "metadata": {},
   "outputs": [],
   "source": [
    "@jit\n",
    "def smooth_emission(params):\n",
    "    posterior = lgssm_smoother(params, emissions)\n",
    "    return posterior.smoothed_means @ params.emission_matrix.T + params.emission_bias\n",
    "\n",
    "smoothed_emissions = jnp.array([smooth_emission(params) for params in param_samples])\n",
    "smoothed_emissions_means = smoothed_emissions.mean(axis=0)\n",
    "smoothed_emissions_stds = jnp.std(smoothed_emissions, axis=0)"
   ]
  },
  {
   "cell_type": "code",
   "execution_count": null,
   "metadata": {},
   "outputs": [],
   "source": [
    "spc = 3\n",
    "plt.figure(figsize=(10, 4))\n",
    "for i in range(emission_dim):\n",
    "    plt.plot(emissions[:, i] + spc * i, \"--k\", label=\"observed\" if i == 0 else None)\n",
    "    ln = plt.plot(smoothed_emissions_means[:, i] + spc * i,\n",
    "                  label=\"smoothed\" if i == 0 else None)[0]\n",
    "    plt.fill_between(\n",
    "        jnp.arange(num_timesteps),\n",
    "        spc * i + smoothed_emissions_means[:, i] - 2 * jnp.sqrt(smoothed_emissions_stds[:, i]),\n",
    "        spc * i + smoothed_emissions_means[:, i] + 2 * jnp.sqrt(smoothed_emissions_stds[:, i]),\n",
    "        color=ln.get_color(),\n",
    "        alpha=0.25,\n",
    "    )\n",
    "plt.xlabel(\"time\")\n",
    "plt.xlim(0, num_timesteps - 1)\n",
    "plt.ylabel(\"true and predicted emissions\")\n",
    "plt.legend()"
   ]
  }
 ],
 "metadata": {
  "kernelspec": {
   "display_name": "Python 3.9.6 ('dynamax')",
   "language": "python",
   "name": "python3"
  },
  "language_info": {
   "codemirror_mode": {
    "name": "ipython",
    "version": 3
   },
   "file_extension": ".py",
   "mimetype": "text/x-python",
   "name": "python",
   "nbconvert_exporter": "python",
   "pygments_lexer": "ipython3",
   "version": "3.9.6"
  },
  "orig_nbformat": 4,
  "vscode": {
   "interpreter": {
    "hash": "92401d49bd83f70620e540b668b7091047c2ca041ed5ff6cc3954130de9aa1fc"
   }
  }
 },
 "nbformat": 4,
 "nbformat_minor": 2
}
