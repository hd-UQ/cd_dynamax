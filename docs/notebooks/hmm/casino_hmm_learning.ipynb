{
 "cells": [
  {
   "cell_type": "markdown",
   "metadata": {
    "id": "vztgLkUUYzdW"
   },
   "source": [
    "# Casino HMM: learning (parameter estimation)\n",
    "\n",
    "We use a simple example of an HMM from known as the \"occasionally dishonest casino\".\n",
    "This is from sec 3.2 of the book\n",
    "\"Biological Sequence Analysis: Probabilistic Models of Proteins and Nucleic Acids\"\n",
    "by R. Durbin, S. Eddy, A. Krogh and G. Mitchison (1998).\n",
    "\n",
    "We sample data from the model, then fit the model to the data, using EM and SGD.\n"
   ]
  },
  {
   "cell_type": "markdown",
   "metadata": {},
   "source": [
    "The figure below shows the graphical model, with the parameter nodes explicitly added.\n",
    "\n",
    "\n",
    "![HMM with parameters](https://github.com/probml/dynamax/blob/main/docs/figures/hmmDgmPlatesY.png?raw=true)\n"
   ]
  },
  {
   "cell_type": "markdown",
   "metadata": {
    "id": "w7B-x7WeTTQE"
   },
   "source": [
    "## Setup"
   ]
  },
  {
   "cell_type": "code",
   "execution_count": 1,
   "metadata": {
    "id": "qf_3RpxOAKX2"
   },
   "outputs": [],
   "source": [
    "try:\n",
    "    import dynamax\n",
    "except ModuleNotFoundError:\n",
    "    print('installing dynamax')\n",
    "    %pip install -qq git+https://github.com/probml/dynamax.git\n",
    "    import dynamax"
   ]
  },
  {
   "cell_type": "code",
   "execution_count": 2,
   "metadata": {
    "id": "PCkq4m5GTNLk"
   },
   "outputs": [],
   "source": [
    "from functools import partial\n",
    "import jax.numpy as jnp\n",
    "import jax.random as jr\n",
    "from jax import vmap\n",
    "import optax\n",
    "from graphviz import Digraph\n",
    "import matplotlib.pyplot as plt\n",
    "from dynamax.hmm.models import CategoricalHMM"
   ]
  },
  {
   "cell_type": "code",
   "execution_count": 3,
   "metadata": {
    "colab": {
     "base_uri": "https://localhost:8080/"
    },
    "id": "lg0vAmvAVTy4",
    "outputId": "8e6667d9-603f-48e7-ee96-0a921fb5c735"
   },
   "outputs": [],
   "source": [
    "#try:\n",
    "#    import graphviz\n",
    "#except ModuleNotFoundError:\n",
    "#    %pip install graphviz"
   ]
  },
  {
   "cell_type": "code",
   "execution_count": 4,
   "metadata": {},
   "outputs": [],
   "source": [
    "def hmm_plot_graphviz(trans_mat, obs_mat, states=[], observations=[]):\n",
    "    \"\"\"\n",
    "    Visualizes HMM transition matrix and observation matrix using graphhiz.\n",
    "    Parameters\n",
    "    ----------\n",
    "    trans_mat, obs_mat, init_dist: arrays\n",
    "    states: List(num_hidden)\n",
    "        Names of hidden states\n",
    "    observations: List(num_obs)\n",
    "        Names of observable events\n",
    "    Returns\n",
    "    -------\n",
    "    dot object, that can be displayed in colab\n",
    "    \"\"\"\n",
    "\n",
    "    n_states, _, n_obs = obs_mat.shape\n",
    "\n",
    "    dot = Digraph(comment=\"HMM\")\n",
    "    if not states:\n",
    "        states = [f\"State {i + 1}\" for i in range(n_states)]\n",
    "    if not observations:\n",
    "        observations = [f\"Obs {i + 1}\" for i in range(n_obs)]\n",
    "\n",
    "    # Creates hidden state nodes\n",
    "    for i, name in enumerate(states):\n",
    "        table = [f'<TR><TD>{observations[j]}</TD><TD>{\"%.2f\" % prob}</TD></TR>' for j, prob in enumerate(obs_mat[i,0])]\n",
    "        label = f\"\"\"<<TABLE><TR><TD BGCOLOR=\"lightblue\" COLSPAN=\"2\">{name}</TD></TR>{''.join(table)}</TABLE>>\"\"\"\n",
    "        dot.node(f\"s{i}\", label=label)\n",
    "\n",
    "    # Writes transition probabilities\n",
    "    for i in range(n_states):\n",
    "        for j in range(n_states):\n",
    "            dot.edge(f\"s{i}\", f\"s{j}\", label=str(\"%.2f\" % trans_mat[i, j]))\n",
    "    dot.attr(rankdir=\"LR\")\n",
    "    # dot.render(file_name, view=True)\n",
    "    return dot"
   ]
  },
  {
   "cell_type": "markdown",
   "metadata": {
    "id": "pSqK6MOKTpsH"
   },
   "source": [
    "## Sample data from true model"
   ]
  },
  {
   "cell_type": "code",
   "execution_count": 5,
   "metadata": {},
   "outputs": [],
   "source": [
    "num_states = 2\n",
    "num_emissions = 1\n",
    "num_classes = 6\n",
    "hmm = CategoricalHMM(num_states, num_emissions, num_classes)\n",
    "\n",
    "params = dict(\n",
    "    initial=dict(probs=jnp.array([1, 1]) / 2),\n",
    "    transitions=dict(transition_matrix=jnp.array([[0.95, 0.05], [0.10, 0.90]])),\n",
    "    emissions=dict(probs=jnp.array(\n",
    "        [\n",
    "            [1 / 6, 1 / 6, 1 / 6, 1 / 6, 1 / 6, 1 / 6],  # fair die\n",
    "            [1 / 10, 1 / 10, 1 / 10, 1 / 10, 1 / 10, 5 / 10],  # loaded die\n",
    "        ]\n",
    "    ).reshape(num_states, num_emissions, num_classes))\n",
    ")"
   ]
  },
  {
   "cell_type": "code",
   "execution_count": 6,
   "metadata": {
    "id": "IDSgrui8T0yD"
   },
   "outputs": [
    {
     "name": "stdout",
     "output_type": "stream",
     "text": [
      "(5, 5000)\n",
      "(5, 5000, 1)\n",
      "25000\n"
     ]
    }
   ],
   "source": [
    "\n",
    "num_batches = 5\n",
    "num_timesteps = 5000\n",
    "hmm = CategoricalHMM(num_states, num_emissions, num_classes)\n",
    "\n",
    "batch_states, batch_emissions = \\\n",
    "    vmap(partial(hmm.sample, params, num_timesteps=num_timesteps))(\n",
    "        jr.split(jr.PRNGKey(42), num_batches))\n",
    "\n",
    "print(batch_states.shape) \n",
    "print(batch_emissions.shape)\n",
    "print(batch_emissions.size)"
   ]
  },
  {
   "cell_type": "code",
   "execution_count": 7,
   "metadata": {},
   "outputs": [
    {
     "name": "stdout",
     "output_type": "stream",
     "text": [
      "initial dist: \n",
      "['0.500,', '0.500,']\n",
      "transition matrix\n",
      "['0.950,', '0.050,']\n",
      "['0.100,', '0.900,']\n",
      "emission matrix\n",
      "['0.167,', '0.167,', '0.167,', '0.167,', '0.167,', '0.167,']\n",
      "['0.100,', '0.100,', '0.100,', '0.100,', '0.100,', '0.500,']\n"
     ]
    }
   ],
   "source": [
    "def extract_params(params):\n",
    "    A = params['transitions']['transition_matrix']\n",
    "    B = params['emissions']['probs'] # (nstates, 1, noutputs)\n",
    "    pi = params['initial']['probs']\n",
    "    return pi, A, B[:, 0, :]\n",
    "\n",
    "def print_floats(probs):\n",
    "    str = ['{:.3f},'.format(p) for p in probs]\n",
    "    print(str)\n",
    "\n",
    "def print_params(params):\n",
    "    pi, A, B = extract_params(params)\n",
    "    print('initial dist: ');\n",
    "    print_floats(pi)\n",
    "    print('transition matrix')\n",
    "    nstates = len(pi)\n",
    "    for k in range(nstates):\n",
    "        print_floats(A[k,:])\n",
    "    print('emission matrix')\n",
    "    for k in range(nstates):\n",
    "        print_floats(B[k,:])\n",
    "\n",
    "print_params(params)\n"
   ]
  },
  {
   "cell_type": "code",
   "execution_count": 8,
   "metadata": {},
   "outputs": [],
   "source": [
    "#dotfile = hmm_plot_graphviz(params[\"transitions\"][\"transition_matrix\"], params[\"emissions\"][\"probs\"])\n",
    "#dotfile.render(\"hmm-casino-true-dot\")\n",
    "#dotfile"
   ]
  },
  {
   "cell_type": "markdown",
   "metadata": {
    "id": "bjKQZI8VUbud"
   },
   "source": [
    "## Learning"
   ]
  },
  {
   "cell_type": "code",
   "execution_count": 9,
   "metadata": {
    "id": "qG9c7pUaUE-5"
   },
   "outputs": [],
   "source": [
    "num_epochs = 400\n",
    "learning_rate = 1e-2\n",
    "momentum = 0.95\n",
    "optimizer = optax.sgd(learning_rate=learning_rate, momentum=momentum)\n",
    "shuffle = True"
   ]
  },
  {
   "cell_type": "markdown",
   "metadata": {
    "id": "_b2UfLnCUWMD"
   },
   "source": [
    "### Full-Batch Gradient Descent"
   ]
  },
  {
   "cell_type": "code",
   "execution_count": 10,
   "metadata": {
    "id": "tooveAHeUR4b"
   },
   "outputs": [],
   "source": [
    "key = jr.PRNGKey(3)\n",
    "fbgd_params, fbgd_param_props = hmm.initialize(key)\n",
    "fbgd_params, losses_fbgd = hmm.fit_sgd(fbgd_params, \n",
    "                                       fbgd_param_props, \n",
    "                                       batch_emissions, \n",
    "                                       optimizer=optimizer, \n",
    "                                       batch_size=num_batches, \n",
    "                                       num_epochs=num_epochs, \n",
    "                                       shuffle=shuffle, \n",
    "                                       key=key)"
   ]
  },
  {
   "cell_type": "code",
   "execution_count": 11,
   "metadata": {},
   "outputs": [
    {
     "name": "stdout",
     "output_type": "stream",
     "text": [
      "initial dist: \n",
      "['0.035,', '0.971,']\n",
      "transition matrix\n",
      "['0.036,', '0.964,']\n",
      "['0.430,', '0.570,']\n",
      "emission matrix\n",
      "['0.137,', '0.238,', '0.212,', '0.056,', '0.261,', '0.096,']\n",
      "['0.151,', '0.105,', '0.112,', '0.179,', '0.085,', '0.369,']\n"
     ]
    }
   ],
   "source": [
    "print_params(fbgd_params)"
   ]
  },
  {
   "cell_type": "code",
   "execution_count": 12,
   "metadata": {},
   "outputs": [
    {
     "data": {
      "text/plain": [
       "[<matplotlib.lines.Line2D at 0x7fcbb247e6d0>]"
      ]
     },
     "execution_count": 12,
     "metadata": {},
     "output_type": "execute_result"
    },
    {
     "data": {
      "image/png": "[encoded data removed]",
      "text/plain": [
       "<Figure size 432x288 with 1 Axes>"
      ]
     },
     "metadata": {
      "needs_background": "light"
     },
     "output_type": "display_data"
    }
   ],
   "source": [
    "fig, ax = plt.subplots()\n",
    "ax.plot(losses_fbgd)"
   ]
  },
  {
   "cell_type": "markdown",
   "metadata": {
    "id": "II8lqqdSUKbt"
   },
   "source": [
    "### Mini-Batch Gradient Descent"
   ]
  },
  {
   "cell_type": "code",
   "execution_count": 13,
   "metadata": {
    "id": "x6L5NPatUJ1s"
   },
   "outputs": [],
   "source": [
    "key = jr.PRNGKey(3)\n",
    "mbgd_params, mbgd_param_props = hmm.initialize(key)\n",
    "mbgd_params, losses_mbgd = hmm.fit_sgd(mbgd_params, \n",
    "                                       mbgd_param_props, \n",
    "                                       batch_emissions, \n",
    "                                       optimizer=optimizer, \n",
    "                                       batch_size=2, \n",
    "                                       num_epochs=num_epochs, \n",
    "                                       shuffle=shuffle, \n",
    "                                       key=key)"
   ]
  },
  {
   "cell_type": "code",
   "execution_count": 14,
   "metadata": {},
   "outputs": [
    {
     "name": "stdout",
     "output_type": "stream",
     "text": [
      "initial dist: \n",
      "['0.035,', '0.983,']\n",
      "transition matrix\n",
      "['0.038,', '0.962,']\n",
      "['0.314,', '0.686,']\n",
      "emission matrix\n",
      "['0.142,', '0.234,', '0.202,', '0.067,', '0.252,', '0.103,']\n",
      "['0.150,', '0.120,', '0.127,', '0.169,', '0.106,', '0.329,']\n"
     ]
    }
   ],
   "source": [
    "print_params(mbgd_params)"
   ]
  },
  {
   "cell_type": "code",
   "execution_count": 15,
   "metadata": {},
   "outputs": [
    {
     "data": {
      "text/plain": [
       "[<matplotlib.lines.Line2D at 0x7fcb8036a340>]"
      ]
     },
     "execution_count": 15,
     "metadata": {},
     "output_type": "execute_result"
    },
    {
     "data": {
      "image/png": "[encoded data removed]",
      "text/plain": [
       "<Figure size 432x288 with 1 Axes>"
      ]
     },
     "metadata": {
      "needs_background": "light"
     },
     "output_type": "display_data"
    }
   ],
   "source": [
    "fig, ax = plt.subplots()\n",
    "ax.plot(losses_mbgd)\n"
   ]
  },
  {
   "cell_type": "markdown",
   "metadata": {
    "id": "F2JfadGJU5ou"
   },
   "source": [
    "### Expectation-Maximization"
   ]
  },
  {
   "cell_type": "code",
   "execution_count": 16,
   "metadata": {
    "colab": {
     "base_uri": "https://localhost:8080/",
     "height": 49,
     "referenced_widgets": [
      "a6661b33a9cf43b88661aa6f949729c7",
      "ef7a8536ff6e4150b59eed7004c51237",
      "0ffb051f905247f1b6db05a048c4bc3e",
      "144622e50d90407c94299fc3f469e335",
      "12f2ee3769f346c6b45da0a8553803ce",
      "a795e07989ee4ecca34815774d28b69f",
      "a63db7bf259b4a268f9f410260ea7f67",
      "5e6e1988f38948ec82d864605cbe5c3e",
      "a265ff2fdc4b42f19d1e459b29be64a8",
      "5fe9cbcf692c472b869a9048a5ff03a1",
      "4045d83958a94133846c9b975ea19a25"
     ]
    },
    "id": "a41s1Ac4U8hA",
    "outputId": "be67160e-925f-4e73-9d82-6951aea3bcf5"
   },
   "outputs": [
    {
     "name": "stdout",
     "output_type": "stream",
     "text": [
      "parameters before learning\n",
      "initial dist: \n",
      "['0.035,', '0.965,']\n",
      "transition matrix\n",
      "['0.032,', '0.968,']\n",
      "['0.430,', '0.570,']\n",
      "emission matrix\n",
      "['0.112,', '0.241,', '0.038,', '0.039,', '0.499,', '0.070,']\n",
      "['0.145,', '0.085,', '0.017,', '0.191,', '0.082,', '0.479,']\n"
     ]
    },
    {
     "name": "stderr",
     "output_type": "stream",
     "text": [
      "100%|██████████| 400/400 [00:02<00:00, 180.49it/s]\n"
     ]
    },
    {
     "name": "stdout",
     "output_type": "stream",
     "text": [
      "parameters after learning\n",
      "initial dist: \n",
      "['0.362,', '0.638,']\n",
      "transition matrix\n",
      "['0.073,', '0.927,']\n",
      "['0.358,', '0.642,']\n",
      "emission matrix\n",
      "['0.024,', '0.212,', '0.103,', '0.177,', '0.221,', '0.264,']\n",
      "['0.196,', '0.124,', '0.162,', '0.131,', '0.112,', '0.275,']\n"
     ]
    }
   ],
   "source": [
    "key = jr.PRNGKey(3)\n",
    "em_params, em_param_props = hmm.initialize(key)\n",
    "\n",
    "print('parameters before learning')\n",
    "print_params(em_params)\n",
    "\n",
    "em_params, log_liks = hmm.fit_em(em_params, \n",
    "                                 em_param_props, \n",
    "                                 batch_emissions.reshape(-1, 1), \n",
    "                                 num_iters=num_epochs)\n",
    "losses_em = -log_liks / batch_emissions.size # divide by (num sequences * num time steps), so scale is comparable to sgd\n",
    "\n",
    "print('parameters after learning')\n",
    "print_params(em_params)"
   ]
  },
  {
   "cell_type": "code",
   "execution_count": 17,
   "metadata": {},
   "outputs": [
    {
     "data": {
      "text/plain": [
       "[<matplotlib.lines.Line2D at 0x7fcbc1828730>]"
      ]
     },
     "execution_count": 17,
     "metadata": {},
     "output_type": "execute_result"
    },
    {
     "data": {
      "image/png": "[encoded data removed]",
      "text/plain": [
       "<Figure size 432x288 with 1 Axes>"
      ]
     },
     "metadata": {
      "needs_background": "light"
     },
     "output_type": "display_data"
    }
   ],
   "source": [
    "fig, ax = plt.subplots()\n",
    "ax.plot(losses_em[:10])"
   ]
  }
 ],
 "metadata": {
  "colab": {
   "collapsed_sections": [],
   "name": "casino_demo.ipynb",
   "provenance": []
  },
  "kernelspec": {
   "display_name": "Python 3.9.6",
   "language": "python",
   "name": "python3"
  },
  "language_info": {
   "codemirror_mode": {
    "name": "ipython",
    "version": 3
   },
   "file_extension": ".py",
   "mimetype": "text/x-python",
   "name": "python",
   "nbconvert_exporter": "python",
   "pygments_lexer": "ipython3",
   "version": "3.9.6"
  },
  "vscode": {
   "interpreter": {
    "hash": "92401d49bd83f70620e540b668b7091047c2ca041ed5ff6cc3954130de9aa1fc"
   }
  },
  "widgets": {
   "application/vnd.jupyter.widget-state+json": {
    "0ffb051f905247f1b6db05a048c4bc3e": {
     "model_module": "@jupyter-widgets/controls",
     "model_module_version": "1.5.0",
     "model_name": "FloatProgressModel",
     "state": {
      "_dom_classes": [],
      "_model_module": "@jupyter-widgets/controls",
      "_model_module_version": "1.5.0",
      "_model_name": "FloatProgressModel",
      "_view_count": null,
      "_view_module": "@jupyter-widgets/controls",
      "_view_module_version": "1.5.0",
      "_view_name": "ProgressView",
      "bar_style": "success",
      "description": "",
      "description_tooltip": null,
      "layout": "IPY_MODEL_5e6e1988f38948ec82d864605cbe5c3e",
      "max": 200,
      "min": 0,
      "orientation": "horizontal",
      "style": "IPY_MODEL_a265ff2fdc4b42f19d1e459b29be64a8",
      "value": 200
     }
    },
    "12f2ee3769f346c6b45da0a8553803ce": {
     "model_module": "@jupyter-widgets/base",
     "model_module_version": "1.2.0",
     "model_name": "LayoutModel",
     "state": {
      "_model_module": "@jupyter-widgets/base",
      "_model_module_version": "1.2.0",
      "_model_name": "LayoutModel",
      "_view_count": null,
      "_view_module": "@jupyter-widgets/base",
      "_view_module_version": "1.2.0",
      "_view_name": "LayoutView",
      "align_content": null,
      "align_items": null,
      "align_self": null,
      "border": null,
      "bottom": null,
      "display": null,
      "flex": null,
      "flex_flow": null,
      "grid_area": null,
      "grid_auto_columns": null,
      "grid_auto_flow": null,
      "grid_auto_rows": null,
      "grid_column": null,
      "grid_gap": null,
      "grid_row": null,
      "grid_template_areas": null,
      "grid_template_columns": null,
      "grid_template_rows": null,
      "height": null,
      "justify_content": null,
      "justify_items": null,
      "left": null,
      "margin": null,
      "max_height": null,
      "max_width": null,
      "min_height": null,
      "min_width": null,
      "object_fit": null,
      "object_position": null,
      "order": null,
      "overflow": null,
      "overflow_x": null,
      "overflow_y": null,
      "padding": null,
      "right": null,
      "top": null,
      "visibility": null,
      "width": null
     }
    },
    "144622e50d90407c94299fc3f469e335": {
     "model_module": "@jupyter-widgets/controls",
     "model_module_version": "1.5.0",
     "model_name": "HTMLModel",
     "state": {
      "_dom_classes": [],
      "_model_module": "@jupyter-widgets/controls",
      "_model_module_version": "1.5.0",
      "_model_name": "HTMLModel",
      "_view_count": null,
      "_view_module": "@jupyter-widgets/controls",
      "_view_module_version": "1.5.0",
      "_view_name": "HTMLView",
      "description": "",
      "description_tooltip": null,
      "layout": "IPY_MODEL_5fe9cbcf692c472b869a9048a5ff03a1",
      "placeholder": "​",
      "style": "IPY_MODEL_4045d83958a94133846c9b975ea19a25",
      "value": " 200/200 [00:02&lt;00:00, 166.95it/s]"
     }
    },
    "4045d83958a94133846c9b975ea19a25": {
     "model_module": "@jupyter-widgets/controls",
     "model_module_version": "1.5.0",
     "model_name": "DescriptionStyleModel",
     "state": {
      "_model_module": "@jupyter-widgets/controls",
      "_model_module_version": "1.5.0",
      "_model_name": "DescriptionStyleModel",
      "_view_count": null,
      "_view_module": "@jupyter-widgets/base",
      "_view_module_version": "1.2.0",
      "_view_name": "StyleView",
      "description_width": ""
     }
    },
    "5e6e1988f38948ec82d864605cbe5c3e": {
     "model_module": "@jupyter-widgets/base",
     "model_module_version": "1.2.0",
     "model_name": "LayoutModel",
     "state": {
      "_model_module": "@jupyter-widgets/base",
      "_model_module_version": "1.2.0",
      "_model_name": "LayoutModel",
      "_view_count": null,
      "_view_module": "@jupyter-widgets/base",
      "_view_module_version": "1.2.0",
      "_view_name": "LayoutView",
      "align_content": null,
      "align_items": null,
      "align_self": null,
      "border": null,
      "bottom": null,
      "display": null,
      "flex": null,
      "flex_flow": null,
      "grid_area": null,
      "grid_auto_columns": null,
      "grid_auto_flow": null,
      "grid_auto_rows": null,
      "grid_column": null,
      "grid_gap": null,
      "grid_row": null,
      "grid_template_areas": null,
      "grid_template_columns": null,
      "grid_template_rows": null,
      "height": null,
      "justify_content": null,
      "justify_items": null,
      "left": null,
      "margin": null,
      "max_height": null,
      "max_width": null,
      "min_height": null,
      "min_width": null,
      "object_fit": null,
      "object_position": null,
      "order": null,
      "overflow": null,
      "overflow_x": null,
      "overflow_y": null,
      "padding": null,
      "right": null,
      "top": null,
      "visibility": null,
      "width": null
     }
    },
    "5fe9cbcf692c472b869a9048a5ff03a1": {
     "model_module": "@jupyter-widgets/base",
     "model_module_version": "1.2.0",
     "model_name": "LayoutModel",
     "state": {
      "_model_module": "@jupyter-widgets/base",
      "_model_module_version": "1.2.0",
      "_model_name": "LayoutModel",
      "_view_count": null,
      "_view_module": "@jupyter-widgets/base",
      "_view_module_version": "1.2.0",
      "_view_name": "LayoutView",
      "align_content": null,
      "align_items": null,
      "align_self": null,
      "border": null,
      "bottom": null,
      "display": null,
      "flex": null,
      "flex_flow": null,
      "grid_area": null,
      "grid_auto_columns": null,
      "grid_auto_flow": null,
      "grid_auto_rows": null,
      "grid_column": null,
      "grid_gap": null,
      "grid_row": null,
      "grid_template_areas": null,
      "grid_template_columns": null,
      "grid_template_rows": null,
      "height": null,
      "justify_content": null,
      "justify_items": null,
      "left": null,
      "margin": null,
      "max_height": null,
      "max_width": null,
      "min_height": null,
      "min_width": null,
      "object_fit": null,
      "object_position": null,
      "order": null,
      "overflow": null,
      "overflow_x": null,
      "overflow_y": null,
      "padding": null,
      "right": null,
      "top": null,
      "visibility": null,
      "width": null
     }
    },
    "a265ff2fdc4b42f19d1e459b29be64a8": {
     "model_module": "@jupyter-widgets/controls",
     "model_module_version": "1.5.0",
     "model_name": "ProgressStyleModel",
     "state": {
      "_model_module": "@jupyter-widgets/controls",
      "_model_module_version": "1.5.0",
      "_model_name": "ProgressStyleModel",
      "_view_count": null,
      "_view_module": "@jupyter-widgets/base",
      "_view_module_version": "1.2.0",
      "_view_name": "StyleView",
      "bar_color": null,
      "description_width": ""
     }
    },
    "a63db7bf259b4a268f9f410260ea7f67": {
     "model_module": "@jupyter-widgets/controls",
     "model_module_version": "1.5.0",
     "model_name": "DescriptionStyleModel",
     "state": {
      "_model_module": "@jupyter-widgets/controls",
      "_model_module_version": "1.5.0",
      "_model_name": "DescriptionStyleModel",
      "_view_count": null,
      "_view_module": "@jupyter-widgets/base",
      "_view_module_version": "1.2.0",
      "_view_name": "StyleView",
      "description_width": ""
     }
    },
    "a6661b33a9cf43b88661aa6f949729c7": {
     "model_module": "@jupyter-widgets/controls",
     "model_module_version": "1.5.0",
     "model_name": "HBoxModel",
     "state": {
      "_dom_classes": [],
      "_model_module": "@jupyter-widgets/controls",
      "_model_module_version": "1.5.0",
      "_model_name": "HBoxModel",
      "_view_count": null,
      "_view_module": "@jupyter-widgets/controls",
      "_view_module_version": "1.5.0",
      "_view_name": "HBoxView",
      "box_style": "",
      "children": [
       "IPY_MODEL_ef7a8536ff6e4150b59eed7004c51237",
       "IPY_MODEL_0ffb051f905247f1b6db05a048c4bc3e",
       "IPY_MODEL_144622e50d90407c94299fc3f469e335"
      ],
      "layout": "IPY_MODEL_12f2ee3769f346c6b45da0a8553803ce"
     }
    },
    "a795e07989ee4ecca34815774d28b69f": {
     "model_module": "@jupyter-widgets/base",
     "model_module_version": "1.2.0",
     "model_name": "LayoutModel",
     "state": {
      "_model_module": "@jupyter-widgets/base",
      "_model_module_version": "1.2.0",
      "_model_name": "LayoutModel",
      "_view_count": null,
      "_view_module": "@jupyter-widgets/base",
      "_view_module_version": "1.2.0",
      "_view_name": "LayoutView",
      "align_content": null,
      "align_items": null,
      "align_self": null,
      "border": null,
      "bottom": null,
      "display": null,
      "flex": null,
      "flex_flow": null,
      "grid_area": null,
      "grid_auto_columns": null,
      "grid_auto_flow": null,
      "grid_auto_rows": null,
      "grid_column": null,
      "grid_gap": null,
      "grid_row": null,
      "grid_template_areas": null,
      "grid_template_columns": null,
      "grid_template_rows": null,
      "height": null,
      "justify_content": null,
      "justify_items": null,
      "left": null,
      "margin": null,
      "max_height": null,
      "max_width": null,
      "min_height": null,
      "min_width": null,
      "object_fit": null,
      "object_position": null,
      "order": null,
      "overflow": null,
      "overflow_x": null,
      "overflow_y": null,
      "padding": null,
      "right": null,
      "top": null,
      "visibility": null,
      "width": null
     }
    },
    "ef7a8536ff6e4150b59eed7004c51237": {
     "model_module": "@jupyter-widgets/controls",
     "model_module_version": "1.5.0",
     "model_name": "HTMLModel",
     "state": {
      "_dom_classes": [],
      "_model_module": "@jupyter-widgets/controls",
      "_model_module_version": "1.5.0",
      "_model_name": "HTMLModel",
      "_view_count": null,
      "_view_module": "@jupyter-widgets/controls",
      "_view_module_version": "1.5.0",
      "_view_name": "HTMLView",
      "description": "",
      "description_tooltip": null,
      "layout": "IPY_MODEL_a795e07989ee4ecca34815774d28b69f",
      "placeholder": "​",
      "style": "IPY_MODEL_a63db7bf259b4a268f9f410260ea7f67",
      "value": "100%"
     }
    }
   }
  }
 },
 "nbformat": 4,
 "nbformat_minor": 4
}
