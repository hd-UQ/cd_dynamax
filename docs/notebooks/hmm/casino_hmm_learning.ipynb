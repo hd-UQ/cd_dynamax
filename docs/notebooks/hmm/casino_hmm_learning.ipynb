{
 "cells": [
  {
   "cell_type": "markdown",
   "metadata": {
    "id": "vztgLkUUYzdW"
   },
   "source": [
    "# Casino HMM: learning (parameter estimation)\n",
    "\n",
    "This notebook continues the \"occasionally dishonest casino\" example from the preceding notebook.\n",
    "There, we assumed we knew the parameters of the model: the probability of switching between fair and loaded dice and the probabilities of the different outcomes (1,...,6) for each die. \n",
    "\n",
    "Here, our goal is **learn these parameters from data**.  We will sample data from the model as before, but now we will estimate the parameters using eith stochastic gradient descent (SGD) or expectation-maximization (EM).\n",
    "\n",
    "The figure below shows the _graphical model_, complete with the parameter nodes.\n",
    "<p align=\"center\">\n",
    "  <img src=\"https://github.com/probml/dynamax/blob/main/docs/figures/hmmDgmPlatesY.png?raw=true\">\n",
    "</p>\n",
    "The filled in nodes are those which are observed (i.e. the emissions), and the unfilled nodes are ones that must be inferred (i.e. the latent states and parameters).  \n",
    "\n",
    "In Dynamax, the [`CategoricalHMM`](https://probml.github.io/dynamax/api.html#dynamax.hidden_markov_model.CategoricalHMM) assumes conjugate, Dirichlet prior distributions on the model parameters. Let $K$ denote the number of discrete states ($K=2$ in the casino example, either fair or loaded), and let $C$ the number of categories the emissions can assume ($C=6$ in the casino example, the number of faces of each die). The priors are:\n",
    "\\begin{align*}\n",
    "\\pi &\\sim \\mathrm{Dir}(\\alpha 1_K) \\\\\n",
    "A_k &\\sim \\mathrm{Dir}(\\beta 1_K) \\quad \\text{for } k=1,\\ldots, K \\\\\n",
    "B_k &\\sim \\mathrm{Dir}(\\gamma 1_C) \\quad \\text{for } k=1,\\ldots, K\n",
    "\\end{align*}\n",
    "Thus, the full prior distribution is,\n",
    "\\begin{align*}\n",
    "p(\\theta) &= \\mathrm{Dir}(\\pi \\mid \\alpha 1_K) \\prod_{k=1}^K \\mathrm{Dir}(A_k \\mid \\beta 1_K) \\, \\mathrm{Dir}(B_k \\mid \\gamma 1_C)\n",
    "\\end{align*}\n",
    "The hyperparameters can be specified in the [`CategoricalHMM`](https://probml.github.io/dynamax/api.html#dynamax.hidden_markov_model.CategoricalHMM) constructor..\n",
    "\n",
    "The **learning objective** is to find parameters tham maximize the marginal probability,\n",
    "\\begin{align*}\n",
    "\\theta^\\star &= \\text{arg max}_{\\theta} \\; p(\\theta \\mid y_{1:T}) \\\\\n",
    "&= \\text{arg max}_{\\theta} \\; p(\\theta, y_{1:T})\n",
    "\\end{align*}\n",
    "This is called the _maximum a posteriori_ (MAP) estimate. Dynamax supports two algorithms for MAP estimation: expectation-maximization (EM) and stochastic gradient descent (SGD), which are described below."
   ]
  },
  {
   "cell_type": "markdown",
   "metadata": {
    "id": "w7B-x7WeTTQE"
   },
   "source": [
    "## Setup"
   ]
  },
  {
   "cell_type": "code",
   "execution_count": 1,
   "metadata": {
    "id": "qf_3RpxOAKX2",
    "tags": [
     "hide-cell"
    ]
   },
   "outputs": [],
   "source": [
    "try:\n",
    "    import dynamax\n",
    "except ModuleNotFoundError:\n",
    "    print('installing dynamax')\n",
    "    %pip install -q dynamax[notebooks]\n",
    "    import dynamax"
   ]
  },
  {
   "cell_type": "code",
   "execution_count": 2,
   "metadata": {
    "id": "PCkq4m5GTNLk"
   },
   "outputs": [],
   "source": [
    "from functools import partial\n",
    "\n",
    "import jax.numpy as jnp\n",
    "import jax.random as jr\n",
    "import matplotlib.pyplot as plt\n",
    "import optax\n",
    "from jax import vmap\n",
    "\n",
    "from dynamax.hidden_markov_model import CategoricalHMM"
   ]
  },
  {
   "cell_type": "markdown",
   "metadata": {
    "id": "pSqK6MOKTpsH"
   },
   "source": [
    "## Sample data from true model\n",
    "\n",
    "First we construct an HMM and sample data from it, just as in the preceding notebook."
   ]
  },
  {
   "cell_type": "code",
   "execution_count": 3,
   "metadata": {},
   "outputs": [],
   "source": [
    "num_states = 2      # two types of dice (fair and loaded)\n",
    "num_emissions = 1   # only one die is rolled at a time\n",
    "num_classes = 6     # each die has six faces\n",
    "\n",
    "initial_probs = jnp.array([0.5, 0.5])\n",
    "transition_matrix = jnp.array([[0.95, 0.05], \n",
    "                               [0.10, 0.90]])\n",
    "emission_probs = jnp.array([[1/6,  1/6,  1/6,  1/6,  1/6,  1/6],    # fair die\n",
    "                            [1/10, 1/10, 1/10, 1/10, 1/10, 5/10]])  # loaded die\n",
    "\n",
    "\n",
    "# Construct the HMM\n",
    "hmm = CategoricalHMM(num_states, num_emissions, num_classes)\n",
    "\n",
    "# Initialize the parameters struct with known values\n",
    "params, _ = hmm.initialize(initial_probs=initial_probs,\n",
    "                           transition_matrix=transition_matrix,\n",
    "                           emission_probs=emission_probs.reshape(num_states, num_emissions, num_classes))"
   ]
  },
  {
   "cell_type": "code",
   "execution_count": 4,
   "metadata": {
    "id": "IDSgrui8T0yD"
   },
   "outputs": [
    {
     "name": "stdout",
     "output_type": "stream",
     "text": [
      "batch_states.shape: (5, 5000)\n",
      "batch_emissions.shape: (5, 5000, 1)\n"
     ]
    }
   ],
   "source": [
    "num_batches = 5\n",
    "num_timesteps = 5000\n",
    "hmm = CategoricalHMM(num_states, num_emissions, num_classes)\n",
    "\n",
    "batch_states, batch_emissions = \\\n",
    "    vmap(partial(hmm.sample, params, num_timesteps=num_timesteps))(\n",
    "        jr.split(jr.PRNGKey(42), num_batches))\n",
    "\n",
    "print(f\"batch_states.shape:    {batch_states.shape}\") \n",
    "print(f\"batch_emissions.shape: {batch_emissions.shape}\") "
   ]
  },
  {
   "cell_type": "markdown",
   "metadata": {},
   "source": [
    "We'll write a simple function to print the parameters in a more digestible format."
   ]
  },
  {
   "cell_type": "code",
   "execution_count": 5,
   "metadata": {},
   "outputs": [
    {
     "name": "stdout",
     "output_type": "stream",
     "text": [
      "initial probs:\n",
      "[0.500 0.500]\n",
      "transition matrix:\n",
      "[[0.950 0.050]\n",
      " [0.100 0.900]]\n",
      "emission probs:\n",
      "[[0.167 0.167 0.167 0.167 0.167 0.167]\n",
      " [0.100 0.100 0.100 0.100 0.100 0.500]]\n"
     ]
    }
   ],
   "source": [
    "def print_params(params):\n",
    "    jnp.set_printoptions(formatter={'float': lambda x: \"{0:0.3f}\".format(x)})\n",
    "    print(\"initial probs:\")\n",
    "    print(params.initial.probs)\n",
    "    print(\"transition matrix:\")\n",
    "    print(params.transitions.transition_matrix)\n",
    "    print(\"emission probs:\")\n",
    "    print(params.emissions.probs[:, 0, :]) # since num_emissions = 1\n",
    "    \n",
    "print_params(params)"
   ]
  },
  {
   "cell_type": "markdown",
   "metadata": {
    "id": "bjKQZI8VUbud"
   },
   "source": [
    "## Learning with Gradient Descent\n",
    "\n",
    "Perhaps the simplest learning algorithm is to directly maximize the marginal probability with gradient ascent. Since optimization algorithms are typically formulated as _minimization_ algorithms, we will instead use gradient _descent_ to solve the equivalent problem of _minimizing the negative log marginal probability_, $-\\log p(y_{1:T}, \\theta)$. On each iteration, we compute the objective, take its gradient, and update our parameters by taking a step in the direction of steepest descent. \n",
    "\n",
    "```{note}\n",
    "Even though JAX code looks just like regular numpy code, it supports automatic differentiation, making gradient descent straightforward to implement.\n",
    "```\n",
    "\n",
    "The first step is to randomly initialize new parameters. You can do that by calling `hmm.initialize(key)`,\n",
    "where `key` is a JAX pseudorandom number generator (PRNG) key. When no other keyword arguments are supplied, this function will return parameters randomly sampled from the prior."
   ]
  },
  {
   "cell_type": "code",
   "execution_count": 14,
   "metadata": {},
   "outputs": [
    {
     "name": "stdout",
     "output_type": "stream",
     "text": [
      "Randomly initialized parameters\n",
      "initial probs:\n",
      "[0.653 0.347]\n",
      "transition matrix:\n",
      "[[0.383 0.617]\n",
      " [0.172 0.828]]\n",
      "emission probs:\n",
      "[[0.176 0.211 0.269 0.106 0.074 0.164]\n",
      " [0.155 0.175 0.093 0.057 0.078 0.442]]\n"
     ]
    }
   ],
   "source": [
    "key = jr.PRNGKey(3)\n",
    "fbgd_params, fbgd_props = hmm.initialize(key)\n",
    "\n",
    "print(\"Randomly initialized parameters\")\n",
    "print_params(fbgd_params)"
   ]
  },
  {
   "cell_type": "markdown",
   "metadata": {},
   "source": [
    "```{note}\n",
    "Notice that `initialize` returns two things, the parameters and their properties. Among other things, the properties allow you to specify which parameters should be learned. You can set the `trainable` flag to False if you want to fix certain parmeters.\n",
    "```"
   ]
  },
  {
   "cell_type": "markdown",
   "metadata": {
    "id": "_b2UfLnCUWMD"
   },
   "source": [
    "### Gradient descent is a special case of _stochastic_ gradient descent\n",
    "\n",
    "Gradient descent is a special case of stochastic gradient descent (SGD) in which each iteration uses all the data to compute the descent direction for parameter updates. In contrast, SGD uses only a _minibatch_ of data in each update. You can think of gradient descent as the special case where the minibatch is really the entire dataset. That's why we sometimes call it _full batch_ gradient descent. When you're working with very large datasets (e.g. datasets with many sequences), however, minibatches can be very informative, and SGD can converge more quickly than full batch gradient descent. \n",
    "\n",
    "Dynamax models have a `fit_sgd` function that runs SGD. If you want to run full batch gradient descent, all you have to do set `batch_size=num_batches`, as below."
   ]
  },
  {
   "cell_type": "code",
   "execution_count": 7,
   "metadata": {
    "id": "tooveAHeUR4b"
   },
   "outputs": [],
   "source": [
    "fbgd_key, key = jr.split(key)\n",
    "fbgd_params, fbgd_losses = hmm.fit_sgd(fbgd_params, \n",
    "                                       fbgd_props, \n",
    "                                       batch_emissions, \n",
    "                                       optimizer=optax.sgd(learning_rate=1e-2, momentum=0.95),\n",
    "                                       batch_size=num_batches, \n",
    "                                       num_epochs=400, \n",
    "                                       key=fbgd_key)"
   ]
  },
  {
   "cell_type": "markdown",
   "metadata": {
    "id": "II8lqqdSUKbt"
   },
   "source": [
    "### Stochastic Gradient Descent with Mini-Batches\n",
    "\n",
    "Now let's run it with stochastic gradient descent using a batch size of two sequences per mini-batch. "
   ]
  },
  {
   "cell_type": "code",
   "execution_count": 8,
   "metadata": {
    "id": "x6L5NPatUJ1s"
   },
   "outputs": [],
   "source": [
    "key = jr.PRNGKey(3)\n",
    "sgd_params, sgd_param_props = hmm.initialize(key)\n",
    "sgd_key, key = jr.split(key)\n",
    "sgd_params, sgd_losses = hmm.fit_sgd(sgd_params, \n",
    "                                     sgd_param_props, \n",
    "                                     batch_emissions, \n",
    "                                     optimizer=optax.sgd(learning_rate=1e-2, momentum=0.95),\n",
    "                                     batch_size=2, \n",
    "                                     num_epochs=400, \n",
    "                                     key=sgd_key)"
   ]
  },
  {
   "cell_type": "code",
   "execution_count": 9,
   "metadata": {},
   "outputs": [
    {
     "data": {
      "text/plain": [
       "Text(0.5, 1.0, 'Full Batch Gradient Descent Learning Curve')"
      ]
     },
     "execution_count": 9,
     "metadata": {},
     "output_type": "execute_result"
    },
    {
     "data": {
      "image/png": "[encoded data removed]",
      "text/plain": [
       "<Figure size 432x288 with 1 Axes>"
      ]
     },
     "metadata": {
      "needs_background": "light"
     },
     "output_type": "display_data"
    }
   ],
   "source": [
    "plt.plot(fbgd_losses, label=\"full batch GD\")\n",
    "plt.plot(sgd_losses, label=\"SGD (mini-batch size = 2)\")\n",
    "plt.legend()\n",
    "plt.xlabel(\"epoch\")\n",
    "plt.ylabel(\"loss\")\n",
    "_ = plt.title(\"Full Batch Gradient Descent Learning Curve\")"
   ]
  },
  {
   "cell_type": "markdown",
   "metadata": {},
   "source": [
    "As you can see, stochastic gradient descent converges much more quickly that full-batch gradient descent in this example. Intuitively, that's because SGD takes multiple steps per _epoch_ (i.e. each complete sweep through the dataset), whereas full-batch gradient descent takes only one."
   ]
  },
  {
   "cell_type": "markdown",
   "metadata": {},
   "source": [
    "The algorithms appear to have converged, but have they learned the correct parameters? Let's see..."
   ]
  },
  {
   "cell_type": "code",
   "execution_count": 10,
   "metadata": {},
   "outputs": [
    {
     "name": "stdout",
     "output_type": "stream",
     "text": [
      "Full batch gradient descent params:\n",
      "initial probs:\n",
      "[0.662 0.338]\n",
      "transition matrix:\n",
      "[[0.938 0.062]\n",
      " [0.025 0.975]]\n",
      "emission probs:\n",
      "[[0.183 0.158 0.183 0.232 0.206 0.038]\n",
      " [0.144 0.147 0.140 0.133 0.134 0.302]]\n",
      "\n",
      "Stochastic gradient descent params:\n",
      "initial probs:\n",
      "[0.658 0.342]\n",
      "transition matrix:\n",
      "[[0.905 0.095]\n",
      " [0.024 0.976]]\n",
      "emission probs:\n",
      "[[0.180 0.205 0.193 0.187 0.194 0.041]\n",
      " [0.145 0.139 0.129 0.131 0.135 0.321]]\n"
     ]
    }
   ],
   "source": [
    "# Print the paramters after learning\n",
    "print(\"Full batch gradient descent params:\")\n",
    "print_params(fbgd_params)\n",
    "print(\"\")\n",
    "print(\"Stochastic gradient descent params:\")\n",
    "print_params(sgd_params)"
   ]
  },
  {
   "cell_type": "markdown",
   "metadata": {},
   "source": [
    "Close, but not perfect!"
   ]
  },
  {
   "cell_type": "markdown",
   "metadata": {
    "id": "F2JfadGJU5ou"
   },
   "source": [
    "### Expectation-Maximization\n",
    "\n",
    "The more traditional way to estimate the parameters of an HMM is by expectation-maximization (EM). EM alternates between two steps:\n",
    "- **E-step:** Inferring the posterior distribution of latent states $z_{1:T}$ given the parameters $\\theta = (\\pi, A, B)$. This step essentially runs the HMM forward-backward algorithm from the preceding notebook!\n",
    "- **M-step:** Updating the parameters to maximize the expected log probability.\n",
    "By iteratively performing these two steps, the algorithm converges to a local maximum of the marginal probability, $p(y_{1:T}, \\theta)$, and hence to a MAP estimate of the parameters.\n",
    "\n",
    "In practice, EM often converges much quicker than SGD, especially when the models are \"nice\" (e.g. constructed with exponential family emission distributions). That is why dynamax has closed form M-steps for a variety of HMMs."
   ]
  },
  {
   "cell_type": "code",
   "execution_count": 11,
   "metadata": {
    "colab": {
     "base_uri": "https://localhost:8080/",
     "height": 49,
     "referenced_widgets": [
      "a6661b33a9cf43b88661aa6f949729c7",
      "ef7a8536ff6e4150b59eed7004c51237",
      "0ffb051f905247f1b6db05a048c4bc3e",
      "144622e50d90407c94299fc3f469e335",
      "12f2ee3769f346c6b45da0a8553803ce",
      "a795e07989ee4ecca34815774d28b69f",
      "a63db7bf259b4a268f9f410260ea7f67",
      "5e6e1988f38948ec82d864605cbe5c3e",
      "a265ff2fdc4b42f19d1e459b29be64a8",
      "5fe9cbcf692c472b869a9048a5ff03a1",
      "4045d83958a94133846c9b975ea19a25"
     ]
    },
    "id": "a41s1Ac4U8hA",
    "outputId": "be67160e-925f-4e73-9d82-6951aea3bcf5"
   },
   "outputs": [
    {
     "data": {
      "text/html": [
       "\n",
       "<style>\n",
       "    /* Turns off some styling */\n",
       "    progress {\n",
       "        /* gets rid of default border in Firefox and Opera. */\n",
       "        border: none;\n",
       "        /* Needs to be in here for Safari polyfill so background images work as expected. */\n",
       "        background-size: auto;\n",
       "    }\n",
       "    progress:not([value]), progress:not([value])::-webkit-progress-bar {\n",
       "        background: repeating-linear-gradient(45deg, #7e7e7e, #7e7e7e 10px, #5c5c5c 10px, #5c5c5c 20px);\n",
       "    }\n",
       "    .progress-bar-interrupted, .progress-bar-interrupted::-webkit-progress-bar {\n",
       "        background: #F44336;\n",
       "    }\n",
       "</style>\n"
      ],
      "text/plain": [
       "<IPython.core.display.HTML object>"
      ]
     },
     "metadata": {},
     "output_type": "display_data"
    },
    {
     "data": {
      "text/html": [
       "\n",
       "    <div>\n",
       "      <progress value='400' class='' max='400' style='width:300px; height:20px; vertical-align: middle;'></progress>\n",
       "      100.00% [400/400 00:01&lt;00:00]\n",
       "    </div>\n",
       "    "
      ],
      "text/plain": [
       "<IPython.core.display.HTML object>"
      ]
     },
     "metadata": {},
     "output_type": "display_data"
    }
   ],
   "source": [
    "key = jr.PRNGKey(3)\n",
    "em_params, em_param_props = hmm.initialize(key)\n",
    "em_params, log_probs = hmm.fit_em(em_params, \n",
    "                                  em_param_props, \n",
    "                                  batch_emissions, \n",
    "                                  num_iters=400)"
   ]
  },
  {
   "cell_type": "markdown",
   "metadata": {},
   "source": [
    "### Compare the learning curves\n",
    "\n",
    "Finally, let's compare the learning curve of EM to those of SGD. For comparison, we plot the loss associated with the true parameters that generated the data.\n",
    "\n",
    "```{important}\n",
    "To compare the log probabilities returned by `fit_em` to the losses returned by `fit_SGD`, you need to negate the log probabilities and divide by the total number of emissions. This is because optimization library defaults typically assume the loss is scaled to be $\\mathcal{O}(1)$.\n",
    "```"
   ]
  },
  {
   "cell_type": "code",
   "execution_count": 12,
   "metadata": {},
   "outputs": [
    {
     "data": {
      "image/png": "[encoded data removed]",
      "text/plain": [
       "<Figure size 432x288 with 1 Axes>"
      ]
     },
     "metadata": {
      "needs_background": "light"
     },
     "output_type": "display_data"
    }
   ],
   "source": [
    "# Compute the \"losses\" from EM \n",
    "em_losses = -log_probs / batch_emissions.size \n",
    "\n",
    "# Compute the loss if you used the parameters that generated the data\n",
    "true_loss = vmap(partial(hmm.marginal_log_prob, params))(batch_emissions).sum()\n",
    "true_loss += hmm.log_prior(params)\n",
    "true_loss = -true_loss / batch_emissions.size\n",
    "\n",
    "# Plot the learning curves\n",
    "plt.plot(fbgd_losses, label=\"full batch GD\")\n",
    "plt.plot(sgd_losses, label=\"SGD (mini-batch size = 2)\")\n",
    "plt.plot(em_losses, label=\"EM\")\n",
    "plt.axhline(true_loss, color='k', linestyle=':', label=\"True Params\")\n",
    "plt.legend()\n",
    "plt.xlim(-10, 400)\n",
    "plt.xlabel(\"epoch\")\n",
    "plt.ylabel(\"loss\")\n",
    "_ = plt.title(\"Learning Curve Comparison\")"
   ]
  },
  {
   "cell_type": "markdown",
   "metadata": {},
   "source": [
    "Not only does EM converge much faster on this example (here, in only a handful of iterations), it also converges to a better estimate of the parameters. Indeed, it essentially matches the loss obtained by the parameters that truly generated the data. We see that its parameter estimates are nearly the same as the true parameters."
   ]
  },
  {
   "cell_type": "code",
   "execution_count": 13,
   "metadata": {},
   "outputs": [
    {
     "name": "stdout",
     "output_type": "stream",
     "text": [
      "initial probs:\n",
      "[0.373 0.627]\n",
      "transition matrix:\n",
      "[[0.946 0.054]\n",
      " [0.092 0.908]]\n",
      "emission probs:\n",
      "[[0.171 0.173 0.171 0.164 0.164 0.157]\n",
      " [0.109 0.106 0.101 0.110 0.105 0.469]]\n"
     ]
    }
   ],
   "source": [
    "print_params(em_params)"
   ]
  },
  {
   "cell_type": "markdown",
   "metadata": {},
   "source": [
    "## Conclusion\n",
    "\n",
    "This notebook showed how to learn the parameters of an HMM using SGD (with full batch or with mini-batches) and EM. For many HMMs, especially the exponential family HMMs with exact M-steps implemented in Dynamax, EM tends to converge very quickly.\n",
    "\n",
    "This notebook glossed over some important details:\n",
    "- Both SGD and EM are prone to getting stuck in local optima. For example, if you change the key for the random initialization, you may find that the learned parameters are not as good. There are a few ways around that problem. One is to use a heuristic to initialize the parameters more intelligently. Another is to use many random initializations of the model and keep the one that achieves the best loss.\n",
    "- This notebook did not address the important question of _how to determine the number of discrete states_. We often use cross-validation for that purpose, as described next.\n",
    "\n",
    "So far, we have focused on HMMs with discrete emissions from a categorical distribution. The next notebook will illustrate a Gaussian HMM for continuous data. We will also discuss some of the concerns above."
   ]
  }
 ],
 "metadata": {
  "colab": {
   "collapsed_sections": [],
   "name": "casino_demo.ipynb",
   "provenance": []
  },
  "kernelspec": {
   "display_name": "Python 3.9.6",
   "language": "python",
   "name": "python3"
  },
  "language_info": {
   "codemirror_mode": {
    "name": "ipython",
    "version": 3
   },
   "file_extension": ".py",
   "mimetype": "text/x-python",
   "name": "python",
   "nbconvert_exporter": "python",
   "pygments_lexer": "ipython3",
   "version": "3.9.6"
  },
  "vscode": {
   "interpreter": {
    "hash": "92401d49bd83f70620e540b668b7091047c2ca041ed5ff6cc3954130de9aa1fc"
   }
  },
  "widgets": {
   "application/vnd.jupyter.widget-state+json": {
    "0ffb051f905247f1b6db05a048c4bc3e": {
     "model_module": "@jupyter-widgets/controls",
     "model_module_version": "1.5.0",
     "model_name": "FloatProgressModel",
     "state": {
      "_dom_classes": [],
      "_model_module": "@jupyter-widgets/controls",
      "_model_module_version": "1.5.0",
      "_model_name": "FloatProgressModel",
      "_view_count": null,
      "_view_module": "@jupyter-widgets/controls",
      "_view_module_version": "1.5.0",
      "_view_name": "ProgressView",
      "bar_style": "success",
      "description": "",
      "description_tooltip": null,
      "layout": "IPY_MODEL_5e6e1988f38948ec82d864605cbe5c3e",
      "max": 200,
      "min": 0,
      "orientation": "horizontal",
      "style": "IPY_MODEL_a265ff2fdc4b42f19d1e459b29be64a8",
      "value": 200
     }
    },
    "12f2ee3769f346c6b45da0a8553803ce": {
     "model_module": "@jupyter-widgets/base",
     "model_module_version": "1.2.0",
     "model_name": "LayoutModel",
     "state": {
      "_model_module": "@jupyter-widgets/base",
      "_model_module_version": "1.2.0",
      "_model_name": "LayoutModel",
      "_view_count": null,
      "_view_module": "@jupyter-widgets/base",
      "_view_module_version": "1.2.0",
      "_view_name": "LayoutView",
      "align_content": null,
      "align_items": null,
      "align_self": null,
      "border": null,
      "bottom": null,
      "display": null,
      "flex": null,
      "flex_flow": null,
      "grid_area": null,
      "grid_auto_columns": null,
      "grid_auto_flow": null,
      "grid_auto_rows": null,
      "grid_column": null,
      "grid_gap": null,
      "grid_row": null,
      "grid_template_areas": null,
      "grid_template_columns": null,
      "grid_template_rows": null,
      "height": null,
      "justify_content": null,
      "justify_items": null,
      "left": null,
      "margin": null,
      "max_height": null,
      "max_width": null,
      "min_height": null,
      "min_width": null,
      "object_fit": null,
      "object_position": null,
      "order": null,
      "overflow": null,
      "overflow_x": null,
      "overflow_y": null,
      "padding": null,
      "right": null,
      "top": null,
      "visibility": null,
      "width": null
     }
    },
    "144622e50d90407c94299fc3f469e335": {
     "model_module": "@jupyter-widgets/controls",
     "model_module_version": "1.5.0",
     "model_name": "HTMLModel",
     "state": {
      "_dom_classes": [],
      "_model_module": "@jupyter-widgets/controls",
      "_model_module_version": "1.5.0",
      "_model_name": "HTMLModel",
      "_view_count": null,
      "_view_module": "@jupyter-widgets/controls",
      "_view_module_version": "1.5.0",
      "_view_name": "HTMLView",
      "description": "",
      "description_tooltip": null,
      "layout": "IPY_MODEL_5fe9cbcf692c472b869a9048a5ff03a1",
      "placeholder": "​",
      "style": "IPY_MODEL_4045d83958a94133846c9b975ea19a25",
      "value": " 200/200 [00:02&lt;00:00, 166.95it/s]"
     }
    },
    "4045d83958a94133846c9b975ea19a25": {
     "model_module": "@jupyter-widgets/controls",
     "model_module_version": "1.5.0",
     "model_name": "DescriptionStyleModel",
     "state": {
      "_model_module": "@jupyter-widgets/controls",
      "_model_module_version": "1.5.0",
      "_model_name": "DescriptionStyleModel",
      "_view_count": null,
      "_view_module": "@jupyter-widgets/base",
      "_view_module_version": "1.2.0",
      "_view_name": "StyleView",
      "description_width": ""
     }
    },
    "5e6e1988f38948ec82d864605cbe5c3e": {
     "model_module": "@jupyter-widgets/base",
     "model_module_version": "1.2.0",
     "model_name": "LayoutModel",
     "state": {
      "_model_module": "@jupyter-widgets/base",
      "_model_module_version": "1.2.0",
      "_model_name": "LayoutModel",
      "_view_count": null,
      "_view_module": "@jupyter-widgets/base",
      "_view_module_version": "1.2.0",
      "_view_name": "LayoutView",
      "align_content": null,
      "align_items": null,
      "align_self": null,
      "border": null,
      "bottom": null,
      "display": null,
      "flex": null,
      "flex_flow": null,
      "grid_area": null,
      "grid_auto_columns": null,
      "grid_auto_flow": null,
      "grid_auto_rows": null,
      "grid_column": null,
      "grid_gap": null,
      "grid_row": null,
      "grid_template_areas": null,
      "grid_template_columns": null,
      "grid_template_rows": null,
      "height": null,
      "justify_content": null,
      "justify_items": null,
      "left": null,
      "margin": null,
      "max_height": null,
      "max_width": null,
      "min_height": null,
      "min_width": null,
      "object_fit": null,
      "object_position": null,
      "order": null,
      "overflow": null,
      "overflow_x": null,
      "overflow_y": null,
      "padding": null,
      "right": null,
      "top": null,
      "visibility": null,
      "width": null
     }
    },
    "5fe9cbcf692c472b869a9048a5ff03a1": {
     "model_module": "@jupyter-widgets/base",
     "model_module_version": "1.2.0",
     "model_name": "LayoutModel",
     "state": {
      "_model_module": "@jupyter-widgets/base",
      "_model_module_version": "1.2.0",
      "_model_name": "LayoutModel",
      "_view_count": null,
      "_view_module": "@jupyter-widgets/base",
      "_view_module_version": "1.2.0",
      "_view_name": "LayoutView",
      "align_content": null,
      "align_items": null,
      "align_self": null,
      "border": null,
      "bottom": null,
      "display": null,
      "flex": null,
      "flex_flow": null,
      "grid_area": null,
      "grid_auto_columns": null,
      "grid_auto_flow": null,
      "grid_auto_rows": null,
      "grid_column": null,
      "grid_gap": null,
      "grid_row": null,
      "grid_template_areas": null,
      "grid_template_columns": null,
      "grid_template_rows": null,
      "height": null,
      "justify_content": null,
      "justify_items": null,
      "left": null,
      "margin": null,
      "max_height": null,
      "max_width": null,
      "min_height": null,
      "min_width": null,
      "object_fit": null,
      "object_position": null,
      "order": null,
      "overflow": null,
      "overflow_x": null,
      "overflow_y": null,
      "padding": null,
      "right": null,
      "top": null,
      "visibility": null,
      "width": null
     }
    },
    "a265ff2fdc4b42f19d1e459b29be64a8": {
     "model_module": "@jupyter-widgets/controls",
     "model_module_version": "1.5.0",
     "model_name": "ProgressStyleModel",
     "state": {
      "_model_module": "@jupyter-widgets/controls",
      "_model_module_version": "1.5.0",
      "_model_name": "ProgressStyleModel",
      "_view_count": null,
      "_view_module": "@jupyter-widgets/base",
      "_view_module_version": "1.2.0",
      "_view_name": "StyleView",
      "bar_color": null,
      "description_width": ""
     }
    },
    "a63db7bf259b4a268f9f410260ea7f67": {
     "model_module": "@jupyter-widgets/controls",
     "model_module_version": "1.5.0",
     "model_name": "DescriptionStyleModel",
     "state": {
      "_model_module": "@jupyter-widgets/controls",
      "_model_module_version": "1.5.0",
      "_model_name": "DescriptionStyleModel",
      "_view_count": null,
      "_view_module": "@jupyter-widgets/base",
      "_view_module_version": "1.2.0",
      "_view_name": "StyleView",
      "description_width": ""
     }
    },
    "a6661b33a9cf43b88661aa6f949729c7": {
     "model_module": "@jupyter-widgets/controls",
     "model_module_version": "1.5.0",
     "model_name": "HBoxModel",
     "state": {
      "_dom_classes": [],
      "_model_module": "@jupyter-widgets/controls",
      "_model_module_version": "1.5.0",
      "_model_name": "HBoxModel",
      "_view_count": null,
      "_view_module": "@jupyter-widgets/controls",
      "_view_module_version": "1.5.0",
      "_view_name": "HBoxView",
      "box_style": "",
      "children": [
       "IPY_MODEL_ef7a8536ff6e4150b59eed7004c51237",
       "IPY_MODEL_0ffb051f905247f1b6db05a048c4bc3e",
       "IPY_MODEL_144622e50d90407c94299fc3f469e335"
      ],
      "layout": "IPY_MODEL_12f2ee3769f346c6b45da0a8553803ce"
     }
    },
    "a795e07989ee4ecca34815774d28b69f": {
     "model_module": "@jupyter-widgets/base",
     "model_module_version": "1.2.0",
     "model_name": "LayoutModel",
     "state": {
      "_model_module": "@jupyter-widgets/base",
      "_model_module_version": "1.2.0",
      "_model_name": "LayoutModel",
      "_view_count": null,
      "_view_module": "@jupyter-widgets/base",
      "_view_module_version": "1.2.0",
      "_view_name": "LayoutView",
      "align_content": null,
      "align_items": null,
      "align_self": null,
      "border": null,
      "bottom": null,
      "display": null,
      "flex": null,
      "flex_flow": null,
      "grid_area": null,
      "grid_auto_columns": null,
      "grid_auto_flow": null,
      "grid_auto_rows": null,
      "grid_column": null,
      "grid_gap": null,
      "grid_row": null,
      "grid_template_areas": null,
      "grid_template_columns": null,
      "grid_template_rows": null,
      "height": null,
      "justify_content": null,
      "justify_items": null,
      "left": null,
      "margin": null,
      "max_height": null,
      "max_width": null,
      "min_height": null,
      "min_width": null,
      "object_fit": null,
      "object_position": null,
      "order": null,
      "overflow": null,
      "overflow_x": null,
      "overflow_y": null,
      "padding": null,
      "right": null,
      "top": null,
      "visibility": null,
      "width": null
     }
    },
    "ef7a8536ff6e4150b59eed7004c51237": {
     "model_module": "@jupyter-widgets/controls",
     "model_module_version": "1.5.0",
     "model_name": "HTMLModel",
     "state": {
      "_dom_classes": [],
      "_model_module": "@jupyter-widgets/controls",
      "_model_module_version": "1.5.0",
      "_model_name": "HTMLModel",
      "_view_count": null,
      "_view_module": "@jupyter-widgets/controls",
      "_view_module_version": "1.5.0",
      "_view_name": "HTMLView",
      "description": "",
      "description_tooltip": null,
      "layout": "IPY_MODEL_a795e07989ee4ecca34815774d28b69f",
      "placeholder": "​",
      "style": "IPY_MODEL_a63db7bf259b4a268f9f410260ea7f67",
      "value": "100%"
     }
    }
   }
  }
 },
 "nbformat": 4,
 "nbformat_minor": 4
}
