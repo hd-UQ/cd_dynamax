{
 "cells": [
  {
   "cell_type": "markdown",
   "id": "8a63fcca",
   "metadata": {
    "id": "8a63fcca"
   },
   "source": [
    "# Casino HMM: Inference (state estimation)\n",
    "\n",
    "We use a simple example of an HMM known as the \"occasionally dishonest casino\".\n",
    "This is from the book:\n",
    "\n",
    "> \"Biological Sequence Analysis: Probabilistic Models of Proteins and Nucleic Acids\" by R. Durbin, S. Eddy, A. Krogh and G. Mitchison (1998).\n",
    "\n",
    "Imagine you are playing dice at a shady casino -- an Old West saloon, perhaps. You suspect that one of the players is cheating. Most of the time, they use a standard die in which all six faces are equally probable, but every so often they secretly switch to a weighted die that comes up 6 half the time. To avoid getting caught, they don't switch dice very often: once they switch, they tend to keep using the same die for a while. \n",
    "\n",
    "<p align=\"center\">\n",
    "  <img src=\"https://github.com/probml/dynamax/blob/main/docs/figures/casino.png?raw=true\">\n",
    "</p>\n",
    "\n",
    "The figure above formalizes this game. If the player is rolling the fair die, they continue to do so with 0.95 probability, but they switch to the loaded die with probability 0.05. They continue using the loaded die with probability 0.9, and switch back to the fair die with probability 0.1. \n",
    "\n",
    "**Can you infer which die the player is using on the basis of the outcomes alone?**  We'll show how using a categorical hidden Markov model (HMM) and the `CategoricalHMM` class.\n"
   ]
  },
  {
   "cell_type": "markdown",
   "id": "313ef266",
   "metadata": {},
   "source": [
    "## Setup"
   ]
  },
  {
   "cell_type": "code",
   "execution_count": 1,
   "id": "119f195f",
   "metadata": {
    "tags": [
     "hide-cell"
    ]
   },
   "outputs": [],
   "source": [
    "try:\n",
    "    import dynamax\n",
    "except ModuleNotFoundError:\n",
    "    print('installing dynamax')\n",
    "    %pip install -q dynamax[notebooks]\n",
    "    import dynamax"
   ]
  },
  {
   "cell_type": "code",
   "execution_count": 2,
   "id": "25dc20ab",
   "metadata": {},
   "outputs": [],
   "source": [
    "from functools import partial\n",
    "\n",
    "import jax.numpy as jnp\n",
    "import jax.random as jr\n",
    "import matplotlib.pyplot as plt\n",
    "from jax import vmap\n",
    "from jax.nn import one_hot\n",
    "\n",
    "from dynamax.hidden_markov_model import CategoricalHMM"
   ]
  },
  {
   "cell_type": "markdown",
   "id": "a6a2e524",
   "metadata": {},
   "source": [
    "## Make a Categorical HMM\n",
    "\n",
    "First, we'll construct a categorical hidden Markov model (HMM). The model has discrete latent states $z_t \\in \\{1,2\\}$ to specify which of the two dice is used on the $t$-th roll. You observe the outcomes, or \"emissions,\" $y_t \\in \\{1,\\ldots,6\\}$. The categorical HMM specifies a joint distribution over the latent states and emissions,\n",
    "\n",
    "\\begin{align}\n",
    "p(y_{1:T}, z_{1:T} \\mid \\theta) \n",
    "&= \\mathrm{Cat}(z_1 \\mid \\pi) \n",
    "\\prod_{t=2}^T \\mathrm{Cat}(z_t \\mid A_{z_{t-1}}) \n",
    "\\prod_{t=1}^T \\mathrm{Cat}(y_t \\mid B_{z_t})\n",
    "\\end{align}\n",
    "\n",
    "It's called a _categorical_ HMM because the emissions $y_t$ follow a [categorical distribution](https://en.wikipedia.org/wiki/Categorical_distribution), which we denote by $\\mathrm{Cat}$. The parameters $\\theta = (\\pi, A, B)$ consist of the _initial distribution_ $\\pi$, the _transition matrix_ $A$, and the _emission probabilities_ $B$. The notation $A_{z_t}$ denotes the $z_t$-th row of the matrix $A$, which is a vector of length 2 specifying the distribution over the next state, $z_{t+1}$. Likewise, $B_{z_t}$ denotes the $z_t$-th row of the matrix $B$, which is a vector of length 6 specifying the distribution over outcomes for the corresponding die.\n",
    "\n",
    "In this example, we assume we know all of these parameters. Let's start by instantiating them in code."
   ]
  },
  {
   "cell_type": "code",
   "execution_count": 3,
   "id": "1fc08871",
   "metadata": {},
   "outputs": [
    {
     "name": "stdout",
     "output_type": "stream",
     "text": [
      "A.shape: (2, 2)\n",
      "B.shape: (2, 6)\n"
     ]
    }
   ],
   "source": [
    "initial_probs = jnp.array([0.5, 0.5])\n",
    "transition_matrix = jnp.array([[0.95, 0.05], \n",
    "                               [0.10, 0.90]])\n",
    "emission_probs = jnp.array([[1/6,  1/6,  1/6,  1/6,  1/6,  1/6],    # fair die\n",
    "                            [1/10, 1/10, 1/10, 1/10, 1/10, 5/10]])  # loaded die\n",
    "\n",
    "print(f\"A.shape: {transition_matrix.shape}\")\n",
    "print(f\"B.shape: {emission_probs.shape}\")"
   ]
  },
  {
   "cell_type": "markdown",
   "id": "0510abe4",
   "metadata": {},
   "source": [
    "The `CategoricalHMM` object implements a categorical hidden Markov model. This object actually allows for a more general situation in which you observe many conditionally independent categorical emissions at once. This can lead to a little confusion, so we'll go into some detail on this point. \n",
    "\n",
    "In this example, $z_t$ can take on two values. We call this the _number of states_, and it corresponds to the number of different types of dice the player rolls. In a more general scenario, you could imagine the player rolling multiple dice at once. We call the number of simultaneously rolled dice the _number of emissions_. Finally, we call the number of possible outcomes (i.e. number of faces on each die) the _number of classes_. \n",
    "\n",
    "The code below constructs a `CategoricalHMM` and uses its `initialize` function to create a structure called `params`, which combines the parameters of the model in a format that the model needs for downstream analysis.\n",
    "\n",
    "```{warning}\n",
    "Since the model allows for arbitrary numbers of emissions (again, think number of simultaneously rolled dice), we need to reshape the emission probs to be (num_states x num_emissions x num_classes).\n",
    "```"
   ]
  },
  {
   "cell_type": "code",
   "execution_count": 4,
   "id": "t9ZrTumQjsLN",
   "metadata": {
    "colab": {
     "base_uri": "https://localhost:8080/",
     "height": 990
    },
    "id": "t9ZrTumQjsLN",
    "outputId": "26626071-8890-4ce4-dbc2-5378ddac4e67"
   },
   "outputs": [],
   "source": [
    "num_states = 2      # two types of dice (fair and loaded)\n",
    "num_emissions = 1   # only one die is rolled at a time\n",
    "num_classes = 6     # each die has six faces\n",
    "\n",
    "# Construct the HMM\n",
    "hmm = CategoricalHMM(num_states, num_emissions, num_classes)\n",
    "\n",
    "# Initialize the parameters struct with known values\n",
    "params, _ = hmm.initialize(initial_probs=initial_probs,\n",
    "                           transition_matrix=transition_matrix,\n",
    "                           emission_probs=emission_probs.reshape(num_states, num_emissions, num_classes))"
   ]
  },
  {
   "cell_type": "markdown",
   "id": "861dc91d",
   "metadata": {},
   "source": [
    "`params` organizes the model parameters in the specific way that `CategoricalHMM` expects. Technically, its a [`NamedTuple`](https://docs.python.org/3/library/typing.html#typing.NamedTuple). You can print the params to see how they're organized, but they aren't really meant for human consumption."
   ]
  },
  {
   "cell_type": "code",
   "execution_count": 5,
   "id": "fe62935c",
   "metadata": {},
   "outputs": [
    {
     "name": "stdout",
     "output_type": "stream",
     "text": [
      "ParamsCategoricalHMM(initial=ParamsStandardHMMInitialState(probs=DeviceArray([0.5, 0.5], dtype=float32)), transitions=ParamsStandardHMMTransitions(transition_matrix=DeviceArray([[0.95, 0.05],\n",
      "             [0.1 , 0.9 ]], dtype=float32)), emissions=ParamsCategoricalHMMEmissions(probs=DeviceArray([[[0.16666667, 0.16666667, 0.16666667, 0.16666667,\n",
      "               0.16666667, 0.16666667]],\n",
      "\n",
      "             [[0.1       , 0.1       , 0.1       , 0.1       ,\n",
      "               0.1       , 0.5       ]]], dtype=float32)))\n"
     ]
    }
   ],
   "source": [
    "print(params)"
   ]
  },
  {
   "cell_type": "markdown",
   "id": "321a627e",
   "metadata": {},
   "source": [
    "```{important}\n",
    "The parameters are _immutable_, which means you can't directly edit them, as illustrated below. This is by design: JAX prefers immutable datatypes. (If you're new to JAX, please see [Thinking in JAX](https://jax.readthedocs.io/en/latest/notebooks/thinking_in_jax.html).) Instead, use the `initialize` function to create structures with desired values. \n",
    "```"
   ]
  },
  {
   "cell_type": "code",
   "execution_count": 6,
   "id": "58fa117f",
   "metadata": {},
   "outputs": [
    {
     "name": "stdout",
     "output_type": "stream",
     "text": [
      "Caught exception: can't set attribute\n"
     ]
    }
   ],
   "source": [
    "try:\n",
    "    params.initial.probs = jnp.array([0.75, 0.25])\n",
    "except Exception as e:\n",
    "    print(\"Caught exception:\", e)"
   ]
  },
  {
   "cell_type": "markdown",
   "id": "12c0cff9",
   "metadata": {},
   "source": [
    "```{note}\n",
    "You may have observed that `initialize` actually returns two things: a structure of parameters and a corresponding structure that specifies their properties. The latter is necesary for model fitting. We won't use them here, but we will in the next notebook!\n",
    "```"
   ]
  },
  {
   "cell_type": "markdown",
   "id": "9c451fde",
   "metadata": {},
   "source": [
    "## Sample data from model\n",
    "\n",
    "Now that we've initialize the model parameters, we can use them to draw samples from the HMM. The `hmm.sample()` function takes in the parameters, a JAX pseudorandom number generator (see [here](https://jax.readthedocs.io/en/latest/notebooks/Common_Gotchas_in_JAX.html#random-numbers)), and a number of time steps to sample."
   ]
  },
  {
   "cell_type": "code",
   "execution_count": 7,
   "id": "9db1c6aa",
   "metadata": {},
   "outputs": [
    {
     "name": "stdout",
     "output_type": "stream",
     "text": [
      "true_states.shape: (300,)\n",
      "emissions.shape: (300, 1)\n",
      "\n",
      "First few states:     [1 1 1 1 1]\n",
      "First few emissions:  [5 0 5 5 5]\n"
     ]
    }
   ],
   "source": [
    "num_timesteps = 300\n",
    "true_states, emissions = hmm.sample(params, jr.PRNGKey(42), num_timesteps)\n",
    "\n",
    "print(f\"true_states.shape: {true_states.shape}\")\n",
    "print(f\"emissions.shape: {emissions.shape}\")\n",
    "print(\"\")\n",
    "print(\"First few states:    \", true_states[:5])\n",
    "print(\"First few emissions: \", emissions[:5, 0])"
   ]
  },
  {
   "cell_type": "markdown",
   "id": "7c6ff169",
   "metadata": {},
   "source": [
    "```{warning}\n",
    "The emissions have a last dimension of 1 since `num_emissions` is 1 in this example. If we rolled multiple dice simultaneously, the emisions shape would be `num_timesteps x num_emissions`.\n",
    "```"
   ]
  },
  {
   "cell_type": "markdown",
   "id": "2c6dc026",
   "metadata": {},
   "source": [
    "### Vectorizing computation\n",
    "JAX offers powerful tools for vectorizing and parallelizing computation. For example, we can use [vmap](https://jax.readthedocs.io/en/latest/notebooks/quickstart.html#auto-vectorization-with-vmap) to sample many sequences at once. "
   ]
  },
  {
   "cell_type": "code",
   "execution_count": 8,
   "id": "6cceb3f1",
   "metadata": {},
   "outputs": [
    {
     "name": "stdout",
     "output_type": "stream",
     "text": [
      "batch_states.shape: (5, 300)\n",
      "batch_emissions.shape: (5, 300, 1)\n"
     ]
    }
   ],
   "source": [
    "# To sample multiple sequences, just use vmap\n",
    "num_batches = 5\n",
    "\n",
    "batch_states, batch_emissions = \\\n",
    "    vmap(partial(hmm.sample, params, num_timesteps=num_timesteps))(\n",
    "        jr.split(jr.PRNGKey(0), num_batches))\n",
    "\n",
    "print(f\"batch_states.shape: {batch_states.shape}\")\n",
    "print(f\"batch_emissions.shape: {batch_emissions.shape}\")"
   ]
  },
  {
   "cell_type": "markdown",
   "id": "72cdf912",
   "metadata": {},
   "source": [
    "Let's plot a sequence of emissions and color-code them by the latent state (fair vs loaded). As expected, the loaded die comes up six much more often than the fair die. "
   ]
  },
  {
   "cell_type": "code",
   "execution_count": 9,
   "id": "b36986af",
   "metadata": {
    "tags": [
     "hide-cell"
    ]
   },
   "outputs": [],
   "source": [
    "def plot_sequence(states, emissions):\n",
    "    plt.imshow(one_hot(emissions[:, 0], 6).T, \n",
    "               aspect=\"auto\", interpolation=\"none\", cmap=\"Greys\")\n",
    "    plt.imshow(states[None, :], extent=(0, num_timesteps, num_classes-.5, -.5), \n",
    "               interpolation=\"none\", aspect=\"auto\", cmap=\"Greys\", alpha=0.25)\n",
    "    plt.xlabel(\"time\")\n",
    "    plt.ylabel(\"emission\")\n",
    "    plt.yticks(jnp.arange(6), jnp.arange(6) + 1)    # b/c python is zero indexed!\n",
    "    plt.title(\"sampled sequence (white=fair, gray=loaded)\")"
   ]
  },
  {
   "cell_type": "code",
   "execution_count": 10,
   "id": "a4eb02a5",
   "metadata": {},
   "outputs": [
    {
     "data": {
      "image/png": "[encoded data removed]",
      "text/plain": [
       "<Figure size 432x288 with 1 Axes>"
      ]
     },
     "metadata": {
      "needs_background": "light"
     },
     "output_type": "display_data"
    }
   ],
   "source": [
    "plot_sequence(batch_states[0], batch_emissions[0])"
   ]
  },
  {
   "cell_type": "markdown",
   "id": "693b18c4",
   "metadata": {},
   "source": [
    "The difference in outcomes is borne out in the empirical frequencies of seeing a six in each state."
   ]
  },
  {
   "cell_type": "code",
   "execution_count": 11,
   "id": "a073721f",
   "metadata": {},
   "outputs": [
    {
     "name": "stdout",
     "output_type": "stream",
     "text": [
      "empirical frequencies:  [0.14970061 0.46616542]\n",
      "expected frequencies:   [0.16666667 0.5       ]\n"
     ]
    }
   ],
   "source": [
    "# count fraction of times we see 6 in each state\n",
    "# remember that python is zero-indexed, so we have to add one!\n",
    "p0 = jnp.mean(emissions[true_states==0] + 1 == 6)   # fair\n",
    "p1 = jnp.mean(emissions[true_states==1] + 1 == 6)   # loaded\n",
    "print(\"empirical frequencies: \", jnp.array([p0, p1]))\n",
    "print(\"expected frequencies:  \", emission_probs[:, -1])"
   ]
  },
  {
   "cell_type": "markdown",
   "id": "1a525c4f",
   "metadata": {},
   "source": [
    "## Filtering (forwards algorithm)\n",
    "\n",
    "In an HMM, _filtering_ means computing the probabilities of the latent state at time $t$ given emissions up to and including time $t$. Mathematically, the filtering distributions are,\n",
    "\\begin{align}\n",
    "p(z_t \\mid y_{1:t}, \\theta) &\\propto \\sum_{z_1} \\cdots \\sum_{z_{t-1}} p(z_{1:t}, y_{1:t} \\mid \\theta)\n",
    "\\end{align}\n",
    "The forward filtering algorithm ([Murphy, 2023](https://github.com/probml/pml2-book/releases/tag/2022-10-16); Ch 8.2.2) computes these probabilities for all timesteps $t$ in recursive fashion. It also returns an estimate of the _marginal likelihood_, $p(y_{1:T} \\mid \\theta)$, which is useful for model comparison and fitting.\n",
    "\n",
    "In code, you can run the filtering algorithm like this."
   ]
  },
  {
   "cell_type": "code",
   "execution_count": 12,
   "id": "518917bf",
   "metadata": {},
   "outputs": [
    {
     "name": "stdout",
     "output_type": "stream",
     "text": [
      "marginal likelihood: -517.95\n",
      "posterior.filtered_probs.shape: (300, 2)\n"
     ]
    }
   ],
   "source": [
    "posterior = hmm.filter(params, emissions)\n",
    "print(f\"marginal likelihood: {posterior.marginal_loglik: .2f}\")\n",
    "print(f\"posterior.filtered_probs.shape: {posterior.filtered_probs.shape}\")"
   ]
  },
  {
   "cell_type": "markdown",
   "id": "152ec904",
   "metadata": {},
   "source": [
    "### Plot the filtering distribution"
   ]
  },
  {
   "cell_type": "code",
   "execution_count": 13,
   "id": "1acff04a",
   "metadata": {
    "tags": [
     "hide-cell"
    ]
   },
   "outputs": [],
   "source": [
    "def plot_posterior_probs(probs, states):\n",
    "    fig, ax = plt.subplots(1, 1)\n",
    "    plt.imshow(states[None, :], extent=(0, num_timesteps, 0, 1), \n",
    "               interpolation=\"none\", aspect=\"auto\", cmap=\"Greys\", alpha=0.25)\n",
    "    plt.plot(probs[:, 1])   # probability of the loaded state (z=1)\n",
    "    plt.xlabel(\"time\")\n",
    "    plt.ylabel(\"p(loaded)\")\n",
    "    plt.ylim(0, 1)\n",
    "    return fig, ax"
   ]
  },
  {
   "cell_type": "code",
   "execution_count": 14,
   "id": "23b2d21f",
   "metadata": {},
   "outputs": [
    {
     "data": {
      "image/png": "[encoded data removed]",
      "text/plain": [
       "<Figure size 432x288 with 1 Axes>"
      ]
     },
     "metadata": {
      "needs_background": "light"
     },
     "output_type": "display_data"
    }
   ],
   "source": [
    "fig, ax = plot_posterior_probs(posterior.filtered_probs, true_states)\n",
    "_ = ax.set_title(\"Filtering Distribution\")"
   ]
  },
  {
   "cell_type": "markdown",
   "id": "3f1b4ac5",
   "metadata": {},
   "source": [
    "## Smoothing (forwards-backwards algorithm)\n",
    "\n",
    "_Smoothing_ means computing the probabilities of the latent state at time $t$ given all emissions, including those that come after. Mathematically, the smoothing distributions are,\n",
    "\\begin{align}\n",
    "p(z_t \\mid y_{1:T}, \\theta) &\\propto \\sum_{z_1} \\cdots \\sum_{z_{t-1}} \\sum_{z_{t+1}} \\cdots \\sum_{z_T} p(z_{1:T}, y_{1:T} \\mid \\theta).\n",
    "\\end{align}\n",
    "The forward-backward algorithm ([Murphy, 2023](https://github.com/probml/pml2-book/releases/tag/2022-10-16); Ch 8.2.4) computes these probabilities for all timesteps $t$ in recursive fashion. \n",
    "\n",
    "In code, you can run the forward-backward smoothing algorithm like this."
   ]
  },
  {
   "cell_type": "code",
   "execution_count": 15,
   "id": "9aef1d42",
   "metadata": {},
   "outputs": [
    {
     "name": "stdout",
     "output_type": "stream",
     "text": [
      "posterior.smoothed_probs.shape: (300, 2)\n"
     ]
    }
   ],
   "source": [
    "posterior = hmm.smoother(params, emissions)\n",
    "print(f\"posterior.smoothed_probs.shape: {posterior.smoothed_probs.shape}\")"
   ]
  },
  {
   "cell_type": "code",
   "execution_count": 16,
   "id": "4534cfdb",
   "metadata": {},
   "outputs": [
    {
     "data": {
      "image/png": "[encoded data removed]",
      "text/plain": [
       "<Figure size 432x288 with 1 Axes>"
      ]
     },
     "metadata": {
      "needs_background": "light"
     },
     "output_type": "display_data"
    }
   ],
   "source": [
    "fig, ax = plot_posterior_probs(posterior.smoothed_probs, true_states)\n",
    "_ = ax.set_title(\"Smoothed Distribution\")"
   ]
  },
  {
   "cell_type": "markdown",
   "id": "928c1785",
   "metadata": {},
   "source": [
    "Compare the smoothed probabilities to the filtered ones. See how the sharp rises in probability (e.g. around time step 235) are attenuated in the smoothing distribution? That's because the filtering distribution is sensitive to when the die comes up six, thinking it might indicate a switch to the loaded die. The smoothing distributions benefit from future outcomes, which suggest that the six was just a chance event."
   ]
  },
  {
   "cell_type": "markdown",
   "id": "ea3121e0",
   "metadata": {},
   "source": [
    "## Most likely state sequence (Viterbi algorithm)\n",
    "\n",
    "Finally, we can compute the most likely state sequence (aka _maximum a posteriori_ or \"MAP\" sequence) using the Viterbi algorithm ([Murphy, 2023](https://github.com/probml/pml2-book/releases/tag/2022-10-16); Ch 8.2.7). This dynamic programming algorithm solves for\n",
    "\\begin{align}\n",
    "z_{1:T}^\\star &= \\text{arg max}_{z_{1:T}} \\; p(z_{1:T}, y_{1:T} \\mid \\theta).\n",
    "\\end{align}\n",
    "You can compute the MAP sequence with the following code. "
   ]
  },
  {
   "cell_type": "code",
   "execution_count": 17,
   "id": "b1727a7d",
   "metadata": {},
   "outputs": [],
   "source": [
    "most_likely_states = hmm.most_likely_states(params, emissions)"
   ]
  },
  {
   "cell_type": "code",
   "execution_count": 18,
   "id": "e223JBC5DhPP",
   "metadata": {
    "id": "e223JBC5DhPP",
    "tags": [
     "hide-cell"
    ]
   },
   "outputs": [],
   "source": [
    "def plot_map_sequence(most_likely_states, states, loaded_index=1):\n",
    "    fig, ax = plt.subplots(1, 1)\n",
    "    plt.imshow(states[None, :], extent=(0, num_timesteps, -0.05, 1.05), \n",
    "               interpolation=\"none\", aspect=\"auto\", cmap=\"Greys\", alpha=0.25)\n",
    "    plt.plot(most_likely_states)\n",
    "    plt.xlabel(\"time\")\n",
    "    plt.ylabel(\"MAP state\")\n",
    "    plt.ylim(-0.05, 1.05)\n",
    "    plt.yticks([0, 1])\n",
    "    plt.title(\"Viterbi estimate\")"
   ]
  },
  {
   "cell_type": "code",
   "execution_count": null,
   "id": "cac657e5",
   "metadata": {},
   "outputs": [],
   "source": [
    "plot_map_sequence(most_likely_states, true_states)"
   ]
  },
  {
   "cell_type": "markdown",
   "id": "67c24bf4",
   "metadata": {},
   "source": [
    "## Conclusion\n",
    "\n",
    "This notebook showed how to construct a simple categorical HMM, initialize its parameters, sample data, and use it to perform state inference (i.e. filtering, smoothing, and finding the most likely states). However, often we do not know the model paramters and instead need to estimate them from data. The next notebook shows how to do exactly that."
   ]
  }
 ],
 "metadata": {
  "colab": {
   "name": "hmm_casino.ipynb",
   "provenance": []
  },
  "kernelspec": {
   "display_name": "Python 3.9.6 ('dynamax')",
   "language": "python",
   "name": "python3"
  },
  "language_info": {
   "codemirror_mode": {
    "name": "ipython",
    "version": 3
   },
   "file_extension": ".py",
   "mimetype": "text/x-python",
   "name": "python",
   "nbconvert_exporter": "python",
   "pygments_lexer": "ipython3",
   "version": "3.9.6"
  },
  "vscode": {
   "interpreter": {
    "hash": "92401d49bd83f70620e540b668b7091047c2ca041ed5ff6cc3954130de9aa1fc"
   }
  }
 },
 "nbformat": 4,
 "nbformat_minor": 5
}
