{
 "cells": [
  {
   "cell_type": "markdown",
   "id": "8a63fcca",
   "metadata": {
    "id": "8a63fcca"
   },
   "source": [
    "\n",
    "\n",
    "# Casino HMM: Inference (state estimation)\n",
    "\n",
    "We use a simple example of an HMM from known as the \"occasionally dishonest casino\".\n",
    "This is from the book\n",
    "\"Biological Sequence Analysis: Probabilistic Models of Proteins and Nucleic Acids\"\n",
    "by R. Durbin, S. Eddy, A. Krogh and G. Mitchison (1998).\n",
    "\n"
   ]
  },
  {
   "cell_type": "markdown",
   "id": "313ef266",
   "metadata": {},
   "source": [
    "## Setup"
   ]
  },
  {
   "cell_type": "code",
   "execution_count": 1,
   "id": "119f195f",
   "metadata": {},
   "outputs": [],
   "source": [
    "try:\n",
    "    import dynamax\n",
    "except ModuleNotFoundError:\n",
    "    print('installing dynamax')\n",
    "    %pip install -qq git+https://github.com/probml/dynamax.git\n",
    "    import dynamax"
   ]
  },
  {
   "cell_type": "code",
   "execution_count": 2,
   "id": "25dc20ab",
   "metadata": {},
   "outputs": [],
   "source": [
    "from functools import partial\n",
    "import jax.numpy as jnp\n",
    "import jax.random as jr\n",
    "from jax import vmap\n",
    "import matplotlib.pyplot as plt\n",
    "\n",
    "from dynamax.hmm.models import CategoricalHMM"
   ]
  },
  {
   "cell_type": "markdown",
   "id": "a6a2e524",
   "metadata": {},
   "source": [
    "## Make model"
   ]
  },
  {
   "cell_type": "markdown",
   "id": "b48fe0db",
   "metadata": {},
   "source": [
    "![Casino HMM](https://github.com/probml/dynamax/blob/main/docs/figures/casino.png?raw=true)"
   ]
  },
  {
   "cell_type": "code",
   "execution_count": 3,
   "id": "1fc08871",
   "metadata": {},
   "outputs": [
    {
     "name": "stdout",
     "output_type": "stream",
     "text": [
      "(2, 6)\n"
     ]
    }
   ],
   "source": [
    "init_dist = jnp.array([1, 1]) / 2\n",
    "A = jnp.array([[0.95, 0.05], [0.10, 0.90]])\n",
    "B = probs=jnp.array(\n",
    "        [\n",
    "            [1 / 6, 1 / 6, 1 / 6, 1 / 6, 1 / 6, 1 / 6],  # fair die\n",
    "            [1 / 10, 1 / 10, 1 / 10, 1 / 10, 1 / 10, 5 / 10],  # loaded die\n",
    "        ]\n",
    "    )\n",
    "print(B.shape)"
   ]
  },
  {
   "cell_type": "code",
   "execution_count": 4,
   "id": "t9ZrTumQjsLN",
   "metadata": {
    "colab": {
     "base_uri": "https://localhost:8080/",
     "height": 990
    },
    "id": "t9ZrTumQjsLN",
    "outputId": "26626071-8890-4ce4-dbc2-5378ddac4e67"
   },
   "outputs": [],
   "source": [
    "num_states = 2\n",
    "num_emissions = 1 # 1d output\n",
    "num_classes = 6 # size of output alphabet\n",
    "\n",
    "hmm = CategoricalHMM(num_states, num_emissions, num_classes)\n",
    "\n",
    "params = dict(\n",
    "    initial=dict(probs=init_dist),\n",
    "    transitions=dict(transition_matrix=A),\n",
    "    emissions=dict(probs=B.reshape(num_states, num_emissions, num_classes))\n",
    "    )\n"
   ]
  },
  {
   "cell_type": "markdown",
   "id": "9c451fde",
   "metadata": {},
   "source": [
    "## Sample data from model"
   ]
  },
  {
   "cell_type": "code",
   "execution_count": 5,
   "id": "9db1c6aa",
   "metadata": {},
   "outputs": [
    {
     "name": "stdout",
     "output_type": "stream",
     "text": [
      "(300,)\n",
      "(300, 1)\n"
     ]
    }
   ],
   "source": [
    "n_timesteps = 300\n",
    "true_states, emissions = hmm.sample(params, jr.PRNGKey(42), n_timesteps)\n",
    "\n",
    "print(true_states.shape)\n",
    "print(emissions.shape)"
   ]
  },
  {
   "cell_type": "code",
   "execution_count": 6,
   "id": "6cceb3f1",
   "metadata": {},
   "outputs": [
    {
     "name": "stdout",
     "output_type": "stream",
     "text": [
      "(5, 300)\n",
      "(5, 300, 1)\n"
     ]
    }
   ],
   "source": [
    "# To sample multiple sequences, just use vmap\n",
    "num_batches = 5\n",
    "num_timesteps = 300\n",
    "\n",
    "batch_states, batch_emissions = \\\n",
    "    vmap(partial(hmm.sample, params, num_timesteps=num_timesteps))(\n",
    "        jr.split(jr.PRNGKey(0), num_batches))\n",
    "\n",
    "print(batch_states.shape) # (5, 300)\n",
    "print(batch_emissions.shape) # (5, 300, 1)"
   ]
  },
  {
   "cell_type": "code",
   "execution_count": 7,
   "id": "071a53ca",
   "metadata": {},
   "outputs": [
    {
     "name": "stdout",
     "output_type": "stream",
     "text": [
      "hid:  [2222211111111111111111111111111112222222222111111111111111111111111112]\n",
      "obs:  [6636644222425254541366534156435555311662663315351616222626113131426326]\n",
      "hid:  [2222222221111111111111111111111122222222222222222222222222222111112221]\n",
      "obs:  [6166665666644432314213244562342433654325363462364513646626146325646366]\n"
     ]
    }
   ],
   "source": [
    "def print_seq(true_states, emissions):\n",
    "    T = 70\n",
    "    to_string = lambda x: \"\".join(str(x + 1).split())\n",
    "    print(\"hid: \", to_string(true_states[:T]))\n",
    "    print(\"obs: \", to_string(emissions[:T, 0]))\n",
    "    \n",
    "print_seq(batch_states[0], batch_emissions[0])\n",
    "print_seq(true_states, emissions)"
   ]
  },
  {
   "cell_type": "code",
   "execution_count": 8,
   "id": "a073721f",
   "metadata": {},
   "outputs": [
    {
     "name": "stdout",
     "output_type": "stream",
     "text": [
      "empirical frequencies:  [0.14970061 0.46616542]\n",
      "expected frequencies:  [0.16666666666666666, 0.5]\n"
     ]
    }
   ],
   "source": [
    "# count fraction of times we see 6 in each state\n",
    "obs = emissions + 1\n",
    "hid = true_states + 1 \n",
    "p0 = jnp.mean(obs[hid==1] == 6) # fair\n",
    "p1 = jnp.mean(obs[hid==2] == 6) # loaded\n",
    "print('empirical frequencies: ', jnp.array([p0, p1]))\n",
    "print('expected frequencies: ', [1.0/6, 5.0/10])"
   ]
  },
  {
   "cell_type": "markdown",
   "id": "1a525c4f",
   "metadata": {},
   "source": [
    "## Filtering (forwards algorithm)"
   ]
  },
  {
   "cell_type": "code",
   "execution_count": 9,
   "id": "518917bf",
   "metadata": {},
   "outputs": [
    {
     "name": "stdout",
     "output_type": "stream",
     "text": [
      "-517.9524\n",
      "(300, 2)\n"
     ]
    }
   ],
   "source": [
    "posterior = hmm.filter(params, emissions)\n",
    "\n",
    "print(posterior.marginal_loglik)\n",
    "print(posterior.filtered_probs.shape)\n"
   ]
  },
  {
   "cell_type": "markdown",
   "id": "152ec904",
   "metadata": {},
   "source": [
    "## Plotting code"
   ]
  },
  {
   "cell_type": "code",
   "execution_count": 10,
   "id": "7130bcb8",
   "metadata": {},
   "outputs": [],
   "source": [
    "import numpy as np\n",
    "\n",
    "# Helper functions for plotting\n",
    "def find_dishonest_intervals(states):\n",
    "    \"\"\"\n",
    "    Find the span of timesteps that the\n",
    "    simulated systems turns to be in state 1\n",
    "    Parameters\n",
    "    ----------\n",
    "    states: array(n_timesteps)\n",
    "        Result of running the system with two\n",
    "        latent states\n",
    "    Returns\n",
    "    -------\n",
    "    list of tuples with span of values\n",
    "    \"\"\"\n",
    "    states = np.array(states)\n",
    "    changepoints = np.concatenate([[0], np.nonzero(np.diff(states))[0] + 1, [len(states)]])\n",
    "    starts, ends = changepoints[:-1], changepoints[1:]\n",
    "\n",
    "    # Return the (start, end) pairs where the start state is 1\n",
    "    dishonest = states[starts] == 1\n",
    "    return list(zip(starts[dishonest], ends[dishonest]))\n",
    "\n",
    "\n",
    "def plot_inference(inference_values, states, ax, state=1, map_estimate=False):\n",
    "    \"\"\"\n",
    "    Plot the estimated smoothing/filtering/map of a sequence of hidden states.\n",
    "    \"Vertical gray bars denote times when the hidden\n",
    "    state corresponded to state 1. Blue lines represent the\n",
    "    posterior probability of being in that state given diﬀerent subsets\n",
    "    of observed data.\" See Markov and Hidden Markov models section for more info\n",
    "    Parameters\n",
    "    ----------\n",
    "    inference_values: array(n_timesteps, state_size)\n",
    "        Result of running smoothing method\n",
    "    states: array(n_timesteps)\n",
    "        Latent simulation\n",
    "    ax: matplotlib.axes\n",
    "    state: int\n",
    "        Decide which state to highlight\n",
    "    map_estimate: bool\n",
    "        Whether to plot steps (simple plot if False)\n",
    "    \"\"\"\n",
    "    n_timesteps = len(inference_values)\n",
    "    xspan = np.arange(1, n_timesteps + 1)\n",
    "    spans = find_dishonest_intervals(states)\n",
    "    if map_estimate:\n",
    "        ax.step(xspan, inference_values, where=\"post\")\n",
    "    else:\n",
    "        ax.plot(xspan, inference_values[:, state])\n",
    "\n",
    "    for span in spans:\n",
    "        ax.axvspan(*span, alpha=0.5, facecolor=\"tab:gray\", edgecolor=\"none\")\n",
    "    ax.set_xlim(1, n_timesteps)\n",
    "    # ax.set_ylim(0, 1)\n",
    "    ax.set_ylim(-0.1, 1.1)\n",
    "    ax.set_xlabel(\"Observation number\")"
   ]
  },
  {
   "cell_type": "code",
   "execution_count": 11,
   "id": "237626b2",
   "metadata": {},
   "outputs": [
    {
     "name": "stderr",
     "output_type": "stream",
     "text": [
      "/var/folders/03/7y894xkj7k7266681pht1hw40000gn/T/ipykernel_56891/2597777607.py:5: UserWarning: Matplotlib is currently using module://matplotlib_inline.backend_inline, which is a non-GUI backend, so cannot show the figure.\n",
      "  fig.show()\n"
     ]
    },
    {
     "data": {
      "image/png": "[encoded data removed]",
      "text/plain": [
       "<Figure size 432x288 with 1 Axes>"
      ]
     },
     "metadata": {
      "needs_background": "light"
     },
     "output_type": "display_data"
    }
   ],
   "source": [
    "fig, ax = plt.subplots()\n",
    "plot_inference(posterior.filtered_probs, true_states, ax)\n",
    "ax.set_ylabel(\"p(loaded)\")\n",
    "ax.set_title(\"Filtered\")\n",
    "fig.show()\n",
    "# pml.savefig(\"hmm_casino_filter\")"
   ]
  },
  {
   "cell_type": "markdown",
   "id": "3f1b4ac5",
   "metadata": {},
   "source": [
    "## Smoothing (forwards-backwards algorithm)"
   ]
  },
  {
   "cell_type": "code",
   "execution_count": 12,
   "id": "9aef1d42",
   "metadata": {},
   "outputs": [
    {
     "name": "stdout",
     "output_type": "stream",
     "text": [
      "(300, 2)\n"
     ]
    }
   ],
   "source": [
    "posterior = hmm.smoother(params, emissions)\n",
    "\n",
    "print(posterior.smoothed_probs.shape)"
   ]
  },
  {
   "cell_type": "code",
   "execution_count": null,
   "id": "6740986f",
   "metadata": {},
   "outputs": [],
   "source": [
    "fig, ax = plt.subplots()\n",
    "plot_inference(posterior.smoothed_probs, true_states, ax)\n",
    "ax.set_ylabel(\"p(loaded)\")\n",
    "ax.set_title(\"Smoothed\")\n",
    "fig.show()\n",
    "# pml.savefig(\"hmm_casino_smooth\")"
   ]
  },
  {
   "cell_type": "markdown",
   "id": "ea3121e0",
   "metadata": {},
   "source": [
    "## MAP sequence (Viterbi algorithm)"
   ]
  },
  {
   "cell_type": "code",
   "execution_count": 14,
   "id": "b1727a7d",
   "metadata": {},
   "outputs": [],
   "source": [
    "most_likely_states = hmm.most_likely_states(params, emissions)"
   ]
  },
  {
   "cell_type": "code",
   "execution_count": 15,
   "id": "e223JBC5DhPP",
   "metadata": {
    "id": "e223JBC5DhPP"
   },
   "outputs": [
    {
     "name": "stderr",
     "output_type": "stream",
     "text": [
      "/var/folders/03/7y894xkj7k7266681pht1hw40000gn/T/ipykernel_56891/3940022341.py:5: UserWarning: Matplotlib is currently using module://matplotlib_inline.backend_inline, which is a non-GUI backend, so cannot show the figure.\n",
      "  fig.show()\n"
     ]
    },
    {
     "data": {
      "image/png": "[encoded data removed]",
      "text/plain": [
       "<Figure size 432x288 with 1 Axes>"
      ]
     },
     "metadata": {
      "needs_background": "light"
     },
     "output_type": "display_data"
    }
   ],
   "source": [
    "fig, ax = plt.subplots()\n",
    "plot_inference(most_likely_states, true_states, ax, map_estimate=True)\n",
    "ax.set_ylabel(\"MAP state\")\n",
    "ax.set_title(\"Viterbi\")\n",
    "fig.show()"
   ]
  }
 ],
 "metadata": {
  "colab": {
   "name": "hmm_casino.ipynb",
   "provenance": []
  },
  "kernelspec": {
   "display_name": "Python 3 (ipykernel)",
   "language": "python",
   "name": "python3"
  },
  "language_info": {
   "codemirror_mode": {
    "name": "ipython",
    "version": 3
   },
   "file_extension": ".py",
   "mimetype": "text/x-python",
   "name": "python",
   "nbconvert_exporter": "python",
   "pygments_lexer": "ipython3",
   "version": "3.8.5"
  },
  "vscode": {
   "interpreter": {
    "hash": "40d3a090f54c6569ab1632332b64b2c03c39dcf918b08424e98f38b5ae0af88f"
   }
  }
 },
 "nbformat": 4,
 "nbformat_minor": 5
}
