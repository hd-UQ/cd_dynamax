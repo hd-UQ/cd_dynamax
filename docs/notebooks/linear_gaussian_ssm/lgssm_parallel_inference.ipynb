{
 "cells": [
  {
   "cell_type": "markdown",
   "id": "040b4540",
   "metadata": {},
   "source": [
    "# Parallel filtering and smoothing in an LG-SSM\n",
    "\n",
    "This notebook shows how can reduce the cost of inference from O(T) to O(log T) time, if\n",
    "we have a GPU device.\n",
    "\n",
    "This code borrows heavily from this [example notebook](https://github.com/EEA-sensors/sequential-parallelization-examples/blob/main/python/temporal-parallelization-bayes-smoothers/parallel_kalman_jax.ipynb) from [Adrien Correnflos](https://github.com/AdrienCorenflos). Some small changes have been made so it works with dynamax.\n",
    "\n",
    "If you have a GPU, you should be able to get a speedup curve like this:\n",
    "\n",
    "![Parallel KF](https://github.com/probml/dynamax/blob/main/docs/figures/lgssm_parallel_smoothing_timing.png?raw=true)\n"
   ]
  },
  {
   "cell_type": "markdown",
   "id": "6c86afcb",
   "metadata": {},
   "source": [
    "## Setup"
   ]
  },
  {
   "cell_type": "code",
   "execution_count": 1,
   "id": "58523a79",
   "metadata": {
    "tags": [
     "hide-cell"
    ]
   },
   "outputs": [],
   "source": [
    "try:\n",
    "    import dynamax\n",
    "except ModuleNotFoundError:\n",
    "    print('installing dynamax')\n",
    "    %pip install -q dynamax[notebooks]\n",
    "    import dynamax"
   ]
  },
  {
   "cell_type": "code",
   "execution_count": 3,
   "id": "b1cb0280",
   "metadata": {},
   "outputs": [],
   "source": [
    "import jax\n",
    "from jax import numpy as jnp\n",
    "from jax import random as jr\n",
    "from jax import block_until_ready\n",
    "from matplotlib import pyplot as plt\n",
    "import time\n",
    "\n",
    "from dynamax.linear_gaussian_ssm import lgssm_smoother, parallel_lgssm_smoother\n",
    "from dynamax.linear_gaussian_ssm import LinearGaussianSSM"
   ]
  },
  {
   "cell_type": "code",
   "execution_count": 6,
   "id": "9fe97523",
   "metadata": {},
   "outputs": [
    {
     "name": "stdout",
     "output_type": "stream",
     "text": [
      "[CpuDevice(id=0)]\n",
      "cpu\n"
     ]
    }
   ],
   "source": [
    "print(jax.devices())\n",
    "print(jax.devices()[0].platform)\n",
    "if jax.devices()[0].platform == 'cpu':\n",
    "    cpu_mode = True\n",
    "else:\n",
    "    cpu_mode = False\n",
    "    "
   ]
  },
  {
   "cell_type": "markdown",
   "id": "xLMBEd3Td_qI",
   "metadata": {
    "id": "xLMBEd3Td_qI"
   },
   "source": [
    "## Model\n",
    "\n",
    "The model is a simple tracking model (see Example 3.6 in *Bayesian Filtering and Smoothing* (S. Särkkä, 2013).\n"
   ]
  },
  {
   "cell_type": "code",
   "execution_count": 7,
   "id": "6357a126-28b7-4e08-9814-9ff1f7a9ce7d",
   "metadata": {
    "id": "6357a126-28b7-4e08-9814-9ff1f7a9ce7d"
   },
   "outputs": [],
   "source": [
    "dt = 0.1\n",
    "F = jnp.eye(4) + dt * jnp.eye(4, k=2)\n",
    "Q = 1. * jnp.kron(jnp.array([[dt**3/3, dt**2/2],\n",
    "                      [dt**2/2, dt]]), \n",
    "                 jnp.eye(2))\n",
    "H = jnp.eye(2, 4)\n",
    "R = 0.5 ** 2 * jnp.eye(2)\n",
    "μ0 = jnp.array([0.,0.,1.,-1.])\n",
    "Σ0 = jnp.eye(4)"
   ]
  },
  {
   "cell_type": "code",
   "execution_count": 8,
   "id": "25027aea-e80f-49a8-a271-142458fa03ae",
   "metadata": {
    "id": "25027aea-e80f-49a8-a271-142458fa03ae"
   },
   "outputs": [],
   "source": [
    "latent_dim = 4\n",
    "observation_dim = 2\n",
    "input_dim = 0\n",
    "\n",
    "lgssm = LinearGaussianSSM(latent_dim, observation_dim)\n",
    "params, _ = lgssm.initialize(\n",
    "    initial_mean=μ0,\n",
    "    initial_covariance= Σ0,\n",
    "    dynamics_weights=F,\n",
    "    dynamics_covariance=Q,\n",
    "    emission_weights=H,\n",
    "    emission_covariance=R)\n",
    "\n"
   ]
  },
  {
   "cell_type": "markdown",
   "id": "7f351788",
   "metadata": {},
   "source": [
    "## Test parallel inference on a single sequence"
   ]
  },
  {
   "cell_type": "code",
   "execution_count": 9,
   "id": "f46ac96e-5068-4136-a3ba-b952d86d47b9",
   "metadata": {
    "id": "f46ac96e-5068-4136-a3ba-b952d86d47b9"
   },
   "outputs": [
    {
     "name": "stdout",
     "output_type": "stream",
     "text": [
      "(100, 4)\n",
      "(100, 4, 4)\n"
     ]
    }
   ],
   "source": [
    "num_timesteps = 100\n",
    "key = jr.PRNGKey(0)\n",
    "\n",
    "key, subkey = jr.split(key)\n",
    "z,emissions = lgssm.sample(params, subkey, num_timesteps)\n",
    "ssm_posterior = lgssm_smoother(params, emissions)\n",
    "parallel_posterior = parallel_lgssm_smoother(params, emissions)\n",
    "\n",
    "print(parallel_posterior.filtered_means.shape)\n",
    "print(parallel_posterior.filtered_covariances.shape)\n"
   ]
  },
  {
   "cell_type": "code",
   "execution_count": 10,
   "id": "101ae8c7",
   "metadata": {},
   "outputs": [],
   "source": [
    "\n",
    "assert jnp.allclose(parallel_posterior.filtered_means, ssm_posterior.filtered_means, atol=1e-3)\n",
    "assert jnp.allclose(parallel_posterior.filtered_covariances, ssm_posterior.filtered_covariances, atol=1e-3)\n",
    "\n",
    "\n",
    "assert jnp.allclose(parallel_posterior.smoothed_means, ssm_posterior.smoothed_means, atol=1e-3)\n",
    "assert jnp.allclose(parallel_posterior.smoothed_covariances, ssm_posterior.smoothed_covariances, atol=1e-3)"
   ]
  },
  {
   "cell_type": "code",
   "execution_count": 11,
   "id": "a160e709-6f81-47f2-8404-94c2346ccd4b",
   "metadata": {
    "colab": {
     "base_uri": "https://localhost:8080/",
     "height": 374
    },
    "id": "a160e709-6f81-47f2-8404-94c2346ccd4b",
    "outputId": "b22bd04c-9995-4734-a30a-1a1581a157f9"
   },
   "outputs": [
    {
     "data": {
      "image/png": "[encoded data removed]",
      "text/plain": [
       "<Figure size 432x432 with 1 Axes>"
      ]
     },
     "metadata": {
      "needs_background": "light"
     },
     "output_type": "display_data"
    }
   ],
   "source": [
    "plt.figure(figsize=(6,6))\n",
    "plt.plot(*emissions.T,'.', label=\"observations\")\n",
    "plt.plot(*ssm_posterior.filtered_means[:,:2].T, color=\"C2\", label=\"serial filtering\")\n",
    "plt.plot(*parallel_posterior.filtered_means[:,:2].T, \"--\", color=\"C3\",label=\"parallel filtering\");\n",
    "plt.legend();"
   ]
  },
  {
   "cell_type": "code",
   "execution_count": 12,
   "id": "5ececd5c-7439-4f9e-9b56-5e99543f19cc",
   "metadata": {
    "colab": {
     "base_uri": "https://localhost:8080/",
     "height": 374
    },
    "id": "5ececd5c-7439-4f9e-9b56-5e99543f19cc",
    "outputId": "6748ee00-de9e-4041-d581-333d68653f9c"
   },
   "outputs": [
    {
     "data": {
      "image/png": "[encoded data removed]",
      "text/plain": [
       "<Figure size 432x432 with 1 Axes>"
      ]
     },
     "metadata": {
      "needs_background": "light"
     },
     "output_type": "display_data"
    }
   ],
   "source": [
    "plt.figure(figsize=(6,6))\n",
    "plt.plot(*emissions.T,'.', label=\"observations\")\n",
    "plt.plot(*ssm_posterior.smoothed_means[:,:2].T, color=\"C2\", label=\"serial smoothing\")\n",
    "plt.plot(*parallel_posterior.smoothed_means[:,:2].T, \"--\", color=\"C3\",label=\"parallel smoothing\")\n",
    "plt.legend();\n"
   ]
  },
  {
   "cell_type": "markdown",
   "id": "Ju0dlre3Bf9K",
   "metadata": {
    "id": "Ju0dlre3Bf9K"
   },
   "source": [
    "## Timing comparison"
   ]
  },
  {
   "cell_type": "code",
   "execution_count": 15,
   "id": "0mSknJxzLCbt",
   "metadata": {
    "colab": {
     "base_uri": "https://localhost:8080/"
    },
    "id": "0mSknJxzLCbt",
    "outputId": "0f4db370-d0b0-4d2f-bab3-bbe6d3128316"
   },
   "outputs": [
    {
     "name": "stdout",
     "output_type": "stream",
     "text": [
      "Num timesteps=100, \t time serial = 0.5520718097686768\n",
      "Num timesteps=100, \t time parallel = 0.27495622634887695\n",
      "Num timesteps=200, \t time serial = 0.5372998714447021\n",
      "Num timesteps=200, \t time parallel = 0.29311299324035645\n",
      "Num timesteps=500, \t time serial = 0.5538558959960938\n",
      "Num timesteps=500, \t time parallel = 0.34401488304138184\n"
     ]
    }
   ],
   "source": [
    "key = jr.PRNGKey(0)\n",
    "if cpu_mode:\n",
    "    Ts = [100, 200, 500]\n",
    "    num_repeats = 1\n",
    "else:\n",
    "    Ts = [100, 1_000, 10_000, 100_000]\n",
    "    num_repeats = 3\n",
    "serial_smoothing_durations = []\n",
    "parallel_smoothing_durations = []\n",
    "compiled = False\n",
    "\n",
    "for T in Ts:\n",
    "    \n",
    "    key, subkey = jr.split(key)\n",
    "    z,emissions = lgssm.sample(params, subkey, T)\n",
    "\n",
    "    if not compiled:\n",
    "        ssm_posterior = block_until_ready(lgssm_smoother(params, emissions))\n",
    "        parallel_posterior = block_until_ready(parallel_lgssm_smoother(params, emissions))\n",
    "    \n",
    "    start = time.time()\n",
    "    for _ in range(num_repeats):\n",
    "        ssm_posterior = block_until_ready(lgssm_smoother(params, emissions))\n",
    "    end = time.time()\n",
    "    mean_time = (end-start)/num_repeats\n",
    "    serial_smoothing_durations.append(mean_time)\n",
    "    print(f\"Num timesteps={T}, \\t time serial = {mean_time}\")\n",
    "    \n",
    "    start = time.time()\n",
    "    for _ in range(num_repeats):\n",
    "        parallel_posterior = block_until_ready(parallel_lgssm_smoother(params, emissions))\n",
    "    end = time.time()\n",
    "    mean_time = (end-start)/num_repeats\n",
    "    parallel_smoothing_durations.append(mean_time)\n",
    "    print(f\"Num timesteps={T}, \\t time parallel = {mean_time}\")"
   ]
  },
  {
   "cell_type": "code",
   "execution_count": 16,
   "id": "eCyil2PbNdEG",
   "metadata": {
    "colab": {
     "base_uri": "https://localhost:8080/",
     "height": 369
    },
    "id": "eCyil2PbNdEG",
    "outputId": "ec99476b-7bc4-48f3-86fa-7112417596de"
   },
   "outputs": [
    {
     "data": {
      "image/png": "[encoded data removed]",
      "text/plain": [
       "<Figure size 360x360 with 1 Axes>"
      ]
     },
     "metadata": {
      "needs_background": "light"
     },
     "output_type": "display_data"
    }
   ],
   "source": [
    "plt.figure(figsize=(5, 5))\n",
    "plt.loglog(Ts, serial_smoothing_durations, '-o', label='serial')\n",
    "plt.loglog(Ts, parallel_smoothing_durations, '-o', label='parallel')\n",
    "plt.xticks(Ts)\n",
    "plt.xlabel(\"seq. length\")\n",
    "plt.ylabel(\"time per forward pass (s)\")\n",
    "plt.grid(True)\n",
    "plt.legend()\n",
    "plt.tight_layout()"
   ]
  }
 ],
 "metadata": {
  "accelerator": "GPU",
  "colab": {
   "collapsed_sections": [],
   "provenance": []
  },
  "kernelspec": {
   "display_name": "Python 3.9.6 ('dynamax')",
   "language": "python",
   "name": "python3"
  },
  "language_info": {
   "codemirror_mode": {
    "name": "ipython",
    "version": 3
   },
   "file_extension": ".py",
   "mimetype": "text/x-python",
   "name": "python",
   "nbconvert_exporter": "python",
   "pygments_lexer": "ipython3",
   "version": "3.9.6"
  },
  "vscode": {
   "interpreter": {
    "hash": "92401d49bd83f70620e540b668b7091047c2ca041ed5ff6cc3954130de9aa1fc"
   }
  }
 },
 "nbformat": 4,
 "nbformat_minor": 5
}
