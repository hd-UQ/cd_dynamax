{
 "cells": [
  {
   "cell_type": "markdown",
   "metadata": {
    "id": "FwspQ4wDgnp3"
   },
   "source": [
    "# Online linear regression using Kalman filtering\n",
    "\n",
    "We perform sequential (recursive) Bayesian inference for the parameters of a linear regression model\n",
    "using the Kalman filter. (This algorithm is also known as recursive least squares.)\n",
    "To do this, we treat the parameters of the model as the unknown hidden states.\n",
    "We assume that these are constant over time.\n",
    "The graphical model is shown below.\n",
    "\n",
    "![RLS](https://github.com/probml/dynamax/blob/main/docs/figures/rlsDgm.png?raw=true)\n",
    "\n",
    "The model has the following form\n",
    "\n",
    "\\begin{align*}\n",
    "\\theta_t &=  \\theta_{t-1}  \\\\\n",
    "y_t &= x_t^T \\theta_t + r_t, \\; r_t \\sim N(0, \\sigma^2)\n",
    "\\end{align*}\n",
    "\n",
    "This is a LG-SSM, where $F=I$, $Q=0$, $H_t = x_t^T$ and $R = \\sigma^2$.\n"
   ]
  },
  {
   "cell_type": "markdown",
   "metadata": {},
   "source": [
    "## Setup"
   ]
  },
  {
   "cell_type": "code",
   "execution_count": 1,
   "metadata": {
    "tags": [
     "hide-cell"
    ]
   },
   "outputs": [],
   "source": [
    "%%capture\n",
    "try:\n",
    "    import dynamax\n",
    "except ModuleNotFoundError:\n",
    "    print('installing dynamax')\n",
    "    %pip install dynamax[notebooks]\n",
    "    import dynamax"
   ]
  },
  {
   "cell_type": "code",
   "execution_count": 6,
   "metadata": {},
   "outputs": [],
   "source": [
    "from jax import numpy as jnp\n",
    "from matplotlib import pyplot as plt\n",
    "from dynamax.linear_gaussian_ssm import LinearGaussianSSM"
   ]
  },
  {
   "cell_type": "markdown",
   "metadata": {},
   "source": [
    "## Data\n",
    "\n",
    "Data is from https://github.com/probml/pmtk3/blob/master/demos/linregOnlineDemoKalman.m\n"
   ]
  },
  {
   "cell_type": "code",
   "execution_count": 4,
   "metadata": {},
   "outputs": [],
   "source": [
    "n_obs = 21\n",
    "x = jnp.linspace(0, 20, n_obs)\n",
    "X = jnp.column_stack((jnp.ones_like(x), x))  # Design matrix.\n",
    "y = jnp.array(\n",
    "    [2.486, -0.303, -4.053, -4.336, -6.174, -5.604, -3.507, -2.326, -4.638, -0.233, -1.986, 1.028, -2.264,\n",
    "     -0.451, 1.167, 6.652, 4.145, 5.268, 6.34, 9.626, 14.784])"
   ]
  },
  {
   "cell_type": "markdown",
   "metadata": {},
   "source": [
    "## Model"
   ]
  },
  {
   "cell_type": "code",
   "execution_count": 7,
   "metadata": {},
   "outputs": [],
   "source": [
    "F = jnp.eye(2)\n",
    "Q = jnp.zeros((2, 2))  # No parameter drift.\n",
    "obs_var = 1.0\n",
    "R = jnp.ones((1, 1)) * obs_var\n",
    "mu0 = jnp.zeros(2)\n",
    "Sigma0 = jnp.eye(2) * 10.0\n",
    "\n",
    "\n",
    "# the input_dim = 0 since we encode the covariates into the non-stationary emission matrix\n",
    "lgssm = LinearGaussianSSM(state_dim = 2, emission_dim = 1, input_dim = 0)\n",
    "params, _ = lgssm.initialize(\n",
    "    initial_mean=mu0,\n",
    "    initial_covariance=Sigma0,\n",
    "    dynamics_weights=F,\n",
    "    dynamics_covariance=Q,\n",
    "    emission_weights=X[:, None, :], # (t, 1, D) where D = num input features\n",
    "    emission_covariance=R,\n",
    "    )"
   ]
  },
  {
   "cell_type": "markdown",
   "metadata": {},
   "source": [
    "## Online inference"
   ]
  },
  {
   "cell_type": "code",
   "execution_count": 8,
   "metadata": {},
   "outputs": [],
   "source": [
    "lgssm_posterior = lgssm.filter(params, y[:, None]) # reshape y to be (T,1)\n",
    "kf_results = (lgssm_posterior.filtered_means, lgssm_posterior.filtered_covariances)"
   ]
  },
  {
   "cell_type": "markdown",
   "metadata": {},
   "source": [
    "## Offline inferenece\n",
    "\n",
    "We compute the offline posterior given all the data using Bayes rule for linear regression.\n",
    "This should give the same results as the final step of online inference."
   ]
  },
  {
   "cell_type": "code",
   "execution_count": 9,
   "metadata": {},
   "outputs": [],
   "source": [
    "posterior_prec = jnp.linalg.inv(Sigma0) + X.T @ X / obs_var\n",
    "b = jnp.linalg.inv(Sigma0) @ mu0 + X.T @ y / obs_var\n",
    "posterior_mean = jnp.linalg.solve(posterior_prec, b)\n",
    "batch_results = (posterior_mean, posterior_prec)\n"
   ]
  },
  {
   "cell_type": "markdown",
   "metadata": {},
   "source": [
    "## Plot results"
   ]
  },
  {
   "cell_type": "code",
   "execution_count": 10,
   "metadata": {},
   "outputs": [
    {
     "data": {
      "text/plain": [
       "<matplotlib.legend.Legend at 0x7ff4ba3527f0>"
      ]
     },
     "execution_count": 10,
     "metadata": {},
     "output_type": "execute_result"
    },
    {
     "data": {
      "image/png": "[encoded data removed]",
      "text/plain": [
       "<Figure size 432x288 with 1 Axes>"
      ]
     },
     "metadata": {
      "needs_background": "light"
     },
     "output_type": "display_data"
    }
   ],
   "source": [
    "# Unpack kalman filter results\n",
    "post_weights_kf, post_sigma_kf = kf_results\n",
    "w0_kf_hist, w1_kf_hist = post_weights_kf.T\n",
    "w0_kf_err, w1_kf_err = jnp.sqrt(post_sigma_kf[:, [0, 1], [0, 1]].T)\n",
    "\n",
    "# Unpack batch results\n",
    "post_weights_batch, post_prec_batch = batch_results\n",
    "w0_post_batch, w1_post_batch = post_weights_batch\n",
    "Sigma_post_batch = jnp.linalg.inv(post_prec_batch)\n",
    "w0_std_batch, w1_std_batch = jnp.sqrt(Sigma_post_batch[[0, 1], [0, 1]])\n",
    "\n",
    "fig, ax = plt.subplots()\n",
    "timesteps = jnp.arange(len(w0_kf_hist))\n",
    "\n",
    "# Plot online kalman filter posterior.\n",
    "ax.errorbar(timesteps, w0_kf_hist, w0_kf_err, fmt=\"-o\", label=\"$w_0$\", color=\"black\", fillstyle=\"none\")\n",
    "ax.errorbar(timesteps, w1_kf_hist, w1_kf_err, fmt=\"-o\", label=\"$w_1$\", color=\"tab:red\")\n",
    "\n",
    "# Plot batch posterior.\n",
    "ax.hlines(y=w0_post_batch, xmin=timesteps[0], xmax=timesteps[-1], color=\"black\", label=\"$w_0$ batch\")\n",
    "ax.hlines(\n",
    "    y=w1_post_batch, xmin=timesteps[0], xmax=timesteps[-1], color=\"tab:red\", linestyle=\"--\", label=\"$w_1$ batch\"\n",
    ")\n",
    "ax.fill_between(timesteps, w0_post_batch - w0_std_batch, w0_post_batch + w0_std_batch, color=\"black\", alpha=0.4)\n",
    "ax.fill_between(timesteps, w1_post_batch - w1_std_batch, w1_post_batch + w1_std_batch, color=\"tab:red\", alpha=0.4)\n",
    "\n",
    "ax.set_xlabel(\"time\")\n",
    "ax.set_ylabel(\"weights\")\n",
    "ax.legend()"
   ]
  }
 ],
 "metadata": {
  "colab": {
   "authorship_tag": "ABX9TyN4dvUxy8Wa47jRSgEmjp1p",
   "include_colab_link": true,
   "name": "kf_linreg.ipynb",
   "provenance": []
  },
  "kernelspec": {
   "display_name": "Python 3.9.6 ('dynamax')",
   "language": "python",
   "name": "python3"
  },
  "language_info": {
   "codemirror_mode": {
    "name": "ipython",
    "version": 3
   },
   "file_extension": ".py",
   "mimetype": "text/x-python",
   "name": "python",
   "nbconvert_exporter": "python",
   "pygments_lexer": "ipython3",
   "version": "3.9.6"
  },
  "vscode": {
   "interpreter": {
    "hash": "92401d49bd83f70620e540b668b7091047c2ca041ed5ff6cc3954130de9aa1fc"
   }
  }
 },
 "nbformat": 4,
 "nbformat_minor": 0
}
