{
 "cells": [
  {
   "cell_type": "markdown",
   "metadata": {
    "id": "FwspQ4wDgnp3"
   },
   "source": [
    "# MAP parameter estimation for an LG-SSM using EM and SGD\n",
    "\n",
    "\n"
   ]
  },
  {
   "cell_type": "markdown",
   "metadata": {},
   "source": [
    "## Setup"
   ]
  },
  {
   "cell_type": "code",
   "execution_count": 13,
   "metadata": {
    "tags": [
     "hide-cell"
    ]
   },
   "outputs": [],
   "source": [
    "%%capture\n",
    "try:\n",
    "    import dynamax\n",
    "except ModuleNotFoundError:\n",
    "    print('installing dynamax')\n",
    "    #%pip install -q dynamax[notebooks]\n",
    "    #import dynamax\n",
    "    import sys\n",
    "    sys.path.append('../../..') \n",
    "    import dynamax"
   ]
  },
  {
   "cell_type": "code",
   "execution_count": 14,
   "metadata": {},
   "outputs": [
    {
     "ename": "ImportError",
     "evalue": "cannot import name 'bijectors' from partially initialized module 'tensorflow_probability.substrates.jax' (most likely due to a circular import) (/home/iurteaga/miniconda3/envs/hduq/lib/python3.11/site-packages/tensorflow_probability/substrates/jax/__init__.py)",
     "output_type": "error",
     "traceback": [
      "\u001b[0;31m---------------------------------------------------------------------------\u001b[0m",
      "\u001b[0;31mImportError\u001b[0m                               Traceback (most recent call last)",
      "Cell \u001b[0;32mIn[14], line 5\u001b[0m\n\u001b[1;32m      2\u001b[0m \u001b[38;5;28;01mimport\u001b[39;00m \u001b[38;5;21;01mjax\u001b[39;00m\u001b[38;5;21;01m.\u001b[39;00m\u001b[38;5;21;01mrandom\u001b[39;00m \u001b[38;5;28;01mas\u001b[39;00m \u001b[38;5;21;01mjr\u001b[39;00m\n\u001b[1;32m      3\u001b[0m \u001b[38;5;28;01mfrom\u001b[39;00m \u001b[38;5;21;01mmatplotlib\u001b[39;00m \u001b[38;5;28;01mimport\u001b[39;00m pyplot \u001b[38;5;28;01mas\u001b[39;00m plt\n\u001b[0;32m----> 5\u001b[0m \u001b[38;5;28;01mfrom\u001b[39;00m \u001b[38;5;21;01mdynamax\u001b[39;00m\u001b[38;5;21;01m.\u001b[39;00m\u001b[38;5;21;01mlinear_gaussian_ssm\u001b[39;00m \u001b[38;5;28;01mimport\u001b[39;00m LinearGaussianConjugateSSM\n\u001b[1;32m      6\u001b[0m \u001b[38;5;28;01mfrom\u001b[39;00m \u001b[38;5;21;01mdynamax\u001b[39;00m\u001b[38;5;21;01m.\u001b[39;00m\u001b[38;5;21;01mutils\u001b[39;00m\u001b[38;5;21;01m.\u001b[39;00m\u001b[38;5;21;01mutils\u001b[39;00m \u001b[38;5;28;01mimport\u001b[39;00m monotonically_increasing\n",
      "File \u001b[0;32m~/BCAM/academic/projects/hybrid_dynamics_uq/docs/notebooks/linear_gaussian_ssm/../../../dynamax/linear_gaussian_ssm/__init__.py:1\u001b[0m\n\u001b[0;32m----> 1\u001b[0m \u001b[38;5;28;01mfrom\u001b[39;00m \u001b[38;5;21;01mdynamax\u001b[39;00m\u001b[38;5;21;01m.\u001b[39;00m\u001b[38;5;21;01mlinear_gaussian_ssm\u001b[39;00m\u001b[38;5;21;01m.\u001b[39;00m\u001b[38;5;21;01minference\u001b[39;00m \u001b[38;5;28;01mimport\u001b[39;00m ParamsLGSSM\n\u001b[1;32m      2\u001b[0m \u001b[38;5;28;01mfrom\u001b[39;00m \u001b[38;5;21;01mdynamax\u001b[39;00m\u001b[38;5;21;01m.\u001b[39;00m\u001b[38;5;21;01mlinear_gaussian_ssm\u001b[39;00m\u001b[38;5;21;01m.\u001b[39;00m\u001b[38;5;21;01minference\u001b[39;00m \u001b[38;5;28;01mimport\u001b[39;00m ParamsLGSSMInitial\n\u001b[1;32m      3\u001b[0m \u001b[38;5;28;01mfrom\u001b[39;00m \u001b[38;5;21;01mdynamax\u001b[39;00m\u001b[38;5;21;01m.\u001b[39;00m\u001b[38;5;21;01mlinear_gaussian_ssm\u001b[39;00m\u001b[38;5;21;01m.\u001b[39;00m\u001b[38;5;21;01minference\u001b[39;00m \u001b[38;5;28;01mimport\u001b[39;00m ParamsLGSSMDynamics\n",
      "File \u001b[0;32m~/BCAM/academic/projects/hybrid_dynamics_uq/docs/notebooks/linear_gaussian_ssm/../../../dynamax/linear_gaussian_ssm/inference.py:4\u001b[0m\n\u001b[1;32m      2\u001b[0m \u001b[38;5;28;01mimport\u001b[39;00m \u001b[38;5;21;01mjax\u001b[39;00m\u001b[38;5;21;01m.\u001b[39;00m\u001b[38;5;21;01mrandom\u001b[39;00m \u001b[38;5;28;01mas\u001b[39;00m \u001b[38;5;21;01mjr\u001b[39;00m\n\u001b[1;32m      3\u001b[0m \u001b[38;5;28;01mfrom\u001b[39;00m \u001b[38;5;21;01mjax\u001b[39;00m \u001b[38;5;28;01mimport\u001b[39;00m lax\n\u001b[0;32m----> 4\u001b[0m \u001b[38;5;28;01mfrom\u001b[39;00m \u001b[38;5;21;01mtensorflow_probability\u001b[39;00m\u001b[38;5;21;01m.\u001b[39;00m\u001b[38;5;21;01msubstrates\u001b[39;00m\u001b[38;5;21;01m.\u001b[39;00m\u001b[38;5;21;01mjax\u001b[39;00m\u001b[38;5;21;01m.\u001b[39;00m\u001b[38;5;21;01mdistributions\u001b[39;00m \u001b[38;5;28;01mimport\u001b[39;00m MultivariateNormalFullCovariance \u001b[38;5;28;01mas\u001b[39;00m MVN\n\u001b[1;32m      5\u001b[0m \u001b[38;5;28;01mfrom\u001b[39;00m \u001b[38;5;21;01mfunctools\u001b[39;00m \u001b[38;5;28;01mimport\u001b[39;00m wraps\n\u001b[1;32m      6\u001b[0m \u001b[38;5;28;01mimport\u001b[39;00m \u001b[38;5;21;01minspect\u001b[39;00m\n",
      "File \u001b[0;32m~/miniconda3/envs/hduq/lib/python3.11/site-packages/tensorflow_probability/substrates/jax/__init__.py:45\u001b[0m\n\u001b[1;32m     43\u001b[0m \u001b[38;5;28;01mfrom\u001b[39;00m \u001b[38;5;21;01mtensorflow_probability\u001b[39;00m\u001b[38;5;21;01m.\u001b[39;00m\u001b[38;5;21;01mpython\u001b[39;00m\u001b[38;5;21;01m.\u001b[39;00m\u001b[38;5;21;01mversion\u001b[39;00m \u001b[38;5;28;01mimport\u001b[39;00m __version__\n\u001b[1;32m     44\u001b[0m \u001b[38;5;66;03m# from tensorflow_probability.substrates.jax.google import staging  # DisableOnExport  # pylint:disable=line-too-long\u001b[39;00m\n\u001b[0;32m---> 45\u001b[0m \u001b[38;5;28;01mfrom\u001b[39;00m \u001b[38;5;21;01mtensorflow_probability\u001b[39;00m\u001b[38;5;21;01m.\u001b[39;00m\u001b[38;5;21;01msubstrates\u001b[39;00m\u001b[38;5;21;01m.\u001b[39;00m\u001b[38;5;21;01mjax\u001b[39;00m \u001b[38;5;28;01mimport\u001b[39;00m bijectors\n\u001b[1;32m     46\u001b[0m \u001b[38;5;28;01mfrom\u001b[39;00m \u001b[38;5;21;01mtensorflow_probability\u001b[39;00m\u001b[38;5;21;01m.\u001b[39;00m\u001b[38;5;21;01msubstrates\u001b[39;00m\u001b[38;5;21;01m.\u001b[39;00m\u001b[38;5;21;01mjax\u001b[39;00m \u001b[38;5;28;01mimport\u001b[39;00m distributions\n\u001b[1;32m     47\u001b[0m \u001b[38;5;28;01mfrom\u001b[39;00m \u001b[38;5;21;01mtensorflow_probability\u001b[39;00m\u001b[38;5;21;01m.\u001b[39;00m\u001b[38;5;21;01msubstrates\u001b[39;00m\u001b[38;5;21;01m.\u001b[39;00m\u001b[38;5;21;01mjax\u001b[39;00m \u001b[38;5;28;01mimport\u001b[39;00m experimental\n",
      "\u001b[0;31mImportError\u001b[0m: cannot import name 'bijectors' from partially initialized module 'tensorflow_probability.substrates.jax' (most likely due to a circular import) (/home/iurteaga/miniconda3/envs/hduq/lib/python3.11/site-packages/tensorflow_probability/substrates/jax/__init__.py)"
     ]
    }
   ],
   "source": [
    "from jax import numpy as jnp\n",
    "import jax.random as jr\n",
    "from matplotlib import pyplot as plt\n",
    "\n",
    "from dynamax.linear_gaussian_ssm import LinearGaussianConjugateSSM\n",
    "from dynamax.utils.utils import monotonically_increasing"
   ]
  },
  {
   "cell_type": "markdown",
   "metadata": {},
   "source": [
    "## Data\n",
    "\n"
   ]
  },
  {
   "cell_type": "code",
   "execution_count": null,
   "metadata": {},
   "outputs": [],
   "source": [
    "state_dim=2\n",
    "emission_dim=10\n",
    "num_timesteps=100\n",
    "key = jr.PRNGKey(0)\n",
    "\n",
    "true_model = LinearGaussianConjugateSSM(state_dim, emission_dim)\n",
    "key, key_root = jr.split(key)\n",
    "true_params, param_props = true_model.initialize(key)\n",
    "\n",
    "key, key_root = jr.split(key)\n",
    "true_states, emissions = true_model.sample(true_params, key, num_timesteps)\n",
    "\n",
    "# Plot the true states and emissions\n",
    "fig, ax = plt.subplots(figsize=(10, 8))\n",
    "ax.plot(emissions + 3 * jnp.arange(emission_dim))\n",
    "ax.set_ylabel(\"data\")\n",
    "ax.set_xlabel(\"time\")\n",
    "ax.set_xlim(0, num_timesteps - 1)"
   ]
  },
  {
   "cell_type": "markdown",
   "metadata": {},
   "source": [
    "## Plot results"
   ]
  },
  {
   "cell_type": "code",
   "execution_count": null,
   "metadata": {},
   "outputs": [],
   "source": [
    "def plot_learning_curve(marginal_lls, true_model, true_params, test_model, test_params, emissions):\n",
    "    plt.figure()\n",
    "    plt.xlabel(\"iteration\")\n",
    "    nsteps = len(marginal_lls)\n",
    "    plt.plot(marginal_lls, label=\"estimated\")\n",
    "    true_logjoint = (true_model.log_prior(true_params) + true_model.marginal_log_prob(true_params, emissions))\n",
    "    plt.axhline(true_logjoint, color = 'k', linestyle = ':', label=\"true\")\n",
    "    plt.ylabel(\"marginal joint probability\")\n",
    "    plt.legend()"
   ]
  },
  {
   "cell_type": "code",
   "execution_count": null,
   "metadata": {},
   "outputs": [],
   "source": [
    "def plot_predictions(true_model, true_params, test_model, test_params, emissions):\n",
    "    smoothed_emissions, smoothed_emissions_std = test_model.posterior_predictive(test_params, emissions)\n",
    "\n",
    "    spc = 3\n",
    "    plt.figure(figsize=(10, 4))\n",
    "    for i in range(emission_dim):\n",
    "        plt.plot(emissions[:, i] + spc * i, \"--k\", label=\"observed\" if i == 0 else None)\n",
    "        ln = plt.plot(smoothed_emissions[:, i] + spc * i,\n",
    "                        label=\"smoothed\" if i == 0 else None)[0]\n",
    "        plt.fill_between(\n",
    "            jnp.arange(num_timesteps),\n",
    "            spc * i + smoothed_emissions[:, i] - 2 * smoothed_emissions_std[i],\n",
    "            spc * i + smoothed_emissions[:, i] + 2 * smoothed_emissions_std[i],\n",
    "            color=ln.get_color(),\n",
    "            alpha=0.25,\n",
    "        )\n",
    "    plt.xlabel(\"time\")\n",
    "    plt.xlim(0, num_timesteps - 1)\n",
    "    plt.ylabel(\"true and predicted emissions\")\n",
    "    plt.legend()\n",
    "    plt.show()"
   ]
  },
  {
   "cell_type": "code",
   "execution_count": null,
   "metadata": {},
   "outputs": [],
   "source": [
    "# Plot predictions from a random, untrained model\n",
    "\n",
    "test_model = LinearGaussianConjugateSSM(state_dim, emission_dim)\n",
    "key = jr.PRNGKey(42)\n",
    "test_params, param_props = test_model.initialize(key)\n",
    "\n",
    "plot_predictions(true_model, true_params, test_model, test_params, emissions)\n"
   ]
  },
  {
   "cell_type": "markdown",
   "metadata": {},
   "source": [
    "## Fit with EM"
   ]
  },
  {
   "cell_type": "code",
   "execution_count": null,
   "metadata": {},
   "outputs": [],
   "source": [
    "test_model = LinearGaussianConjugateSSM(state_dim, emission_dim)\n",
    "key = jr.PRNGKey(42)\n",
    "test_params, param_props = test_model.initialize(key)\n",
    "num_iters = 100\n",
    "test_params, marginal_lls = test_model.fit_em(test_params, param_props, emissions, num_iters=num_iters)\n",
    "\n",
    "assert monotonically_increasing(marginal_lls, atol=1e-2, rtol=1e-2)"
   ]
  },
  {
   "cell_type": "code",
   "execution_count": null,
   "metadata": {},
   "outputs": [],
   "source": [
    "plot_learning_curve(marginal_lls, true_model, true_params, test_model, test_params, emissions)\n",
    "plot_predictions(true_model, true_params, test_model, test_params, emissions)"
   ]
  },
  {
   "cell_type": "markdown",
   "metadata": {},
   "source": [
    "## Fit with SGD"
   ]
  },
  {
   "cell_type": "code",
   "execution_count": null,
   "metadata": {},
   "outputs": [],
   "source": [
    "test_model = LinearGaussianConjugateSSM(state_dim, emission_dim)\n",
    "key = jr.PRNGKey(42)\n",
    "num_iters = 100\n",
    "test_params, param_props = test_model.initialize(key)\n",
    "\n",
    "test_params, neg_marginal_lls = test_model.fit_sgd(test_params, param_props, emissions, num_epochs=num_iters * 20)\n",
    "marginal_lls = -neg_marginal_lls * emissions.size"
   ]
  },
  {
   "cell_type": "code",
   "execution_count": null,
   "metadata": {},
   "outputs": [],
   "source": [
    "plot_learning_curve(marginal_lls, true_model, true_params, test_model, test_params, emissions)\n",
    "plot_predictions(true_model, true_params, test_model, test_params, emissions)"
   ]
  }
 ],
 "metadata": {
  "colab": {
   "authorship_tag": "ABX9TyN4dvUxy8Wa47jRSgEmjp1p",
   "include_colab_link": true,
   "name": "kf_linreg.ipynb",
   "provenance": []
  },
  "kernelspec": {
   "display_name": "Python 3 (ipykernel)",
   "language": "python",
   "name": "python3"
  },
  "language_info": {
   "codemirror_mode": {
    "name": "ipython",
    "version": 3
   },
   "file_extension": ".py",
   "mimetype": "text/x-python",
   "name": "python",
   "nbconvert_exporter": "python",
   "pygments_lexer": "ipython3",
   "version": "3.11.4"
  },
  "vscode": {
   "interpreter": {
    "hash": "aee8b7b246df8f9039afb4144a1f6fd8d2ca17a180786b69acc140d282b71a49"
   }
  }
 },
 "nbformat": 4,
 "nbformat_minor": 1
}
