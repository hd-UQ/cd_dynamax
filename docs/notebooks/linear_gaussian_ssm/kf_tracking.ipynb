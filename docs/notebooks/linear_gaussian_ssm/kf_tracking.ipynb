{
 "cells": [
  {
   "cell_type": "markdown",
   "id": "92e34046",
   "metadata": {
    "id": "92e34046"
   },
   "source": [
    "# Tracking an object using the Kalman filter\n",
    "\n",
    "\n"
   ]
  },
  {
   "cell_type": "markdown",
   "id": "17072519",
   "metadata": {},
   "source": [
    "\n",
    "Consider an object moving in $R^2$.\n",
    "We assume that we observe a noisy version of its location at each time step.\n",
    "We want to track the object and possibly forecast its future motion.\n",
    "We now show how to do this using a simple linear Gaussian SSM, combined with \n",
    "the Kalman filter algorithm.\n",
    "\n",
    "Let the hidden state represent\n",
    "the position and velocity of the object,\n",
    "$z_t =\\begin{pmatrix} u_t & \\dot{u}_t & v_t & \\dot{v}_t \\end{pmatrix}$.\n",
    "(We use $u$ and $v$ for the two coordinates,\n",
    "to avoid confusion with the state and observation variables.)\n",
    "The process evolves in continuous time, but if we discretize it with step size $\\Delta$,\n",
    "we can write the dynamics as the following linear system:\n",
    "\n",
    "\\begin{align}\n",
    "\\underbrace{\\begin{pmatrix} u_t\\\\ \\dot{u}_t \\\\ v_t \\\\ \\dot{v}_t \\end{pmatrix}}_{z_t}\n",
    "  = \n",
    "\\underbrace{\n",
    "\\begin{pmatrix}\n",
    "1 & 0 & \\Delta & 0 \\\\\n",
    "0 & 1 & 0 & \\Delta\\\\\n",
    "0 & 0 & 1 & 0 \\\\\n",
    "0 & 0 & 0 & 1\n",
    "\\end{pmatrix}\n",
    "}_{F}\n",
    "\\underbrace{\\begin{pmatrix} u_{t-1} \\\\ \\dot{u}_{t-1} \\\\ v_{t-1} \\\\ \\dot{v}_{t-1} \\end{pmatrix}}_{z_{t-1}}\n",
    "+ q_t\n",
    "\\end{align}\n",
    "\n",
    "where $q_t \\in R^4$ is the process noise, which we assume is Gaussian,\n",
    "so  $q_t \\sim N(0,Q)$.\n"
   ]
  },
  {
   "cell_type": "markdown",
   "id": "f6460e76",
   "metadata": {},
   "source": [
    "\n",
    "\n",
    "Now suppose that at each discrete time point we\n",
    "observe the location (but not the velocity).\n",
    "We assume the observation is corrupted by  Gaussian noise.\n",
    "Thus the observation model becomes\n",
    "\n",
    "\\begin{align}\n",
    "\\underbrace{\\begin{pmatrix}  y_{1,t} \\\\  y_{2,t} \\end{pmatrix}}_{y_t}\n",
    "  &=\n",
    "    \\underbrace{\n",
    "    \\begin{pmatrix}\n",
    "1 & 0 & 0 & 0 \\\\\n",
    "0 & 0 & 1 & 0\n",
    "    \\end{pmatrix}\n",
    "    }_{H}\n",
    "    \n",
    "\\underbrace{\\begin{pmatrix} u_t\\\\ \\dot{u}_t \\\\ v_t \\\\ \\dot{v}_t \\end{pmatrix}}_{z_t}    \n",
    " + r_t\n",
    "\\end{align}\n",
    "\n",
    "where $r_t \\sim N(0,R)$ is the observation noise.\n",
    "We see that the observation matrix $H$ simply ``extracts'' the\n",
    "relevant parts  of the state vector.\n",
    "\n"
   ]
  },
  {
   "cell_type": "markdown",
   "id": "ce5fdeca",
   "metadata": {},
   "source": [
    "# Setup"
   ]
  },
  {
   "cell_type": "code",
   "execution_count": 1,
   "id": "iCSsZdpXLme0",
   "metadata": {
    "colab": {
     "base_uri": "https://localhost:8080/"
    },
    "id": "iCSsZdpXLme0",
    "outputId": "bf28b24b-0476-4b9d-95e6-99b3a40849a2"
   },
   "outputs": [],
   "source": [
    "\n",
    "\n",
    "try:\n",
    "    import dynamax\n",
    "except ModuleNotFoundError:\n",
    "    print('installing dynamax')\n",
    "    %pip install -qq git+https://github.com/probml/dynamax.git\n",
    "    import dynamax"
   ]
  },
  {
   "cell_type": "code",
   "execution_count": 2,
   "id": "KFpcV2mCL1DN",
   "metadata": {
    "id": "KFpcV2mCL1DN"
   },
   "outputs": [],
   "source": [
    "# Silence WARNING:root:The use of `check_types` is deprecated and does not have any effect.\n",
    "# https://github.com/tensorflow/probability/issues/1523\n",
    "import logging\n",
    "\n",
    "logger = logging.getLogger()\n",
    "\n",
    "\n",
    "class CheckTypesFilter(logging.Filter):\n",
    "    def filter(self, record):\n",
    "        return \"check_types\" not in record.getMessage()\n",
    "\n",
    "\n",
    "logger.addFilter(CheckTypesFilter())"
   ]
  },
  {
   "cell_type": "code",
   "execution_count": 3,
   "id": "6eb6c0e6",
   "metadata": {},
   "outputs": [],
   "source": [
    "from jax import numpy as jnp\n",
    "from jax import random as jr\n",
    "from matplotlib import pyplot as plt\n",
    "\n",
    "from dynamax.plotting import plot_lgssm_posterior\n",
    "from dynamax.linear_gaussian_ssm.models.linear_gaussian_ssm import LinearGaussianSSM\n",
    "from dynamax.linear_gaussian_ssm.inference import LGSSMParams, lgssm_smoother, lgssm_filter\n",
    "from dynamax.linear_gaussian_ssm.demos.kf_tracking import kf_tracking, plot_kf_tracking"
   ]
  },
  {
   "cell_type": "markdown",
   "id": "118e3213",
   "metadata": {},
   "source": [
    "# Create the model"
   ]
  },
  {
   "cell_type": "code",
   "execution_count": 4,
   "id": "c0fcda3e",
   "metadata": {},
   "outputs": [],
   "source": [
    "\n",
    "\n",
    "state_dim = 4\n",
    "emission_dim = 2\n",
    "delta = 1.0\n",
    "\n",
    "# Create object\n",
    "lgssm = LinearGaussianSSM(state_dim, emission_dim)\n",
    "\n",
    "# Random model parameters\n",
    "params, _ = lgssm.random_initialization(jr.PRNGKey(0))\n",
    "\n",
    "# Manually chosen parameters\n",
    "mu0 = jnp.array([8.0, 10.0, 1.0, 0.0])\n",
    "Sigma0 = jnp.eye(state_dim) * 0.1\n",
    "F  = jnp.array([[1, 0, delta, 0],\n",
    "                [0, 1, 0, delta],\n",
    "                [0, 0, 1, 0],\n",
    "                [0, 0, 0, 1]])\n",
    "Q = jnp.eye(state_dim) * 0.001\n",
    "H = jnp.array([[1.0, 0, 0, 0],\n",
    "                [0, 1.0, 0, 0]])\n",
    "R = jnp.eye(emission_dim) * 1.0\n",
    "\n",
    "params['initial']['mean'] = mu0\n",
    "params['initial']['cov'] = Sigma0\n",
    "params['dynamics']['weights'] = F\n",
    "params['dynamics']['cov'] = Q\n",
    "params['emissions']['weights'] = H\n",
    "params['emissions']['cov'] = R"
   ]
  },
  {
   "cell_type": "markdown",
   "id": "81a28d0d",
   "metadata": {},
   "source": [
    "# Sample some data from the model"
   ]
  },
  {
   "cell_type": "code",
   "execution_count": 6,
   "id": "8f108dd3",
   "metadata": {},
   "outputs": [
    {
     "data": {
      "text/plain": [
       "<matplotlib.legend.Legend at 0x7fcf21c62e50>"
      ]
     },
     "execution_count": 6,
     "metadata": {},
     "output_type": "execute_result"
    },
    {
     "data": {
      "image/png": "[encoded data removed]",
      "text/plain": [
       "<Figure size 432x288 with 1 Axes>"
      ]
     },
     "metadata": {
      "needs_background": "light"
     },
     "output_type": "display_data"
    }
   ],
   "source": [
    "num_timesteps = 15\n",
    "key = jr.PRNGKey(310)\n",
    "x, y = lgssm.sample(params, key, num_timesteps)\n",
    "\n",
    "# Plot Data\n",
    "observation_marker_kwargs = {\"marker\": \"o\", \"markerfacecolor\": \"none\", \"markeredgewidth\": 2, \"markersize\": 8}\n",
    "fig1, ax1 = plt.subplots()\n",
    "ax1.plot(*x[:, :2].T, marker=\"s\", color=\"C0\", label=\"true state\")\n",
    "ax1.plot(*y.T, ls=\"\", **observation_marker_kwargs, color=\"tab:green\", label=\"emissions\")\n",
    "ax1.legend(loc=\"upper left\")\n",
    "\n"
   ]
  },
  {
   "cell_type": "markdown",
   "id": "53862c48",
   "metadata": {},
   "source": [
    "# Perform online filtering\n",
    "\n"
   ]
  },
  {
   "cell_type": "code",
   "execution_count": 13,
   "id": "fab5d4e3",
   "metadata": {},
   "outputs": [
    {
     "name": "stdout",
     "output_type": "stream",
     "text": [
      "['marginal_loglik', 'filtered_means', 'filtered_covariances', 'smoothed_means', 'smoothed_covariances', 'smoothed_cross_covariances']\n",
      "(15, 4)\n",
      "(15, 4, 4)\n",
      "-43.13845\n"
     ]
    }
   ],
   "source": [
    "lgssm_posterior = lgssm.filter(params, y)\n",
    "\n",
    "from dataclasses import dataclass\n",
    "from dataclasses import fields\n",
    "attributes = [field.name for field in fields(lgssm_posterior)]\n",
    "print(attributes)\n",
    "\n",
    "print(lgssm_posterior.filtered_means.shape)\n",
    "print(lgssm_posterior.filtered_covariances.shape)\n",
    "print(lgssm_posterior.marginal_loglik)\n",
    "# The smoothed outputs are None\n"
   ]
  },
  {
   "cell_type": "code",
   "execution_count": 14,
   "id": "b0585932",
   "metadata": {},
   "outputs": [
    {
     "data": {
      "text/plain": [
       "<AxesSubplot:>"
      ]
     },
     "execution_count": 14,
     "metadata": {},
     "output_type": "execute_result"
    },
    {
     "data": {
      "image/png": "[encoded data removed]",
      "text/plain": [
       "<Figure size 432x288 with 1 Axes>"
      ]
     },
     "metadata": {
      "needs_background": "light"
     },
     "output_type": "display_data"
    }
   ],
   "source": [
    "fig2, ax2 = plt.subplots()\n",
    "ax2.plot(*y.T, ls=\"\", **observation_marker_kwargs, color=\"tab:green\", label=\"observed\")\n",
    "ax2.plot(*x[:, :2].T, ls=\"--\", color=\"darkgrey\", label=\"true state\")\n",
    "plot_lgssm_posterior(\n",
    "    lgssm_posterior.filtered_means,\n",
    "    lgssm_posterior.filtered_covariances,\n",
    "    ax2,\n",
    "    color=\"tab:red\",\n",
    "    label=\"filtered means\",\n",
    "    ellipse_kwargs={\"edgecolor\": \"k\", \"linewidth\": 0.5},\n",
    "    legend_kwargs={\"loc\":\"upper left\"}\n",
    ")"
   ]
  },
  {
   "cell_type": "markdown",
   "id": "ebb8a989",
   "metadata": {},
   "source": [
    "# Perform offline smoothing"
   ]
  },
  {
   "cell_type": "code",
   "execution_count": 15,
   "id": "8d6eae12",
   "metadata": {},
   "outputs": [],
   "source": [
    "lgssm_posterior = lgssm.smoother(params, y)"
   ]
  },
  {
   "cell_type": "code",
   "execution_count": 16,
   "id": "06c8f6ec",
   "metadata": {},
   "outputs": [
    {
     "data": {
      "text/plain": [
       "<AxesSubplot:>"
      ]
     },
     "execution_count": 16,
     "metadata": {},
     "output_type": "execute_result"
    },
    {
     "data": {
      "image/png": "[encoded data removed]",
      "text/plain": [
       "<Figure size 432x288 with 1 Axes>"
      ]
     },
     "metadata": {
      "needs_background": "light"
     },
     "output_type": "display_data"
    }
   ],
   "source": [
    "fig3, ax3 = plt.subplots()\n",
    "ax3.plot(*y.T, ls=\"\", **observation_marker_kwargs, color=\"tab:green\", label=\"observed\")\n",
    "ax3.plot(*x[:, :2].T, ls=\"--\", color=\"darkgrey\", label=\"true state\")\n",
    "plot_lgssm_posterior(\n",
    "    lgssm_posterior.smoothed_means,\n",
    "    lgssm_posterior.smoothed_covariances,\n",
    "    ax3,\n",
    "    color=\"tab:red\",\n",
    "    label=\"smoothed means\",\n",
    "    ellipse_kwargs={\"edgecolor\": \"k\", \"linewidth\": 0.5},\n",
    "    legend_kwargs={\"loc\":\"upper left\"}\n",
    ")"
   ]
  },
  {
   "cell_type": "markdown",
   "id": "5da88212",
   "metadata": {},
   "source": [
    "# Low-level interface to the underlying inference algorithms\n",
    "\n",
    "We can also call the inference code directly, without having to make an LG-SSM object.\n",
    "We just bundle the parameters together into an `LGSSMParams` dataclass and call\n",
    "the underlying inference functions."
   ]
  },
  {
   "cell_type": "code",
   "execution_count": 18,
   "id": "84299414",
   "metadata": {},
   "outputs": [],
   "source": [
    " # Specify the model parameters\n",
    "\n",
    "\n",
    "params = LGSSMParams(\n",
    "    initial_mean=mu0, \n",
    "    initial_covariance=Sigma0,\n",
    "    dynamics_matrix=F,\n",
    "    dynamics_covariance=Q,\n",
    "    emission_matrix=H,\n",
    "    emission_covariance=R\n",
    ")\n",
    "\n",
    "filtered_posterior = lgssm_filter(params, y) # Kalman filter\n",
    "smoothed_posterior = lgssm_smoother(params, y) # Kalman filter + smoother\n",
    "assert jnp.allclose(lgssm_posterior.filtered_means, filtered_posterior.filtered_means)\n",
    "assert jnp.allclose(lgssm_posterior.filtered_means, smoothed_posterior.filtered_means)\n",
    "assert jnp.allclose(lgssm_posterior.smoothed_means, smoothed_posterior.smoothed_means)"
   ]
  },
  {
   "cell_type": "markdown",
   "id": "0d1d5ca9",
   "metadata": {},
   "source": []
  }
 ],
 "metadata": {
  "colab": {
   "name": "kf_tracking.ipynb",
   "provenance": []
  },
  "kernelspec": {
   "display_name": "Python 3.8.5 ('base')",
   "language": "python",
   "name": "python3"
  },
  "language_info": {
   "codemirror_mode": {
    "name": "ipython",
    "version": 3
   },
   "file_extension": ".py",
   "mimetype": "text/x-python",
   "name": "python",
   "nbconvert_exporter": "python",
   "pygments_lexer": "ipython3",
   "version": "3.8.5"
  },
  "vscode": {
   "interpreter": {
    "hash": "40d3a090f54c6569ab1632332b64b2c03c39dcf918b08424e98f38b5ae0af88f"
   }
  }
 },
 "nbformat": 4,
 "nbformat_minor": 5
}
