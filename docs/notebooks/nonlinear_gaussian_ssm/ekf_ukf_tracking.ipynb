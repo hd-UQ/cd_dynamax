{
 "cells": [
  {
   "cell_type": "markdown",
   "id": "92e34046",
   "metadata": {
    "id": "92e34046"
   },
   "source": [
    "# Tracking an object using the extended / unscented Kalman filter\n",
    "\n",
    "\n"
   ]
  },
  {
   "cell_type": "markdown",
   "id": "17072519",
   "metadata": {},
   "source": [
    "\n",
    "Consider an object moving in $R^2$.\n",
    "We assume that we observe a noisy version of its location at each time step.\n",
    "We want to track the object and possibly forecast its future motion.\n",
    "We now show how to do this using a simple nonlinear Gaussian SSM, combined with \n",
    "various extensions of the Kalman filter algorithm.\n",
    "\n",
    "Let the hidden state represent\n",
    "the position  of the object,\n",
    "$z_t =\\begin{pmatrix} u_t &  v_t  \\end{pmatrix}$.\n",
    "(We use $u$ and $v$ for the two coordinates,\n",
    "to avoid confusion with the state and observation variables.)\n",
    "We assume the following nonlinear dynamics:\n",
    "\n",
    "\\begin{align}\n",
    "z_t &= f(z_{t-1}) + q_t \\\\\n",
    "f(\\begin{pmatrix} u \\\\ v \\end{pmatrix})\n",
    " &= \\begin{pmatrix} u + 0.5 \\sin(v) \\\\ v + \\cos(u) \\end{pmatrix}\n",
    "\\end{align}\n",
    "\n",
    "where $q_t \\in R^2$ is the process noise, which we assume is Gaussian,\n",
    "so  $q_t \\sim N(0,Q)$.\n"
   ]
  },
  {
   "cell_type": "markdown",
   "id": "f6460e76",
   "metadata": {},
   "source": [
    "\n",
    "\n",
    "At each discrete time point we\n",
    "observe the location corrupted by  Gaussian noise.\n",
    "Thus the observation model becomes\n",
    "\n",
    "\\begin{align}\n",
    "y_t &= h(z_t) + r_t \\\\\n",
    "h(z) &= z \n",
    "\\end{align}\n",
    "\n",
    "where $r_t \\sim N(0,R)$ is the observation noise.\n",
    "\n",
    "\n"
   ]
  },
  {
   "cell_type": "markdown",
   "id": "ce5fdeca",
   "metadata": {},
   "source": [
    "# Setup"
   ]
  },
  {
   "cell_type": "code",
   "execution_count": 1,
   "id": "iCSsZdpXLme0",
   "metadata": {
    "colab": {
     "base_uri": "https://localhost:8080/"
    },
    "id": "iCSsZdpXLme0",
    "outputId": "bf28b24b-0476-4b9d-95e6-99b3a40849a2"
   },
   "outputs": [],
   "source": [
    "\n",
    "\n",
    "try:\n",
    "    import dynamax\n",
    "except ModuleNotFoundError:\n",
    "    print('installing dynamax')\n",
    "    %pip install -qq git+https://github.com/probml/dynamax.git\n",
    "    import dynamax"
   ]
  },
  {
   "cell_type": "code",
   "execution_count": 2,
   "id": "KFpcV2mCL1DN",
   "metadata": {
    "id": "KFpcV2mCL1DN"
   },
   "outputs": [],
   "source": [
    "# Silence WARNING:root:The use of `check_types` is deprecated and does not have any effect.\n",
    "# https://github.com/tensorflow/probability/issues/1523\n",
    "import logging\n",
    "\n",
    "logger = logging.getLogger()\n",
    "\n",
    "\n",
    "class CheckTypesFilter(logging.Filter):\n",
    "    def filter(self, record):\n",
    "        return \"check_types\" not in record.getMessage()\n",
    "\n",
    "\n",
    "logger.addFilter(CheckTypesFilter())"
   ]
  },
  {
   "cell_type": "code",
   "execution_count": 5,
   "id": "6eb6c0e6",
   "metadata": {},
   "outputs": [],
   "source": [
    "from jax import numpy as jnp\n",
    "from jax import random as jr\n",
    "from matplotlib import pyplot as plt\n",
    "\n",
    "from dynamax.plotting import plot_inference, plot_uncertainty_ellipses\n",
    "from dynamax.nonlinear_gaussian_ssm.containers import NLGSSMParams\n"
   ]
  },
  {
   "cell_type": "markdown",
   "id": "118e3213",
   "metadata": {},
   "source": [
    "# Create the model"
   ]
  },
  {
   "cell_type": "code",
   "execution_count": 7,
   "id": "2a15a73f",
   "metadata": {},
   "outputs": [],
   "source": [
    "initial_mean = jnp.array([1.5, 0.0])\n",
    "state_dim = initial_mean.shape[0]\n",
    "nlgssm = NLGSSMParams(\n",
    "    dynamics_function=lambda x: x + 0.4 * jnp.array([jnp.sin(x[1]), jnp.cos(x[0])]),\n",
    "    dynamics_covariance=jnp.eye(state_dim) * 0.001,\n",
    "    emission_function=lambda x: x,\n",
    "    emission_covariance=jnp.eye(state_dim) * 0.05,\n",
    "    initial_mean=initial_mean,\n",
    "    initial_covariance=jnp.eye(state_dim),\n",
    ")"
   ]
  },
  {
   "cell_type": "markdown",
   "id": "81a28d0d",
   "metadata": {},
   "source": [
    "# Sample some data from the model"
   ]
  },
  {
   "cell_type": "code",
   "execution_count": 8,
   "id": "e6ea743b",
   "metadata": {},
   "outputs": [
    {
     "ename": "AttributeError",
     "evalue": "'NLGSSMParams' object has no attribute 'sample'",
     "output_type": "error",
     "traceback": [
      "\u001b[0;31m---------------------------------------------------------------------------\u001b[0m",
      "\u001b[0;31mAttributeError\u001b[0m                            Traceback (most recent call last)",
      "\u001b[0;32m<ipython-input-8-5f312e32a19e>\u001b[0m in \u001b[0;36m<module>\u001b[0;34m\u001b[0m\n\u001b[0;32m----> 1\u001b[0;31m \u001b[0mstates\u001b[0m\u001b[0;34m,\u001b[0m \u001b[0memissions\u001b[0m \u001b[0;34m=\u001b[0m \u001b[0mnlgssm\u001b[0m\u001b[0;34m.\u001b[0m\u001b[0msample\u001b[0m\u001b[0;34m(\u001b[0m\u001b[0mkey\u001b[0m\u001b[0;34m=\u001b[0m\u001b[0;36m0\u001b[0m\u001b[0;34m,\u001b[0m \u001b[0mnum_timesteps\u001b[0m\u001b[0;34m=\u001b[0m\u001b[0;36m100\u001b[0m\u001b[0;34m)\u001b[0m\u001b[0;34m\u001b[0m\u001b[0;34m\u001b[0m\u001b[0m\n\u001b[0m\u001b[1;32m      2\u001b[0m \u001b[0;34m\u001b[0m\u001b[0m\n\u001b[1;32m      3\u001b[0m \u001b[0;34m\u001b[0m\u001b[0m\n\u001b[1;32m      4\u001b[0m \u001b[0mall_figures\u001b[0m \u001b[0;34m=\u001b[0m \u001b[0;34m{\u001b[0m\u001b[0;34m}\u001b[0m\u001b[0;34m\u001b[0m\u001b[0;34m\u001b[0m\u001b[0m\n\u001b[1;32m      5\u001b[0m \u001b[0mfig\u001b[0m\u001b[0;34m,\u001b[0m \u001b[0max\u001b[0m \u001b[0;34m=\u001b[0m \u001b[0mplt\u001b[0m\u001b[0;34m.\u001b[0m\u001b[0msubplots\u001b[0m\u001b[0;34m(\u001b[0m\u001b[0;34m)\u001b[0m\u001b[0;34m\u001b[0m\u001b[0;34m\u001b[0m\u001b[0m\n",
      "\u001b[0;31mAttributeError\u001b[0m: 'NLGSSMParams' object has no attribute 'sample'"
     ]
    }
   ],
   "source": [
    "states, emissions = nlgssm.sample(key=0, num_timesteps=100)\n",
    "\n",
    "\n",
    "all_figures = {}\n",
    "fig, ax = plt.subplots()\n",
    "true_title = \"Noisy obervations from hidden trajectory\"\n",
    "_ = plot_inference(states, emissions, ax=ax, title=true_title)\n",
    "all_figures[\"ekf_spiral_true\"] = fig"
   ]
  },
  {
   "cell_type": "markdown",
   "id": "53862c48",
   "metadata": {},
   "source": [
    "# Perform online filtering\n",
    "\n"
   ]
  },
  {
   "cell_type": "markdown",
   "id": "0d1d5ca9",
   "metadata": {},
   "source": []
  }
 ],
 "metadata": {
  "colab": {
   "name": "kf_tracking.ipynb",
   "provenance": []
  },
  "kernelspec": {
   "display_name": "Python 3.8.5 ('base')",
   "language": "python",
   "name": "python3"
  },
  "language_info": {
   "codemirror_mode": {
    "name": "ipython",
    "version": 3
   },
   "file_extension": ".py",
   "mimetype": "text/x-python",
   "name": "python",
   "nbconvert_exporter": "python",
   "pygments_lexer": "ipython3",
   "version": "3.8.5"
  },
  "vscode": {
   "interpreter": {
    "hash": "40d3a090f54c6569ab1632332b64b2c03c39dcf918b08424e98f38b5ae0af88f"
   }
  }
 },
 "nbformat": 4,
 "nbformat_minor": 5
}
